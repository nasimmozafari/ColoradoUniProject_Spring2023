{
 "cells": [
  {
   "cell_type": "markdown",
   "id": "32f9bba3",
   "metadata": {},
   "source": [
    "# <center>Landslide detection using Synthetic Aperture Radar and Multispectral imagery</center>\n",
    "\n",
    "### <span style=\"background-color: #green; padding: 5px; border-radius: 5px;\"><div style=\"background-color: #f2f2f2; padding: 10px;\"><center>Nasim Mozafari Amiri, Mentor: Elsa Culler</center></div></span><span style=\"background-color: #green; padding: 5px; border-radius: 5px;\"><div style=\"background-color: #f2f2f2; padding: 10px;\"><center>August 2023</center></div></span>"
   ]
  },
  {
   "cell_type": "markdown",
   "id": "779679a3",
   "metadata": {},
   "source": [
    "![Big Dur landslide, May 2015](https://static01.nyt.com/images/2017/05/25/us/25sur-xp/25sur-xp-superJumbo.jpg?quality=75&auto=webp)\n",
    "Big Sur landslide, Highway 1, California, USA, Image credit: The New York Times"
   ]
  },
  {
   "cell_type": "markdown",
   "id": "cda68bff",
   "metadata": {},
   "source": [
    "<h2 id=\"Introduction and project-Goals\">Project Goals<a class=\"anchor-link\" href=\"#Project-Goals\">&#182;</a></h2><p>As documented by the NASA Global Landslide Catalog, landslides pose a significant geological threat to North America and specifically most states within the United States. Furthermore, data from the US Geological Survey (USGS) suggests an ongoing yearly toll of approximately 25-50 individuals falling victim to landslides across the nation. Recognizing the criticality of landslide exposure assessment and comprehending the geographical context of inhabited areas becomes paramount to effectively manage and minimize the potential impact of these natural disasters.\n",
    "<p>Given the significance of studying landslide disasters, this project focused on the examination of two specific landslide incidents. Consequently, we have processed appropriate time series of SAR images to identify changes in the land surface before and after these events: one occurring near Caddy Lake in Manitoba, Canada, and the other at Big Sur in California, USA. To ensure that our analysis excludes water bodies, we calculated the Normalized Difference Water Index (NDWI) using multispectral imagery. This approach was chosen over directly applying a water mask to SAR images, as we encountered challenges in doing so despite multiple attempts. In conclusion, we have developed a codebase capable of distinguishing changes in the land surface by effectively subtracting water bodies.</p>"
   ]
  },
  {
   "cell_type": "markdown",
   "id": "3aba74af",
   "metadata": {
    "tags": [
     "remove_cell"
    ]
   },
   "source": [
    "## Run Google earth Engine (GEE)\n",
    "Run the following cell to initialize the API. The output will offer instruction on how to link this notebook with Earth Engine access using your account."
   ]
  },
  {
   "cell_type": "code",
   "execution_count": 1,
   "id": "2a304e6f",
   "metadata": {
    "ExecuteTime": {
     "end_time": "2023-08-23T16:03:08.082756Z",
     "start_time": "2023-08-23T16:02:50.388634Z"
    },
    "tags": [
     "remove_cell"
    ]
   },
   "outputs": [
    {
     "data": {
      "text/html": [
       "<p>To authorize access needed by Earth Engine, open the following\n",
       "        URL in a web browser and follow the instructions:</p>\n",
       "        <p><a href=https://code.earthengine.google.com/client-auth?scopes=https%3A//www.googleapis.com/auth/earthengine%20https%3A//www.googleapis.com/auth/devstorage.full_control&request_id=5Ad2FrFquJXrUXwVVXlLwCf-gIEMZRxvQ3W2AIjoVNg&tc=83VRzk_w5zMpYQlUseFy5bb5JKiCo0uaP3C1_0U-0cQ&cc=lw59HZwRk6-yRG-iTYS6ZHI4lSbrn3GV94JApjxWLP8>https://code.earthengine.google.com/client-auth?scopes=https%3A//www.googleapis.com/auth/earthengine%20https%3A//www.googleapis.com/auth/devstorage.full_control&request_id=5Ad2FrFquJXrUXwVVXlLwCf-gIEMZRxvQ3W2AIjoVNg&tc=83VRzk_w5zMpYQlUseFy5bb5JKiCo0uaP3C1_0U-0cQ&cc=lw59HZwRk6-yRG-iTYS6ZHI4lSbrn3GV94JApjxWLP8</a></p>\n",
       "        <p>The authorization workflow will generate a code, which you should paste in the box below.</p>\n",
       "        "
      ],
      "text/plain": [
       "<IPython.core.display.HTML object>"
      ]
     },
     "metadata": {},
     "output_type": "display_data"
    },
    {
     "name": "stdout",
     "output_type": "stream",
     "text": [
      "Enter verification code: 4/1Adeu5BU_EWakiGvHsEPoty12tmmzqDFQuLtxPFvgRovD719c9QfwaQIn7mY\n",
      "\n",
      "Successfully saved authorization token.\n"
     ]
    }
   ],
   "source": [
    "import ee\n",
    "# Trigger the authentication flow.\n",
    "ee.Authenticate()\n",
    "\n",
    "# Initialize the library.\n",
    "ee.Initialize()"
   ]
  },
  {
   "cell_type": "markdown",
   "id": "c0666e07",
   "metadata": {
    "ExecuteTime": {
     "end_time": "2023-04-24T18:48:20.357989Z",
     "start_time": "2023-04-24T18:48:20.344402Z"
    }
   },
   "source": [
    "## Data source\n",
    "\n",
    "1. [Copernicus_S1_GRD](https://developers.google.com/earth-engine/datasets/catalog/COPERNICUS_S1_GRD) and [Copernicus_S2](https://developers.google.com/earth-engine/datasets/catalog/sentinel-2) by European Space Agency(ESA)\n",
    "2. USGS NAIP Imagery NDVI (GEE basemap layer)\n",
    "3. USGS NAIP Imagery False Color\n",
    "4. Verified landslides of North America collected by Earth Lab at the University of Colorado Boulder"
   ]
  },
  {
   "cell_type": "markdown",
   "id": "db1a8764",
   "metadata": {
    "tags": [
     "remove_cell"
    ]
   },
   "source": [
    "## Import libraries and packages"
   ]
  },
  {
   "cell_type": "code",
   "execution_count": 2,
   "id": "e7bdce07",
   "metadata": {
    "ExecuteTime": {
     "end_time": "2023-08-23T16:03:11.746204Z",
     "start_time": "2023-08-23T16:03:08.084694Z"
    },
    "tags": [
     "remove_cell"
    ]
   },
   "outputs": [],
   "source": [
    "# Required libraries and packages\n",
    "import os\n",
    "import json\n",
    "import earthpy as et\n",
    "import pandas as pd\n",
    "import folium\n",
    "import geopandas as gpd\n",
    "import matplotlib.pyplot as plt\n",
    "import ee\n",
    "import geemap\n",
    "\n",
    "import geemap.foliumap as geemap\n",
    "\n",
    "from scipy.stats import chi2\n",
    "%matplotlib inline"
   ]
  },
  {
   "cell_type": "markdown",
   "id": "15f48313",
   "metadata": {},
   "source": [
    "## Google Earth Engine Modules\n",
    "We utilized multiple Python modules provided by Google Earth Engine to process our data."
   ]
  },
  {
   "cell_type": "code",
   "execution_count": 3,
   "id": "c2bae504",
   "metadata": {
    "ExecuteTime": {
     "end_time": "2023-08-23T16:03:11.762204Z",
     "start_time": "2023-08-23T16:03:11.749204Z"
    },
    "tags": [
     "remove_cell"
    ]
   },
   "outputs": [],
   "source": [
    "# First, in order to add Earth Engine layer to Folium map we need this function below\n",
    "def add_ee_layer(self, ee_image_object, vis_params, name):\n",
    "    \"\"\"\n",
    "    Adds Earth Engine layers to a folium map.\n",
    "\n",
    "    Returns\n",
    "    -------\n",
    "    Earth Engine Raster Layers to Folium Map\n",
    "    \"\"\"\n",
    "\n",
    "    map_id_dict = ee.Image(ee_image_object).getMapId(vis_params)\n",
    "    folium.raster_layers.TileLayer(\n",
    "        tiles=map_id_dict['tile_fetcher'].url_format,\n",
    "        attr='Map Data &copy; <a href=\"https://earthengine.google.com/\">Google Earth Engine</a>',\n",
    "        name=name,\n",
    "        overlay=True,\n",
    "        control=True).add_to(self)"
   ]
  },
  {
   "cell_type": "code",
   "execution_count": 4,
   "id": "78b17ded",
   "metadata": {
    "ExecuteTime": {
     "end_time": "2023-08-23T16:03:11.777936Z",
     "start_time": "2023-08-23T16:03:11.764204Z"
    },
    "tags": [
     "remove_cell"
    ]
   },
   "outputs": [],
   "source": [
    "def selectvv(current):\n",
    "    \"\"\"\n",
    "    Selects the 'VV' bands from an image\n",
    "\n",
    "    Returns\n",
    "    -------\n",
    "    function\n",
    "        to select the images with 'VV' bands\n",
    "\n",
    "    \"\"\"\n",
    "    return ee.Image(current).select('VV')"
   ]
  },
  {
   "cell_type": "code",
   "execution_count": 5,
   "id": "5793d462",
   "metadata": {
    "ExecuteTime": {
     "end_time": "2023-08-23T16:03:11.793940Z",
     "start_time": "2023-08-23T16:03:11.779936Z"
    },
    "tags": [
     "remove_cell"
    ]
   },
   "outputs": [],
   "source": [
    "def omnibus(im_list, m=4.4):\n",
    "    \"\"\"Calculates the omnibus test statistic, monovariate case.\"\"\"\n",
    "    def log(current):\n",
    "        return ee.Image(current).log()\n",
    "\n",
    "    im_list = ee.List(im_list)\n",
    "    k = im_list.length()\n",
    "    klogk = k.multiply(k.log())\n",
    "    klogk = ee.Image.constant(klogk)\n",
    "    sumlogs = ee.ImageCollection(im_list.map(log)).reduce(ee.Reducer.sum())\n",
    "    logsum = ee.ImageCollection(im_list).reduce(ee.Reducer.sum()).log()\n",
    "    return klogk.add(sumlogs).subtract(logsum.multiply(k)).multiply(-2*m)"
   ]
  },
  {
   "cell_type": "code",
   "execution_count": 6,
   "id": "2a8f3a0e",
   "metadata": {
    "ExecuteTime": {
     "end_time": "2023-08-23T16:03:11.809292Z",
     "start_time": "2023-08-23T16:03:11.795940Z"
    },
    "tags": [
     "remove_cell"
    ]
   },
   "outputs": [],
   "source": [
    "def chi2cdf(chi2, df):\n",
    "    \"\"\"Calculates Chi square cumulative distribution function for\n",
    "       df degrees of freedom using the built-in incomplete gamma\n",
    "       function gammainc().\n",
    "    \"\"\"\n",
    "    return ee.Image(chi2.divide(2)).gammainc(ee.Number(df).divide(2))\n",
    "\n",
    "def det(im):\n",
    "    \"\"\"Calculates determinant of 2x2 diagonal covariance matrix.\"\"\"\n",
    "    return im.expression('b(0)*b(1)')"
   ]
  },
  {
   "cell_type": "markdown",
   "id": "5f0f227d",
   "metadata": {
    "tags": [
     "remove_cell"
    ]
   },
   "source": [
    "## Set working directory"
   ]
  },
  {
   "cell_type": "code",
   "execution_count": 7,
   "id": "1936c868",
   "metadata": {
    "ExecuteTime": {
     "end_time": "2023-08-23T16:03:11.824655Z",
     "start_time": "2023-08-23T16:03:11.810934Z"
    },
    "tags": [
     "remove_cell"
    ]
   },
   "outputs": [
    {
     "data": {
      "text/plain": [
       "'C:\\\\Users\\\\nasim\\\\earth-analytics\\\\landslide-detect'"
      ]
     },
     "execution_count": 7,
     "metadata": {},
     "output_type": "execute_result"
    }
   ],
   "source": [
    "# Change directory to landslide-detect data path\n",
    "data_path = os.path.join(et.io.HOME, \"earth-analytics\", \"landslide-detect\")\n",
    "if os.path.exists(data_path):\n",
    "    os.chdir(data_path)\n",
    "else:\n",
    "    os.makedirs(data_path)\n",
    "    print('The new directory is created!')\n",
    "    os.chdir(data_path)\n",
    "\n",
    "data_path"
   ]
  },
  {
   "cell_type": "code",
   "execution_count": 8,
   "id": "44c8afde",
   "metadata": {
    "ExecuteTime": {
     "end_time": "2023-08-23T16:03:11.903392Z",
     "start_time": "2023-08-23T16:03:11.826655Z"
    },
    "tags": [
     "remove_cell"
    ]
   },
   "outputs": [
    {
     "name": "stdout",
     "output_type": "stream",
     "text": [
      ".\n",
      "./landslides.verified.csv\n"
     ]
    }
   ],
   "source": [
    "%%bash\n",
    "find ."
   ]
  },
  {
   "cell_type": "markdown",
   "id": "b77ecf3a",
   "metadata": {},
   "source": [
    "## Create data frame\n",
    "Utilizing information curated by Earth Lab at the University of Colorado Boulder (csv file), we have generated an extensive data frame comprising 228 confirmed landslides that occurred in North America from September 2015 to July 2017."
   ]
  },
  {
   "cell_type": "code",
   "execution_count": 9,
   "id": "62940c2a",
   "metadata": {
    "ExecuteTime": {
     "end_time": "2023-08-23T16:03:11.997313Z",
     "start_time": "2023-08-23T16:03:11.906393Z"
    },
    "tags": [
     "remove_input"
    ]
   },
   "outputs": [
    {
     "data": {
      "text/html": [
       "<div>\n",
       "<style scoped>\n",
       "    .dataframe tbody tr th:only-of-type {\n",
       "        vertical-align: middle;\n",
       "    }\n",
       "\n",
       "    .dataframe tbody tr th {\n",
       "        vertical-align: top;\n",
       "    }\n",
       "\n",
       "    .dataframe thead th {\n",
       "        text-align: right;\n",
       "    }\n",
       "</style>\n",
       "<table border=\"1\" class=\"dataframe\">\n",
       "  <thead>\n",
       "    <tr style=\"text-align: right;\">\n",
       "      <th></th>\n",
       "      <th>slide.id</th>\n",
       "      <th>slide.date</th>\n",
       "      <th>location</th>\n",
       "      <th>type</th>\n",
       "      <th>trigger</th>\n",
       "      <th>size</th>\n",
       "      <th>lon</th>\n",
       "      <th>lat</th>\n",
       "      <th>location_accuracy</th>\n",
       "      <th>event_title</th>\n",
       "      <th>admin_division_name</th>\n",
       "      <th>ge.lat</th>\n",
       "      <th>ge.lon</th>\n",
       "      <th>is.exact</th>\n",
       "      <th>slide.index</th>\n",
       "      <th>geometry</th>\n",
       "    </tr>\n",
       "  </thead>\n",
       "  <tbody>\n",
       "    <tr>\n",
       "      <th>0</th>\n",
       "      <td>8321</td>\n",
       "      <td>2015-09-21T00:00:00Z</td>\n",
       "      <td>Birken, BC, Canada</td>\n",
       "      <td>landslide</td>\n",
       "      <td>downpour</td>\n",
       "      <td>medium</td>\n",
       "      <td>-122.6205</td>\n",
       "      <td>50.479</td>\n",
       "      <td>5km</td>\n",
       "      <td>Birken, BC, Canada</td>\n",
       "      <td>British Columbia</td>\n",
       "      <td>NA</td>\n",
       "      <td>NA</td>\n",
       "      <td>FALSE</td>\n",
       "      <td>1</td>\n",
       "      <td>None</td>\n",
       "    </tr>\n",
       "    <tr>\n",
       "      <th>1</th>\n",
       "      <td>7757</td>\n",
       "      <td>2015-12-07T18:00:00Z</td>\n",
       "      <td>Edmonds</td>\n",
       "      <td>mudslide</td>\n",
       "      <td>rain</td>\n",
       "      <td>medium</td>\n",
       "      <td>-122.3805278</td>\n",
       "      <td>47.70679444</td>\n",
       "      <td>5km</td>\n",
       "      <td>Edmonds</td>\n",
       "      <td>Washington</td>\n",
       "      <td>47.70679444</td>\n",
       "      <td>-122.3805278</td>\n",
       "      <td>TRUE</td>\n",
       "      <td>2</td>\n",
       "      <td>None</td>\n",
       "    </tr>\n",
       "    <tr>\n",
       "      <th>2</th>\n",
       "      <td>8596</td>\n",
       "      <td>2015-10-04T23:00:00Z</td>\n",
       "      <td>Between 3rd and 7th Ave, Coast Highway, Laguna...</td>\n",
       "      <td>mudslide</td>\n",
       "      <td>rain</td>\n",
       "      <td>medium</td>\n",
       "      <td>-117.7431</td>\n",
       "      <td>33.5006</td>\n",
       "      <td>exact</td>\n",
       "      <td>Between 3rd and 7th Ave, Coast Highway, Laguna...</td>\n",
       "      <td>California</td>\n",
       "      <td>NA</td>\n",
       "      <td>NA</td>\n",
       "      <td>FALSE</td>\n",
       "      <td>3</td>\n",
       "      <td>None</td>\n",
       "    </tr>\n",
       "    <tr>\n",
       "      <th>3</th>\n",
       "      <td>8678</td>\n",
       "      <td>2015-10-08T00:00:00Z</td>\n",
       "      <td>between Fort Davis and Fort Davis State Park</td>\n",
       "      <td>rock_fall</td>\n",
       "      <td>flooding</td>\n",
       "      <td>medium</td>\n",
       "      <td>-103.9220611</td>\n",
       "      <td>30.60231111</td>\n",
       "      <td>exact</td>\n",
       "      <td>between Fort Davis and Fort Davis State Park</td>\n",
       "      <td>Texas</td>\n",
       "      <td>30.60231111</td>\n",
       "      <td>-103.9220611</td>\n",
       "      <td>TRUE</td>\n",
       "      <td>5</td>\n",
       "      <td>None</td>\n",
       "    </tr>\n",
       "    <tr>\n",
       "      <th>4</th>\n",
       "      <td>9013</td>\n",
       "      <td>2015-12-09T00:00:00Z</td>\n",
       "      <td>I-5 near Portland border</td>\n",
       "      <td>rock_fall</td>\n",
       "      <td>flooding</td>\n",
       "      <td>medium</td>\n",
       "      <td>-122.6573</td>\n",
       "      <td>45.7326</td>\n",
       "      <td>1km</td>\n",
       "      <td>I-5 near Portland border</td>\n",
       "      <td>Washington</td>\n",
       "      <td>NA</td>\n",
       "      <td>NA</td>\n",
       "      <td>FALSE</td>\n",
       "      <td>6</td>\n",
       "      <td>None</td>\n",
       "    </tr>\n",
       "  </tbody>\n",
       "</table>\n",
       "</div>"
      ],
      "text/plain": [
       "  slide.id            slide.date  \\\n",
       "0     8321  2015-09-21T00:00:00Z   \n",
       "1     7757  2015-12-07T18:00:00Z   \n",
       "2     8596  2015-10-04T23:00:00Z   \n",
       "3     8678  2015-10-08T00:00:00Z   \n",
       "4     9013  2015-12-09T00:00:00Z   \n",
       "\n",
       "                                            location       type   trigger  \\\n",
       "0                                 Birken, BC, Canada  landslide  downpour   \n",
       "1                                            Edmonds   mudslide      rain   \n",
       "2  Between 3rd and 7th Ave, Coast Highway, Laguna...   mudslide      rain   \n",
       "3       between Fort Davis and Fort Davis State Park  rock_fall  flooding   \n",
       "4                           I-5 near Portland border  rock_fall  flooding   \n",
       "\n",
       "     size           lon          lat location_accuracy  \\\n",
       "0  medium     -122.6205       50.479               5km   \n",
       "1  medium  -122.3805278  47.70679444               5km   \n",
       "2  medium     -117.7431      33.5006             exact   \n",
       "3  medium  -103.9220611  30.60231111             exact   \n",
       "4  medium     -122.6573      45.7326               1km   \n",
       "\n",
       "                                         event_title admin_division_name  \\\n",
       "0                                 Birken, BC, Canada    British Columbia   \n",
       "1                                            Edmonds          Washington   \n",
       "2  Between 3rd and 7th Ave, Coast Highway, Laguna...          California   \n",
       "3       between Fort Davis and Fort Davis State Park               Texas   \n",
       "4                           I-5 near Portland border          Washington   \n",
       "\n",
       "        ge.lat        ge.lon is.exact slide.index geometry  \n",
       "0           NA            NA    FALSE           1     None  \n",
       "1  47.70679444  -122.3805278     TRUE           2     None  \n",
       "2           NA            NA    FALSE           3     None  \n",
       "3  30.60231111  -103.9220611     TRUE           5     None  \n",
       "4           NA            NA    FALSE           6     None  "
      ]
     },
     "execution_count": 9,
     "metadata": {},
     "output_type": "execute_result"
    }
   ],
   "source": [
    "# Create DataFrame and open landslide file of North America\n",
    "landslide_gdf = gpd.read_file('landslides.verified.csv')\n",
    "landslide_gdf.head()"
   ]
  },
  {
   "cell_type": "code",
   "execution_count": 10,
   "id": "9d94c08b",
   "metadata": {
    "ExecuteTime": {
     "end_time": "2023-08-23T16:03:12.012821Z",
     "start_time": "2023-08-23T16:03:11.998815Z"
    },
    "tags": [
     "remove_cell"
    ]
   },
   "outputs": [
    {
     "data": {
      "text/html": [
       "<div>\n",
       "<style scoped>\n",
       "    .dataframe tbody tr th:only-of-type {\n",
       "        vertical-align: middle;\n",
       "    }\n",
       "\n",
       "    .dataframe tbody tr th {\n",
       "        vertical-align: top;\n",
       "    }\n",
       "\n",
       "    .dataframe thead th {\n",
       "        text-align: right;\n",
       "    }\n",
       "</style>\n",
       "<table border=\"1\" class=\"dataframe\">\n",
       "  <thead>\n",
       "    <tr style=\"text-align: right;\">\n",
       "      <th></th>\n",
       "      <th>slide.id</th>\n",
       "      <th>slide.date</th>\n",
       "      <th>location</th>\n",
       "      <th>type</th>\n",
       "      <th>trigger</th>\n",
       "      <th>size</th>\n",
       "      <th>lon</th>\n",
       "      <th>lat</th>\n",
       "      <th>location_accuracy</th>\n",
       "      <th>event_title</th>\n",
       "      <th>admin_division_name</th>\n",
       "      <th>ge.lat</th>\n",
       "      <th>ge.lon</th>\n",
       "      <th>is.exact</th>\n",
       "      <th>slide.index</th>\n",
       "      <th>geometry</th>\n",
       "    </tr>\n",
       "  </thead>\n",
       "  <tbody>\n",
       "    <tr>\n",
       "      <th>11</th>\n",
       "      <td>8728</td>\n",
       "      <td>2015-10-11T00:00:00Z</td>\n",
       "      <td>Broadmoor Bluffs neighborhood</td>\n",
       "      <td>landslide</td>\n",
       "      <td>rain</td>\n",
       "      <td>large</td>\n",
       "      <td>-104.8318</td>\n",
       "      <td>38.7612</td>\n",
       "      <td>5km</td>\n",
       "      <td>Broadmoor Bluffs neighborhood</td>\n",
       "      <td>Colorado</td>\n",
       "      <td>NA</td>\n",
       "      <td>NA</td>\n",
       "      <td>FALSE</td>\n",
       "      <td>15</td>\n",
       "      <td>None</td>\n",
       "    </tr>\n",
       "    <tr>\n",
       "      <th>21</th>\n",
       "      <td>8741</td>\n",
       "      <td>2015-10-16T00:00:00Z</td>\n",
       "      <td>San Francisquito Canyon Road</td>\n",
       "      <td>mudslide</td>\n",
       "      <td>flooding</td>\n",
       "      <td>large</td>\n",
       "      <td>-118.4938</td>\n",
       "      <td>34.5587</td>\n",
       "      <td>1km</td>\n",
       "      <td>San Francisquito Canyon Road</td>\n",
       "      <td>California</td>\n",
       "      <td>NA</td>\n",
       "      <td>NA</td>\n",
       "      <td>FALSE</td>\n",
       "      <td>28</td>\n",
       "      <td>None</td>\n",
       "    </tr>\n",
       "    <tr>\n",
       "      <th>25</th>\n",
       "      <td>8743</td>\n",
       "      <td>2015-10-16T00:00:00Z</td>\n",
       "      <td>Lake Elizabeth</td>\n",
       "      <td>mudslide</td>\n",
       "      <td>flooding</td>\n",
       "      <td>large</td>\n",
       "      <td>-118.4041</td>\n",
       "      <td>34.6685</td>\n",
       "      <td>5km</td>\n",
       "      <td>Lake Elizabeth</td>\n",
       "      <td>California</td>\n",
       "      <td>NA</td>\n",
       "      <td>NA</td>\n",
       "      <td>FALSE</td>\n",
       "      <td>34</td>\n",
       "      <td>None</td>\n",
       "    </tr>\n",
       "    <tr>\n",
       "      <th>29</th>\n",
       "      <td>8945</td>\n",
       "      <td>2015-11-13T00:00:00Z</td>\n",
       "      <td>Cougar Mountain in Issaquah,  Talus Drive and ...</td>\n",
       "      <td>landslide</td>\n",
       "      <td>rain</td>\n",
       "      <td>large</td>\n",
       "      <td>-122.073</td>\n",
       "      <td>47.5328</td>\n",
       "      <td>exact</td>\n",
       "      <td>Cougar Mountain in Issaquah,  Talus Drive and ...</td>\n",
       "      <td>Washington</td>\n",
       "      <td>NA</td>\n",
       "      <td>NA</td>\n",
       "      <td>FALSE</td>\n",
       "      <td>40</td>\n",
       "      <td>None</td>\n",
       "    </tr>\n",
       "    <tr>\n",
       "      <th>38</th>\n",
       "      <td>8742</td>\n",
       "      <td>2015-10-16T00:00:00Z</td>\n",
       "      <td>Lake Hughes Road</td>\n",
       "      <td>mudslide</td>\n",
       "      <td>flooding</td>\n",
       "      <td>large</td>\n",
       "      <td>-118.5561</td>\n",
       "      <td>34.5784</td>\n",
       "      <td>1km</td>\n",
       "      <td>Lake Hughes Road</td>\n",
       "      <td>California</td>\n",
       "      <td>NA</td>\n",
       "      <td>NA</td>\n",
       "      <td>FALSE</td>\n",
       "      <td>51</td>\n",
       "      <td>None</td>\n",
       "    </tr>\n",
       "  </tbody>\n",
       "</table>\n",
       "</div>"
      ],
      "text/plain": [
       "   slide.id            slide.date  \\\n",
       "11     8728  2015-10-11T00:00:00Z   \n",
       "21     8741  2015-10-16T00:00:00Z   \n",
       "25     8743  2015-10-16T00:00:00Z   \n",
       "29     8945  2015-11-13T00:00:00Z   \n",
       "38     8742  2015-10-16T00:00:00Z   \n",
       "\n",
       "                                             location       type   trigger  \\\n",
       "11                      Broadmoor Bluffs neighborhood  landslide      rain   \n",
       "21                       San Francisquito Canyon Road   mudslide  flooding   \n",
       "25                                     Lake Elizabeth   mudslide  flooding   \n",
       "29  Cougar Mountain in Issaquah,  Talus Drive and ...  landslide      rain   \n",
       "38                                   Lake Hughes Road   mudslide  flooding   \n",
       "\n",
       "     size        lon      lat location_accuracy  \\\n",
       "11  large  -104.8318  38.7612               5km   \n",
       "21  large  -118.4938  34.5587               1km   \n",
       "25  large  -118.4041  34.6685               5km   \n",
       "29  large   -122.073  47.5328             exact   \n",
       "38  large  -118.5561  34.5784               1km   \n",
       "\n",
       "                                          event_title admin_division_name  \\\n",
       "11                      Broadmoor Bluffs neighborhood            Colorado   \n",
       "21                       San Francisquito Canyon Road          California   \n",
       "25                                     Lake Elizabeth          California   \n",
       "29  Cougar Mountain in Issaquah,  Talus Drive and ...          Washington   \n",
       "38                                   Lake Hughes Road          California   \n",
       "\n",
       "   ge.lat ge.lon is.exact slide.index geometry  \n",
       "11     NA     NA    FALSE          15     None  \n",
       "21     NA     NA    FALSE          28     None  \n",
       "25     NA     NA    FALSE          34     None  \n",
       "29     NA     NA    FALSE          40     None  \n",
       "38     NA     NA    FALSE          51     None  "
      ]
     },
     "execution_count": 10,
     "metadata": {},
     "output_type": "execute_result"
    }
   ],
   "source": [
    "# Extract verified large landslides of North America\n",
    "large_ls = landslide_gdf[landslide_gdf['size'].str.contains\n",
    "                              ('large')]\n",
    "large_ls.head()"
   ]
  },
  {
   "cell_type": "markdown",
   "id": "b6204ad1",
   "metadata": {},
   "source": [
    "#### Folium map of all large verified landslide locations of North America (2015-2017)"
   ]
  },
  {
   "cell_type": "code",
   "execution_count": 11,
   "id": "aa4a1436",
   "metadata": {
    "ExecuteTime": {
     "end_time": "2023-08-23T16:03:12.060324Z",
     "start_time": "2023-08-23T16:03:12.014821Z"
    },
    "tags": [
     "remove_input"
    ]
   },
   "outputs": [
    {
     "data": {
      "text/html": [
       "<div style=\"width:100%;\"><div style=\"position:relative;width:100%;height:0;padding-bottom:60%;\"><span style=\"color:#565656\">Make this Notebook Trusted to load map: File -> Trust Notebook</span><iframe srcdoc=\"&lt;!DOCTYPE html&gt;\n",
       "&lt;html&gt;\n",
       "&lt;head&gt;\n",
       "    \n",
       "    &lt;meta http-equiv=&quot;content-type&quot; content=&quot;text/html; charset=UTF-8&quot; /&gt;\n",
       "    \n",
       "        &lt;script&gt;\n",
       "            L_NO_TOUCH = false;\n",
       "            L_DISABLE_3D = false;\n",
       "        &lt;/script&gt;\n",
       "    \n",
       "    &lt;style&gt;html, body {width: 100%;height: 100%;margin: 0;padding: 0;}&lt;/style&gt;\n",
       "    &lt;style&gt;#map {position:absolute;top:0;bottom:0;right:0;left:0;}&lt;/style&gt;\n",
       "    &lt;script src=&quot;https://cdn.jsdelivr.net/npm/leaflet@1.9.3/dist/leaflet.js&quot;&gt;&lt;/script&gt;\n",
       "    &lt;script src=&quot;https://code.jquery.com/jquery-1.12.4.min.js&quot;&gt;&lt;/script&gt;\n",
       "    &lt;script src=&quot;https://cdn.jsdelivr.net/npm/bootstrap@5.2.2/dist/js/bootstrap.bundle.min.js&quot;&gt;&lt;/script&gt;\n",
       "    &lt;script src=&quot;https://cdnjs.cloudflare.com/ajax/libs/Leaflet.awesome-markers/2.0.2/leaflet.awesome-markers.js&quot;&gt;&lt;/script&gt;\n",
       "    &lt;link rel=&quot;stylesheet&quot; href=&quot;https://cdn.jsdelivr.net/npm/leaflet@1.9.3/dist/leaflet.css&quot;/&gt;\n",
       "    &lt;link rel=&quot;stylesheet&quot; href=&quot;https://cdn.jsdelivr.net/npm/bootstrap@5.2.2/dist/css/bootstrap.min.css&quot;/&gt;\n",
       "    &lt;link rel=&quot;stylesheet&quot; href=&quot;https://netdna.bootstrapcdn.com/bootstrap/3.0.0/css/bootstrap.min.css&quot;/&gt;\n",
       "    &lt;link rel=&quot;stylesheet&quot; href=&quot;https://cdn.jsdelivr.net/npm/@fortawesome/fontawesome-free@6.2.0/css/all.min.css&quot;/&gt;\n",
       "    &lt;link rel=&quot;stylesheet&quot; href=&quot;https://cdnjs.cloudflare.com/ajax/libs/Leaflet.awesome-markers/2.0.2/leaflet.awesome-markers.css&quot;/&gt;\n",
       "    &lt;link rel=&quot;stylesheet&quot; href=&quot;https://cdn.jsdelivr.net/gh/python-visualization/folium/folium/templates/leaflet.awesome.rotate.min.css&quot;/&gt;\n",
       "    \n",
       "            &lt;meta name=&quot;viewport&quot; content=&quot;width=device-width,\n",
       "                initial-scale=1.0, maximum-scale=1.0, user-scalable=no&quot; /&gt;\n",
       "            &lt;style&gt;\n",
       "                #map_f2cb60cf6aaef6db6fc8a78b6d3d8b1e {\n",
       "                    position: relative;\n",
       "                    width: 900.0px;\n",
       "                    height: 500.0px;\n",
       "                    left: 0.0%;\n",
       "                    top: 0.0%;\n",
       "                }\n",
       "                .leaflet-container { font-size: 1rem; }\n",
       "            &lt;/style&gt;\n",
       "        \n",
       "&lt;/head&gt;\n",
       "&lt;body&gt;\n",
       "    \n",
       "    \n",
       "            &lt;div class=&quot;folium-map&quot; id=&quot;map_f2cb60cf6aaef6db6fc8a78b6d3d8b1e&quot; &gt;&lt;/div&gt;\n",
       "        \n",
       "&lt;/body&gt;\n",
       "&lt;script&gt;\n",
       "    \n",
       "    \n",
       "            var map_f2cb60cf6aaef6db6fc8a78b6d3d8b1e = L.map(\n",
       "                &quot;map_f2cb60cf6aaef6db6fc8a78b6d3d8b1e&quot;,\n",
       "                {\n",
       "                    center: [43.0, -105.0],\n",
       "                    crs: L.CRS.EPSG3857,\n",
       "                    zoom: 4,\n",
       "                    zoomControl: true,\n",
       "                    preferCanvas: false,\n",
       "                }\n",
       "            );\n",
       "\n",
       "            \n",
       "\n",
       "        \n",
       "    \n",
       "            var tile_layer_7afa47933c50d4f99d569d5079240196 = L.tileLayer(\n",
       "                &quot;https://stamen-tiles-{s}.a.ssl.fastly.net/terrain/{z}/{x}/{y}.jpg&quot;,\n",
       "                {&quot;attribution&quot;: &quot;Map tiles by \\u003ca target=\\&quot;_blank\\&quot; href=\\&quot;http://stamen.com\\&quot;\\u003eStamen Design\\u003c/a\\u003e, under \\u003ca target=\\&quot;_blank\\&quot; href=\\&quot;http://creativecommons.org/licenses/by/3.0\\&quot;\\u003eCC BY 3.0\\u003c/a\\u003e. Data by \\u0026copy; \\u003ca target=\\&quot;_blank\\&quot; href=\\&quot;http://openstreetmap.org\\&quot;\\u003eOpenStreetMap\\u003c/a\\u003e, under \\u003ca target=\\&quot;_blank\\&quot; href=\\&quot;http://creativecommons.org/licenses/by-sa/3.0\\&quot;\\u003eCC BY SA\\u003c/a\\u003e.&quot;, &quot;detectRetina&quot;: false, &quot;maxNativeZoom&quot;: 18, &quot;maxZoom&quot;: 18, &quot;minZoom&quot;: 0, &quot;noWrap&quot;: false, &quot;opacity&quot;: 1, &quot;subdomains&quot;: &quot;abc&quot;, &quot;tms&quot;: false}\n",
       "            ).addTo(map_f2cb60cf6aaef6db6fc8a78b6d3d8b1e);\n",
       "        \n",
       "    \n",
       "            var marker_5ad63a3361b50f88cf4e9b6e95a2de0e = L.marker(\n",
       "                [38.7612, -104.8318],\n",
       "                {}\n",
       "            ).addTo(map_f2cb60cf6aaef6db6fc8a78b6d3d8b1e);\n",
       "        \n",
       "    \n",
       "            var icon_9b52b728a92eff52573476aba7db0b6e = L.AwesomeMarkers.icon(\n",
       "                {&quot;extraClasses&quot;: &quot;fa-rotate-0&quot;, &quot;icon&quot;: &quot;info-sign&quot;, &quot;iconColor&quot;: &quot;white&quot;, &quot;markerColor&quot;: &quot;red&quot;, &quot;prefix&quot;: &quot;glyphicon&quot;}\n",
       "            );\n",
       "            marker_5ad63a3361b50f88cf4e9b6e95a2de0e.setIcon(icon_9b52b728a92eff52573476aba7db0b6e);\n",
       "        \n",
       "    \n",
       "        var popup_b2e2a908803d3e3386c9780a0bcb18ad = L.popup({&quot;maxWidth&quot;: &quot;100%&quot;});\n",
       "\n",
       "        \n",
       "            \n",
       "                var html_f66d718a1474f565e7bf6b19350f5619 = $(`&lt;div id=&quot;html_f66d718a1474f565e7bf6b19350f5619&quot; style=&quot;width: 100.0%; height: 100.0%;&quot;&gt;8728&lt;/div&gt;`)[0];\n",
       "                popup_b2e2a908803d3e3386c9780a0bcb18ad.setContent(html_f66d718a1474f565e7bf6b19350f5619);\n",
       "            \n",
       "        \n",
       "\n",
       "        marker_5ad63a3361b50f88cf4e9b6e95a2de0e.bindPopup(popup_b2e2a908803d3e3386c9780a0bcb18ad)\n",
       "        ;\n",
       "\n",
       "        \n",
       "    \n",
       "    \n",
       "            var marker_1fd6b747dd60364cf8a275c6178fcf70 = L.marker(\n",
       "                [34.5587, -118.4938],\n",
       "                {}\n",
       "            ).addTo(map_f2cb60cf6aaef6db6fc8a78b6d3d8b1e);\n",
       "        \n",
       "    \n",
       "            var icon_f74e85729f0081e130cc01cff814d2c3 = L.AwesomeMarkers.icon(\n",
       "                {&quot;extraClasses&quot;: &quot;fa-rotate-0&quot;, &quot;icon&quot;: &quot;info-sign&quot;, &quot;iconColor&quot;: &quot;white&quot;, &quot;markerColor&quot;: &quot;red&quot;, &quot;prefix&quot;: &quot;glyphicon&quot;}\n",
       "            );\n",
       "            marker_1fd6b747dd60364cf8a275c6178fcf70.setIcon(icon_f74e85729f0081e130cc01cff814d2c3);\n",
       "        \n",
       "    \n",
       "        var popup_641d14ca5c273ea87cb78d64a46da879 = L.popup({&quot;maxWidth&quot;: &quot;100%&quot;});\n",
       "\n",
       "        \n",
       "            \n",
       "                var html_6ea869f5874a7b6edc925c8a01a67ec2 = $(`&lt;div id=&quot;html_6ea869f5874a7b6edc925c8a01a67ec2&quot; style=&quot;width: 100.0%; height: 100.0%;&quot;&gt;8741&lt;/div&gt;`)[0];\n",
       "                popup_641d14ca5c273ea87cb78d64a46da879.setContent(html_6ea869f5874a7b6edc925c8a01a67ec2);\n",
       "            \n",
       "        \n",
       "\n",
       "        marker_1fd6b747dd60364cf8a275c6178fcf70.bindPopup(popup_641d14ca5c273ea87cb78d64a46da879)\n",
       "        ;\n",
       "\n",
       "        \n",
       "    \n",
       "    \n",
       "            var marker_6c90c424506fe750ed85cdfba34b9989 = L.marker(\n",
       "                [34.6685, -118.4041],\n",
       "                {}\n",
       "            ).addTo(map_f2cb60cf6aaef6db6fc8a78b6d3d8b1e);\n",
       "        \n",
       "    \n",
       "            var icon_34fd80b4c198abcb41c7d3c0e0256f2d = L.AwesomeMarkers.icon(\n",
       "                {&quot;extraClasses&quot;: &quot;fa-rotate-0&quot;, &quot;icon&quot;: &quot;info-sign&quot;, &quot;iconColor&quot;: &quot;white&quot;, &quot;markerColor&quot;: &quot;red&quot;, &quot;prefix&quot;: &quot;glyphicon&quot;}\n",
       "            );\n",
       "            marker_6c90c424506fe750ed85cdfba34b9989.setIcon(icon_34fd80b4c198abcb41c7d3c0e0256f2d);\n",
       "        \n",
       "    \n",
       "        var popup_c24efa437b6df372102c0162cdf9c1fb = L.popup({&quot;maxWidth&quot;: &quot;100%&quot;});\n",
       "\n",
       "        \n",
       "            \n",
       "                var html_072e8823922af02d9032fb51bb252c00 = $(`&lt;div id=&quot;html_072e8823922af02d9032fb51bb252c00&quot; style=&quot;width: 100.0%; height: 100.0%;&quot;&gt;8743&lt;/div&gt;`)[0];\n",
       "                popup_c24efa437b6df372102c0162cdf9c1fb.setContent(html_072e8823922af02d9032fb51bb252c00);\n",
       "            \n",
       "        \n",
       "\n",
       "        marker_6c90c424506fe750ed85cdfba34b9989.bindPopup(popup_c24efa437b6df372102c0162cdf9c1fb)\n",
       "        ;\n",
       "\n",
       "        \n",
       "    \n",
       "    \n",
       "            var marker_60adb2ec27a7d0c60d03673d1c575a60 = L.marker(\n",
       "                [47.5328, -122.073],\n",
       "                {}\n",
       "            ).addTo(map_f2cb60cf6aaef6db6fc8a78b6d3d8b1e);\n",
       "        \n",
       "    \n",
       "            var icon_9b0d57b25fa8e9da9ac96b901df7de94 = L.AwesomeMarkers.icon(\n",
       "                {&quot;extraClasses&quot;: &quot;fa-rotate-0&quot;, &quot;icon&quot;: &quot;info-sign&quot;, &quot;iconColor&quot;: &quot;white&quot;, &quot;markerColor&quot;: &quot;red&quot;, &quot;prefix&quot;: &quot;glyphicon&quot;}\n",
       "            );\n",
       "            marker_60adb2ec27a7d0c60d03673d1c575a60.setIcon(icon_9b0d57b25fa8e9da9ac96b901df7de94);\n",
       "        \n",
       "    \n",
       "        var popup_4f72ebefa754b5c802dd271a2a55930f = L.popup({&quot;maxWidth&quot;: &quot;100%&quot;});\n",
       "\n",
       "        \n",
       "            \n",
       "                var html_cdd5752006ae9b4b6a90448f656a7c40 = $(`&lt;div id=&quot;html_cdd5752006ae9b4b6a90448f656a7c40&quot; style=&quot;width: 100.0%; height: 100.0%;&quot;&gt;8945&lt;/div&gt;`)[0];\n",
       "                popup_4f72ebefa754b5c802dd271a2a55930f.setContent(html_cdd5752006ae9b4b6a90448f656a7c40);\n",
       "            \n",
       "        \n",
       "\n",
       "        marker_60adb2ec27a7d0c60d03673d1c575a60.bindPopup(popup_4f72ebefa754b5c802dd271a2a55930f)\n",
       "        ;\n",
       "\n",
       "        \n",
       "    \n",
       "    \n",
       "            var marker_78b0fec4ee6019bb528acc2ed9b98bda = L.marker(\n",
       "                [34.5784, -118.5561],\n",
       "                {}\n",
       "            ).addTo(map_f2cb60cf6aaef6db6fc8a78b6d3d8b1e);\n",
       "        \n",
       "    \n",
       "            var icon_4964886737fc11c0ede117f0de66eb08 = L.AwesomeMarkers.icon(\n",
       "                {&quot;extraClasses&quot;: &quot;fa-rotate-0&quot;, &quot;icon&quot;: &quot;info-sign&quot;, &quot;iconColor&quot;: &quot;white&quot;, &quot;markerColor&quot;: &quot;red&quot;, &quot;prefix&quot;: &quot;glyphicon&quot;}\n",
       "            );\n",
       "            marker_78b0fec4ee6019bb528acc2ed9b98bda.setIcon(icon_4964886737fc11c0ede117f0de66eb08);\n",
       "        \n",
       "    \n",
       "        var popup_21c5a233858b12f8e6958d2dbb62a73b = L.popup({&quot;maxWidth&quot;: &quot;100%&quot;});\n",
       "\n",
       "        \n",
       "            \n",
       "                var html_ee7d5572922f912fa267b55d9036142a = $(`&lt;div id=&quot;html_ee7d5572922f912fa267b55d9036142a&quot; style=&quot;width: 100.0%; height: 100.0%;&quot;&gt;8742&lt;/div&gt;`)[0];\n",
       "                popup_21c5a233858b12f8e6958d2dbb62a73b.setContent(html_ee7d5572922f912fa267b55d9036142a);\n",
       "            \n",
       "        \n",
       "\n",
       "        marker_78b0fec4ee6019bb528acc2ed9b98bda.bindPopup(popup_21c5a233858b12f8e6958d2dbb62a73b)\n",
       "        ;\n",
       "\n",
       "        \n",
       "    \n",
       "    \n",
       "            var marker_efcf4de16c548835a2ce241779f36a75 = L.marker(\n",
       "                [35.86562803, -121.4323838],\n",
       "                {}\n",
       "            ).addTo(map_f2cb60cf6aaef6db6fc8a78b6d3d8b1e);\n",
       "        \n",
       "    \n",
       "            var icon_79dca767dcda423a536625163923329d = L.AwesomeMarkers.icon(\n",
       "                {&quot;extraClasses&quot;: &quot;fa-rotate-0&quot;, &quot;icon&quot;: &quot;info-sign&quot;, &quot;iconColor&quot;: &quot;white&quot;, &quot;markerColor&quot;: &quot;red&quot;, &quot;prefix&quot;: &quot;glyphicon&quot;}\n",
       "            );\n",
       "            marker_efcf4de16c548835a2ce241779f36a75.setIcon(icon_79dca767dcda423a536625163923329d);\n",
       "        \n",
       "    \n",
       "        var popup_d27602867250fd9c12c065398fa1e893 = L.popup({&quot;maxWidth&quot;: &quot;100%&quot;});\n",
       "\n",
       "        \n",
       "            \n",
       "                var html_aa3d87f3ee64047a8b8ec02876d52117 = $(`&lt;div id=&quot;html_aa3d87f3ee64047a8b8ec02876d52117&quot; style=&quot;width: 100.0%; height: 100.0%;&quot;&gt;9734&lt;/div&gt;`)[0];\n",
       "                popup_d27602867250fd9c12c065398fa1e893.setContent(html_aa3d87f3ee64047a8b8ec02876d52117);\n",
       "            \n",
       "        \n",
       "\n",
       "        marker_efcf4de16c548835a2ce241779f36a75.bindPopup(popup_d27602867250fd9c12c065398fa1e893)\n",
       "        ;\n",
       "\n",
       "        \n",
       "    \n",
       "    \n",
       "            var marker_45156fdcb630827b8d0076c6676351f4 = L.marker(\n",
       "                [51.97686189, -122.2792711],\n",
       "                {}\n",
       "            ).addTo(map_f2cb60cf6aaef6db6fc8a78b6d3d8b1e);\n",
       "        \n",
       "    \n",
       "            var icon_eb4da9ed1bd30a50224956707b32280d = L.AwesomeMarkers.icon(\n",
       "                {&quot;extraClasses&quot;: &quot;fa-rotate-0&quot;, &quot;icon&quot;: &quot;info-sign&quot;, &quot;iconColor&quot;: &quot;white&quot;, &quot;markerColor&quot;: &quot;red&quot;, &quot;prefix&quot;: &quot;glyphicon&quot;}\n",
       "            );\n",
       "            marker_45156fdcb630827b8d0076c6676351f4.setIcon(icon_eb4da9ed1bd30a50224956707b32280d);\n",
       "        \n",
       "    \n",
       "        var popup_9acfcc4a6be8afe59a500a92d2255cff = L.popup({&quot;maxWidth&quot;: &quot;100%&quot;});\n",
       "\n",
       "        \n",
       "            \n",
       "                var html_26822b450454b5ae126c8e8a5db3685e = $(`&lt;div id=&quot;html_26822b450454b5ae126c8e8a5db3685e&quot; style=&quot;width: 100.0%; height: 100.0%;&quot;&gt;9844&lt;/div&gt;`)[0];\n",
       "                popup_9acfcc4a6be8afe59a500a92d2255cff.setContent(html_26822b450454b5ae126c8e8a5db3685e);\n",
       "            \n",
       "        \n",
       "\n",
       "        marker_45156fdcb630827b8d0076c6676351f4.bindPopup(popup_9acfcc4a6be8afe59a500a92d2255cff)\n",
       "        ;\n",
       "\n",
       "        \n",
       "    \n",
       "    \n",
       "            var marker_1dbcee5626f6d27df9ccfabbd6dd085c = L.marker(\n",
       "                [49.8063, -95.2098],\n",
       "                {}\n",
       "            ).addTo(map_f2cb60cf6aaef6db6fc8a78b6d3d8b1e);\n",
       "        \n",
       "    \n",
       "            var icon_ab2ff65e2c186fdd494d35dffd1a79e8 = L.AwesomeMarkers.icon(\n",
       "                {&quot;extraClasses&quot;: &quot;fa-rotate-0&quot;, &quot;icon&quot;: &quot;info-sign&quot;, &quot;iconColor&quot;: &quot;white&quot;, &quot;markerColor&quot;: &quot;red&quot;, &quot;prefix&quot;: &quot;glyphicon&quot;}\n",
       "            );\n",
       "            marker_1dbcee5626f6d27df9ccfabbd6dd085c.setIcon(icon_ab2ff65e2c186fdd494d35dffd1a79e8);\n",
       "        \n",
       "    \n",
       "        var popup_86b5bc01693101a3977dd9d837ce8730 = L.popup({&quot;maxWidth&quot;: &quot;100%&quot;});\n",
       "\n",
       "        \n",
       "            \n",
       "                var html_b9ded80880058dced53975afe0755e7a = $(`&lt;div id=&quot;html_b9ded80880058dced53975afe0755e7a&quot; style=&quot;width: 100.0%; height: 100.0%;&quot;&gt;7922&lt;/div&gt;`)[0];\n",
       "                popup_86b5bc01693101a3977dd9d837ce8730.setContent(html_b9ded80880058dced53975afe0755e7a);\n",
       "            \n",
       "        \n",
       "\n",
       "        marker_1dbcee5626f6d27df9ccfabbd6dd085c.bindPopup(popup_86b5bc01693101a3977dd9d837ce8730)\n",
       "        ;\n",
       "\n",
       "        \n",
       "    \n",
       "    \n",
       "            var marker_ebcabc370c03dd6a789a70f48212823c = L.marker(\n",
       "                [43.8156, -91.2105],\n",
       "                {}\n",
       "            ).addTo(map_f2cb60cf6aaef6db6fc8a78b6d3d8b1e);\n",
       "        \n",
       "    \n",
       "            var icon_c4b743b8479fce38f49c8f0478d29f5c = L.AwesomeMarkers.icon(\n",
       "                {&quot;extraClasses&quot;: &quot;fa-rotate-0&quot;, &quot;icon&quot;: &quot;info-sign&quot;, &quot;iconColor&quot;: &quot;white&quot;, &quot;markerColor&quot;: &quot;red&quot;, &quot;prefix&quot;: &quot;glyphicon&quot;}\n",
       "            );\n",
       "            marker_ebcabc370c03dd6a789a70f48212823c.setIcon(icon_c4b743b8479fce38f49c8f0478d29f5c);\n",
       "        \n",
       "    \n",
       "        var popup_bde874a6725aa5203326a7ac6170e4a3 = L.popup({&quot;maxWidth&quot;: &quot;100%&quot;});\n",
       "\n",
       "        \n",
       "            \n",
       "                var html_bb55e8d45fe72ae1b09d1d8a1984b1dd = $(`&lt;div id=&quot;html_bb55e8d45fe72ae1b09d1d8a1984b1dd&quot; style=&quot;width: 100.0%; height: 100.0%;&quot;&gt;9394&lt;/div&gt;`)[0];\n",
       "                popup_bde874a6725aa5203326a7ac6170e4a3.setContent(html_bb55e8d45fe72ae1b09d1d8a1984b1dd);\n",
       "            \n",
       "        \n",
       "\n",
       "        marker_ebcabc370c03dd6a789a70f48212823c.bindPopup(popup_bde874a6725aa5203326a7ac6170e4a3)\n",
       "        ;\n",
       "\n",
       "        \n",
       "    \n",
       "    \n",
       "            var marker_b2738cb582961cf2c3120052eded1c47 = L.marker(\n",
       "                [37.8849, -80.3442],\n",
       "                {}\n",
       "            ).addTo(map_f2cb60cf6aaef6db6fc8a78b6d3d8b1e);\n",
       "        \n",
       "    \n",
       "            var icon_24b1174a98716a85b243a735f4c637db = L.AwesomeMarkers.icon(\n",
       "                {&quot;extraClasses&quot;: &quot;fa-rotate-0&quot;, &quot;icon&quot;: &quot;info-sign&quot;, &quot;iconColor&quot;: &quot;white&quot;, &quot;markerColor&quot;: &quot;red&quot;, &quot;prefix&quot;: &quot;glyphicon&quot;}\n",
       "            );\n",
       "            marker_b2738cb582961cf2c3120052eded1c47.setIcon(icon_24b1174a98716a85b243a735f4c637db);\n",
       "        \n",
       "    \n",
       "        var popup_f414ceb8e5e174bc0655f3dc2972e1d8 = L.popup({&quot;maxWidth&quot;: &quot;100%&quot;});\n",
       "\n",
       "        \n",
       "            \n",
       "                var html_cdbdaab3edadf875393861a3a363e205 = $(`&lt;div id=&quot;html_cdbdaab3edadf875393861a3a363e205&quot; style=&quot;width: 100.0%; height: 100.0%;&quot;&gt;9046&lt;/div&gt;`)[0];\n",
       "                popup_f414ceb8e5e174bc0655f3dc2972e1d8.setContent(html_cdbdaab3edadf875393861a3a363e205);\n",
       "            \n",
       "        \n",
       "\n",
       "        marker_b2738cb582961cf2c3120052eded1c47.bindPopup(popup_f414ceb8e5e174bc0655f3dc2972e1d8)\n",
       "        ;\n",
       "\n",
       "        \n",
       "    \n",
       "    \n",
       "            var marker_ae7a4b366ad2ba5888dfae943ef9e1ab = L.marker(\n",
       "                [37.57370278, -82.44406389],\n",
       "                {}\n",
       "            ).addTo(map_f2cb60cf6aaef6db6fc8a78b6d3d8b1e);\n",
       "        \n",
       "    \n",
       "            var icon_5f52e1e05ba593cbcf23c452e2fd66ec = L.AwesomeMarkers.icon(\n",
       "                {&quot;extraClasses&quot;: &quot;fa-rotate-0&quot;, &quot;icon&quot;: &quot;info-sign&quot;, &quot;iconColor&quot;: &quot;white&quot;, &quot;markerColor&quot;: &quot;red&quot;, &quot;prefix&quot;: &quot;glyphicon&quot;}\n",
       "            );\n",
       "            marker_ae7a4b366ad2ba5888dfae943ef9e1ab.setIcon(icon_5f52e1e05ba593cbcf23c452e2fd66ec);\n",
       "        \n",
       "    \n",
       "        var popup_0b371712e3d55ff933f88e2fdbec8ebe = L.popup({&quot;maxWidth&quot;: &quot;100%&quot;});\n",
       "\n",
       "        \n",
       "            \n",
       "                var html_5ad5e7cc35d0f933e12889bf60b9ab52 = $(`&lt;div id=&quot;html_5ad5e7cc35d0f933e12889bf60b9ab52&quot; style=&quot;width: 100.0%; height: 100.0%;&quot;&gt;9177&lt;/div&gt;`)[0];\n",
       "                popup_0b371712e3d55ff933f88e2fdbec8ebe.setContent(html_5ad5e7cc35d0f933e12889bf60b9ab52);\n",
       "            \n",
       "        \n",
       "\n",
       "        marker_ae7a4b366ad2ba5888dfae943ef9e1ab.bindPopup(popup_0b371712e3d55ff933f88e2fdbec8ebe)\n",
       "        ;\n",
       "\n",
       "        \n",
       "    \n",
       "    \n",
       "            var marker_57d7a9f5c9640deecc913e88f3aa0944 = L.marker(\n",
       "                [56.22486111, -117.2681389],\n",
       "                {}\n",
       "            ).addTo(map_f2cb60cf6aaef6db6fc8a78b6d3d8b1e);\n",
       "        \n",
       "    \n",
       "            var icon_ea16d09b340a4b2a20c45c7c5609636e = L.AwesomeMarkers.icon(\n",
       "                {&quot;extraClasses&quot;: &quot;fa-rotate-0&quot;, &quot;icon&quot;: &quot;info-sign&quot;, &quot;iconColor&quot;: &quot;white&quot;, &quot;markerColor&quot;: &quot;red&quot;, &quot;prefix&quot;: &quot;glyphicon&quot;}\n",
       "            );\n",
       "            marker_57d7a9f5c9640deecc913e88f3aa0944.setIcon(icon_ea16d09b340a4b2a20c45c7c5609636e);\n",
       "        \n",
       "    \n",
       "        var popup_f8578813fb82952e37cb873fc89f7224 = L.popup({&quot;maxWidth&quot;: &quot;100%&quot;});\n",
       "\n",
       "        \n",
       "            \n",
       "                var html_4c18979856581ca5fde00f102f14e3ca = $(`&lt;div id=&quot;html_4c18979856581ca5fde00f102f14e3ca&quot; style=&quot;width: 100.0%; height: 100.0%;&quot;&gt;9063&lt;/div&gt;`)[0];\n",
       "                popup_f8578813fb82952e37cb873fc89f7224.setContent(html_4c18979856581ca5fde00f102f14e3ca);\n",
       "            \n",
       "        \n",
       "\n",
       "        marker_57d7a9f5c9640deecc913e88f3aa0944.bindPopup(popup_f8578813fb82952e37cb873fc89f7224)\n",
       "        ;\n",
       "\n",
       "        \n",
       "    \n",
       "    \n",
       "            var marker_74bfa3fa5c135c3ab8be97ae43da70f5 = L.marker(\n",
       "                [52.6843, -118.175],\n",
       "                {}\n",
       "            ).addTo(map_f2cb60cf6aaef6db6fc8a78b6d3d8b1e);\n",
       "        \n",
       "    \n",
       "            var icon_c736409826c82154559074757aed4c2f = L.AwesomeMarkers.icon(\n",
       "                {&quot;extraClasses&quot;: &quot;fa-rotate-0&quot;, &quot;icon&quot;: &quot;info-sign&quot;, &quot;iconColor&quot;: &quot;white&quot;, &quot;markerColor&quot;: &quot;red&quot;, &quot;prefix&quot;: &quot;glyphicon&quot;}\n",
       "            );\n",
       "            marker_74bfa3fa5c135c3ab8be97ae43da70f5.setIcon(icon_c736409826c82154559074757aed4c2f);\n",
       "        \n",
       "    \n",
       "        var popup_d98afbe5f91533db6c4effd726486640 = L.popup({&quot;maxWidth&quot;: &quot;100%&quot;});\n",
       "\n",
       "        \n",
       "            \n",
       "                var html_13d1c6103d7c50cc1c5c95c1edfdfc2c = $(`&lt;div id=&quot;html_13d1c6103d7c50cc1c5c95c1edfdfc2c&quot; style=&quot;width: 100.0%; height: 100.0%;&quot;&gt;9214&lt;/div&gt;`)[0];\n",
       "                popup_d98afbe5f91533db6c4effd726486640.setContent(html_13d1c6103d7c50cc1c5c95c1edfdfc2c);\n",
       "            \n",
       "        \n",
       "\n",
       "        marker_74bfa3fa5c135c3ab8be97ae43da70f5.bindPopup(popup_d98afbe5f91533db6c4effd726486640)\n",
       "        ;\n",
       "\n",
       "        \n",
       "    \n",
       "    \n",
       "            var marker_93c076c58c376248ff23f5eac8f5ad2d = L.marker(\n",
       "                [32.834, -96.8975],\n",
       "                {}\n",
       "            ).addTo(map_f2cb60cf6aaef6db6fc8a78b6d3d8b1e);\n",
       "        \n",
       "    \n",
       "            var icon_18b4d5fcb42d8ea47da742505c011ad0 = L.AwesomeMarkers.icon(\n",
       "                {&quot;extraClasses&quot;: &quot;fa-rotate-0&quot;, &quot;icon&quot;: &quot;info-sign&quot;, &quot;iconColor&quot;: &quot;white&quot;, &quot;markerColor&quot;: &quot;red&quot;, &quot;prefix&quot;: &quot;glyphicon&quot;}\n",
       "            );\n",
       "            marker_93c076c58c376248ff23f5eac8f5ad2d.setIcon(icon_18b4d5fcb42d8ea47da742505c011ad0);\n",
       "        \n",
       "    \n",
       "        var popup_a494e5269147fb216139e2ab967e3f20 = L.popup({&quot;maxWidth&quot;: &quot;100%&quot;});\n",
       "\n",
       "        \n",
       "            \n",
       "                var html_ba9d65469b58c21b3b3059b56382eb5c = $(`&lt;div id=&quot;html_ba9d65469b58c21b3b3059b56382eb5c&quot; style=&quot;width: 100.0%; height: 100.0%;&quot;&gt;8343&lt;/div&gt;`)[0];\n",
       "                popup_a494e5269147fb216139e2ab967e3f20.setContent(html_ba9d65469b58c21b3b3059b56382eb5c);\n",
       "            \n",
       "        \n",
       "\n",
       "        marker_93c076c58c376248ff23f5eac8f5ad2d.bindPopup(popup_a494e5269147fb216139e2ab967e3f20)\n",
       "        ;\n",
       "\n",
       "        \n",
       "    \n",
       "    \n",
       "            var marker_11c056f8f69d0da44772b74a2e8c85f2 = L.marker(\n",
       "                [35.42818822, -120.7711518],\n",
       "                {}\n",
       "            ).addTo(map_f2cb60cf6aaef6db6fc8a78b6d3d8b1e);\n",
       "        \n",
       "    \n",
       "            var icon_412b31d31967a244c137c7506092e635 = L.AwesomeMarkers.icon(\n",
       "                {&quot;extraClasses&quot;: &quot;fa-rotate-0&quot;, &quot;icon&quot;: &quot;info-sign&quot;, &quot;iconColor&quot;: &quot;white&quot;, &quot;markerColor&quot;: &quot;red&quot;, &quot;prefix&quot;: &quot;glyphicon&quot;}\n",
       "            );\n",
       "            marker_11c056f8f69d0da44772b74a2e8c85f2.setIcon(icon_412b31d31967a244c137c7506092e635);\n",
       "        \n",
       "    \n",
       "        var popup_995c350a3ce0035b42cfb5554791e22b = L.popup({&quot;maxWidth&quot;: &quot;100%&quot;});\n",
       "\n",
       "        \n",
       "            \n",
       "                var html_d9b3be31d3a4244d0bafa3c9587bfd4b = $(`&lt;div id=&quot;html_d9b3be31d3a4244d0bafa3c9587bfd4b&quot; style=&quot;width: 100.0%; height: 100.0%;&quot;&gt;10135&lt;/div&gt;`)[0];\n",
       "                popup_995c350a3ce0035b42cfb5554791e22b.setContent(html_d9b3be31d3a4244d0bafa3c9587bfd4b);\n",
       "            \n",
       "        \n",
       "\n",
       "        marker_11c056f8f69d0da44772b74a2e8c85f2.bindPopup(popup_995c350a3ce0035b42cfb5554791e22b)\n",
       "        ;\n",
       "\n",
       "        \n",
       "    \n",
       "    \n",
       "            var marker_9e79f4bdcecf48601b70fd435b3d8e26 = L.marker(\n",
       "                [37.018892, -121.93556],\n",
       "                {}\n",
       "            ).addTo(map_f2cb60cf6aaef6db6fc8a78b6d3d8b1e);\n",
       "        \n",
       "    \n",
       "            var icon_c9fee716cf8f16024b204db5a25f6a81 = L.AwesomeMarkers.icon(\n",
       "                {&quot;extraClasses&quot;: &quot;fa-rotate-0&quot;, &quot;icon&quot;: &quot;info-sign&quot;, &quot;iconColor&quot;: &quot;white&quot;, &quot;markerColor&quot;: &quot;red&quot;, &quot;prefix&quot;: &quot;glyphicon&quot;}\n",
       "            );\n",
       "            marker_9e79f4bdcecf48601b70fd435b3d8e26.setIcon(icon_c9fee716cf8f16024b204db5a25f6a81);\n",
       "        \n",
       "    \n",
       "        var popup_005fa10649b547d279f7a838067c3002 = L.popup({&quot;maxWidth&quot;: &quot;100%&quot;});\n",
       "\n",
       "        \n",
       "            \n",
       "                var html_ca7371851a84ad2eaef93a155c5a38ea = $(`&lt;div id=&quot;html_ca7371851a84ad2eaef93a155c5a38ea&quot; style=&quot;width: 100.0%; height: 100.0%;&quot;&gt;10142&lt;/div&gt;`)[0];\n",
       "                popup_005fa10649b547d279f7a838067c3002.setContent(html_ca7371851a84ad2eaef93a155c5a38ea);\n",
       "            \n",
       "        \n",
       "\n",
       "        marker_9e79f4bdcecf48601b70fd435b3d8e26.bindPopup(popup_005fa10649b547d279f7a838067c3002)\n",
       "        ;\n",
       "\n",
       "        \n",
       "    \n",
       "    \n",
       "            var marker_e14dd5abae4f4cff130315ee0543602b = L.marker(\n",
       "                [43.20365429, -124.3049956],\n",
       "                {}\n",
       "            ).addTo(map_f2cb60cf6aaef6db6fc8a78b6d3d8b1e);\n",
       "        \n",
       "    \n",
       "            var icon_25a054fe3fc6e94673d25db58525ecde = L.AwesomeMarkers.icon(\n",
       "                {&quot;extraClasses&quot;: &quot;fa-rotate-0&quot;, &quot;icon&quot;: &quot;info-sign&quot;, &quot;iconColor&quot;: &quot;white&quot;, &quot;markerColor&quot;: &quot;red&quot;, &quot;prefix&quot;: &quot;glyphicon&quot;}\n",
       "            );\n",
       "            marker_e14dd5abae4f4cff130315ee0543602b.setIcon(icon_25a054fe3fc6e94673d25db58525ecde);\n",
       "        \n",
       "    \n",
       "        var popup_ef7f53268620af1aff1961b9bc435f02 = L.popup({&quot;maxWidth&quot;: &quot;100%&quot;});\n",
       "\n",
       "        \n",
       "            \n",
       "                var html_401636d3dd0cebf8dd2b3066029268de = $(`&lt;div id=&quot;html_401636d3dd0cebf8dd2b3066029268de&quot; style=&quot;width: 100.0%; height: 100.0%;&quot;&gt;10549&lt;/div&gt;`)[0];\n",
       "                popup_ef7f53268620af1aff1961b9bc435f02.setContent(html_401636d3dd0cebf8dd2b3066029268de);\n",
       "            \n",
       "        \n",
       "\n",
       "        marker_e14dd5abae4f4cff130315ee0543602b.bindPopup(popup_ef7f53268620af1aff1961b9bc435f02)\n",
       "        ;\n",
       "\n",
       "        \n",
       "    \n",
       "    \n",
       "            var marker_82af6a213a6db845ea439be7946d688f = L.marker(\n",
       "                [46.04343186, -117.2441381],\n",
       "                {}\n",
       "            ).addTo(map_f2cb60cf6aaef6db6fc8a78b6d3d8b1e);\n",
       "        \n",
       "    \n",
       "            var icon_d1c8f0cbfba90816d9b4115646301aec = L.AwesomeMarkers.icon(\n",
       "                {&quot;extraClasses&quot;: &quot;fa-rotate-0&quot;, &quot;icon&quot;: &quot;info-sign&quot;, &quot;iconColor&quot;: &quot;white&quot;, &quot;markerColor&quot;: &quot;red&quot;, &quot;prefix&quot;: &quot;glyphicon&quot;}\n",
       "            );\n",
       "            marker_82af6a213a6db845ea439be7946d688f.setIcon(icon_d1c8f0cbfba90816d9b4115646301aec);\n",
       "        \n",
       "    \n",
       "        var popup_f9e46c1768602d89c29781b56bf799f2 = L.popup({&quot;maxWidth&quot;: &quot;100%&quot;});\n",
       "\n",
       "        \n",
       "            \n",
       "                var html_d0f54a8a119f927282c021ef119cdaec = $(`&lt;div id=&quot;html_d0f54a8a119f927282c021ef119cdaec&quot; style=&quot;width: 100.0%; height: 100.0%;&quot;&gt;10588&lt;/div&gt;`)[0];\n",
       "                popup_f9e46c1768602d89c29781b56bf799f2.setContent(html_d0f54a8a119f927282c021ef119cdaec);\n",
       "            \n",
       "        \n",
       "\n",
       "        marker_82af6a213a6db845ea439be7946d688f.bindPopup(popup_f9e46c1768602d89c29781b56bf799f2)\n",
       "        ;\n",
       "\n",
       "        \n",
       "    \n",
       "    \n",
       "            var marker_01268cdec2931ddcbbe83f6cf8bd0d65 = L.marker(\n",
       "                [34.15029849, -117.9438775],\n",
       "                {}\n",
       "            ).addTo(map_f2cb60cf6aaef6db6fc8a78b6d3d8b1e);\n",
       "        \n",
       "    \n",
       "            var icon_ad77409cbb73fe678c7d2d633ed10fe9 = L.AwesomeMarkers.icon(\n",
       "                {&quot;extraClasses&quot;: &quot;fa-rotate-0&quot;, &quot;icon&quot;: &quot;info-sign&quot;, &quot;iconColor&quot;: &quot;white&quot;, &quot;markerColor&quot;: &quot;red&quot;, &quot;prefix&quot;: &quot;glyphicon&quot;}\n",
       "            );\n",
       "            marker_01268cdec2931ddcbbe83f6cf8bd0d65.setIcon(icon_ad77409cbb73fe678c7d2d633ed10fe9);\n",
       "        \n",
       "    \n",
       "        var popup_286e39619ec7c3185f6a95e8bd5ac85c = L.popup({&quot;maxWidth&quot;: &quot;100%&quot;});\n",
       "\n",
       "        \n",
       "            \n",
       "                var html_622b254a1b7ce25c21141e46ee8d823d = $(`&lt;div id=&quot;html_622b254a1b7ce25c21141e46ee8d823d&quot; style=&quot;width: 100.0%; height: 100.0%;&quot;&gt;10438&lt;/div&gt;`)[0];\n",
       "                popup_286e39619ec7c3185f6a95e8bd5ac85c.setContent(html_622b254a1b7ce25c21141e46ee8d823d);\n",
       "            \n",
       "        \n",
       "\n",
       "        marker_01268cdec2931ddcbbe83f6cf8bd0d65.bindPopup(popup_286e39619ec7c3185f6a95e8bd5ac85c)\n",
       "        ;\n",
       "\n",
       "        \n",
       "    \n",
       "    \n",
       "            var marker_8de7cd19bc42cb8633ee4d90a0da469b = L.marker(\n",
       "                [47.88405278, -118.1638278],\n",
       "                {}\n",
       "            ).addTo(map_f2cb60cf6aaef6db6fc8a78b6d3d8b1e);\n",
       "        \n",
       "    \n",
       "            var icon_d798490a688827689184728ad962081f = L.AwesomeMarkers.icon(\n",
       "                {&quot;extraClasses&quot;: &quot;fa-rotate-0&quot;, &quot;icon&quot;: &quot;info-sign&quot;, &quot;iconColor&quot;: &quot;white&quot;, &quot;markerColor&quot;: &quot;red&quot;, &quot;prefix&quot;: &quot;glyphicon&quot;}\n",
       "            );\n",
       "            marker_8de7cd19bc42cb8633ee4d90a0da469b.setIcon(icon_d798490a688827689184728ad962081f);\n",
       "        \n",
       "    \n",
       "        var popup_f36cebf4d9907b052ef7fa3a46ec0cf0 = L.popup({&quot;maxWidth&quot;: &quot;100%&quot;});\n",
       "\n",
       "        \n",
       "            \n",
       "                var html_d2ba58278760293ae6f3368a9444e552 = $(`&lt;div id=&quot;html_d2ba58278760293ae6f3368a9444e552&quot; style=&quot;width: 100.0%; height: 100.0%;&quot;&gt;10521&lt;/div&gt;`)[0];\n",
       "                popup_f36cebf4d9907b052ef7fa3a46ec0cf0.setContent(html_d2ba58278760293ae6f3368a9444e552);\n",
       "            \n",
       "        \n",
       "\n",
       "        marker_8de7cd19bc42cb8633ee4d90a0da469b.bindPopup(popup_f36cebf4d9907b052ef7fa3a46ec0cf0)\n",
       "        ;\n",
       "\n",
       "        \n",
       "    \n",
       "&lt;/script&gt;\n",
       "&lt;/html&gt;\" style=\"position:absolute;width:100%;height:100%;left:0;top:0;border:none !important;\" allowfullscreen webkitallowfullscreen mozallowfullscreen></iframe></div></div>"
      ],
      "text/plain": [
       "<folium.folium.Map at 0x2d30ef6ec40>"
      ]
     },
     "execution_count": 11,
     "metadata": {},
     "output_type": "execute_result"
    }
   ],
   "source": [
    "# Display all verified large landslides of North America \n",
    "large_ls_map = folium.Map(\n",
    "    location=[43.0000, -105.0000],\n",
    "    zoom_start=4,\n",
    "    width=900,\n",
    "    height=500,\n",
    "    tiles='Stamen terrain')\n",
    "\n",
    "\n",
    "for index, row in large_ls.iterrows():\n",
    "    folium.Marker(\n",
    "        location=[row['lat'], row['lon']],\n",
    "        popup=row['slide.id'],\n",
    "        icon=folium.Icon(color=\"red\")\n",
    "    ).add_to(large_ls_map)\n",
    "\n",
    "large_ls_map"
   ]
  },
  {
   "cell_type": "markdown",
   "id": "59c3ec99",
   "metadata": {},
   "source": [
    "## Area of Interest (AOI)\n",
    "We studied two landslide events namely, Caddy Lake, Manitoba, Canada (June 25, 2016) and Bug Sur, California, USA (May 20, 2017). We opted for these selections to assess the functionality of our code across varying types and sizes of landslides. While the first is characterized by scattered land removal across an area of about 5 square kilometers, the last caused a substantial mass movement across the highway. \n",
    "\n",
    "## Extracting Caddy Lake and Big Sur landslides data"
   ]
  },
  {
   "cell_type": "code",
   "execution_count": 12,
   "id": "686ef9ef",
   "metadata": {
    "ExecuteTime": {
     "end_time": "2023-08-23T16:03:12.075811Z",
     "start_time": "2023-08-23T16:03:12.062749Z"
    },
    "tags": [
     "remove_input"
    ]
   },
   "outputs": [
    {
     "data": {
      "text/html": [
       "<div>\n",
       "<style scoped>\n",
       "    .dataframe tbody tr th:only-of-type {\n",
       "        vertical-align: middle;\n",
       "    }\n",
       "\n",
       "    .dataframe tbody tr th {\n",
       "        vertical-align: top;\n",
       "    }\n",
       "\n",
       "    .dataframe thead th {\n",
       "        text-align: right;\n",
       "    }\n",
       "</style>\n",
       "<table border=\"1\" class=\"dataframe\">\n",
       "  <thead>\n",
       "    <tr style=\"text-align: right;\">\n",
       "      <th></th>\n",
       "      <th>slide.id</th>\n",
       "      <th>slide.date</th>\n",
       "      <th>location</th>\n",
       "      <th>type</th>\n",
       "      <th>trigger</th>\n",
       "      <th>size</th>\n",
       "      <th>lon</th>\n",
       "      <th>lat</th>\n",
       "      <th>location_accuracy</th>\n",
       "      <th>event_title</th>\n",
       "      <th>admin_division_name</th>\n",
       "      <th>ge.lat</th>\n",
       "      <th>ge.lon</th>\n",
       "      <th>is.exact</th>\n",
       "      <th>slide.index</th>\n",
       "      <th>geometry</th>\n",
       "    </tr>\n",
       "  </thead>\n",
       "  <tbody>\n",
       "    <tr>\n",
       "      <th>55</th>\n",
       "      <td>7922</td>\n",
       "      <td>2016-06-25T09:00:00Z</td>\n",
       "      <td>Caddy Lake, 140 kmeast of Winnipeg, Canada</td>\n",
       "      <td>landslide</td>\n",
       "      <td>downpour</td>\n",
       "      <td>large</td>\n",
       "      <td>-95.2098</td>\n",
       "      <td>49.8063</td>\n",
       "      <td>5km</td>\n",
       "      <td>Caddy Lake, 140 kmeast of Winnipeg, Canada</td>\n",
       "      <td>Manitoba</td>\n",
       "      <td>NA</td>\n",
       "      <td>NA</td>\n",
       "      <td>FALSE</td>\n",
       "      <td>70</td>\n",
       "      <td>None</td>\n",
       "    </tr>\n",
       "  </tbody>\n",
       "</table>\n",
       "</div>"
      ],
      "text/plain": [
       "   slide.id            slide.date                                    location  \\\n",
       "55     7922  2016-06-25T09:00:00Z  Caddy Lake, 140 kmeast of Winnipeg, Canada   \n",
       "\n",
       "         type   trigger   size       lon      lat location_accuracy  \\\n",
       "55  landslide  downpour  large  -95.2098  49.8063               5km   \n",
       "\n",
       "                                   event_title admin_division_name ge.lat  \\\n",
       "55  Caddy Lake, 140 kmeast of Winnipeg, Canada            Manitoba     NA   \n",
       "\n",
       "   ge.lon is.exact slide.index geometry  \n",
       "55     NA    FALSE          70     None  "
      ]
     },
     "execution_count": 12,
     "metadata": {},
     "output_type": "execute_result"
    }
   ],
   "source": [
    "# Extract information of landslides of Caddy Lake, Manitoba, Canada\n",
    "Caddy_df = landslide_gdf[landslide_gdf['location'].str.contains\n",
    "                              ('Caddy Lake')]\n",
    "Caddy_df"
   ]
  },
  {
   "cell_type": "code",
   "execution_count": 13,
   "id": "f7a26814",
   "metadata": {
    "ExecuteTime": {
     "end_time": "2023-08-23T16:03:12.090549Z",
     "start_time": "2023-08-23T16:03:12.077137Z"
    },
    "tags": [
     "remove_input"
    ]
   },
   "outputs": [
    {
     "data": {
      "text/html": [
       "<div>\n",
       "<style scoped>\n",
       "    .dataframe tbody tr th:only-of-type {\n",
       "        vertical-align: middle;\n",
       "    }\n",
       "\n",
       "    .dataframe tbody tr th {\n",
       "        vertical-align: top;\n",
       "    }\n",
       "\n",
       "    .dataframe thead th {\n",
       "        text-align: right;\n",
       "    }\n",
       "</style>\n",
       "<table border=\"1\" class=\"dataframe\">\n",
       "  <thead>\n",
       "    <tr style=\"text-align: right;\">\n",
       "      <th></th>\n",
       "      <th>slide.id</th>\n",
       "      <th>slide.date</th>\n",
       "      <th>location</th>\n",
       "      <th>type</th>\n",
       "      <th>trigger</th>\n",
       "      <th>size</th>\n",
       "      <th>lon</th>\n",
       "      <th>lat</th>\n",
       "      <th>location_accuracy</th>\n",
       "      <th>event_title</th>\n",
       "      <th>admin_division_name</th>\n",
       "      <th>ge.lat</th>\n",
       "      <th>ge.lon</th>\n",
       "      <th>is.exact</th>\n",
       "      <th>slide.index</th>\n",
       "      <th>geometry</th>\n",
       "    </tr>\n",
       "  </thead>\n",
       "  <tbody>\n",
       "    <tr>\n",
       "      <th>41</th>\n",
       "      <td>9734</td>\n",
       "      <td>2017-05-20T13:34:00Z</td>\n",
       "      <td>Big Sur Landslide</td>\n",
       "      <td>landslide</td>\n",
       "      <td>rain</td>\n",
       "      <td>very_large</td>\n",
       "      <td>-121.4323838</td>\n",
       "      <td>35.86562803</td>\n",
       "      <td>exact</td>\n",
       "      <td>Big Sur Landslide</td>\n",
       "      <td>NA</td>\n",
       "      <td>35.86562803</td>\n",
       "      <td>-121.4323838</td>\n",
       "      <td>TRUE</td>\n",
       "      <td>54</td>\n",
       "      <td>None</td>\n",
       "    </tr>\n",
       "  </tbody>\n",
       "</table>\n",
       "</div>"
      ],
      "text/plain": [
       "   slide.id            slide.date           location       type trigger  \\\n",
       "41     9734  2017-05-20T13:34:00Z  Big Sur Landslide  landslide    rain   \n",
       "\n",
       "          size           lon          lat location_accuracy  \\\n",
       "41  very_large  -121.4323838  35.86562803             exact   \n",
       "\n",
       "          event_title admin_division_name       ge.lat        ge.lon is.exact  \\\n",
       "41  Big Sur Landslide                  NA  35.86562803  -121.4323838     TRUE   \n",
       "\n",
       "   slide.index geometry  \n",
       "41          54     None  "
      ]
     },
     "execution_count": 13,
     "metadata": {},
     "output_type": "execute_result"
    }
   ],
   "source": [
    "# Extract information of landslides of Big Sur, CA\n",
    "Big_Sur_df = landslide_gdf[landslide_gdf['location'].str.contains\n",
    "                              ('Big Sur')]\n",
    "Big_Sur_df"
   ]
  },
  {
   "cell_type": "markdown",
   "id": "91a92a95",
   "metadata": {
    "ExecuteTime": {
     "end_time": "2023-04-25T05:08:43.295847Z",
     "start_time": "2023-04-25T05:08:43.282720Z"
    }
   },
   "source": [
    "#### Interactive map of Caddy Lake landslide, MB, Canada, with accuracy of 5 km"
   ]
  },
  {
   "cell_type": "code",
   "execution_count": 14,
   "id": "d879e7cf",
   "metadata": {
    "ExecuteTime": {
     "end_time": "2023-08-23T16:03:12.105586Z",
     "start_time": "2023-08-23T16:03:12.092059Z"
    },
    "tags": [
     "remove_input"
    ]
   },
   "outputs": [
    {
     "data": {
      "text/html": [
       "<div style=\"width:100%;\"><div style=\"position:relative;width:100%;height:0;padding-bottom:60%;\"><span style=\"color:#565656\">Make this Notebook Trusted to load map: File -> Trust Notebook</span><iframe srcdoc=\"&lt;!DOCTYPE html&gt;\n",
       "&lt;html&gt;\n",
       "&lt;head&gt;\n",
       "    \n",
       "    &lt;meta http-equiv=&quot;content-type&quot; content=&quot;text/html; charset=UTF-8&quot; /&gt;\n",
       "    \n",
       "        &lt;script&gt;\n",
       "            L_NO_TOUCH = false;\n",
       "            L_DISABLE_3D = false;\n",
       "        &lt;/script&gt;\n",
       "    \n",
       "    &lt;style&gt;html, body {width: 100%;height: 100%;margin: 0;padding: 0;}&lt;/style&gt;\n",
       "    &lt;style&gt;#map {position:absolute;top:0;bottom:0;right:0;left:0;}&lt;/style&gt;\n",
       "    &lt;script src=&quot;https://cdn.jsdelivr.net/npm/leaflet@1.9.3/dist/leaflet.js&quot;&gt;&lt;/script&gt;\n",
       "    &lt;script src=&quot;https://code.jquery.com/jquery-1.12.4.min.js&quot;&gt;&lt;/script&gt;\n",
       "    &lt;script src=&quot;https://cdn.jsdelivr.net/npm/bootstrap@5.2.2/dist/js/bootstrap.bundle.min.js&quot;&gt;&lt;/script&gt;\n",
       "    &lt;script src=&quot;https://cdnjs.cloudflare.com/ajax/libs/Leaflet.awesome-markers/2.0.2/leaflet.awesome-markers.js&quot;&gt;&lt;/script&gt;\n",
       "    &lt;link rel=&quot;stylesheet&quot; href=&quot;https://cdn.jsdelivr.net/npm/leaflet@1.9.3/dist/leaflet.css&quot;/&gt;\n",
       "    &lt;link rel=&quot;stylesheet&quot; href=&quot;https://cdn.jsdelivr.net/npm/bootstrap@5.2.2/dist/css/bootstrap.min.css&quot;/&gt;\n",
       "    &lt;link rel=&quot;stylesheet&quot; href=&quot;https://netdna.bootstrapcdn.com/bootstrap/3.0.0/css/bootstrap.min.css&quot;/&gt;\n",
       "    &lt;link rel=&quot;stylesheet&quot; href=&quot;https://cdn.jsdelivr.net/npm/@fortawesome/fontawesome-free@6.2.0/css/all.min.css&quot;/&gt;\n",
       "    &lt;link rel=&quot;stylesheet&quot; href=&quot;https://cdnjs.cloudflare.com/ajax/libs/Leaflet.awesome-markers/2.0.2/leaflet.awesome-markers.css&quot;/&gt;\n",
       "    &lt;link rel=&quot;stylesheet&quot; href=&quot;https://cdn.jsdelivr.net/gh/python-visualization/folium/folium/templates/leaflet.awesome.rotate.min.css&quot;/&gt;\n",
       "    \n",
       "            &lt;meta name=&quot;viewport&quot; content=&quot;width=device-width,\n",
       "                initial-scale=1.0, maximum-scale=1.0, user-scalable=no&quot; /&gt;\n",
       "            &lt;style&gt;\n",
       "                #map_effe4c962bab245e182967245126a7a3 {\n",
       "                    position: relative;\n",
       "                    width: 1000.0px;\n",
       "                    height: 600.0px;\n",
       "                    left: 0.0%;\n",
       "                    top: 0.0%;\n",
       "                }\n",
       "                .leaflet-container { font-size: 1rem; }\n",
       "            &lt;/style&gt;\n",
       "        \n",
       "&lt;/head&gt;\n",
       "&lt;body&gt;\n",
       "    \n",
       "    \n",
       "            &lt;div class=&quot;folium-map&quot; id=&quot;map_effe4c962bab245e182967245126a7a3&quot; &gt;&lt;/div&gt;\n",
       "        \n",
       "&lt;/body&gt;\n",
       "&lt;script&gt;\n",
       "    \n",
       "    \n",
       "            var map_effe4c962bab245e182967245126a7a3 = L.map(\n",
       "                &quot;map_effe4c962bab245e182967245126a7a3&quot;,\n",
       "                {\n",
       "                    center: [49.8063, -95.2098],\n",
       "                    crs: L.CRS.EPSG3857,\n",
       "                    zoom: 13,\n",
       "                    zoomControl: true,\n",
       "                    preferCanvas: false,\n",
       "                }\n",
       "            );\n",
       "\n",
       "            \n",
       "\n",
       "        \n",
       "    \n",
       "            var tile_layer_d9240fe4070fe9e55a0a16d0721be4f8 = L.tileLayer(\n",
       "                &quot;https://stamen-tiles-{s}.a.ssl.fastly.net/terrain/{z}/{x}/{y}.jpg&quot;,\n",
       "                {&quot;attribution&quot;: &quot;Map tiles by \\u003ca target=\\&quot;_blank\\&quot; href=\\&quot;http://stamen.com\\&quot;\\u003eStamen Design\\u003c/a\\u003e, under \\u003ca target=\\&quot;_blank\\&quot; href=\\&quot;http://creativecommons.org/licenses/by/3.0\\&quot;\\u003eCC BY 3.0\\u003c/a\\u003e. Data by \\u0026copy; \\u003ca target=\\&quot;_blank\\&quot; href=\\&quot;http://openstreetmap.org\\&quot;\\u003eOpenStreetMap\\u003c/a\\u003e, under \\u003ca target=\\&quot;_blank\\&quot; href=\\&quot;http://creativecommons.org/licenses/by-sa/3.0\\&quot;\\u003eCC BY SA\\u003c/a\\u003e.&quot;, &quot;detectRetina&quot;: false, &quot;maxNativeZoom&quot;: 18, &quot;maxZoom&quot;: 18, &quot;minZoom&quot;: 0, &quot;noWrap&quot;: false, &quot;opacity&quot;: 1, &quot;subdomains&quot;: &quot;abc&quot;, &quot;tms&quot;: false}\n",
       "            ).addTo(map_effe4c962bab245e182967245126a7a3);\n",
       "        \n",
       "    \n",
       "            var marker_5308f1af9329d06f18c9d5bd9c0e3999 = L.marker(\n",
       "                [49.8063, -95.2098],\n",
       "                {}\n",
       "            ).addTo(map_effe4c962bab245e182967245126a7a3);\n",
       "        \n",
       "    \n",
       "            var icon_b60e63385a396f504e4f1244068eb92d = L.AwesomeMarkers.icon(\n",
       "                {&quot;extraClasses&quot;: &quot;fa-rotate-0&quot;, &quot;icon&quot;: &quot;info-sign&quot;, &quot;iconColor&quot;: &quot;white&quot;, &quot;markerColor&quot;: &quot;red&quot;, &quot;prefix&quot;: &quot;glyphicon&quot;}\n",
       "            );\n",
       "            marker_5308f1af9329d06f18c9d5bd9c0e3999.setIcon(icon_b60e63385a396f504e4f1244068eb92d);\n",
       "        \n",
       "    \n",
       "        var popup_38192bfab5a49f3dd67fd2d170eff849 = L.popup({&quot;maxWidth&quot;: &quot;100%&quot;});\n",
       "\n",
       "        \n",
       "            \n",
       "                var html_56b4771c43ab407d6a13d86d73a5a63f = $(`&lt;div id=&quot;html_56b4771c43ab407d6a13d86d73a5a63f&quot; style=&quot;width: 100.0%; height: 100.0%;&quot;&gt;7922&lt;/div&gt;`)[0];\n",
       "                popup_38192bfab5a49f3dd67fd2d170eff849.setContent(html_56b4771c43ab407d6a13d86d73a5a63f);\n",
       "            \n",
       "        \n",
       "\n",
       "        marker_5308f1af9329d06f18c9d5bd9c0e3999.bindPopup(popup_38192bfab5a49f3dd67fd2d170eff849)\n",
       "        ;\n",
       "\n",
       "        \n",
       "    \n",
       "&lt;/script&gt;\n",
       "&lt;/html&gt;\" style=\"position:absolute;width:100%;height:100%;left:0;top:0;border:none !important;\" allowfullscreen webkitallowfullscreen mozallowfullscreen></iframe></div></div>"
      ],
      "text/plain": [
       "<folium.folium.Map at 0x2d30efbf3a0>"
      ]
     },
     "execution_count": 14,
     "metadata": {},
     "output_type": "execute_result"
    }
   ],
   "source": [
    "# Display landslide of Caddy Lake location\n",
    "Caddy_landslide_map = folium.Map(\n",
    "    location=[49.8063, -95.2098],\n",
    "    zoom_start=13,\n",
    "    width=1000,\n",
    "    height=600,\n",
    "    tiles='Stamen terrain')\n",
    "\n",
    "\n",
    "for index, row in Caddy_df.iterrows():\n",
    "    folium.Marker(\n",
    "        location=[row['lat'], row['lon']],\n",
    "        popup=row['slide.id'],\n",
    "        icon=folium.Icon(color=\"red\")\n",
    "    ).add_to(Caddy_landslide_map)\n",
    "\n",
    "Caddy_landslide_map"
   ]
  },
  {
   "cell_type": "markdown",
   "id": "32143d54",
   "metadata": {},
   "source": [
    "#### Interactive map of landslide of Big Sur, CA, USA"
   ]
  },
  {
   "cell_type": "code",
   "execution_count": 15,
   "id": "21bf611b",
   "metadata": {
    "ExecuteTime": {
     "end_time": "2023-08-23T16:03:12.120835Z",
     "start_time": "2023-08-23T16:03:12.106588Z"
    },
    "tags": [
     "remove_input"
    ]
   },
   "outputs": [
    {
     "data": {
      "text/html": [
       "<div style=\"width:100%;\"><div style=\"position:relative;width:100%;height:0;padding-bottom:60%;\"><span style=\"color:#565656\">Make this Notebook Trusted to load map: File -> Trust Notebook</span><iframe srcdoc=\"&lt;!DOCTYPE html&gt;\n",
       "&lt;html&gt;\n",
       "&lt;head&gt;\n",
       "    \n",
       "    &lt;meta http-equiv=&quot;content-type&quot; content=&quot;text/html; charset=UTF-8&quot; /&gt;\n",
       "    \n",
       "        &lt;script&gt;\n",
       "            L_NO_TOUCH = false;\n",
       "            L_DISABLE_3D = false;\n",
       "        &lt;/script&gt;\n",
       "    \n",
       "    &lt;style&gt;html, body {width: 100%;height: 100%;margin: 0;padding: 0;}&lt;/style&gt;\n",
       "    &lt;style&gt;#map {position:absolute;top:0;bottom:0;right:0;left:0;}&lt;/style&gt;\n",
       "    &lt;script src=&quot;https://cdn.jsdelivr.net/npm/leaflet@1.9.3/dist/leaflet.js&quot;&gt;&lt;/script&gt;\n",
       "    &lt;script src=&quot;https://code.jquery.com/jquery-1.12.4.min.js&quot;&gt;&lt;/script&gt;\n",
       "    &lt;script src=&quot;https://cdn.jsdelivr.net/npm/bootstrap@5.2.2/dist/js/bootstrap.bundle.min.js&quot;&gt;&lt;/script&gt;\n",
       "    &lt;script src=&quot;https://cdnjs.cloudflare.com/ajax/libs/Leaflet.awesome-markers/2.0.2/leaflet.awesome-markers.js&quot;&gt;&lt;/script&gt;\n",
       "    &lt;link rel=&quot;stylesheet&quot; href=&quot;https://cdn.jsdelivr.net/npm/leaflet@1.9.3/dist/leaflet.css&quot;/&gt;\n",
       "    &lt;link rel=&quot;stylesheet&quot; href=&quot;https://cdn.jsdelivr.net/npm/bootstrap@5.2.2/dist/css/bootstrap.min.css&quot;/&gt;\n",
       "    &lt;link rel=&quot;stylesheet&quot; href=&quot;https://netdna.bootstrapcdn.com/bootstrap/3.0.0/css/bootstrap.min.css&quot;/&gt;\n",
       "    &lt;link rel=&quot;stylesheet&quot; href=&quot;https://cdn.jsdelivr.net/npm/@fortawesome/fontawesome-free@6.2.0/css/all.min.css&quot;/&gt;\n",
       "    &lt;link rel=&quot;stylesheet&quot; href=&quot;https://cdnjs.cloudflare.com/ajax/libs/Leaflet.awesome-markers/2.0.2/leaflet.awesome-markers.css&quot;/&gt;\n",
       "    &lt;link rel=&quot;stylesheet&quot; href=&quot;https://cdn.jsdelivr.net/gh/python-visualization/folium/folium/templates/leaflet.awesome.rotate.min.css&quot;/&gt;\n",
       "    \n",
       "            &lt;meta name=&quot;viewport&quot; content=&quot;width=device-width,\n",
       "                initial-scale=1.0, maximum-scale=1.0, user-scalable=no&quot; /&gt;\n",
       "            &lt;style&gt;\n",
       "                #map_cec740fb2bdb394c60f470d781fc09b6 {\n",
       "                    position: relative;\n",
       "                    width: 1000.0px;\n",
       "                    height: 600.0px;\n",
       "                    left: 0.0%;\n",
       "                    top: 0.0%;\n",
       "                }\n",
       "                .leaflet-container { font-size: 1rem; }\n",
       "            &lt;/style&gt;\n",
       "        \n",
       "&lt;/head&gt;\n",
       "&lt;body&gt;\n",
       "    \n",
       "    \n",
       "            &lt;div class=&quot;folium-map&quot; id=&quot;map_cec740fb2bdb394c60f470d781fc09b6&quot; &gt;&lt;/div&gt;\n",
       "        \n",
       "&lt;/body&gt;\n",
       "&lt;script&gt;\n",
       "    \n",
       "    \n",
       "            var map_cec740fb2bdb394c60f470d781fc09b6 = L.map(\n",
       "                &quot;map_cec740fb2bdb394c60f470d781fc09b6&quot;,\n",
       "                {\n",
       "                    center: [35.8656, -121.4329],\n",
       "                    crs: L.CRS.EPSG3857,\n",
       "                    zoom: 13,\n",
       "                    zoomControl: true,\n",
       "                    preferCanvas: false,\n",
       "                }\n",
       "            );\n",
       "\n",
       "            \n",
       "\n",
       "        \n",
       "    \n",
       "            var tile_layer_dba520a9969d037d05adbce2e612613f = L.tileLayer(\n",
       "                &quot;https://stamen-tiles-{s}.a.ssl.fastly.net/terrain/{z}/{x}/{y}.jpg&quot;,\n",
       "                {&quot;attribution&quot;: &quot;Map tiles by \\u003ca target=\\&quot;_blank\\&quot; href=\\&quot;http://stamen.com\\&quot;\\u003eStamen Design\\u003c/a\\u003e, under \\u003ca target=\\&quot;_blank\\&quot; href=\\&quot;http://creativecommons.org/licenses/by/3.0\\&quot;\\u003eCC BY 3.0\\u003c/a\\u003e. Data by \\u0026copy; \\u003ca target=\\&quot;_blank\\&quot; href=\\&quot;http://openstreetmap.org\\&quot;\\u003eOpenStreetMap\\u003c/a\\u003e, under \\u003ca target=\\&quot;_blank\\&quot; href=\\&quot;http://creativecommons.org/licenses/by-sa/3.0\\&quot;\\u003eCC BY SA\\u003c/a\\u003e.&quot;, &quot;detectRetina&quot;: false, &quot;maxNativeZoom&quot;: 18, &quot;maxZoom&quot;: 18, &quot;minZoom&quot;: 0, &quot;noWrap&quot;: false, &quot;opacity&quot;: 1, &quot;subdomains&quot;: &quot;abc&quot;, &quot;tms&quot;: false}\n",
       "            ).addTo(map_cec740fb2bdb394c60f470d781fc09b6);\n",
       "        \n",
       "    \n",
       "            var marker_f7fac36719bf6f08d48ff167515236ed = L.marker(\n",
       "                [35.86562803, -121.4323838],\n",
       "                {}\n",
       "            ).addTo(map_cec740fb2bdb394c60f470d781fc09b6);\n",
       "        \n",
       "    \n",
       "            var icon_40554f8ac22428a53994d01aa6dfdd9d = L.AwesomeMarkers.icon(\n",
       "                {&quot;extraClasses&quot;: &quot;fa-rotate-0&quot;, &quot;icon&quot;: &quot;info-sign&quot;, &quot;iconColor&quot;: &quot;white&quot;, &quot;markerColor&quot;: &quot;red&quot;, &quot;prefix&quot;: &quot;glyphicon&quot;}\n",
       "            );\n",
       "            marker_f7fac36719bf6f08d48ff167515236ed.setIcon(icon_40554f8ac22428a53994d01aa6dfdd9d);\n",
       "        \n",
       "    \n",
       "        var popup_84dd08d0342791512302681f3af1632a = L.popup({&quot;maxWidth&quot;: &quot;100%&quot;});\n",
       "\n",
       "        \n",
       "            \n",
       "                var html_ca35442be00f151f180ccae9b55b64ec = $(`&lt;div id=&quot;html_ca35442be00f151f180ccae9b55b64ec&quot; style=&quot;width: 100.0%; height: 100.0%;&quot;&gt;9734&lt;/div&gt;`)[0];\n",
       "                popup_84dd08d0342791512302681f3af1632a.setContent(html_ca35442be00f151f180ccae9b55b64ec);\n",
       "            \n",
       "        \n",
       "\n",
       "        marker_f7fac36719bf6f08d48ff167515236ed.bindPopup(popup_84dd08d0342791512302681f3af1632a)\n",
       "        ;\n",
       "\n",
       "        \n",
       "    \n",
       "&lt;/script&gt;\n",
       "&lt;/html&gt;\" style=\"position:absolute;width:100%;height:100%;left:0;top:0;border:none !important;\" allowfullscreen webkitallowfullscreen mozallowfullscreen></iframe></div></div>"
      ],
      "text/plain": [
       "<folium.folium.Map at 0x2d30efb4e50>"
      ]
     },
     "execution_count": 15,
     "metadata": {},
     "output_type": "execute_result"
    }
   ],
   "source": [
    "# Display landslide of Big Sur location\n",
    "Big_Sur_landslide_map = folium.Map(\n",
    "    location=[35.8656, -121.4329],\n",
    "    zoom_start=13,\n",
    "    width=1000,\n",
    "    height=600,\n",
    "    tiles='Stamen terrain')\n",
    "\n",
    "\n",
    "for index, row in Big_Sur_df.iterrows():\n",
    "    folium.Marker(\n",
    "        location=[row['lat'], row['lon']],\n",
    "        popup=row['slide.id'],\n",
    "        icon=folium.Icon(color=\"red\")\n",
    "    ).add_to(Big_Sur_landslide_map)\n",
    "\n",
    "Big_Sur_landslide_map"
   ]
  },
  {
   "cell_type": "markdown",
   "id": "472c57a8",
   "metadata": {},
   "source": [
    "#### <center>Split map of Caddy Lake landslide location</center>"
   ]
  },
  {
   "cell_type": "code",
   "execution_count": 16,
   "id": "26efbc10",
   "metadata": {
    "ExecuteTime": {
     "end_time": "2023-08-23T16:03:12.152971Z",
     "start_time": "2023-08-23T16:03:12.123009Z"
    },
    "tags": [
     "remove_input"
    ]
   },
   "outputs": [
    {
     "data": {
      "text/html": [
       "<iframe srcdoc=\"&lt;!DOCTYPE html&gt;\n",
       "&lt;html&gt;\n",
       "&lt;head&gt;\n",
       "    \n",
       "    &lt;meta http-equiv=&quot;content-type&quot; content=&quot;text/html; charset=UTF-8&quot; /&gt;\n",
       "    \n",
       "        &lt;script&gt;\n",
       "            L_NO_TOUCH = false;\n",
       "            L_DISABLE_3D = false;\n",
       "        &lt;/script&gt;\n",
       "    \n",
       "    &lt;style&gt;html, body {width: 100%;height: 100%;margin: 0;padding: 0;}&lt;/style&gt;\n",
       "    &lt;style&gt;#map {position:absolute;top:0;bottom:0;right:0;left:0;}&lt;/style&gt;\n",
       "    &lt;script src=&quot;https://cdn.jsdelivr.net/npm/leaflet@1.9.3/dist/leaflet.js&quot;&gt;&lt;/script&gt;\n",
       "    &lt;script src=&quot;https://code.jquery.com/jquery-1.12.4.min.js&quot;&gt;&lt;/script&gt;\n",
       "    &lt;script src=&quot;https://cdn.jsdelivr.net/npm/bootstrap@5.2.2/dist/js/bootstrap.bundle.min.js&quot;&gt;&lt;/script&gt;\n",
       "    &lt;script src=&quot;https://cdnjs.cloudflare.com/ajax/libs/Leaflet.awesome-markers/2.0.2/leaflet.awesome-markers.js&quot;&gt;&lt;/script&gt;\n",
       "    &lt;link rel=&quot;stylesheet&quot; href=&quot;https://cdn.jsdelivr.net/npm/leaflet@1.9.3/dist/leaflet.css&quot;/&gt;\n",
       "    &lt;link rel=&quot;stylesheet&quot; href=&quot;https://cdn.jsdelivr.net/npm/bootstrap@5.2.2/dist/css/bootstrap.min.css&quot;/&gt;\n",
       "    &lt;link rel=&quot;stylesheet&quot; href=&quot;https://netdna.bootstrapcdn.com/bootstrap/3.0.0/css/bootstrap.min.css&quot;/&gt;\n",
       "    &lt;link rel=&quot;stylesheet&quot; href=&quot;https://cdn.jsdelivr.net/npm/@fortawesome/fontawesome-free@6.2.0/css/all.min.css&quot;/&gt;\n",
       "    &lt;link rel=&quot;stylesheet&quot; href=&quot;https://cdnjs.cloudflare.com/ajax/libs/Leaflet.awesome-markers/2.0.2/leaflet.awesome-markers.css&quot;/&gt;\n",
       "    &lt;link rel=&quot;stylesheet&quot; href=&quot;https://cdn.jsdelivr.net/gh/python-visualization/folium/folium/templates/leaflet.awesome.rotate.min.css&quot;/&gt;\n",
       "    \n",
       "            &lt;meta name=&quot;viewport&quot; content=&quot;width=device-width,\n",
       "                initial-scale=1.0, maximum-scale=1.0, user-scalable=no&quot; /&gt;\n",
       "            &lt;style&gt;\n",
       "                #map_15cadc3cd581a549ee72af24d32124fd {\n",
       "                    position: relative;\n",
       "                    width: 100.0%;\n",
       "                    height: 100.0%;\n",
       "                    left: 0.0%;\n",
       "                    top: 0.0%;\n",
       "                }\n",
       "                .leaflet-container { font-size: 1rem; }\n",
       "            &lt;/style&gt;\n",
       "        \n",
       "    &lt;script src=&quot;https://cdnjs.cloudflare.com/ajax/libs/leaflet.fullscreen/1.4.2/Control.FullScreen.min.js&quot;&gt;&lt;/script&gt;\n",
       "    &lt;link rel=&quot;stylesheet&quot; href=&quot;https://cdnjs.cloudflare.com/ajax/libs/leaflet.fullscreen/1.4.2/Control.FullScreen.min.css&quot;/&gt;\n",
       "    &lt;script src=&quot;https://cdnjs.cloudflare.com/ajax/libs/leaflet.draw/1.0.2/leaflet.draw.js&quot;&gt;&lt;/script&gt;\n",
       "    &lt;link rel=&quot;stylesheet&quot; href=&quot;https://cdnjs.cloudflare.com/ajax/libs/leaflet.draw/1.0.2/leaflet.draw.css&quot;/&gt;\n",
       "    &lt;script src=&quot;https://unpkg.com/leaflet-control-geocoder/dist/Control.Geocoder.js&quot;&gt;&lt;/script&gt;\n",
       "    &lt;link rel=&quot;stylesheet&quot; href=&quot;https://unpkg.com/leaflet-control-geocoder/dist/Control.Geocoder.css&quot;/&gt;\n",
       "    &lt;script src=&quot;https://cdn.jsdelivr.net/gh/digidem/leaflet-side-by-side@gh-pages/leaflet-side-by-side.min.js&quot;&gt;&lt;/script&gt;\n",
       "&lt;/head&gt;\n",
       "&lt;body&gt;\n",
       "    \n",
       "    \n",
       "            &lt;div class=&quot;folium-map&quot; id=&quot;map_15cadc3cd581a549ee72af24d32124fd&quot; &gt;&lt;/div&gt;\n",
       "        \n",
       "&lt;/body&gt;\n",
       "&lt;script&gt;\n",
       "    \n",
       "    \n",
       "            var map_15cadc3cd581a549ee72af24d32124fd = L.map(\n",
       "                &quot;map_15cadc3cd581a549ee72af24d32124fd&quot;,\n",
       "                {\n",
       "                    center: [49.8063, -95.2098],\n",
       "                    crs: L.CRS.EPSG3857,\n",
       "                    zoom: 15,\n",
       "                    zoomControl: true,\n",
       "                    preferCanvas: false,\n",
       "                    eeInitialize: true,\n",
       "                    addGoogleMap: true,\n",
       "                    pluginLatlngpopup: false,\n",
       "                    pluginFullscreen: true,\n",
       "                    pluginDraw: true,\n",
       "                    DrawExport: false,\n",
       "                    pluginMinimap: false,\n",
       "                    locateControl: false,\n",
       "                    searchControl: true,\n",
       "                    layersControl: true,\n",
       "                }\n",
       "            );\n",
       "\n",
       "            \n",
       "\n",
       "        \n",
       "    \n",
       "            var tile_layer_e55d5ccfd0e382d269d733c643a746fa = L.tileLayer(\n",
       "                &quot;https://{s}.tile.openstreetmap.org/{z}/{x}/{y}.png&quot;,\n",
       "                {&quot;attribution&quot;: &quot;Data by \\u0026copy; \\u003ca target=\\&quot;_blank\\&quot; href=\\&quot;http://openstreetmap.org\\&quot;\\u003eOpenStreetMap\\u003c/a\\u003e, under \\u003ca target=\\&quot;_blank\\&quot; href=\\&quot;http://www.openstreetmap.org/copyright\\&quot;\\u003eODbL\\u003c/a\\u003e.&quot;, &quot;detectRetina&quot;: false, &quot;maxNativeZoom&quot;: 30, &quot;maxZoom&quot;: 30, &quot;minZoom&quot;: 0, &quot;noWrap&quot;: false, &quot;opacity&quot;: 1, &quot;subdomains&quot;: &quot;abc&quot;, &quot;tms&quot;: false}\n",
       "            ).addTo(map_15cadc3cd581a549ee72af24d32124fd);\n",
       "        \n",
       "    \n",
       "            var tile_layer_5b3fdc30c014f045638e0cc963a7937f = L.tileLayer(\n",
       "                &quot;https://mt1.google.com/vt/lyrs=m\\u0026x={x}\\u0026y={y}\\u0026z={z}&quot;,\n",
       "                {&quot;attribution&quot;: &quot;Google&quot;, &quot;detectRetina&quot;: false, &quot;maxNativeZoom&quot;: 22, &quot;maxZoom&quot;: 22, &quot;minZoom&quot;: 0, &quot;noWrap&quot;: false, &quot;opacity&quot;: 1, &quot;subdomains&quot;: &quot;abc&quot;, &quot;tms&quot;: false}\n",
       "            ).addTo(map_15cadc3cd581a549ee72af24d32124fd);\n",
       "        \n",
       "    \n",
       "            L.control.fullscreen(\n",
       "                {&quot;forceSeparateButton&quot;: false, &quot;position&quot;: &quot;topleft&quot;, &quot;title&quot;: &quot;Full Screen&quot;, &quot;titleCancel&quot;: &quot;Exit Full Screen&quot;}\n",
       "            ).addTo(map_15cadc3cd581a549ee72af24d32124fd);\n",
       "        \n",
       "    \n",
       "            var options = {\n",
       "              position: &quot;topleft&quot;,\n",
       "              draw: {},\n",
       "              edit: {},\n",
       "            }\n",
       "            // FeatureGroup is to store editable layers.\n",
       "            var drawnItems = new L.featureGroup().addTo(\n",
       "                map_15cadc3cd581a549ee72af24d32124fd\n",
       "            );\n",
       "            options.edit.featureGroup = drawnItems;\n",
       "            var draw_control_3dbbd98b9debc5ad1ac617d42267b824 = new L.Control.Draw(\n",
       "                options\n",
       "            ).addTo( map_15cadc3cd581a549ee72af24d32124fd );\n",
       "            map_15cadc3cd581a549ee72af24d32124fd.on(L.Draw.Event.CREATED, function(e) {\n",
       "                var layer = e.layer,\n",
       "                    type = e.layerType;\n",
       "                var coords = JSON.stringify(layer.toGeoJSON());\n",
       "                layer.on(&#x27;click&#x27;, function() {\n",
       "                    alert(coords);\n",
       "                    console.log(coords);\n",
       "                });\n",
       "                drawnItems.addLayer(layer);\n",
       "             });\n",
       "            map_15cadc3cd581a549ee72af24d32124fd.on(&#x27;draw:created&#x27;, function(e) {\n",
       "                drawnItems.addLayer(e.layer);\n",
       "            });\n",
       "            \n",
       "        \n",
       "    \n",
       "            L.Control.geocoder(\n",
       "                {&quot;collapsed&quot;: true, &quot;defaultMarkGeocode&quot;: true, &quot;position&quot;: &quot;topleft&quot;}\n",
       "            ).on(&#x27;markgeocode&#x27;, function(e) {\n",
       "                map_15cadc3cd581a549ee72af24d32124fd.setView(e.geocode.center, 11);\n",
       "            }).addTo(map_15cadc3cd581a549ee72af24d32124fd);\n",
       "\n",
       "        \n",
       "    \n",
       "            map_15cadc3cd581a549ee72af24d32124fd.fitBounds(\n",
       "                [[49.8063, -95.2098], [49.8063, -95.2098]],\n",
       "                {&quot;maxZoom&quot;: 15}\n",
       "            );\n",
       "        \n",
       "    \n",
       "            var tile_layer_e34855d2c8961d866fa407dce90d88b5 = L.tileLayer(\n",
       "                &quot;https://mt1.google.com/vt/lyrs=s\\u0026x={x}\\u0026y={y}\\u0026z={z}&quot;,\n",
       "                {&quot;attribution&quot;: &quot;Google&quot;, &quot;detectRetina&quot;: false, &quot;maxNativeZoom&quot;: 22, &quot;maxZoom&quot;: 22, &quot;minZoom&quot;: 0, &quot;noWrap&quot;: false, &quot;opacity&quot;: 1, &quot;subdomains&quot;: &quot;abc&quot;, &quot;tms&quot;: false}\n",
       "            ).addTo(map_15cadc3cd581a549ee72af24d32124fd);\n",
       "        \n",
       "    \n",
       "            var tile_layer_7ed2d1271998d2dd783ab554d355777f = L.tileLayer(\n",
       "                &quot;Google Maps&quot;,\n",
       "                {&quot;attribution&quot;: &quot; &quot;, &quot;detectRetina&quot;: false, &quot;layerName&quot;: &quot;Right Layer&quot;, &quot;maxNativeZoom&quot;: 100, &quot;maxZoom&quot;: 100, &quot;minZoom&quot;: 0, &quot;noWrap&quot;: false, &quot;opacity&quot;: 1, &quot;subdomains&quot;: &quot;abc&quot;, &quot;tms&quot;: false}\n",
       "            ).addTo(map_15cadc3cd581a549ee72af24d32124fd);\n",
       "        \n",
       "    \n",
       "            var side_by_side_layers_6dd70d4f90c20ae3f3f79df8cedddd2c = L.control.sideBySide(\n",
       "                tile_layer_e34855d2c8961d866fa407dce90d88b5, tile_layer_7ed2d1271998d2dd783ab554d355777f\n",
       "            ).addTo(map_15cadc3cd581a549ee72af24d32124fd);\n",
       "        \n",
       "    \n",
       "            var layer_control_fdca5b2a0cd0eff5d552f77d889e03b4 = {\n",
       "                base_layers : {\n",
       "                    &quot;openstreetmap&quot; : tile_layer_e55d5ccfd0e382d269d733c643a746fa,\n",
       "                },\n",
       "                overlays :  {\n",
       "                    &quot;Google Maps&quot; : tile_layer_5b3fdc30c014f045638e0cc963a7937f,\n",
       "                    &quot;Google Satellite&quot; : tile_layer_e34855d2c8961d866fa407dce90d88b5,\n",
       "                    &quot;Right Layer&quot; : tile_layer_7ed2d1271998d2dd783ab554d355777f,\n",
       "                },\n",
       "            };\n",
       "            L.control.layers(\n",
       "                layer_control_fdca5b2a0cd0eff5d552f77d889e03b4.base_layers,\n",
       "                layer_control_fdca5b2a0cd0eff5d552f77d889e03b4.overlays,\n",
       "                {&quot;autoZIndex&quot;: true, &quot;collapsed&quot;: true, &quot;position&quot;: &quot;topright&quot;}\n",
       "            ).addTo(map_15cadc3cd581a549ee72af24d32124fd);\n",
       "        \n",
       "&lt;/script&gt;\n",
       "&lt;/html&gt;\" width=\"100%\" height=\"600\"style=\"border:none !important;\" \"allowfullscreen\" \"webkitallowfullscreen\" \"mozallowfullscreen\"></iframe>"
      ],
      "text/plain": [
       "<geemap.foliumap.Map at 0x2d30efd6b20>"
      ]
     },
     "execution_count": 16,
     "metadata": {},
     "output_type": "execute_result"
    }
   ],
   "source": [
    "# Make split view map half Satellite and half goole maps (Caddy Lake)\n",
    "\n",
    "Caddy_split_roi = geemap.Map(location=[49.8063, -95.2098], zoom_start=15)\n",
    "Caddy_split_roi.add_basemap('SATELLITE')\n",
    "# split_roi.add_basemap('USGS NAIP Imagery False Color') # Missing for Canada\n",
    "# Map.add_basemap('USGS NAIP Imagery NDVI')\n",
    "\n",
    "Caddy_split_roi.split_map(left_layer='SATELLITE',\n",
    "                    right_layer='Google Maps')\n",
    "\n",
    "Caddy_split_roi"
   ]
  },
  {
   "cell_type": "markdown",
   "id": "d7a5f919",
   "metadata": {},
   "source": [
    "#### <center>Split map of Big Sur landslide location</center>"
   ]
  },
  {
   "cell_type": "code",
   "execution_count": 17,
   "id": "0153bc67",
   "metadata": {
    "ExecuteTime": {
     "end_time": "2023-08-23T16:03:12.184124Z",
     "start_time": "2023-08-23T16:03:12.155479Z"
    },
    "tags": [
     "remove_input"
    ]
   },
   "outputs": [
    {
     "data": {
      "text/html": [
       "<iframe srcdoc=\"&lt;!DOCTYPE html&gt;\n",
       "&lt;html&gt;\n",
       "&lt;head&gt;\n",
       "    \n",
       "    &lt;meta http-equiv=&quot;content-type&quot; content=&quot;text/html; charset=UTF-8&quot; /&gt;\n",
       "    \n",
       "        &lt;script&gt;\n",
       "            L_NO_TOUCH = false;\n",
       "            L_DISABLE_3D = false;\n",
       "        &lt;/script&gt;\n",
       "    \n",
       "    &lt;style&gt;html, body {width: 100%;height: 100%;margin: 0;padding: 0;}&lt;/style&gt;\n",
       "    &lt;style&gt;#map {position:absolute;top:0;bottom:0;right:0;left:0;}&lt;/style&gt;\n",
       "    &lt;script src=&quot;https://cdn.jsdelivr.net/npm/leaflet@1.9.3/dist/leaflet.js&quot;&gt;&lt;/script&gt;\n",
       "    &lt;script src=&quot;https://code.jquery.com/jquery-1.12.4.min.js&quot;&gt;&lt;/script&gt;\n",
       "    &lt;script src=&quot;https://cdn.jsdelivr.net/npm/bootstrap@5.2.2/dist/js/bootstrap.bundle.min.js&quot;&gt;&lt;/script&gt;\n",
       "    &lt;script src=&quot;https://cdnjs.cloudflare.com/ajax/libs/Leaflet.awesome-markers/2.0.2/leaflet.awesome-markers.js&quot;&gt;&lt;/script&gt;\n",
       "    &lt;link rel=&quot;stylesheet&quot; href=&quot;https://cdn.jsdelivr.net/npm/leaflet@1.9.3/dist/leaflet.css&quot;/&gt;\n",
       "    &lt;link rel=&quot;stylesheet&quot; href=&quot;https://cdn.jsdelivr.net/npm/bootstrap@5.2.2/dist/css/bootstrap.min.css&quot;/&gt;\n",
       "    &lt;link rel=&quot;stylesheet&quot; href=&quot;https://netdna.bootstrapcdn.com/bootstrap/3.0.0/css/bootstrap.min.css&quot;/&gt;\n",
       "    &lt;link rel=&quot;stylesheet&quot; href=&quot;https://cdn.jsdelivr.net/npm/@fortawesome/fontawesome-free@6.2.0/css/all.min.css&quot;/&gt;\n",
       "    &lt;link rel=&quot;stylesheet&quot; href=&quot;https://cdnjs.cloudflare.com/ajax/libs/Leaflet.awesome-markers/2.0.2/leaflet.awesome-markers.css&quot;/&gt;\n",
       "    &lt;link rel=&quot;stylesheet&quot; href=&quot;https://cdn.jsdelivr.net/gh/python-visualization/folium/folium/templates/leaflet.awesome.rotate.min.css&quot;/&gt;\n",
       "    \n",
       "            &lt;meta name=&quot;viewport&quot; content=&quot;width=device-width,\n",
       "                initial-scale=1.0, maximum-scale=1.0, user-scalable=no&quot; /&gt;\n",
       "            &lt;style&gt;\n",
       "                #map_5adafdb21fdf1bcf71dbfd2116a4a1d1 {\n",
       "                    position: relative;\n",
       "                    width: 100.0%;\n",
       "                    height: 100.0%;\n",
       "                    left: 0.0%;\n",
       "                    top: 0.0%;\n",
       "                }\n",
       "                .leaflet-container { font-size: 1rem; }\n",
       "            &lt;/style&gt;\n",
       "        \n",
       "    &lt;script src=&quot;https://cdnjs.cloudflare.com/ajax/libs/leaflet.fullscreen/1.4.2/Control.FullScreen.min.js&quot;&gt;&lt;/script&gt;\n",
       "    &lt;link rel=&quot;stylesheet&quot; href=&quot;https://cdnjs.cloudflare.com/ajax/libs/leaflet.fullscreen/1.4.2/Control.FullScreen.min.css&quot;/&gt;\n",
       "    &lt;script src=&quot;https://cdnjs.cloudflare.com/ajax/libs/leaflet.draw/1.0.2/leaflet.draw.js&quot;&gt;&lt;/script&gt;\n",
       "    &lt;link rel=&quot;stylesheet&quot; href=&quot;https://cdnjs.cloudflare.com/ajax/libs/leaflet.draw/1.0.2/leaflet.draw.css&quot;/&gt;\n",
       "    &lt;script src=&quot;https://unpkg.com/leaflet-control-geocoder/dist/Control.Geocoder.js&quot;&gt;&lt;/script&gt;\n",
       "    &lt;link rel=&quot;stylesheet&quot; href=&quot;https://unpkg.com/leaflet-control-geocoder/dist/Control.Geocoder.css&quot;/&gt;\n",
       "    &lt;script src=&quot;https://cdn.jsdelivr.net/gh/digidem/leaflet-side-by-side@gh-pages/leaflet-side-by-side.min.js&quot;&gt;&lt;/script&gt;\n",
       "&lt;/head&gt;\n",
       "&lt;body&gt;\n",
       "    \n",
       "    \n",
       "            &lt;div class=&quot;folium-map&quot; id=&quot;map_5adafdb21fdf1bcf71dbfd2116a4a1d1&quot; &gt;&lt;/div&gt;\n",
       "        \n",
       "&lt;/body&gt;\n",
       "&lt;script&gt;\n",
       "    \n",
       "    \n",
       "            var map_5adafdb21fdf1bcf71dbfd2116a4a1d1 = L.map(\n",
       "                &quot;map_5adafdb21fdf1bcf71dbfd2116a4a1d1&quot;,\n",
       "                {\n",
       "                    center: [35.8656, -121.4329],\n",
       "                    crs: L.CRS.EPSG3857,\n",
       "                    zoom: 15,\n",
       "                    zoomControl: true,\n",
       "                    preferCanvas: false,\n",
       "                    eeInitialize: true,\n",
       "                    addGoogleMap: true,\n",
       "                    pluginLatlngpopup: false,\n",
       "                    pluginFullscreen: true,\n",
       "                    pluginDraw: true,\n",
       "                    DrawExport: false,\n",
       "                    pluginMinimap: false,\n",
       "                    locateControl: false,\n",
       "                    searchControl: true,\n",
       "                    layersControl: true,\n",
       "                }\n",
       "            );\n",
       "\n",
       "            \n",
       "\n",
       "        \n",
       "    \n",
       "            var tile_layer_9f1512f027e5882b55fb7e5e1a9c2e5e = L.tileLayer(\n",
       "                &quot;https://{s}.tile.openstreetmap.org/{z}/{x}/{y}.png&quot;,\n",
       "                {&quot;attribution&quot;: &quot;Data by \\u0026copy; \\u003ca target=\\&quot;_blank\\&quot; href=\\&quot;http://openstreetmap.org\\&quot;\\u003eOpenStreetMap\\u003c/a\\u003e, under \\u003ca target=\\&quot;_blank\\&quot; href=\\&quot;http://www.openstreetmap.org/copyright\\&quot;\\u003eODbL\\u003c/a\\u003e.&quot;, &quot;detectRetina&quot;: false, &quot;maxNativeZoom&quot;: 30, &quot;maxZoom&quot;: 30, &quot;minZoom&quot;: 0, &quot;noWrap&quot;: false, &quot;opacity&quot;: 1, &quot;subdomains&quot;: &quot;abc&quot;, &quot;tms&quot;: false}\n",
       "            ).addTo(map_5adafdb21fdf1bcf71dbfd2116a4a1d1);\n",
       "        \n",
       "    \n",
       "            var tile_layer_5b3fdc30c014f045638e0cc963a7937f = L.tileLayer(\n",
       "                &quot;https://mt1.google.com/vt/lyrs=m\\u0026x={x}\\u0026y={y}\\u0026z={z}&quot;,\n",
       "                {&quot;attribution&quot;: &quot;Google&quot;, &quot;detectRetina&quot;: false, &quot;maxNativeZoom&quot;: 22, &quot;maxZoom&quot;: 22, &quot;minZoom&quot;: 0, &quot;noWrap&quot;: false, &quot;opacity&quot;: 1, &quot;subdomains&quot;: &quot;abc&quot;, &quot;tms&quot;: false}\n",
       "            ).addTo(map_5adafdb21fdf1bcf71dbfd2116a4a1d1);\n",
       "        \n",
       "    \n",
       "            L.control.fullscreen(\n",
       "                {&quot;forceSeparateButton&quot;: false, &quot;position&quot;: &quot;topleft&quot;, &quot;title&quot;: &quot;Full Screen&quot;, &quot;titleCancel&quot;: &quot;Exit Full Screen&quot;}\n",
       "            ).addTo(map_5adafdb21fdf1bcf71dbfd2116a4a1d1);\n",
       "        \n",
       "    \n",
       "            var options = {\n",
       "              position: &quot;topleft&quot;,\n",
       "              draw: {},\n",
       "              edit: {},\n",
       "            }\n",
       "            // FeatureGroup is to store editable layers.\n",
       "            var drawnItems = new L.featureGroup().addTo(\n",
       "                map_5adafdb21fdf1bcf71dbfd2116a4a1d1\n",
       "            );\n",
       "            options.edit.featureGroup = drawnItems;\n",
       "            var draw_control_c9798277c0aa4e7dd57e924443f8970f = new L.Control.Draw(\n",
       "                options\n",
       "            ).addTo( map_5adafdb21fdf1bcf71dbfd2116a4a1d1 );\n",
       "            map_5adafdb21fdf1bcf71dbfd2116a4a1d1.on(L.Draw.Event.CREATED, function(e) {\n",
       "                var layer = e.layer,\n",
       "                    type = e.layerType;\n",
       "                var coords = JSON.stringify(layer.toGeoJSON());\n",
       "                layer.on(&#x27;click&#x27;, function() {\n",
       "                    alert(coords);\n",
       "                    console.log(coords);\n",
       "                });\n",
       "                drawnItems.addLayer(layer);\n",
       "             });\n",
       "            map_5adafdb21fdf1bcf71dbfd2116a4a1d1.on(&#x27;draw:created&#x27;, function(e) {\n",
       "                drawnItems.addLayer(e.layer);\n",
       "            });\n",
       "            \n",
       "        \n",
       "    \n",
       "            L.Control.geocoder(\n",
       "                {&quot;collapsed&quot;: true, &quot;defaultMarkGeocode&quot;: true, &quot;position&quot;: &quot;topleft&quot;}\n",
       "            ).on(&#x27;markgeocode&#x27;, function(e) {\n",
       "                map_5adafdb21fdf1bcf71dbfd2116a4a1d1.setView(e.geocode.center, 11);\n",
       "            }).addTo(map_5adafdb21fdf1bcf71dbfd2116a4a1d1);\n",
       "\n",
       "        \n",
       "    \n",
       "            map_5adafdb21fdf1bcf71dbfd2116a4a1d1.fitBounds(\n",
       "                [[35.8656, -121.4329], [35.8656, -121.4329]],\n",
       "                {&quot;maxZoom&quot;: 15}\n",
       "            );\n",
       "        \n",
       "    \n",
       "            var tile_layer_e34855d2c8961d866fa407dce90d88b5 = L.tileLayer(\n",
       "                &quot;https://mt1.google.com/vt/lyrs=s\\u0026x={x}\\u0026y={y}\\u0026z={z}&quot;,\n",
       "                {&quot;attribution&quot;: &quot;Google&quot;, &quot;detectRetina&quot;: false, &quot;maxNativeZoom&quot;: 22, &quot;maxZoom&quot;: 22, &quot;minZoom&quot;: 0, &quot;noWrap&quot;: false, &quot;opacity&quot;: 1, &quot;subdomains&quot;: &quot;abc&quot;, &quot;tms&quot;: false}\n",
       "            ).addTo(map_5adafdb21fdf1bcf71dbfd2116a4a1d1);\n",
       "        \n",
       "    \n",
       "            var macro_element_2ecd9d5a7bcf030d9696aedffd3f5c88 = L.tileLayer.wms(\n",
       "                &quot;https://imagery.nationalmap.gov/arcgis/services/USGSNAIPImagery/ImageServer/WMSServer?&quot;,\n",
       "                {&quot;attribution&quot;: &quot;USGS&quot;, &quot;format&quot;: &quot;image/png&quot;, &quot;layers&quot;: &quot;USGSNAIPImagery:FalseColorComposite&quot;, &quot;styles&quot;: &quot;&quot;, &quot;transparent&quot;: true, &quot;version&quot;: &quot;1.1.1&quot;}\n",
       "            ).addTo(map_5adafdb21fdf1bcf71dbfd2116a4a1d1);\n",
       "        \n",
       "    \n",
       "            var side_by_side_layers_dca20a319a303b6c6ca6ec9917035844 = L.control.sideBySide(\n",
       "                tile_layer_e34855d2c8961d866fa407dce90d88b5, macro_element_2ecd9d5a7bcf030d9696aedffd3f5c88\n",
       "            ).addTo(map_5adafdb21fdf1bcf71dbfd2116a4a1d1);\n",
       "        \n",
       "    \n",
       "            var layer_control_ab011c81a6fa168323742e8753587d71 = {\n",
       "                base_layers : {\n",
       "                    &quot;openstreetmap&quot; : tile_layer_9f1512f027e5882b55fb7e5e1a9c2e5e,\n",
       "                },\n",
       "                overlays :  {\n",
       "                    &quot;Google Maps&quot; : tile_layer_5b3fdc30c014f045638e0cc963a7937f,\n",
       "                    &quot;Google Satellite&quot; : tile_layer_e34855d2c8961d866fa407dce90d88b5,\n",
       "                    &quot;USGS NAIP Imagery False Color&quot; : macro_element_2ecd9d5a7bcf030d9696aedffd3f5c88,\n",
       "                },\n",
       "            };\n",
       "            L.control.layers(\n",
       "                layer_control_ab011c81a6fa168323742e8753587d71.base_layers,\n",
       "                layer_control_ab011c81a6fa168323742e8753587d71.overlays,\n",
       "                {&quot;autoZIndex&quot;: true, &quot;collapsed&quot;: true, &quot;position&quot;: &quot;topright&quot;}\n",
       "            ).addTo(map_5adafdb21fdf1bcf71dbfd2116a4a1d1);\n",
       "        \n",
       "&lt;/script&gt;\n",
       "&lt;/html&gt;\" width=\"100%\" height=\"600\"style=\"border:none !important;\" \"allowfullscreen\" \"webkitallowfullscreen\" \"mozallowfullscreen\"></iframe>"
      ],
      "text/plain": [
       "<geemap.foliumap.Map at 0x2d30efed910>"
      ]
     },
     "execution_count": 17,
     "metadata": {},
     "output_type": "execute_result"
    }
   ],
   "source": [
    "# Make split view map half Satellite and half NAIP Imagery False Color (Big Sur)\n",
    "\n",
    "Big_Sur_split_roi = geemap.Map(location=[35.8656, -121.4329], zoom_start=15)\n",
    "Big_Sur_split_roi.add_basemap('SATELLITE')\n",
    "Big_Sur_split_roi.add_basemap('USGS NAIP Imagery False Color')\n",
    "# Map.add_basemap('USGS NAIP Imagery NDVI')\n",
    "\n",
    "Big_Sur_split_roi.split_map(left_layer='SATELLITE',\n",
    "                    right_layer='USGS NAIP Imagery False Color')\n",
    "\n",
    "Big_Sur_split_roi"
   ]
  },
  {
   "cell_type": "markdown",
   "id": "6950ef1c",
   "metadata": {},
   "source": [
    "## An introduction to Sentinel 1 and Sentinel 2 imagery\n",
    "\n",
    "Sentinel-1 and Sentinel-2 play pivotal roles within the Copernicus program initiated by the European Space Agency, contributing essential data for diverse Earth observation applications. Sentinel-1, functioning as a Synthetic Aperture Radar, delivers all-weather surveillance and monitoring capabilities by transmitting radar signals and capturing their reflections. This unique capacity permits the observation of Earth's surface regardless of cloud cover or daylight conditions, proving especially valuable for precise monitoring of ground shifts and changes such as deforestation. \n",
    "In contrast, Sentinel-2 employs multispectral sensors to capture intricate imagery of terrestrial and coastal regions. With the capability to collect data across 13 distinct spectral bands, Sentinel-2 is instrumental in monitoring factors such as vegetation health, alterations in land cover, urban growth, and disaster assessment."
   ]
  },
  {
   "cell_type": "markdown",
   "id": "5f4d11aa",
   "metadata": {
    "ExecuteTime": {
     "end_time": "2023-05-01T01:36:00.322167Z",
     "start_time": "2023-05-01T01:36:00.304481Z"
    },
    "tags": [
     "remove_cell"
    ]
   },
   "source": [
    "## SAR Data avalability\n",
    "#### Caddy Lake Landslide"
   ]
  },
  {
   "cell_type": "code",
   "execution_count": 18,
   "id": "8ff4260d",
   "metadata": {
    "ExecuteTime": {
     "end_time": "2023-08-23T16:03:12.836392Z",
     "start_time": "2023-08-23T16:03:12.185531Z"
    },
    "tags": [
     "remove_cell"
    ]
   },
   "outputs": [
    {
     "name": "stdout",
     "output_type": "stream",
     "text": [
      "Sentinel-1 image data range is between 2015-12-28 and 2016-12-22.\n"
     ]
    }
   ],
   "source": [
    "def Caddy_sentinel_1_availability(Caddy_event_date):\n",
    "    start_date = ee.Date(Caddy_event_date).advance(-180, 'days')\n",
    "    end_date = ee.Date(Caddy_event_date).advance(180, 'days')\n",
    "\n",
    "    Caddy_availability = \"Sentinel-1 image data range is between {} and {}.\".format(\n",
    "        start_date.format('YYYY-MM-dd').getInfo(),\n",
    "        end_date.format('YYYY-MM-dd').getInfo()\n",
    "    )\n",
    "    \n",
    "    return Caddy_availability\n",
    "\n",
    "# Define the event date\n",
    "Caddy_event_date = '2016-06-25'\n",
    "\n",
    "Caddy_availability = Caddy_sentinel_1_availability(Caddy_event_date)\n",
    "print(Caddy_availability)"
   ]
  },
  {
   "cell_type": "code",
   "execution_count": 19,
   "id": "5bf349eb",
   "metadata": {
    "ExecuteTime": {
     "end_time": "2023-08-23T16:03:13.160728Z",
     "start_time": "2023-08-23T16:03:12.839654Z"
    },
    "tags": [
     "remove_cell"
    ]
   },
   "outputs": [
    {
     "name": "stdout",
     "output_type": "stream",
     "text": [
      "Bounding box coordinates:  [[-95.2167, 49.8018], [-95.2029, 49.8018], [-95.2029, 49.8108], [-95.2167, 49.8108], [-95.2167, 49.8018]]\n",
      "AOI successfully created.\n"
     ]
    }
   ],
   "source": [
    "def create_Caddy_aoi(Caddy_center_coordinates, width):\n",
    "    try:\n",
    "        # Define the center point of the region of interest\n",
    "        center_point = ee.Geometry.Point(Caddy_center_coordinates)\n",
    "\n",
    "        # Create an EE AOI using the center coordinates and dimensions\n",
    "        Caddy_aoi = center_point.buffer(width / 2).bounds()\n",
    "\n",
    "        # Print the bounding box coordinates with four decimal places\n",
    "        coords = [[round(x, 4) for x in coord] for coord in Caddy_aoi.\n",
    "                  coordinates().getInfo()[0]]\n",
    "        print(\"Bounding box coordinates: \", coords)\n",
    "\n",
    "        return Caddy_aoi\n",
    "    except Exception:\n",
    "        print(\"An error occurred while creating the AOI.\")\n",
    "        return None\n",
    "\n",
    "# Define the center coordinates of the region of interest\n",
    "Caddy_center_coordinates = [-95.2098, 49.8063]\n",
    "width = 1000\n",
    "\n",
    "# Create the AOI using the create_Caddy_aoi function\n",
    "Caddy_aoi = create_Caddy_aoi(Caddy_center_coordinates, width)\n",
    "\n",
    "if Caddy_aoi is not None:\n",
    "    print(\"AOI successfully created.\")\n",
    "else:\n",
    "    print(\"Failed to create AOI. Check the input values and try again.\")"
   ]
  },
  {
   "cell_type": "markdown",
   "id": "18a1c37d",
   "metadata": {
    "tags": [
     "remove_cell"
    ]
   },
   "source": [
    "#### Big Sur Landslide"
   ]
  },
  {
   "cell_type": "code",
   "execution_count": 20,
   "id": "50f87e2c",
   "metadata": {
    "ExecuteTime": {
     "end_time": "2023-08-23T16:03:13.781330Z",
     "start_time": "2023-08-23T16:03:13.162967Z"
    },
    "tags": [
     "remove_cell"
    ]
   },
   "outputs": [
    {
     "name": "stdout",
     "output_type": "stream",
     "text": [
      "Big_Sur_Sentinel-1 image data range is between 2016-11-21 and 2017-11-16.\n"
     ]
    }
   ],
   "source": [
    "def Big_Sur_sentinel_1_availability(Big_Sur_event_date):\n",
    "    start_date = ee.Date(Big_Sur_event_date).advance(-180, 'days')\n",
    "    end_date = ee.Date(Big_Sur_event_date).advance(180, 'days')\n",
    "\n",
    "    Big_Sur_availability = \"Big_Sur_Sentinel-1 image data range is between {} and {}.\".format(\n",
    "        start_date.format('YYYY-MM-dd').getInfo(),\n",
    "        end_date.format('YYYY-MM-dd').getInfo()\n",
    "    )\n",
    "    \n",
    "    return Big_Sur_availability\n",
    "\n",
    "# Define the event date\n",
    "Big_Sur_event_date = '2017-05-20'\n",
    "\n",
    "Big_Sur_availability = Big_Sur_sentinel_1_availability(Big_Sur_event_date)\n",
    "print(Big_Sur_availability)"
   ]
  },
  {
   "cell_type": "code",
   "execution_count": 21,
   "id": "9706d4b2",
   "metadata": {
    "ExecuteTime": {
     "end_time": "2023-08-23T16:03:14.093229Z",
     "start_time": "2023-08-23T16:03:13.782997Z"
    },
    "tags": [
     "remove_cell"
    ]
   },
   "outputs": [
    {
     "name": "stdout",
     "output_type": "stream",
     "text": [
      "Bounding box coordinates:  [[-121.4384, 35.8611], [-121.4274, 35.8611], [-121.4274, 35.8701], [-121.4384, 35.8701], [-121.4384, 35.8611]]\n",
      "AOI successfully created.\n"
     ]
    }
   ],
   "source": [
    "def create_Big_Sur_aoi(Big_Sur_center_coordinates, width):\n",
    "    try:\n",
    "        # Define the center point of the region of interest\n",
    "        center_point = ee.Geometry.Point(Big_Sur_center_coordinates)\n",
    "\n",
    "        # Create an EE AOI using the center coordinates and dimensions\n",
    "        Big_Sur_aoi = center_point.buffer(width / 2).bounds()\n",
    "\n",
    "        # Print the bounding box coordinates with four decimal places\n",
    "        coords = [[round(x, 4) for x in coord] for coord in Big_Sur_aoi.\n",
    "                  coordinates().getInfo()[0]]\n",
    "        print(\"Bounding box coordinates: \", coords)\n",
    "\n",
    "        return Big_Sur_aoi\n",
    "    except Exception:\n",
    "        print(\"An error occurred while creating the AOI.\")\n",
    "        return None\n",
    "\n",
    "# Define the center coordinates of the region of interest\n",
    "Big_Sur_center_coordinates = [-121.4329, 35.8656]\n",
    "width = 1000\n",
    "\n",
    "# Create the AOI using the create_Big_Sur_aoi function\n",
    "Big_Sur_aoi = create_Big_Sur_aoi(Big_Sur_center_coordinates, width)\n",
    "\n",
    "if Big_Sur_aoi is not None:\n",
    "    print(\"AOI successfully created.\")\n",
    "else:\n",
    "    print(\"Failed to create AOI. Check the input values and try again.\")"
   ]
  },
  {
   "cell_type": "markdown",
   "id": "c25b9d61",
   "metadata": {
    "ExecuteTime": {
     "end_time": "2023-04-16T03:22:26.288319Z",
     "start_time": "2023-04-16T03:22:26.281429Z"
    }
   },
   "source": [
    "## Collecting and analyzing SAR images (Sentinel 1)\n",
    "We retrieved times series of SAR (Sentinel-1) satellite imagery within a time span of 180 days before and after the event dates to monitor pre- and post- event changes containing 27 and 31 images, respectively, for Caddy Lake and Big Sur locations. By analyzing the time series data, we have the capability to generate change maps, in which the land changes are represented by the red areas in the maps presented below."
   ]
  },
  {
   "cell_type": "code",
   "execution_count": 22,
   "id": "015caa30",
   "metadata": {
    "ExecuteTime": {
     "end_time": "2023-08-23T16:03:15.152439Z",
     "start_time": "2023-08-23T16:03:14.095329Z"
    },
    "tags": [
     "remove_cell"
    ]
   },
   "outputs": [
    {
     "name": "stdout",
     "output_type": "stream",
     "text": [
      "The Relative Orbit Number for ROI is: 63\n",
      "The orbitology is: ASCENDING\n",
      "Number of images in the collection: 27\n"
     ]
    }
   ],
   "source": [
    "# Collect and filter Sentinel-1 images by time and region of interest\n",
    "Caddy_start_date = '2015-12-28'\n",
    "Caddy_end_date = '2016-12-22'\n",
    "Caddy_sentinel_1 = (ee.ImageCollection('COPERNICUS/S1_GRD_FLOAT')\n",
    "              .filterBounds(Caddy_aoi)\n",
    "              .filterDate(Caddy_start_date, Caddy_end_date)\n",
    "              .filter(ee.Filter.listContains('transmitterReceiverPolarisation'\n",
    "                                             ,'VV'))\n",
    "              .filter(ee.Filter.listContains('transmitterReceiverPolarisation'\n",
    "                                             ,'VH'))\n",
    "             )\n",
    "\n",
    "Caddy_image_collection = Caddy_sentinel_1.filter(ee.Filter.eq('orbitProperties_pass', \n",
    "                                                  'ASCENDING'))\n",
    "\n",
    "orbit_num = (Caddy_image_collection.aggregate_array('relativeOrbitNumber_start')\n",
    "             .getInfo())\n",
    "look_angle = Caddy_image_collection.aggregate_array('orbitProperties_pass').getInfo()\n",
    "\n",
    "if orbit_num and len(orbit_num) > 0:\n",
    "    orbit_num = orbit_num[0]\n",
    "else:\n",
    "    orbit_num = None\n",
    "\n",
    "if look_angle and len(look_angle) > 0:\n",
    "    look_angle = look_angle[0]\n",
    "else:\n",
    "    look_angle = None\n",
    "\n",
    "if orbit_num is not None and look_angle is not None:\n",
    "    print('The Relative Orbit Number for ROI is:', orbit_num)\n",
    "    print('The orbitology is:', look_angle)\n",
    "    print('Number of images in the collection:', Caddy_image_collection.size().\n",
    "          getInfo())\n",
    "else:\n",
    "    print('No images found in the collection.')"
   ]
  },
  {
   "cell_type": "code",
   "execution_count": 23,
   "id": "81b5910f",
   "metadata": {
    "ExecuteTime": {
     "end_time": "2023-08-23T16:03:15.584325Z",
     "start_time": "2023-08-23T16:03:15.154633Z"
    },
    "tags": [
     "remove_cell"
    ]
   },
   "outputs": [
    {
     "name": "stdout",
     "output_type": "stream",
     "text": [
      "Caddy Lake Landslide timestamp retrieved.\n"
     ]
    },
    {
     "data": {
      "text/plain": [
       "['T20160109',\n",
       " 'T20160527',\n",
       " 'T20160601',\n",
       " 'T20160613',\n",
       " 'T20160707',\n",
       " 'T20160719',\n",
       " 'T20160726',\n",
       " 'T20160731',\n",
       " 'T20160812',\n",
       " 'T20160819',\n",
       " 'T20160824',\n",
       " 'T20160905',\n",
       " 'T20160912',\n",
       " 'T20160924',\n",
       " 'T20160930',\n",
       " 'T20161005',\n",
       " 'T20161012',\n",
       " 'T20161017',\n",
       " 'T20161024',\n",
       " 'T20161029',\n",
       " 'T20161105',\n",
       " 'T20161110',\n",
       " 'T20161117',\n",
       " 'T20161122',\n",
       " 'T20161129',\n",
       " 'T20161204',\n",
       " 'T20161211']"
      ]
     },
     "execution_count": 23,
     "metadata": {},
     "output_type": "execute_result"
    }
   ],
   "source": [
    "# Retrieve acquisition date of each image in the collection as a list\n",
    "Caddy_timestamplist = (Caddy_image_collection.aggregate_array('system:time_start')\n",
    "                 .map(lambda t: ee.String('T').cat(ee.Date(t).format(\n",
    "                     'YYYYMMdd')))\n",
    "                 .getInfo())\n",
    "# Check if timestamplist is not empty before retrieving its values\n",
    "if Caddy_timestamplist:\n",
    "    print(\"Caddy Lake Landslide timestamp retrieved.\")\n",
    "else:\n",
    "    print(\"No timestamps available.\")\n",
    "Caddy_timestamplist"
   ]
  },
  {
   "cell_type": "markdown",
   "id": "4d2d0a50",
   "metadata": {
    "tags": [
     "remove_cell"
    ]
   },
   "source": [
    "#### 2. Big Sur landslide"
   ]
  },
  {
   "cell_type": "code",
   "execution_count": 24,
   "id": "65756b75",
   "metadata": {
    "ExecuteTime": {
     "end_time": "2023-08-23T16:03:16.574275Z",
     "start_time": "2023-08-23T16:03:15.585435Z"
    },
    "tags": [
     "remove_cell"
    ]
   },
   "outputs": [
    {
     "name": "stdout",
     "output_type": "stream",
     "text": [
      "The Relative Orbit Number for ROI is: 35\n",
      "The orbitology is: ASCENDING\n",
      "Number of images in the collection: 31\n"
     ]
    }
   ],
   "source": [
    "# Collect and filter Sentinel-1 images by time and region of interest\n",
    "Big_Sur_start_date = '2016-11-21'\n",
    "Big_Sur_end_date = '2017-11-16'   \n",
    "Big_Sur_sentinel_1 = (ee.ImageCollection('COPERNICUS/S1_GRD_FLOAT')\n",
    "              .filterBounds(Big_Sur_aoi)\n",
    "              .filterDate(Big_Sur_start_date, Big_Sur_end_date)\n",
    "              .filter(ee.Filter.listContains('transmitterReceiverPolarisation'\n",
    "                                             ,'VV'))\n",
    "              .filter(ee.Filter.listContains('transmitterReceiverPolarisation'\n",
    "                                             ,'VH'))\n",
    "             )\n",
    "\n",
    "Big_Sur_image_collection = Big_Sur_sentinel_1.filter(ee.Filter.eq('orbitProperties_pass', \n",
    "                                                  'ASCENDING'))\n",
    "\n",
    "orbit_num = (Big_Sur_image_collection.aggregate_array('relativeOrbitNumber_start')\n",
    "             .getInfo())\n",
    "look_angle = Big_Sur_image_collection.aggregate_array('orbitProperties_pass').getInfo()\n",
    "\n",
    "if orbit_num and len(orbit_num) > 0:\n",
    "    orbit_num = orbit_num[0]\n",
    "else:\n",
    "    orbit_num = None\n",
    "\n",
    "if look_angle and len(look_angle) > 0:\n",
    "    look_angle = look_angle[0]\n",
    "else:\n",
    "    look_angle = None\n",
    "\n",
    "if orbit_num is not None and look_angle is not None:\n",
    "    print('The Relative Orbit Number for ROI is:', orbit_num)\n",
    "    print('The orbitology is:', look_angle)\n",
    "    print('Number of images in the collection:', Big_Sur_image_collection.size().\n",
    "          getInfo())\n",
    "else:\n",
    "    print('No images found in the collection.')"
   ]
  },
  {
   "cell_type": "code",
   "execution_count": 25,
   "id": "131faeb8",
   "metadata": {
    "ExecuteTime": {
     "end_time": "2023-08-23T16:03:16.888685Z",
     "start_time": "2023-08-23T16:03:16.576431Z"
    },
    "tags": [
     "remove_cell"
    ]
   },
   "outputs": [
    {
     "name": "stdout",
     "output_type": "stream",
     "text": [
      "Big Sur Landslide timestamp retrieved.\n"
     ]
    },
    {
     "data": {
      "text/plain": [
       "['T20161208',\n",
       " 'T20170101',\n",
       " 'T20170125',\n",
       " 'T20170206',\n",
       " 'T20161214',\n",
       " 'T20170107',\n",
       " 'T20170119',\n",
       " 'T20170131',\n",
       " 'T20170224',\n",
       " 'T20170308',\n",
       " 'T20170320',\n",
       " 'T20170401',\n",
       " 'T20170413',\n",
       " 'T20170425',\n",
       " 'T20170507',\n",
       " 'T20170519',\n",
       " 'T20170531',\n",
       " 'T20170612',\n",
       " 'T20170624',\n",
       " 'T20170706',\n",
       " 'T20170718',\n",
       " 'T20170730',\n",
       " 'T20170811',\n",
       " 'T20170823',\n",
       " 'T20170904',\n",
       " 'T20170916',\n",
       " 'T20170928',\n",
       " 'T20171010',\n",
       " 'T20171022',\n",
       " 'T20171103',\n",
       " 'T20171115']"
      ]
     },
     "execution_count": 25,
     "metadata": {},
     "output_type": "execute_result"
    }
   ],
   "source": [
    "# Retrieve acquisition date of each image in the collection as a list\n",
    "Big_Sur_timestamplist = (Big_Sur_image_collection.aggregate_array('system:time_start')\n",
    "                 .map(lambda t: ee.String('T').cat(ee.Date(t).format(\n",
    "                     'YYYYMMdd')))\n",
    "                 .getInfo())\n",
    "# Check if timestamplist is not empty before retrieving its values\n",
    "if Big_Sur_timestamplist:\n",
    "    print(\"Big Sur Landslide timestamp retrieved.\")\n",
    "else:\n",
    "    print(\"No timestamps available.\")\n",
    "Big_Sur_timestamplist"
   ]
  },
  {
   "cell_type": "markdown",
   "id": "04f32071",
   "metadata": {
    "tags": [
     "remove_cell"
    ]
   },
   "source": [
    "## Convert and clip Image collection\n",
    "#### Caddy Lake Landslide"
   ]
  },
  {
   "cell_type": "code",
   "execution_count": 26,
   "id": "a9c0888b",
   "metadata": {
    "ExecuteTime": {
     "end_time": "2023-08-23T16:03:18.251816Z",
     "start_time": "2023-08-23T16:03:16.889837Z"
    },
    "tags": [
     "remove_cell"
    ]
   },
   "outputs": [
    {
     "name": "stdout",
     "output_type": "stream",
     "text": [
      "First image band names: ['VV', 'VH', 'angle']\n",
      "List length: 27\n"
     ]
    }
   ],
   "source": [
    "Caddy_im_list = Caddy_image_collection.toList(Caddy_image_collection.size())\n",
    "\n",
    "# clip our list of images to the aoi geometry\n",
    "def Caddy_clip_img(img):\n",
    "    \"\"\"\n",
    "    Clips a list of images to our aoi geometry.\n",
    "\n",
    "    Returns\n",
    "    -------\n",
    "    list\n",
    "        clipped images to aoi\n",
    "\n",
    "    \"\"\"\n",
    "    return ee.Image(img).clip(Caddy_aoi)\n",
    "\n",
    "Caddy_im_list = ee.List(Caddy_im_list.map(Caddy_clip_img))\n",
    "Caddy_im_list.get(0)\n",
    "ee.Image(Caddy_im_list.get(0)).bandNames().getInfo()\n",
    "# Caddy_im_list.length().getInfo()\n",
    "\n",
    "if Caddy_im_list.size().getInfo() > 0:\n",
    "    first_image = ee.Image(Caddy_im_list.get(0))\n",
    "    band_names = first_image.bandNames().getInfo()\n",
    "    list_length = Caddy_im_list.length().getInfo()\n",
    "\n",
    "    print(\"First image band names:\", band_names)\n",
    "    print(\"List length:\", list_length)\n",
    "else:\n",
    "    print(\"No images available in the list.\")"
   ]
  },
  {
   "cell_type": "markdown",
   "id": "fdc1eca7",
   "metadata": {
    "tags": [
     "remove_cell"
    ]
   },
   "source": [
    "#### Big Sur Landslide"
   ]
  },
  {
   "cell_type": "code",
   "execution_count": 27,
   "id": "69006f94",
   "metadata": {
    "ExecuteTime": {
     "end_time": "2023-08-23T16:03:19.640884Z",
     "start_time": "2023-08-23T16:03:18.257620Z"
    },
    "tags": [
     "remove_cell"
    ]
   },
   "outputs": [
    {
     "name": "stdout",
     "output_type": "stream",
     "text": [
      "First image band names: ['VV', 'VH', 'angle']\n",
      "List length: 31\n"
     ]
    }
   ],
   "source": [
    "Big_Sur_im_list = Big_Sur_image_collection.toList(Big_Sur_image_collection.size())\n",
    "\n",
    "# clip our list of images to the aoi geometry\n",
    "def Big_Sur_clip_img(img):\n",
    "    \"\"\"\n",
    "    Clips a list of images to our aoi geometry.\n",
    "\n",
    "    Returns\n",
    "    -------\n",
    "    list\n",
    "        clipped images to aoi\n",
    "\n",
    "    \"\"\"\n",
    "    return ee.Image(img).clip(Big_Sur_aoi)\n",
    "\n",
    "Big_Sur_im_list = ee.List(Big_Sur_im_list.map(Big_Sur_clip_img))\n",
    "Big_Sur_im_list.get(0)\n",
    "ee.Image(Big_Sur_im_list.get(0)).bandNames().getInfo()\n",
    "# Big_Sur_im_list.length().getInfo()\n",
    "\n",
    "if Big_Sur_im_list.size().getInfo() > 0:\n",
    "    first_image = ee.Image(Big_Sur_im_list.get(0))\n",
    "    band_names = first_image.bandNames().getInfo()\n",
    "    list_length = Big_Sur_im_list.length().getInfo()\n",
    "\n",
    "    print(\"First image band names:\", band_names)\n",
    "    print(\"List length:\", list_length)\n",
    "else:\n",
    "    print(\"No images available in the list.\")"
   ]
  },
  {
   "cell_type": "markdown",
   "id": "648c280d",
   "metadata": {
    "tags": [
     "remove_cell"
    ]
   },
   "source": [
    "## Change detection"
   ]
  },
  {
   "cell_type": "code",
   "execution_count": 28,
   "id": "9d7ef5c1",
   "metadata": {
    "ExecuteTime": {
     "end_time": "2023-08-23T16:03:19.656859Z",
     "start_time": "2023-08-23T16:03:19.643270Z"
    },
    "tags": [
     "remove_cell"
    ]
   },
   "outputs": [],
   "source": [
    "# Add EE drawing method to folium\n",
    "folium.Map.add_ee_layer = add_ee_layer"
   ]
  },
  {
   "cell_type": "markdown",
   "id": "1c199168",
   "metadata": {
    "tags": [
     "remove_cell"
    ]
   },
   "source": [
    "#### Caddy Lake Landslide Change Detection"
   ]
  },
  {
   "cell_type": "code",
   "execution_count": 29,
   "id": "28dde9d9",
   "metadata": {
    "ExecuteTime": {
     "end_time": "2023-08-23T16:03:19.692182Z",
     "start_time": "2023-08-23T16:03:19.658832Z"
    },
    "tags": [
     "remove_cell"
    ]
   },
   "outputs": [],
   "source": [
    "# Create a likelihood ratio test statistic and evaluate it for a list of single polarization images\n",
    "Caddy_vv_list = Caddy_im_list.map(selectvv)"
   ]
  },
  {
   "cell_type": "markdown",
   "id": "4f1c3b6b",
   "metadata": {},
   "source": [
    "#### <center>Change map of Caddy Lake landslide based on Sentinel-1 Image time series six months before and after the event date</center>"
   ]
  },
  {
   "cell_type": "code",
   "execution_count": 30,
   "id": "e5ab7e2a",
   "metadata": {
    "ExecuteTime": {
     "end_time": "2023-08-23T16:03:20.150663Z",
     "start_time": "2023-08-23T16:03:19.693561Z"
    },
    "tags": [
     "remove_input"
    ]
   },
   "outputs": [
    {
     "data": {
      "text/html": [
       "<div style=\"width:100%;\"><div style=\"position:relative;width:100%;height:0;padding-bottom:60%;\"><span style=\"color:#565656\">Make this Notebook Trusted to load map: File -> Trust Notebook</span><iframe srcdoc=\"&lt;!DOCTYPE html&gt;\n",
       "&lt;html&gt;\n",
       "&lt;head&gt;\n",
       "    \n",
       "    &lt;meta http-equiv=&quot;content-type&quot; content=&quot;text/html; charset=UTF-8&quot; /&gt;\n",
       "    \n",
       "        &lt;script&gt;\n",
       "            L_NO_TOUCH = false;\n",
       "            L_DISABLE_3D = false;\n",
       "        &lt;/script&gt;\n",
       "    \n",
       "    &lt;style&gt;html, body {width: 100%;height: 100%;margin: 0;padding: 0;}&lt;/style&gt;\n",
       "    &lt;style&gt;#map {position:absolute;top:0;bottom:0;right:0;left:0;}&lt;/style&gt;\n",
       "    &lt;script src=&quot;https://cdn.jsdelivr.net/npm/leaflet@1.9.3/dist/leaflet.js&quot;&gt;&lt;/script&gt;\n",
       "    &lt;script src=&quot;https://code.jquery.com/jquery-1.12.4.min.js&quot;&gt;&lt;/script&gt;\n",
       "    &lt;script src=&quot;https://cdn.jsdelivr.net/npm/bootstrap@5.2.2/dist/js/bootstrap.bundle.min.js&quot;&gt;&lt;/script&gt;\n",
       "    &lt;script src=&quot;https://cdnjs.cloudflare.com/ajax/libs/Leaflet.awesome-markers/2.0.2/leaflet.awesome-markers.js&quot;&gt;&lt;/script&gt;\n",
       "    &lt;link rel=&quot;stylesheet&quot; href=&quot;https://cdn.jsdelivr.net/npm/leaflet@1.9.3/dist/leaflet.css&quot;/&gt;\n",
       "    &lt;link rel=&quot;stylesheet&quot; href=&quot;https://cdn.jsdelivr.net/npm/bootstrap@5.2.2/dist/css/bootstrap.min.css&quot;/&gt;\n",
       "    &lt;link rel=&quot;stylesheet&quot; href=&quot;https://netdna.bootstrapcdn.com/bootstrap/3.0.0/css/bootstrap.min.css&quot;/&gt;\n",
       "    &lt;link rel=&quot;stylesheet&quot; href=&quot;https://cdn.jsdelivr.net/npm/@fortawesome/fontawesome-free@6.2.0/css/all.min.css&quot;/&gt;\n",
       "    &lt;link rel=&quot;stylesheet&quot; href=&quot;https://cdnjs.cloudflare.com/ajax/libs/Leaflet.awesome-markers/2.0.2/leaflet.awesome-markers.css&quot;/&gt;\n",
       "    &lt;link rel=&quot;stylesheet&quot; href=&quot;https://cdn.jsdelivr.net/gh/python-visualization/folium/folium/templates/leaflet.awesome.rotate.min.css&quot;/&gt;\n",
       "    \n",
       "            &lt;meta name=&quot;viewport&quot; content=&quot;width=device-width,\n",
       "                initial-scale=1.0, maximum-scale=1.0, user-scalable=no&quot; /&gt;\n",
       "            &lt;style&gt;\n",
       "                #map_269d4aa98090b06639bba7b15dbdf08f {\n",
       "                    position: relative;\n",
       "                    width: 100.0%;\n",
       "                    height: 100.0%;\n",
       "                    left: 0.0%;\n",
       "                    top: 0.0%;\n",
       "                }\n",
       "                .leaflet-container { font-size: 1rem; }\n",
       "            &lt;/style&gt;\n",
       "        \n",
       "&lt;/head&gt;\n",
       "&lt;body&gt;\n",
       "    \n",
       "    \n",
       "            &lt;div class=&quot;folium-map&quot; id=&quot;map_269d4aa98090b06639bba7b15dbdf08f&quot; &gt;&lt;/div&gt;\n",
       "        \n",
       "&lt;/body&gt;\n",
       "&lt;script&gt;\n",
       "    \n",
       "    \n",
       "            var map_269d4aa98090b06639bba7b15dbdf08f = L.map(\n",
       "                &quot;map_269d4aa98090b06639bba7b15dbdf08f&quot;,\n",
       "                {\n",
       "                    center: [49.8063, -95.2098],\n",
       "                    crs: L.CRS.EPSG3857,\n",
       "                    zoom: 15,\n",
       "                    zoomControl: true,\n",
       "                    preferCanvas: false,\n",
       "                }\n",
       "            );\n",
       "\n",
       "            \n",
       "\n",
       "        \n",
       "    \n",
       "            var tile_layer_6ef5a50cb982ba99c092ea2ec765095e = L.tileLayer(\n",
       "                &quot;https://{s}.tile.openstreetmap.org/{z}/{x}/{y}.png&quot;,\n",
       "                {&quot;attribution&quot;: &quot;Data by \\u0026copy; \\u003ca target=\\&quot;_blank\\&quot; href=\\&quot;http://openstreetmap.org\\&quot;\\u003eOpenStreetMap\\u003c/a\\u003e, under \\u003ca target=\\&quot;_blank\\&quot; href=\\&quot;http://www.openstreetmap.org/copyright\\&quot;\\u003eODbL\\u003c/a\\u003e.&quot;, &quot;detectRetina&quot;: false, &quot;maxNativeZoom&quot;: 18, &quot;maxZoom&quot;: 18, &quot;minZoom&quot;: 0, &quot;noWrap&quot;: false, &quot;opacity&quot;: 1, &quot;subdomains&quot;: &quot;abc&quot;, &quot;tms&quot;: false}\n",
       "            ).addTo(map_269d4aa98090b06639bba7b15dbdf08f);\n",
       "        \n",
       "    \n",
       "            var tile_layer_0ebf6dd01c7aa929e37d3ba9c57cf925 = L.tileLayer(\n",
       "                &quot;https://earthengine.googleapis.com/v1alpha/projects/earthengine-legacy/maps/abee10fe8d4a50e60200047dd5d31c0b-4122f122f3a6042faf3cb319252aa748/tiles/{z}/{x}/{y}&quot;,\n",
       "                {&quot;attribution&quot;: &quot;Map Data \\u0026copy; \\u003ca href=\\&quot;https://earthengine.google.com/\\&quot;\\u003eGoogle Earth Engine\\u003c/a\\u003e&quot;, &quot;detectRetina&quot;: false, &quot;maxNativeZoom&quot;: 18, &quot;maxZoom&quot;: 18, &quot;minZoom&quot;: 0, &quot;noWrap&quot;: false, &quot;opacity&quot;: 1, &quot;subdomains&quot;: &quot;abc&quot;, &quot;tms&quot;: false}\n",
       "            ).addTo(map_269d4aa98090b06639bba7b15dbdf08f);\n",
       "        \n",
       "    \n",
       "            var layer_control_c5a9a911a1fe00402c76044d60d3b5b9 = {\n",
       "                base_layers : {\n",
       "                    &quot;openstreetmap&quot; : tile_layer_6ef5a50cb982ba99c092ea2ec765095e,\n",
       "                },\n",
       "                overlays :  {\n",
       "                    &quot;Change map&quot; : tile_layer_0ebf6dd01c7aa929e37d3ba9c57cf925,\n",
       "                },\n",
       "            };\n",
       "            L.control.layers(\n",
       "                layer_control_c5a9a911a1fe00402c76044d60d3b5b9.base_layers,\n",
       "                layer_control_c5a9a911a1fe00402c76044d60d3b5b9.overlays,\n",
       "                {&quot;autoZIndex&quot;: true, &quot;collapsed&quot;: true, &quot;position&quot;: &quot;topright&quot;}\n",
       "            ).addTo(map_269d4aa98090b06639bba7b15dbdf08f);\n",
       "        \n",
       "&lt;/script&gt;\n",
       "&lt;/html&gt;\" style=\"position:absolute;width:100%;height:100%;left:0;top:0;border:none !important;\" allowfullscreen webkitallowfullscreen mozallowfullscreen></iframe></div></div>"
      ],
      "text/plain": [
       "<folium.folium.Map at 0x2d30f008610>"
      ]
     },
     "execution_count": 30,
     "metadata": {},
     "output_type": "execute_result"
    }
   ],
   "source": [
    "# Create change map \n",
    "alpha = 0.01\n",
    "location = [49.8063, -95.2098]\n",
    "\n",
    "Caddy_c_map = ee.Image.constant(1).subtract(chi2cdf(omnibus(Caddy_vv_list), \n",
    "                                              len(Caddy_timestamplist)-1))\n",
    "Caddy_c_map = Caddy_c_map.multiply(0).where(Caddy_c_map.lt(alpha), 1)\n",
    "\n",
    "# Display change map\n",
    "mp = folium.Map(location=location, zoom_start=15)\n",
    "mp.add_ee_layer(Caddy_c_map, {'min': 0, 'max': 1, 'palette': ['cyan', 'red']}, \n",
    "                'Change map')\n",
    "\n",
    "# Add layer control\n",
    "mp.add_child(folium.LayerControl())"
   ]
  },
  {
   "cell_type": "markdown",
   "id": "a1a4adbc",
   "metadata": {
    "tags": [
     "remove_cell"
    ]
   },
   "source": [
    "#### Big Sir Landslide Change Detection"
   ]
  },
  {
   "cell_type": "code",
   "execution_count": 31,
   "id": "2e741d06",
   "metadata": {
    "ExecuteTime": {
     "end_time": "2023-08-23T16:03:20.165761Z",
     "start_time": "2023-08-23T16:03:20.150663Z"
    },
    "tags": [
     "remove_cell"
    ]
   },
   "outputs": [],
   "source": [
    "# Create a likelihood ratio test statistic and evaluate it for a list of single polarization images\n",
    "Big_Sur_vv_list = Big_Sur_im_list.map(selectvv)"
   ]
  },
  {
   "cell_type": "markdown",
   "id": "48635318",
   "metadata": {},
   "source": [
    "#### <center>Change map of Big Sur landslide based on Sentinel-1 Image time series six months before and after the event date</center>"
   ]
  },
  {
   "cell_type": "code",
   "execution_count": 32,
   "id": "7bda0705",
   "metadata": {
    "ExecuteTime": {
     "end_time": "2023-08-23T16:03:20.697072Z",
     "start_time": "2023-08-23T16:03:20.168351Z"
    },
    "tags": [
     "remove_input"
    ]
   },
   "outputs": [
    {
     "data": {
      "text/html": [
       "<div style=\"width:100%;\"><div style=\"position:relative;width:100%;height:0;padding-bottom:60%;\"><span style=\"color:#565656\">Make this Notebook Trusted to load map: File -> Trust Notebook</span><iframe srcdoc=\"&lt;!DOCTYPE html&gt;\n",
       "&lt;html&gt;\n",
       "&lt;head&gt;\n",
       "    \n",
       "    &lt;meta http-equiv=&quot;content-type&quot; content=&quot;text/html; charset=UTF-8&quot; /&gt;\n",
       "    \n",
       "        &lt;script&gt;\n",
       "            L_NO_TOUCH = false;\n",
       "            L_DISABLE_3D = false;\n",
       "        &lt;/script&gt;\n",
       "    \n",
       "    &lt;style&gt;html, body {width: 100%;height: 100%;margin: 0;padding: 0;}&lt;/style&gt;\n",
       "    &lt;style&gt;#map {position:absolute;top:0;bottom:0;right:0;left:0;}&lt;/style&gt;\n",
       "    &lt;script src=&quot;https://cdn.jsdelivr.net/npm/leaflet@1.9.3/dist/leaflet.js&quot;&gt;&lt;/script&gt;\n",
       "    &lt;script src=&quot;https://code.jquery.com/jquery-1.12.4.min.js&quot;&gt;&lt;/script&gt;\n",
       "    &lt;script src=&quot;https://cdn.jsdelivr.net/npm/bootstrap@5.2.2/dist/js/bootstrap.bundle.min.js&quot;&gt;&lt;/script&gt;\n",
       "    &lt;script src=&quot;https://cdnjs.cloudflare.com/ajax/libs/Leaflet.awesome-markers/2.0.2/leaflet.awesome-markers.js&quot;&gt;&lt;/script&gt;\n",
       "    &lt;link rel=&quot;stylesheet&quot; href=&quot;https://cdn.jsdelivr.net/npm/leaflet@1.9.3/dist/leaflet.css&quot;/&gt;\n",
       "    &lt;link rel=&quot;stylesheet&quot; href=&quot;https://cdn.jsdelivr.net/npm/bootstrap@5.2.2/dist/css/bootstrap.min.css&quot;/&gt;\n",
       "    &lt;link rel=&quot;stylesheet&quot; href=&quot;https://netdna.bootstrapcdn.com/bootstrap/3.0.0/css/bootstrap.min.css&quot;/&gt;\n",
       "    &lt;link rel=&quot;stylesheet&quot; href=&quot;https://cdn.jsdelivr.net/npm/@fortawesome/fontawesome-free@6.2.0/css/all.min.css&quot;/&gt;\n",
       "    &lt;link rel=&quot;stylesheet&quot; href=&quot;https://cdnjs.cloudflare.com/ajax/libs/Leaflet.awesome-markers/2.0.2/leaflet.awesome-markers.css&quot;/&gt;\n",
       "    &lt;link rel=&quot;stylesheet&quot; href=&quot;https://cdn.jsdelivr.net/gh/python-visualization/folium/folium/templates/leaflet.awesome.rotate.min.css&quot;/&gt;\n",
       "    \n",
       "            &lt;meta name=&quot;viewport&quot; content=&quot;width=device-width,\n",
       "                initial-scale=1.0, maximum-scale=1.0, user-scalable=no&quot; /&gt;\n",
       "            &lt;style&gt;\n",
       "                #map_7d915b2845efd4b154032e44cb4ee760 {\n",
       "                    position: relative;\n",
       "                    width: 100.0%;\n",
       "                    height: 100.0%;\n",
       "                    left: 0.0%;\n",
       "                    top: 0.0%;\n",
       "                }\n",
       "                .leaflet-container { font-size: 1rem; }\n",
       "            &lt;/style&gt;\n",
       "        \n",
       "&lt;/head&gt;\n",
       "&lt;body&gt;\n",
       "    \n",
       "    \n",
       "            &lt;div class=&quot;folium-map&quot; id=&quot;map_7d915b2845efd4b154032e44cb4ee760&quot; &gt;&lt;/div&gt;\n",
       "        \n",
       "&lt;/body&gt;\n",
       "&lt;script&gt;\n",
       "    \n",
       "    \n",
       "            var map_7d915b2845efd4b154032e44cb4ee760 = L.map(\n",
       "                &quot;map_7d915b2845efd4b154032e44cb4ee760&quot;,\n",
       "                {\n",
       "                    center: [35.8656, -121.4329],\n",
       "                    crs: L.CRS.EPSG3857,\n",
       "                    zoom: 15,\n",
       "                    zoomControl: true,\n",
       "                    preferCanvas: false,\n",
       "                }\n",
       "            );\n",
       "\n",
       "            \n",
       "\n",
       "        \n",
       "    \n",
       "            var tile_layer_404cf49c89714646e73128308925219b = L.tileLayer(\n",
       "                &quot;https://{s}.tile.openstreetmap.org/{z}/{x}/{y}.png&quot;,\n",
       "                {&quot;attribution&quot;: &quot;Data by \\u0026copy; \\u003ca target=\\&quot;_blank\\&quot; href=\\&quot;http://openstreetmap.org\\&quot;\\u003eOpenStreetMap\\u003c/a\\u003e, under \\u003ca target=\\&quot;_blank\\&quot; href=\\&quot;http://www.openstreetmap.org/copyright\\&quot;\\u003eODbL\\u003c/a\\u003e.&quot;, &quot;detectRetina&quot;: false, &quot;maxNativeZoom&quot;: 18, &quot;maxZoom&quot;: 18, &quot;minZoom&quot;: 0, &quot;noWrap&quot;: false, &quot;opacity&quot;: 1, &quot;subdomains&quot;: &quot;abc&quot;, &quot;tms&quot;: false}\n",
       "            ).addTo(map_7d915b2845efd4b154032e44cb4ee760);\n",
       "        \n",
       "    \n",
       "            var tile_layer_7adf86dd5031795ab9c10855ab99a03f = L.tileLayer(\n",
       "                &quot;https://earthengine.googleapis.com/v1alpha/projects/earthengine-legacy/maps/5470cba907a098040f0f455d5a4539c1-ebb48692b99b548a86f699138b578d6d/tiles/{z}/{x}/{y}&quot;,\n",
       "                {&quot;attribution&quot;: &quot;Map Data \\u0026copy; \\u003ca href=\\&quot;https://earthengine.google.com/\\&quot;\\u003eGoogle Earth Engine\\u003c/a\\u003e&quot;, &quot;detectRetina&quot;: false, &quot;maxNativeZoom&quot;: 18, &quot;maxZoom&quot;: 18, &quot;minZoom&quot;: 0, &quot;noWrap&quot;: false, &quot;opacity&quot;: 1, &quot;subdomains&quot;: &quot;abc&quot;, &quot;tms&quot;: false}\n",
       "            ).addTo(map_7d915b2845efd4b154032e44cb4ee760);\n",
       "        \n",
       "    \n",
       "            var layer_control_5166bf4a04c487f53c34ad05f6f16380 = {\n",
       "                base_layers : {\n",
       "                    &quot;openstreetmap&quot; : tile_layer_404cf49c89714646e73128308925219b,\n",
       "                },\n",
       "                overlays :  {\n",
       "                    &quot;Change map&quot; : tile_layer_7adf86dd5031795ab9c10855ab99a03f,\n",
       "                },\n",
       "            };\n",
       "            L.control.layers(\n",
       "                layer_control_5166bf4a04c487f53c34ad05f6f16380.base_layers,\n",
       "                layer_control_5166bf4a04c487f53c34ad05f6f16380.overlays,\n",
       "                {&quot;autoZIndex&quot;: true, &quot;collapsed&quot;: true, &quot;position&quot;: &quot;topright&quot;}\n",
       "            ).addTo(map_7d915b2845efd4b154032e44cb4ee760);\n",
       "        \n",
       "&lt;/script&gt;\n",
       "&lt;/html&gt;\" style=\"position:absolute;width:100%;height:100%;left:0;top:0;border:none !important;\" allowfullscreen webkitallowfullscreen mozallowfullscreen></iframe></div></div>"
      ],
      "text/plain": [
       "<folium.folium.Map at 0x2d30f015f10>"
      ]
     },
     "execution_count": 32,
     "metadata": {},
     "output_type": "execute_result"
    }
   ],
   "source": [
    "# Create change map \n",
    "alpha = 0.01\n",
    "location = [35.8656, -121.4329]\n",
    "\n",
    "BS_c_map = ee.Image.constant(1).subtract(chi2cdf(omnibus(Big_Sur_vv_list), \n",
    "                                              len(Big_Sur_timestamplist)-1))\n",
    "BS_c_map = BS_c_map.multiply(0).where(BS_c_map.lt(alpha), 1)\n",
    "\n",
    "# Display change map\n",
    "mp = folium.Map(location=location, zoom_start=15)\n",
    "mp.add_ee_layer(BS_c_map, {'min': 0, 'max': 1, 'palette': ['cyan', 'red']}, \n",
    "                'Change map')\n",
    "\n",
    "# Add layer control\n",
    "mp.add_child(folium.LayerControl())"
   ]
  },
  {
   "cell_type": "markdown",
   "id": "022c14c7",
   "metadata": {
    "ExecuteTime": {
     "end_time": "2023-08-07T15:29:26.515450Z",
     "start_time": "2023-08-07T15:29:26.502077Z"
    }
   },
   "source": [
    "## Collecting and analyzing multispectral images (Sentinel 2)\n",
    "Upon the creation of change maps, the process of applying the Normalized Difference Water Index (NDWI) involved obtaining multispectral images corresponding to the Caddy Lake and Big Sur areas. However, for the application of the water mask, we exclusively utilized the last image in the time series. The resulting maps showcase water bodies highlighted in yellow."
   ]
  },
  {
   "cell_type": "code",
   "execution_count": 33,
   "id": "4d931369",
   "metadata": {
    "ExecuteTime": {
     "end_time": "2023-08-23T16:03:23.636812Z",
     "start_time": "2023-08-23T16:03:20.698078Z"
    },
    "tags": [
     "remove_cell"
    ]
   },
   "outputs": [
    {
     "name": "stdout",
     "output_type": "stream",
     "text": [
      "The Sensing Orbit Number for ROI is: 55\n",
      "The Sensing Orbit Direction is: DESCENDING\n",
      "Number of images in the collection: 30\n"
     ]
    }
   ],
   "source": [
    "# Collecting Caddy Sentinel-2 images\n",
    "Caddy_start_date = '2015-12-28'\n",
    "Caddy_end_date = '2016-12-22'\n",
    "Caddy_sentinel_2 = (ee.ImageCollection('COPERNICUS/S2')\n",
    "              .filterBounds(Caddy_aoi)\n",
    "              .filterDate(Caddy_start_date, Caddy_end_date)\n",
    "              .filter(ee.Filter.lt('CLOUDY_PIXEL_PERCENTAGE', 20))\n",
    ")\n",
    "\n",
    "Caddy_S2_image_collection = Caddy_sentinel_2.filter(\n",
    "    ee.Filter.eq('SENSING_ORBIT_DIRECTION', 'DESCENDING'))\n",
    "\n",
    "if Caddy_image_collection.size().getInfo() > 0:\n",
    "    orbit_num = Caddy_S2_image_collection.first().get('SENSING_ORBIT_NUMBER')\n",
    "    orbit_direction = Caddy_S2_image_collection.first(\n",
    "    ).get('SENSING_ORBIT_DIRECTION')\n",
    "    print('The Sensing Orbit Number for ROI is:', orbit_num.getInfo())\n",
    "    print('The Sensing Orbit Direction is:', orbit_direction.getInfo())\n",
    "    print('Number of images in the collection:', Caddy_S2_image_collection.size(\n",
    "    ).getInfo())\n",
    "else:\n",
    "    print('No images found in the collection.')"
   ]
  },
  {
   "cell_type": "code",
   "execution_count": 34,
   "id": "9bc45aa6",
   "metadata": {
    "ExecuteTime": {
     "end_time": "2023-08-23T16:03:23.971723Z",
     "start_time": "2023-08-23T16:03:23.638859Z"
    },
    "tags": [
     "remove_cell"
    ]
   },
   "outputs": [
    {
     "name": "stdout",
     "output_type": "stream",
     "text": [
      "Date of the first image: 2016-03-12\n"
     ]
    }
   ],
   "source": [
    "# Get the first image from the collection\n",
    "Caddy_S2_first_image = Caddy_S2_image_collection.first()\n",
    "\n",
    "# Get the date of the first image \n",
    "date_str = ee.Date(Caddy_S2_first_image.get('system:time_start')).format('YYYY-MM-dd').getInfo()\n",
    "print('Date of the first image:', date_str)"
   ]
  },
  {
   "cell_type": "markdown",
   "id": "eba44a97",
   "metadata": {
    "tags": [
     "remove_cell"
    ]
   },
   "source": [
    "### Big Sur Landslide"
   ]
  },
  {
   "cell_type": "code",
   "execution_count": 35,
   "id": "982b12ed",
   "metadata": {
    "ExecuteTime": {
     "end_time": "2023-08-23T16:03:25.239219Z",
     "start_time": "2023-08-23T16:03:23.973317Z"
    },
    "tags": [
     "remove_cell"
    ]
   },
   "outputs": [
    {
     "name": "stdout",
     "output_type": "stream",
     "text": [
      "The Sensing Orbit Number for ROI is: None\n",
      "The Sensing Orbit Direction is: None\n",
      "Number of images in the collection: 31\n"
     ]
    }
   ],
   "source": [
    "# Collecting Big Sur Sentinel-2 images\n",
    "Big_Sur_sentinel_2 = (ee.ImageCollection('COPERNICUS/S2')\n",
    "              .filterBounds(Big_Sur_aoi)\n",
    "              .filterDate(Big_Sur_start_date, Big_Sur_end_date)\n",
    "              .filter(ee.Filter.lt('CLOUDY_PIXEL_PERCENTAGE', 20))\n",
    ")\n",
    "\n",
    "Big_Sur_S2_image_collection = Big_Sur_sentinel_2.filter(ee.Filter.eq('SENSING_ORBIT_DIRECTION', 'DESCENDING'))\n",
    "\n",
    "if Big_Sur_image_collection.size().getInfo() > 0:\n",
    "    orbit_num = Big_Sur_image_collection.first().get('SENSING_ORBIT_NUMBER')\n",
    "    orbit_direction = Big_Sur_image_collection.first().get('SENSING_ORBIT_DIRECTION')\n",
    "    print('The Sensing Orbit Number for ROI is:', orbit_num.getInfo())\n",
    "    print('The Sensing Orbit Direction is:', orbit_direction.getInfo())\n",
    "    print('Number of images in the collection:', Big_Sur_image_collection.size().getInfo())\n",
    "else:\n",
    "    print('No images found in the collection.')"
   ]
  },
  {
   "cell_type": "code",
   "execution_count": 36,
   "id": "27ae34b7",
   "metadata": {
    "ExecuteTime": {
     "end_time": "2023-08-23T16:03:25.534225Z",
     "start_time": "2023-08-23T16:03:25.240793Z"
    },
    "tags": [
     "remove_cell"
    ]
   },
   "outputs": [
    {
     "name": "stdout",
     "output_type": "stream",
     "text": [
      "Date of the first image: 2016-11-21\n"
     ]
    }
   ],
   "source": [
    "# Get the first image from the collection\n",
    "Big_Sur_S2_first_image = Big_Sur_S2_image_collection.first()\n",
    "\n",
    "# Get the date of the first image \n",
    "date_str = ee.Date(Big_Sur_S2_first_image.get('system:time_start')).format('YYYY-MM-dd').getInfo()\n",
    "print('Date of the first image:', date_str)"
   ]
  },
  {
   "cell_type": "markdown",
   "id": "cdb42e4b",
   "metadata": {
    "tags": [
     "remove_cell"
    ]
   },
   "source": [
    "### NDWI Calculations using multispectral imagery"
   ]
  },
  {
   "cell_type": "markdown",
   "id": "0971ec80",
   "metadata": {
    "ExecuteTime": {
     "end_time": "2023-08-12T01:00:49.703167Z",
     "start_time": "2023-08-12T01:00:49.690003Z"
    }
   },
   "source": [
    "#### <center>NDWI Calculation on Sentinel-2 image, Caddy Lake landslide, Water mask displayed in Yellow</center>"
   ]
  },
  {
   "cell_type": "code",
   "execution_count": 37,
   "id": "61fe84a3",
   "metadata": {
    "ExecuteTime": {
     "end_time": "2023-08-23T16:03:26.169041Z",
     "start_time": "2023-08-23T16:03:25.536907Z"
    },
    "tags": [
     "remove_input"
    ]
   },
   "outputs": [
    {
     "data": {
      "text/html": [
       "<div style=\"width:100%;\"><div style=\"position:relative;width:100%;height:0;padding-bottom:60%;\"><span style=\"color:#565656\">Make this Notebook Trusted to load map: File -> Trust Notebook</span><iframe srcdoc=\"&lt;!DOCTYPE html&gt;\n",
       "&lt;html&gt;\n",
       "&lt;head&gt;\n",
       "    \n",
       "    &lt;meta http-equiv=&quot;content-type&quot; content=&quot;text/html; charset=UTF-8&quot; /&gt;\n",
       "    \n",
       "        &lt;script&gt;\n",
       "            L_NO_TOUCH = false;\n",
       "            L_DISABLE_3D = false;\n",
       "        &lt;/script&gt;\n",
       "    \n",
       "    &lt;style&gt;html, body {width: 100%;height: 100%;margin: 0;padding: 0;}&lt;/style&gt;\n",
       "    &lt;style&gt;#map {position:absolute;top:0;bottom:0;right:0;left:0;}&lt;/style&gt;\n",
       "    &lt;script src=&quot;https://cdn.jsdelivr.net/npm/leaflet@1.9.3/dist/leaflet.js&quot;&gt;&lt;/script&gt;\n",
       "    &lt;script src=&quot;https://code.jquery.com/jquery-1.12.4.min.js&quot;&gt;&lt;/script&gt;\n",
       "    &lt;script src=&quot;https://cdn.jsdelivr.net/npm/bootstrap@5.2.2/dist/js/bootstrap.bundle.min.js&quot;&gt;&lt;/script&gt;\n",
       "    &lt;script src=&quot;https://cdnjs.cloudflare.com/ajax/libs/Leaflet.awesome-markers/2.0.2/leaflet.awesome-markers.js&quot;&gt;&lt;/script&gt;\n",
       "    &lt;link rel=&quot;stylesheet&quot; href=&quot;https://cdn.jsdelivr.net/npm/leaflet@1.9.3/dist/leaflet.css&quot;/&gt;\n",
       "    &lt;link rel=&quot;stylesheet&quot; href=&quot;https://cdn.jsdelivr.net/npm/bootstrap@5.2.2/dist/css/bootstrap.min.css&quot;/&gt;\n",
       "    &lt;link rel=&quot;stylesheet&quot; href=&quot;https://netdna.bootstrapcdn.com/bootstrap/3.0.0/css/bootstrap.min.css&quot;/&gt;\n",
       "    &lt;link rel=&quot;stylesheet&quot; href=&quot;https://cdn.jsdelivr.net/npm/@fortawesome/fontawesome-free@6.2.0/css/all.min.css&quot;/&gt;\n",
       "    &lt;link rel=&quot;stylesheet&quot; href=&quot;https://cdnjs.cloudflare.com/ajax/libs/Leaflet.awesome-markers/2.0.2/leaflet.awesome-markers.css&quot;/&gt;\n",
       "    &lt;link rel=&quot;stylesheet&quot; href=&quot;https://cdn.jsdelivr.net/gh/python-visualization/folium/folium/templates/leaflet.awesome.rotate.min.css&quot;/&gt;\n",
       "    \n",
       "            &lt;meta name=&quot;viewport&quot; content=&quot;width=device-width,\n",
       "                initial-scale=1.0, maximum-scale=1.0, user-scalable=no&quot; /&gt;\n",
       "            &lt;style&gt;\n",
       "                #map_05e504c83cfe1fbacb19d63dd2e2e003 {\n",
       "                    position: relative;\n",
       "                    width: 100.0%;\n",
       "                    height: 100.0%;\n",
       "                    left: 0.0%;\n",
       "                    top: 0.0%;\n",
       "                }\n",
       "                .leaflet-container { font-size: 1rem; }\n",
       "            &lt;/style&gt;\n",
       "        \n",
       "&lt;/head&gt;\n",
       "&lt;body&gt;\n",
       "    \n",
       "    \n",
       "            &lt;div class=&quot;folium-map&quot; id=&quot;map_05e504c83cfe1fbacb19d63dd2e2e003&quot; &gt;&lt;/div&gt;\n",
       "        \n",
       "&lt;/body&gt;\n",
       "&lt;script&gt;\n",
       "    \n",
       "    \n",
       "            var map_05e504c83cfe1fbacb19d63dd2e2e003 = L.map(\n",
       "                &quot;map_05e504c83cfe1fbacb19d63dd2e2e003&quot;,\n",
       "                {\n",
       "                    center: [49.8063, -95.2098],\n",
       "                    crs: L.CRS.EPSG3857,\n",
       "                    zoom: 14,\n",
       "                    zoomControl: true,\n",
       "                    preferCanvas: false,\n",
       "                }\n",
       "            );\n",
       "\n",
       "            \n",
       "\n",
       "        \n",
       "    \n",
       "            var tile_layer_0301d35bb14667096392b07f1d0af713 = L.tileLayer(\n",
       "                &quot;https://{s}.tile.openstreetmap.org/{z}/{x}/{y}.png&quot;,\n",
       "                {&quot;attribution&quot;: &quot;Data by \\u0026copy; \\u003ca target=\\&quot;_blank\\&quot; href=\\&quot;http://openstreetmap.org\\&quot;\\u003eOpenStreetMap\\u003c/a\\u003e, under \\u003ca target=\\&quot;_blank\\&quot; href=\\&quot;http://www.openstreetmap.org/copyright\\&quot;\\u003eODbL\\u003c/a\\u003e.&quot;, &quot;detectRetina&quot;: false, &quot;maxNativeZoom&quot;: 18, &quot;maxZoom&quot;: 18, &quot;minZoom&quot;: 0, &quot;noWrap&quot;: false, &quot;opacity&quot;: 1, &quot;subdomains&quot;: &quot;abc&quot;, &quot;tms&quot;: false}\n",
       "            ).addTo(map_05e504c83cfe1fbacb19d63dd2e2e003);\n",
       "        \n",
       "    \n",
       "            var tile_layer_ef4bf0eb895be0aa36b8f11fcfc3e57a = L.tileLayer(\n",
       "                &quot;SATELLITE&quot;,\n",
       "                {&quot;attribution&quot;: &quot;Caddy_Sentinel-2 Imagery&quot;, &quot;detectRetina&quot;: false, &quot;maxNativeZoom&quot;: 18, &quot;maxZoom&quot;: 18, &quot;minZoom&quot;: 0, &quot;noWrap&quot;: false, &quot;opacity&quot;: 1, &quot;subdomains&quot;: &quot;abc&quot;, &quot;tms&quot;: false}\n",
       "            ).addTo(map_05e504c83cfe1fbacb19d63dd2e2e003);\n",
       "        \n",
       "    \n",
       "            var tile_layer_9cf5b215171498ce8480396e18bb2a7d = L.tileLayer(\n",
       "                &quot;https://earthengine.googleapis.com/v1alpha/projects/earthengine-legacy/maps/8bd446c5223bf3700cb014ff347acc73-eb024a7c2808203742cc753fd6366368/tiles/{z}/{x}/{y}&quot;,\n",
       "                {&quot;attribution&quot;: &quot;Map Data \\u0026copy; \\u003ca href=\\&quot;https://earthengine.google.com/\\&quot;\\u003eGoogle Earth Engine\\u003c/a\\u003e&quot;, &quot;detectRetina&quot;: false, &quot;maxNativeZoom&quot;: 18, &quot;maxZoom&quot;: 18, &quot;minZoom&quot;: 0, &quot;noWrap&quot;: false, &quot;opacity&quot;: 1, &quot;subdomains&quot;: &quot;abc&quot;, &quot;tms&quot;: false}\n",
       "            ).addTo(map_05e504c83cfe1fbacb19d63dd2e2e003);\n",
       "        \n",
       "    \n",
       "            var layer_control_ae7b4ab94c4e14283bca83b78629f4fd = {\n",
       "                base_layers : {\n",
       "                    &quot;openstreetmap&quot; : tile_layer_0301d35bb14667096392b07f1d0af713,\n",
       "                },\n",
       "                overlays :  {\n",
       "                    &quot;NDWI Difference&quot; : tile_layer_ef4bf0eb895be0aa36b8f11fcfc3e57a,\n",
       "                    &quot;NDWI&quot; : tile_layer_9cf5b215171498ce8480396e18bb2a7d,\n",
       "                },\n",
       "            };\n",
       "            L.control.layers(\n",
       "                layer_control_ae7b4ab94c4e14283bca83b78629f4fd.base_layers,\n",
       "                layer_control_ae7b4ab94c4e14283bca83b78629f4fd.overlays,\n",
       "                {&quot;autoZIndex&quot;: true, &quot;collapsed&quot;: true, &quot;position&quot;: &quot;topright&quot;}\n",
       "            ).addTo(map_05e504c83cfe1fbacb19d63dd2e2e003);\n",
       "        \n",
       "&lt;/script&gt;\n",
       "&lt;/html&gt;\" style=\"position:absolute;width:100%;height:100%;left:0;top:0;border:none !important;\" allowfullscreen webkitallowfullscreen mozallowfullscreen></iframe></div></div>"
      ],
      "text/plain": [
       "<folium.folium.Map at 0x2d30f07a490>"
      ]
     },
     "execution_count": 37,
     "metadata": {},
     "output_type": "execute_result"
    }
   ],
   "source": [
    "# Select necessary bands for NDWI calculation\n",
    "red_band = 'B3'\n",
    "nir_band = 'B8'\n",
    "\n",
    "# Function to calculate NDWI\n",
    "def calculate_ndwi(image):\n",
    "    ndwi = image.normalizedDifference([nir_band, red_band])\n",
    "    return ndwi.gte(0)\n",
    "\n",
    "# Calculate NDWI for the last image in the collection\n",
    "Caddy_S2_last_image = Caddy_sentinel_2.sort('system:time_start', False).first()\n",
    "Caddy_S2_ndwi_last_image = calculate_ndwi(Caddy_S2_last_image)\n",
    "\n",
    "# Display the result on the map\n",
    "Caddy_S2_map = folium.Map(location=[49.8063, -95.2098], zoom_start=14)\n",
    "folium.TileLayer(\n",
    "    tiles='SATELLITE',\n",
    "    attr='Caddy_Sentinel-2 Imagery',\n",
    "    overlay=True,\n",
    "    name='NDWI Difference',\n",
    "    control=True\n",
    ").add_to(Caddy_S2_map)\n",
    "\n",
    "# Add the NDWI difference layer to the map\n",
    "Caddy_S2_map.add_ee_layer(Caddy_S2_ndwi_last_image, {'min': -1, 'max': 1, 'palette': \n",
    "                                    ['red', 'yellow', 'green']}, 'NDWI')\n",
    "\n",
    "# Add a layer control panel to the map\n",
    "folium.LayerControl().add_to(Caddy_S2_map)\n",
    "\n",
    "# Display the map\n",
    "Caddy_S2_map"
   ]
  },
  {
   "cell_type": "markdown",
   "id": "f766b082",
   "metadata": {},
   "source": [
    "#### <center>NDWI Calculation on Sentinel-2 image, Big Sur landslide, Water mask displayed in Yellow</center>"
   ]
  },
  {
   "cell_type": "code",
   "execution_count": 38,
   "id": "b8c31e18",
   "metadata": {
    "ExecuteTime": {
     "end_time": "2023-08-23T16:03:26.791056Z",
     "start_time": "2023-08-23T16:03:26.171736Z"
    },
    "tags": [
     "remove_input"
    ]
   },
   "outputs": [
    {
     "data": {
      "text/html": [
       "<div style=\"width:100%;\"><div style=\"position:relative;width:100%;height:0;padding-bottom:60%;\"><span style=\"color:#565656\">Make this Notebook Trusted to load map: File -> Trust Notebook</span><iframe srcdoc=\"&lt;!DOCTYPE html&gt;\n",
       "&lt;html&gt;\n",
       "&lt;head&gt;\n",
       "    \n",
       "    &lt;meta http-equiv=&quot;content-type&quot; content=&quot;text/html; charset=UTF-8&quot; /&gt;\n",
       "    \n",
       "        &lt;script&gt;\n",
       "            L_NO_TOUCH = false;\n",
       "            L_DISABLE_3D = false;\n",
       "        &lt;/script&gt;\n",
       "    \n",
       "    &lt;style&gt;html, body {width: 100%;height: 100%;margin: 0;padding: 0;}&lt;/style&gt;\n",
       "    &lt;style&gt;#map {position:absolute;top:0;bottom:0;right:0;left:0;}&lt;/style&gt;\n",
       "    &lt;script src=&quot;https://cdn.jsdelivr.net/npm/leaflet@1.9.3/dist/leaflet.js&quot;&gt;&lt;/script&gt;\n",
       "    &lt;script src=&quot;https://code.jquery.com/jquery-1.12.4.min.js&quot;&gt;&lt;/script&gt;\n",
       "    &lt;script src=&quot;https://cdn.jsdelivr.net/npm/bootstrap@5.2.2/dist/js/bootstrap.bundle.min.js&quot;&gt;&lt;/script&gt;\n",
       "    &lt;script src=&quot;https://cdnjs.cloudflare.com/ajax/libs/Leaflet.awesome-markers/2.0.2/leaflet.awesome-markers.js&quot;&gt;&lt;/script&gt;\n",
       "    &lt;link rel=&quot;stylesheet&quot; href=&quot;https://cdn.jsdelivr.net/npm/leaflet@1.9.3/dist/leaflet.css&quot;/&gt;\n",
       "    &lt;link rel=&quot;stylesheet&quot; href=&quot;https://cdn.jsdelivr.net/npm/bootstrap@5.2.2/dist/css/bootstrap.min.css&quot;/&gt;\n",
       "    &lt;link rel=&quot;stylesheet&quot; href=&quot;https://netdna.bootstrapcdn.com/bootstrap/3.0.0/css/bootstrap.min.css&quot;/&gt;\n",
       "    &lt;link rel=&quot;stylesheet&quot; href=&quot;https://cdn.jsdelivr.net/npm/@fortawesome/fontawesome-free@6.2.0/css/all.min.css&quot;/&gt;\n",
       "    &lt;link rel=&quot;stylesheet&quot; href=&quot;https://cdnjs.cloudflare.com/ajax/libs/Leaflet.awesome-markers/2.0.2/leaflet.awesome-markers.css&quot;/&gt;\n",
       "    &lt;link rel=&quot;stylesheet&quot; href=&quot;https://cdn.jsdelivr.net/gh/python-visualization/folium/folium/templates/leaflet.awesome.rotate.min.css&quot;/&gt;\n",
       "    \n",
       "            &lt;meta name=&quot;viewport&quot; content=&quot;width=device-width,\n",
       "                initial-scale=1.0, maximum-scale=1.0, user-scalable=no&quot; /&gt;\n",
       "            &lt;style&gt;\n",
       "                #map_04fe03de8823ad09a0a5fafccb862a0e {\n",
       "                    position: relative;\n",
       "                    width: 100.0%;\n",
       "                    height: 100.0%;\n",
       "                    left: 0.0%;\n",
       "                    top: 0.0%;\n",
       "                }\n",
       "                .leaflet-container { font-size: 1rem; }\n",
       "            &lt;/style&gt;\n",
       "        \n",
       "&lt;/head&gt;\n",
       "&lt;body&gt;\n",
       "    \n",
       "    \n",
       "            &lt;div class=&quot;folium-map&quot; id=&quot;map_04fe03de8823ad09a0a5fafccb862a0e&quot; &gt;&lt;/div&gt;\n",
       "        \n",
       "&lt;/body&gt;\n",
       "&lt;script&gt;\n",
       "    \n",
       "    \n",
       "            var map_04fe03de8823ad09a0a5fafccb862a0e = L.map(\n",
       "                &quot;map_04fe03de8823ad09a0a5fafccb862a0e&quot;,\n",
       "                {\n",
       "                    center: [35.8656, -121.4329],\n",
       "                    crs: L.CRS.EPSG3857,\n",
       "                    zoom: 14,\n",
       "                    zoomControl: true,\n",
       "                    preferCanvas: false,\n",
       "                }\n",
       "            );\n",
       "\n",
       "            \n",
       "\n",
       "        \n",
       "    \n",
       "            var tile_layer_4be5b150a40739ab7fa011217536a072 = L.tileLayer(\n",
       "                &quot;https://{s}.tile.openstreetmap.org/{z}/{x}/{y}.png&quot;,\n",
       "                {&quot;attribution&quot;: &quot;Data by \\u0026copy; \\u003ca target=\\&quot;_blank\\&quot; href=\\&quot;http://openstreetmap.org\\&quot;\\u003eOpenStreetMap\\u003c/a\\u003e, under \\u003ca target=\\&quot;_blank\\&quot; href=\\&quot;http://www.openstreetmap.org/copyright\\&quot;\\u003eODbL\\u003c/a\\u003e.&quot;, &quot;detectRetina&quot;: false, &quot;maxNativeZoom&quot;: 18, &quot;maxZoom&quot;: 18, &quot;minZoom&quot;: 0, &quot;noWrap&quot;: false, &quot;opacity&quot;: 1, &quot;subdomains&quot;: &quot;abc&quot;, &quot;tms&quot;: false}\n",
       "            ).addTo(map_04fe03de8823ad09a0a5fafccb862a0e);\n",
       "        \n",
       "    \n",
       "            var tile_layer_0104e9c155a5d02e66caeb6f38be943b = L.tileLayer(\n",
       "                &quot;SATELLITE&quot;,\n",
       "                {&quot;attribution&quot;: &quot;Caddy_Sentinel-2 Imagery&quot;, &quot;detectRetina&quot;: false, &quot;maxNativeZoom&quot;: 18, &quot;maxZoom&quot;: 18, &quot;minZoom&quot;: 0, &quot;noWrap&quot;: false, &quot;opacity&quot;: 1, &quot;subdomains&quot;: &quot;abc&quot;, &quot;tms&quot;: false}\n",
       "            ).addTo(map_04fe03de8823ad09a0a5fafccb862a0e);\n",
       "        \n",
       "    \n",
       "            var tile_layer_6f8a6c36155cbac53c9cdc0ac6c534d7 = L.tileLayer(\n",
       "                &quot;https://earthengine.googleapis.com/v1alpha/projects/earthengine-legacy/maps/1c54fee34781f0460c97e70b13ee04a1-e90b867bef5f463dad40ba38bb1b4ba1/tiles/{z}/{x}/{y}&quot;,\n",
       "                {&quot;attribution&quot;: &quot;Map Data \\u0026copy; \\u003ca href=\\&quot;https://earthengine.google.com/\\&quot;\\u003eGoogle Earth Engine\\u003c/a\\u003e&quot;, &quot;detectRetina&quot;: false, &quot;maxNativeZoom&quot;: 18, &quot;maxZoom&quot;: 18, &quot;minZoom&quot;: 0, &quot;noWrap&quot;: false, &quot;opacity&quot;: 1, &quot;subdomains&quot;: &quot;abc&quot;, &quot;tms&quot;: false}\n",
       "            ).addTo(map_04fe03de8823ad09a0a5fafccb862a0e);\n",
       "        \n",
       "    \n",
       "            var layer_control_e7f276d94b6c9faa4c6220c6396f7a63 = {\n",
       "                base_layers : {\n",
       "                    &quot;openstreetmap&quot; : tile_layer_4be5b150a40739ab7fa011217536a072,\n",
       "                },\n",
       "                overlays :  {\n",
       "                    &quot;NDWI Difference&quot; : tile_layer_0104e9c155a5d02e66caeb6f38be943b,\n",
       "                    &quot;NDWI&quot; : tile_layer_6f8a6c36155cbac53c9cdc0ac6c534d7,\n",
       "                },\n",
       "            };\n",
       "            L.control.layers(\n",
       "                layer_control_e7f276d94b6c9faa4c6220c6396f7a63.base_layers,\n",
       "                layer_control_e7f276d94b6c9faa4c6220c6396f7a63.overlays,\n",
       "                {&quot;autoZIndex&quot;: true, &quot;collapsed&quot;: true, &quot;position&quot;: &quot;topright&quot;}\n",
       "            ).addTo(map_04fe03de8823ad09a0a5fafccb862a0e);\n",
       "        \n",
       "&lt;/script&gt;\n",
       "&lt;/html&gt;\" style=\"position:absolute;width:100%;height:100%;left:0;top:0;border:none !important;\" allowfullscreen webkitallowfullscreen mozallowfullscreen></iframe></div></div>"
      ],
      "text/plain": [
       "<folium.folium.Map at 0x2d30f070130>"
      ]
     },
     "execution_count": 38,
     "metadata": {},
     "output_type": "execute_result"
    }
   ],
   "source": [
    "# Select necessary bands for NDWI calculation\n",
    "red_band = 'B3'\n",
    "nir_band = 'B8'\n",
    "\n",
    "# Function to calculate NDWI\n",
    "def calculate_ndwi(image):\n",
    "    ndwi = image.normalizedDifference([nir_band, red_band])\n",
    "    return ndwi.gte(0)\n",
    "\n",
    "# Calculate NDWI for the last image in the collection\n",
    "Big_Sur_S2_last_image = Big_Sur_sentinel_2.sort('system:time_start', False).first()\n",
    "Big_Sur_S2_ndwi_last_image = calculate_ndwi(Big_Sur_S2_last_image)\n",
    "\n",
    "Big_Sur_S2_map = folium.Map(location=[35.8656, -121.4329], zoom_start=14) \n",
    "folium.TileLayer(\n",
    "    tiles='SATELLITE',\n",
    "    attr='Caddy_Sentinel-2 Imagery',\n",
    "    overlay=True,\n",
    "    name='NDWI Difference',\n",
    "    control=True\n",
    ").add_to(Big_Sur_S2_map)\n",
    "\n",
    "# Add the NDWI difference layer to the map\n",
    "Big_Sur_S2_map.add_ee_layer(Big_Sur_S2_ndwi_last_image, {'min': -1, 'max': 1, 'palette': \n",
    "                                    ['red', 'yellow', 'green']}, 'NDWI')\n",
    "\n",
    "# Add a layer control panel to the map\n",
    "folium.LayerControl().add_to(Big_Sur_S2_map)\n",
    "\n",
    "# Display the map\n",
    "Big_Sur_S2_map"
   ]
  },
  {
   "cell_type": "markdown",
   "id": "4482203b",
   "metadata": {},
   "source": [
    "## Land Surface Change with applying NDWI\n",
    "After completing our statistical analyses and excluding water bodies, the red color layers align with changes in reflectance intensity from satellite images. These areas in red indicate the removal of Earth's surface, highlighting the occurrence of a landslide in our context."
   ]
  },
  {
   "cell_type": "markdown",
   "id": "54736293",
   "metadata": {},
   "source": [
    "#### <center>Detected land surface changes displayed in red, Caddy Lake landslide</center>"
   ]
  },
  {
   "cell_type": "code",
   "execution_count": 39,
   "id": "52a3b940",
   "metadata": {
    "ExecuteTime": {
     "end_time": "2023-08-23T16:03:27.445527Z",
     "start_time": "2023-08-23T16:03:26.793391Z"
    },
    "tags": [
     "remove_input"
    ]
   },
   "outputs": [
    {
     "data": {
      "text/html": [
       "<div style=\"width:100%;\"><div style=\"position:relative;width:100%;height:0;padding-bottom:60%;\"><span style=\"color:#565656\">Make this Notebook Trusted to load map: File -> Trust Notebook</span><iframe srcdoc=\"&lt;!DOCTYPE html&gt;\n",
       "&lt;html&gt;\n",
       "&lt;head&gt;\n",
       "    \n",
       "    &lt;meta http-equiv=&quot;content-type&quot; content=&quot;text/html; charset=UTF-8&quot; /&gt;\n",
       "    \n",
       "        &lt;script&gt;\n",
       "            L_NO_TOUCH = false;\n",
       "            L_DISABLE_3D = false;\n",
       "        &lt;/script&gt;\n",
       "    \n",
       "    &lt;style&gt;html, body {width: 100%;height: 100%;margin: 0;padding: 0;}&lt;/style&gt;\n",
       "    &lt;style&gt;#map {position:absolute;top:0;bottom:0;right:0;left:0;}&lt;/style&gt;\n",
       "    &lt;script src=&quot;https://cdn.jsdelivr.net/npm/leaflet@1.9.3/dist/leaflet.js&quot;&gt;&lt;/script&gt;\n",
       "    &lt;script src=&quot;https://code.jquery.com/jquery-1.12.4.min.js&quot;&gt;&lt;/script&gt;\n",
       "    &lt;script src=&quot;https://cdn.jsdelivr.net/npm/bootstrap@5.2.2/dist/js/bootstrap.bundle.min.js&quot;&gt;&lt;/script&gt;\n",
       "    &lt;script src=&quot;https://cdnjs.cloudflare.com/ajax/libs/Leaflet.awesome-markers/2.0.2/leaflet.awesome-markers.js&quot;&gt;&lt;/script&gt;\n",
       "    &lt;link rel=&quot;stylesheet&quot; href=&quot;https://cdn.jsdelivr.net/npm/leaflet@1.9.3/dist/leaflet.css&quot;/&gt;\n",
       "    &lt;link rel=&quot;stylesheet&quot; href=&quot;https://cdn.jsdelivr.net/npm/bootstrap@5.2.2/dist/css/bootstrap.min.css&quot;/&gt;\n",
       "    &lt;link rel=&quot;stylesheet&quot; href=&quot;https://netdna.bootstrapcdn.com/bootstrap/3.0.0/css/bootstrap.min.css&quot;/&gt;\n",
       "    &lt;link rel=&quot;stylesheet&quot; href=&quot;https://cdn.jsdelivr.net/npm/@fortawesome/fontawesome-free@6.2.0/css/all.min.css&quot;/&gt;\n",
       "    &lt;link rel=&quot;stylesheet&quot; href=&quot;https://cdnjs.cloudflare.com/ajax/libs/Leaflet.awesome-markers/2.0.2/leaflet.awesome-markers.css&quot;/&gt;\n",
       "    &lt;link rel=&quot;stylesheet&quot; href=&quot;https://cdn.jsdelivr.net/gh/python-visualization/folium/folium/templates/leaflet.awesome.rotate.min.css&quot;/&gt;\n",
       "    \n",
       "            &lt;meta name=&quot;viewport&quot; content=&quot;width=device-width,\n",
       "                initial-scale=1.0, maximum-scale=1.0, user-scalable=no&quot; /&gt;\n",
       "            &lt;style&gt;\n",
       "                #map_19489b04f2e628a33d4238fc51702195 {\n",
       "                    position: relative;\n",
       "                    width: 100.0%;\n",
       "                    height: 100.0%;\n",
       "                    left: 0.0%;\n",
       "                    top: 0.0%;\n",
       "                }\n",
       "                .leaflet-container { font-size: 1rem; }\n",
       "            &lt;/style&gt;\n",
       "        \n",
       "&lt;/head&gt;\n",
       "&lt;body&gt;\n",
       "    \n",
       "    \n",
       "            &lt;div class=&quot;folium-map&quot; id=&quot;map_19489b04f2e628a33d4238fc51702195&quot; &gt;&lt;/div&gt;\n",
       "        \n",
       "&lt;/body&gt;\n",
       "&lt;script&gt;\n",
       "    \n",
       "    \n",
       "            var map_19489b04f2e628a33d4238fc51702195 = L.map(\n",
       "                &quot;map_19489b04f2e628a33d4238fc51702195&quot;,\n",
       "                {\n",
       "                    center: [49.8063, -95.2098],\n",
       "                    crs: L.CRS.EPSG3857,\n",
       "                    zoom: 15,\n",
       "                    zoomControl: true,\n",
       "                    preferCanvas: false,\n",
       "                }\n",
       "            );\n",
       "\n",
       "            \n",
       "\n",
       "        \n",
       "    \n",
       "            var tile_layer_ef17ff309cfc2a6aaf021eb7e43c39df = L.tileLayer(\n",
       "                &quot;https://{s}.tile.openstreetmap.org/{z}/{x}/{y}.png&quot;,\n",
       "                {&quot;attribution&quot;: &quot;Data by \\u0026copy; \\u003ca target=\\&quot;_blank\\&quot; href=\\&quot;http://openstreetmap.org\\&quot;\\u003eOpenStreetMap\\u003c/a\\u003e, under \\u003ca target=\\&quot;_blank\\&quot; href=\\&quot;http://www.openstreetmap.org/copyright\\&quot;\\u003eODbL\\u003c/a\\u003e.&quot;, &quot;detectRetina&quot;: false, &quot;maxNativeZoom&quot;: 18, &quot;maxZoom&quot;: 18, &quot;minZoom&quot;: 0, &quot;noWrap&quot;: false, &quot;opacity&quot;: 1, &quot;subdomains&quot;: &quot;abc&quot;, &quot;tms&quot;: false}\n",
       "            ).addTo(map_19489b04f2e628a33d4238fc51702195);\n",
       "        \n",
       "    \n",
       "            var tile_layer_33b17afd9d8cf82d1539913d45afeb0d = L.tileLayer(\n",
       "                &quot;https://earthengine.googleapis.com/v1alpha/projects/earthengine-legacy/maps/70ed93e62fc9917d351a2376159d3ba0-6fd7944264f2fe5bf5933a1f91ba765b/tiles/{z}/{x}/{y}&quot;,\n",
       "                {&quot;attribution&quot;: &quot;Map Data \\u0026copy; \\u003ca href=\\&quot;https://earthengine.google.com/\\&quot;\\u003eGoogle Earth Engine\\u003c/a\\u003e&quot;, &quot;detectRetina&quot;: false, &quot;maxNativeZoom&quot;: 18, &quot;maxZoom&quot;: 18, &quot;minZoom&quot;: 0, &quot;noWrap&quot;: false, &quot;opacity&quot;: 1, &quot;subdomains&quot;: &quot;abc&quot;, &quot;tms&quot;: false}\n",
       "            ).addTo(map_19489b04f2e628a33d4238fc51702195);\n",
       "        \n",
       "    \n",
       "            var layer_control_ed1e38547b13a6368be3ca1af9299e4e = {\n",
       "                base_layers : {\n",
       "                    &quot;openstreetmap&quot; : tile_layer_ef17ff309cfc2a6aaf021eb7e43c39df,\n",
       "                },\n",
       "                overlays :  {\n",
       "                    &quot;land surface change&quot; : tile_layer_33b17afd9d8cf82d1539913d45afeb0d,\n",
       "                },\n",
       "            };\n",
       "            L.control.layers(\n",
       "                layer_control_ed1e38547b13a6368be3ca1af9299e4e.base_layers,\n",
       "                layer_control_ed1e38547b13a6368be3ca1af9299e4e.overlays,\n",
       "                {&quot;autoZIndex&quot;: true, &quot;collapsed&quot;: true, &quot;position&quot;: &quot;topright&quot;}\n",
       "            ).addTo(map_19489b04f2e628a33d4238fc51702195);\n",
       "        \n",
       "&lt;/script&gt;\n",
       "&lt;/html&gt;\" style=\"position:absolute;width:100%;height:100%;left:0;top:0;border:none !important;\" allowfullscreen webkitallowfullscreen mozallowfullscreen></iframe></div></div>"
      ],
      "text/plain": [
       "<folium.folium.Map at 0x2d30efd6af0>"
      ]
     },
     "execution_count": 39,
     "metadata": {},
     "output_type": "execute_result"
    }
   ],
   "source": [
    "# Subtract NDWI from the change map\n",
    "Caddy_LS = Caddy_S2_ndwi_last_image.And(Caddy_c_map)\n",
    "\n",
    "# Updating water mask\n",
    "Caddy_LS = Caddy_LS.updateMask(Caddy_LS.gt(0))\n",
    "\n",
    "# Display the result on the map\n",
    "Caddy_LS_map = folium.Map(location=[49.8063, -95.2098], zoom_start=15)\n",
    "Caddy_LS_map.add_ee_layer(Caddy_LS, {'min': -1, 'max': 1, 'palette': ['black', 'red']}, 'land surface change')\n",
    "\n",
    "# Add layer control\n",
    "Caddy_LS_map.add_child(folium.LayerControl())\n",
    "Caddy_LS_map"
   ]
  },
  {
   "cell_type": "markdown",
   "id": "da1a4260",
   "metadata": {},
   "source": [
    "#### <center>Detected land surface changes displayed in red, Big Sur landslide</center>"
   ]
  },
  {
   "cell_type": "code",
   "execution_count": 40,
   "id": "8cf4be4c",
   "metadata": {
    "ExecuteTime": {
     "end_time": "2023-08-23T16:03:28.016087Z",
     "start_time": "2023-08-23T16:03:27.448045Z"
    },
    "tags": [
     "remove_input"
    ]
   },
   "outputs": [
    {
     "data": {
      "text/html": [
       "<div style=\"width:100%;\"><div style=\"position:relative;width:100%;height:0;padding-bottom:60%;\"><span style=\"color:#565656\">Make this Notebook Trusted to load map: File -> Trust Notebook</span><iframe srcdoc=\"&lt;!DOCTYPE html&gt;\n",
       "&lt;html&gt;\n",
       "&lt;head&gt;\n",
       "    \n",
       "    &lt;meta http-equiv=&quot;content-type&quot; content=&quot;text/html; charset=UTF-8&quot; /&gt;\n",
       "    \n",
       "        &lt;script&gt;\n",
       "            L_NO_TOUCH = false;\n",
       "            L_DISABLE_3D = false;\n",
       "        &lt;/script&gt;\n",
       "    \n",
       "    &lt;style&gt;html, body {width: 100%;height: 100%;margin: 0;padding: 0;}&lt;/style&gt;\n",
       "    &lt;style&gt;#map {position:absolute;top:0;bottom:0;right:0;left:0;}&lt;/style&gt;\n",
       "    &lt;script src=&quot;https://cdn.jsdelivr.net/npm/leaflet@1.9.3/dist/leaflet.js&quot;&gt;&lt;/script&gt;\n",
       "    &lt;script src=&quot;https://code.jquery.com/jquery-1.12.4.min.js&quot;&gt;&lt;/script&gt;\n",
       "    &lt;script src=&quot;https://cdn.jsdelivr.net/npm/bootstrap@5.2.2/dist/js/bootstrap.bundle.min.js&quot;&gt;&lt;/script&gt;\n",
       "    &lt;script src=&quot;https://cdnjs.cloudflare.com/ajax/libs/Leaflet.awesome-markers/2.0.2/leaflet.awesome-markers.js&quot;&gt;&lt;/script&gt;\n",
       "    &lt;link rel=&quot;stylesheet&quot; href=&quot;https://cdn.jsdelivr.net/npm/leaflet@1.9.3/dist/leaflet.css&quot;/&gt;\n",
       "    &lt;link rel=&quot;stylesheet&quot; href=&quot;https://cdn.jsdelivr.net/npm/bootstrap@5.2.2/dist/css/bootstrap.min.css&quot;/&gt;\n",
       "    &lt;link rel=&quot;stylesheet&quot; href=&quot;https://netdna.bootstrapcdn.com/bootstrap/3.0.0/css/bootstrap.min.css&quot;/&gt;\n",
       "    &lt;link rel=&quot;stylesheet&quot; href=&quot;https://cdn.jsdelivr.net/npm/@fortawesome/fontawesome-free@6.2.0/css/all.min.css&quot;/&gt;\n",
       "    &lt;link rel=&quot;stylesheet&quot; href=&quot;https://cdnjs.cloudflare.com/ajax/libs/Leaflet.awesome-markers/2.0.2/leaflet.awesome-markers.css&quot;/&gt;\n",
       "    &lt;link rel=&quot;stylesheet&quot; href=&quot;https://cdn.jsdelivr.net/gh/python-visualization/folium/folium/templates/leaflet.awesome.rotate.min.css&quot;/&gt;\n",
       "    \n",
       "            &lt;meta name=&quot;viewport&quot; content=&quot;width=device-width,\n",
       "                initial-scale=1.0, maximum-scale=1.0, user-scalable=no&quot; /&gt;\n",
       "            &lt;style&gt;\n",
       "                #map_308678c8db2f00687f9d355a3a0928aa {\n",
       "                    position: relative;\n",
       "                    width: 100.0%;\n",
       "                    height: 100.0%;\n",
       "                    left: 0.0%;\n",
       "                    top: 0.0%;\n",
       "                }\n",
       "                .leaflet-container { font-size: 1rem; }\n",
       "            &lt;/style&gt;\n",
       "        \n",
       "&lt;/head&gt;\n",
       "&lt;body&gt;\n",
       "    \n",
       "    \n",
       "            &lt;div class=&quot;folium-map&quot; id=&quot;map_308678c8db2f00687f9d355a3a0928aa&quot; &gt;&lt;/div&gt;\n",
       "        \n",
       "&lt;/body&gt;\n",
       "&lt;script&gt;\n",
       "    \n",
       "    \n",
       "            var map_308678c8db2f00687f9d355a3a0928aa = L.map(\n",
       "                &quot;map_308678c8db2f00687f9d355a3a0928aa&quot;,\n",
       "                {\n",
       "                    center: [35.8656, -121.4329],\n",
       "                    crs: L.CRS.EPSG3857,\n",
       "                    zoom: 15,\n",
       "                    zoomControl: true,\n",
       "                    preferCanvas: false,\n",
       "                }\n",
       "            );\n",
       "\n",
       "            \n",
       "\n",
       "        \n",
       "    \n",
       "            var tile_layer_88a52c90a3768b0b371e3261e130fbcc = L.tileLayer(\n",
       "                &quot;https://{s}.tile.openstreetmap.org/{z}/{x}/{y}.png&quot;,\n",
       "                {&quot;attribution&quot;: &quot;Data by \\u0026copy; \\u003ca target=\\&quot;_blank\\&quot; href=\\&quot;http://openstreetmap.org\\&quot;\\u003eOpenStreetMap\\u003c/a\\u003e, under \\u003ca target=\\&quot;_blank\\&quot; href=\\&quot;http://www.openstreetmap.org/copyright\\&quot;\\u003eODbL\\u003c/a\\u003e.&quot;, &quot;detectRetina&quot;: false, &quot;maxNativeZoom&quot;: 18, &quot;maxZoom&quot;: 18, &quot;minZoom&quot;: 0, &quot;noWrap&quot;: false, &quot;opacity&quot;: 1, &quot;subdomains&quot;: &quot;abc&quot;, &quot;tms&quot;: false}\n",
       "            ).addTo(map_308678c8db2f00687f9d355a3a0928aa);\n",
       "        \n",
       "    \n",
       "            var tile_layer_7c7ab452ef493e7d21231bb87a4053d7 = L.tileLayer(\n",
       "                &quot;https://earthengine.googleapis.com/v1alpha/projects/earthengine-legacy/maps/efbcaf4f4fffa11b3c7b3b06dee22f3d-55cd6eb6e70f0dfab9ce4bca4cc0496a/tiles/{z}/{x}/{y}&quot;,\n",
       "                {&quot;attribution&quot;: &quot;Map Data \\u0026copy; \\u003ca href=\\&quot;https://earthengine.google.com/\\&quot;\\u003eGoogle Earth Engine\\u003c/a\\u003e&quot;, &quot;detectRetina&quot;: false, &quot;maxNativeZoom&quot;: 18, &quot;maxZoom&quot;: 18, &quot;minZoom&quot;: 0, &quot;noWrap&quot;: false, &quot;opacity&quot;: 1, &quot;subdomains&quot;: &quot;abc&quot;, &quot;tms&quot;: false}\n",
       "            ).addTo(map_308678c8db2f00687f9d355a3a0928aa);\n",
       "        \n",
       "    \n",
       "            var layer_control_6e1c3af98468d9aece89138ae8f1e7d8 = {\n",
       "                base_layers : {\n",
       "                    &quot;openstreetmap&quot; : tile_layer_88a52c90a3768b0b371e3261e130fbcc,\n",
       "                },\n",
       "                overlays :  {\n",
       "                    &quot;land surface change&quot; : tile_layer_7c7ab452ef493e7d21231bb87a4053d7,\n",
       "                },\n",
       "            };\n",
       "            L.control.layers(\n",
       "                layer_control_6e1c3af98468d9aece89138ae8f1e7d8.base_layers,\n",
       "                layer_control_6e1c3af98468d9aece89138ae8f1e7d8.overlays,\n",
       "                {&quot;autoZIndex&quot;: true, &quot;collapsed&quot;: true, &quot;position&quot;: &quot;topright&quot;}\n",
       "            ).addTo(map_308678c8db2f00687f9d355a3a0928aa);\n",
       "        \n",
       "&lt;/script&gt;\n",
       "&lt;/html&gt;\" style=\"position:absolute;width:100%;height:100%;left:0;top:0;border:none !important;\" allowfullscreen webkitallowfullscreen mozallowfullscreen></iframe></div></div>"
      ],
      "text/plain": [
       "<folium.folium.Map at 0x2d30f0703a0>"
      ]
     },
     "execution_count": 40,
     "metadata": {},
     "output_type": "execute_result"
    }
   ],
   "source": [
    "# Subtract NDWI from the change map\n",
    "Big_Sur_LS = Big_Sur_S2_ndwi_last_image.And(BS_c_map)\n",
    "\n",
    "# Updating water mask\n",
    "Big_Sur_LS = Big_Sur_LS.updateMask(Big_Sur_LS.gt(0))\n",
    "\n",
    "# Display the result on the map\n",
    "Big_Sur_LS_map = folium.Map(location=[35.8656, -121.4329], zoom_start=15)\n",
    "Big_Sur_LS_map.add_ee_layer(Big_Sur_LS, {'min': 0, 'max': 1, 'palette': ['black', 'red']}, 'land surface change')\n",
    "\n",
    "# Add layer control\n",
    "Big_Sur_LS_map.add_child(folium.LayerControl())\n",
    "\n",
    "# Display the map\n",
    "Big_Sur_LS_map"
   ]
  },
  {
   "cell_type": "markdown",
   "id": "6b4e9a3a",
   "metadata": {},
   "source": [
    "## Summary and results\n",
    "<p>In the preliminary phase of the project, land changes due to landslide of Caddy Lake, Manitoba, Canada, on June 25, 2016 using SAR (Sentinel-1) satellite images has been detected. Accordingly, appropriate times series of SAR images within a time window of six months before and after the event date are processed to pinpoint pre- and post- land surface changes due to landslide. Unlike a large landslide with a significant mass movement, the reported land surface changes were not the result of a major shift. Instead, they involved smaller slope movements scattered across an area of about 5 square kilometers.</p>\n",
    "<p>To further test our methods, we also looked into the Big Sur landslide that took place on May 20, 2017. This event involved a substantial mass movement and we used a similar approach to our previous analysis. We were able to accurately detect downward slope movement in this case. However, there is a twist, since both of these locations are close to large bodies of water. This led to water areas being included within our analysis and defined as land changes. To address this, we tried a different tactic. Instead of directly applying a water mask to SAR images (which we found it quite difficult following multiple attempts), we applied the water mask to multispectral images (Sentinel-2). Then, by combining the various steps we have developed a method to distinguish between water areas and changes in the land surface effectively.</p>\n",
    "<p>Our study underscores the remarkable and substantial capability of the synergistic integration of Synthetic Aperture Radar (SAR) and multispectral imagery in landslide study. Satellite images from Sentinel-1 SAR are really handy to spot changes on the ground, no matter how big or small the area is. When we use Sentinel-2 images, they help us tell apart water and land changes. By putting together SAR and multispectral images, we have a strong way to look into land changes while leaving out water bodies. This combo is a great tool to keep an eye on land shifts, like possible landslides. This capability besides enhancing our understanding of land alterations opens doors to broader applications in fields such as disaster management, urban planning, agricultural monitoring, and ecological assessments.</p>"
   ]
  },
  {
   "cell_type": "code",
   "execution_count": null,
   "id": "b2ca4ed9",
   "metadata": {},
   "outputs": [],
   "source": []
  }
 ],
 "metadata": {
  "celltoolbar": "Tags",
  "kernelspec": {
   "display_name": "Python 3 (ipykernel)",
   "language": "python",
   "name": "python3"
  },
  "language_info": {
   "codemirror_mode": {
    "name": "ipython",
    "version": 3
   },
   "file_extension": ".py",
   "mimetype": "text/x-python",
   "name": "python",
   "nbconvert_exporter": "python",
   "pygments_lexer": "ipython3",
   "version": "3.8.13"
  }
 },
 "nbformat": 4,
 "nbformat_minor": 5
}
