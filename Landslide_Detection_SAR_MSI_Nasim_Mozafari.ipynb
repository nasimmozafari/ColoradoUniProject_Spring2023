{
 "cells": [
  {
   "cell_type": "markdown",
   "id": "32f9bba3",
   "metadata": {},
   "source": [
    "# <center>Landslide detection using Synthetic Aperature Radar and Multispectral imagery</center>\n",
    "\n",
    "### <span style=\"background-color: #green; padding: 5px; border-radius: 5px;\"><div style=\"background-color: #f2f2f2; padding: 10px;\"><center>Nasim Mozafari Amiri, Mentor: Elsa Culler</center></div></span><span style=\"background-color: #green; padding: 5px; border-radius: 5px;\"><div style=\"background-color: #f2f2f2; padding: 10px;\"><center>August 2023</center></div></span>"
   ]
  },
  {
   "cell_type": "markdown",
   "id": "cda68bff",
   "metadata": {},
   "source": [
    "<h2 id=\"Project-Goals\"><center>Project Goals</center><a class=\"anchor-link\" href=\"#Project-Goals\">&#182;</a></h2><p>As documented by the NASA Global Landslide Catalog, landslides pose a significant geological threat to North America and specifically most states within the United States. Furthermore, data from the US Geological Survey (USGS) suggests an ongoing yearly toll of approximately 25-50 individuals falling victim to landslides across the nation. Recognizing the criticality of landslide exposure assessment and comprehending the geographical context of inhabited areas becomes paramount to effectively manage and minimize the potential impact of these natural disasters.\n",
    "<p>Given the significance of studying landslide disasters, this project focused on the examination of two specific landslide incidents. Consequently, we have processed appropriate time series of SAR images to identify changes in the land surface before and after these events: one occurring at Caddy Lake in Manitoba, Canada, and the other at Big Sur in California, USA. To ensure that our analysis excludes water bodies, we calculated the Normalized Difference Water Index (NDWI) using multispectral imagery. This approach was chosen over directly applying a water mask to SAR images, as we encountered challenges in doing so despite multiple attempts. In conclusion, we have developed a codebase capable of distinguishing changes in the land surface by effectively subtracting water bodies.</p>"
   ]
  },
  {
   "cell_type": "markdown",
   "id": "3aba74af",
   "metadata": {
    "tags": [
     "remove_cell"
    ]
   },
   "source": [
    "## Run Google earth Engine (GEE)\n",
    "Run the following cell to initialize the API. The output will offer instruction on how to link this notebook with Earth Engine access using your account."
   ]
  },
  {
   "cell_type": "code",
   "execution_count": 1,
   "id": "2a304e6f",
   "metadata": {
    "ExecuteTime": {
     "end_time": "2023-08-14T15:23:37.666472Z",
     "start_time": "2023-08-14T15:23:14.392011Z"
    },
    "tags": [
     "remove_cell"
    ]
   },
   "outputs": [
    {
     "data": {
      "text/html": [
       "<p>To authorize access needed by Earth Engine, open the following\n",
       "        URL in a web browser and follow the instructions:</p>\n",
       "        <p><a href=https://code.earthengine.google.com/client-auth?scopes=https%3A//www.googleapis.com/auth/earthengine%20https%3A//www.googleapis.com/auth/devstorage.full_control&request_id=hSr8hyP1DebzzrOwptEybLVs9sOwokogGSOOFua5KMQ&tc=Ggj9HRkdvhECZBeh5qUTOPPOH5hfiKd1w43NdNfiqYM&cc=9bKL8tmTq_2wMYRO5mAVwvh8DaXe5LClEkNMA3Eylas>https://code.earthengine.google.com/client-auth?scopes=https%3A//www.googleapis.com/auth/earthengine%20https%3A//www.googleapis.com/auth/devstorage.full_control&request_id=hSr8hyP1DebzzrOwptEybLVs9sOwokogGSOOFua5KMQ&tc=Ggj9HRkdvhECZBeh5qUTOPPOH5hfiKd1w43NdNfiqYM&cc=9bKL8tmTq_2wMYRO5mAVwvh8DaXe5LClEkNMA3Eylas</a></p>\n",
       "        <p>The authorization workflow will generate a code, which you should paste in the box below.</p>\n",
       "        "
      ],
      "text/plain": [
       "<IPython.core.display.HTML object>"
      ]
     },
     "metadata": {},
     "output_type": "display_data"
    },
    {
     "name": "stdout",
     "output_type": "stream",
     "text": [
      "Enter verification code: 4/1Adeu5BWJuUda5VmA8oftHLeVu5gFzXdYqKUCkuB2QIXwt1MggxvXlDSX3FA\n",
      "\n",
      "Successfully saved authorization token.\n"
     ]
    }
   ],
   "source": [
    "import ee\n",
    "# Trigger the authentication flow.\n",
    "ee.Authenticate()\n",
    "\n",
    "# Initialize the library.\n",
    "ee.Initialize()"
   ]
  },
  {
   "cell_type": "markdown",
   "id": "c0666e07",
   "metadata": {
    "ExecuteTime": {
     "end_time": "2023-04-24T18:48:20.357989Z",
     "start_time": "2023-04-24T18:48:20.344402Z"
    }
   },
   "source": [
    "## Data source\n",
    "\n",
    "1. [Copernicus_S1_GRD](https://developers.google.com/earth-engine/datasets/catalog/COPERNICUS_S1_GRD) and [Copernicus_S2](https://developers.google.com/earth-engine/datasets/catalog/sentinel-2) by European Space Agency(ESA)\n",
    "2. USGS NAIP Imagery NDVI (GEE basemap layer)\n",
    "3. USGS NAIP Imagery False Color\n",
    "4. Verified landslides of North America collected by Earth Lab at the University of Colorado Boulder"
   ]
  },
  {
   "cell_type": "markdown",
   "id": "db1a8764",
   "metadata": {
    "tags": [
     "remove_cell"
    ]
   },
   "source": [
    "## Import libraries and packages"
   ]
  },
  {
   "cell_type": "code",
   "execution_count": 2,
   "id": "e7bdce07",
   "metadata": {
    "ExecuteTime": {
     "end_time": "2023-08-14T15:23:46.420011Z",
     "start_time": "2023-08-14T15:23:37.668970Z"
    },
    "tags": [
     "remove_cell"
    ]
   },
   "outputs": [],
   "source": [
    "# Required libraries and packages\n",
    "import os\n",
    "import json\n",
    "import earthpy as et\n",
    "import pandas as pd\n",
    "import folium\n",
    "import geopandas as gpd\n",
    "import matplotlib.pyplot as plt\n",
    "import ee\n",
    "import geemap\n",
    "\n",
    "import geemap.foliumap as geemap\n",
    "\n",
    "from scipy.stats import chi2\n",
    "%matplotlib inline"
   ]
  },
  {
   "cell_type": "markdown",
   "id": "15f48313",
   "metadata": {},
   "source": [
    "We utilized multiple Python modules provided by Google Earth Engine to process our data."
   ]
  },
  {
   "cell_type": "code",
   "execution_count": 3,
   "id": "c2bae504",
   "metadata": {
    "ExecuteTime": {
     "end_time": "2023-08-14T15:23:46.444449Z",
     "start_time": "2023-08-14T15:23:46.424387Z"
    },
    "tags": [
     "remove_cell"
    ]
   },
   "outputs": [],
   "source": [
    "# First, in order to add Earth Engine layer to Folium map we need this function below\n",
    "def add_ee_layer(self, ee_image_object, vis_params, name):\n",
    "    \"\"\"\n",
    "    Adds Earth Engine layers to a folium map.\n",
    "\n",
    "    Returns\n",
    "    -------\n",
    "    Earth Engine Raster Layers to Folium Map\n",
    "    \"\"\"\n",
    "\n",
    "    map_id_dict = ee.Image(ee_image_object).getMapId(vis_params)\n",
    "    folium.raster_layers.TileLayer(\n",
    "        tiles=map_id_dict['tile_fetcher'].url_format,\n",
    "        attr='Map Data &copy; <a href=\"https://earthengine.google.com/\">Google Earth Engine</a>',\n",
    "        name=name,\n",
    "        overlay=True,\n",
    "        control=True).add_to(self)"
   ]
  },
  {
   "cell_type": "code",
   "execution_count": 4,
   "id": "78b17ded",
   "metadata": {
    "ExecuteTime": {
     "end_time": "2023-08-14T15:23:46.460351Z",
     "start_time": "2023-08-14T15:23:46.444449Z"
    },
    "tags": [
     "remove_cell"
    ]
   },
   "outputs": [],
   "source": [
    "def selectvv(current):\n",
    "    \"\"\"\n",
    "    Selects the 'VV' bands from an image\n",
    "\n",
    "    Returns\n",
    "    -------\n",
    "    function\n",
    "        to select the images with 'VV' bands\n",
    "\n",
    "    \"\"\"\n",
    "    return ee.Image(current).select('VV')"
   ]
  },
  {
   "cell_type": "code",
   "execution_count": 5,
   "id": "5793d462",
   "metadata": {
    "ExecuteTime": {
     "end_time": "2023-08-14T15:23:46.476301Z",
     "start_time": "2023-08-14T15:23:46.463066Z"
    },
    "tags": [
     "remove_cell"
    ]
   },
   "outputs": [],
   "source": [
    "def omnibus(im_list, m=4.4):\n",
    "    \"\"\"Calculates the omnibus test statistic, monovariate case.\"\"\"\n",
    "    def log(current):\n",
    "        return ee.Image(current).log()\n",
    "\n",
    "    im_list = ee.List(im_list)\n",
    "    k = im_list.length()\n",
    "    klogk = k.multiply(k.log())\n",
    "    klogk = ee.Image.constant(klogk)\n",
    "    sumlogs = ee.ImageCollection(im_list.map(log)).reduce(ee.Reducer.sum())\n",
    "    logsum = ee.ImageCollection(im_list).reduce(ee.Reducer.sum()).log()\n",
    "    return klogk.add(sumlogs).subtract(logsum.multiply(k)).multiply(-2*m)"
   ]
  },
  {
   "cell_type": "code",
   "execution_count": 6,
   "id": "2a8f3a0e",
   "metadata": {
    "ExecuteTime": {
     "end_time": "2023-08-14T15:23:46.492241Z",
     "start_time": "2023-08-14T15:23:46.476301Z"
    },
    "tags": [
     "remove_cell"
    ]
   },
   "outputs": [],
   "source": [
    "def chi2cdf(chi2, df):\n",
    "    \"\"\"Calculates Chi square cumulative distribution function for\n",
    "       df degrees of freedom using the built-in incomplete gamma\n",
    "       function gammainc().\n",
    "    \"\"\"\n",
    "    return ee.Image(chi2.divide(2)).gammainc(ee.Number(df).divide(2))\n",
    "\n",
    "def det(im):\n",
    "    \"\"\"Calculates determinant of 2x2 diagonal covariance matrix.\"\"\"\n",
    "    return im.expression('b(0)*b(1)')"
   ]
  },
  {
   "cell_type": "markdown",
   "id": "5f0f227d",
   "metadata": {
    "tags": [
     "remove_cell"
    ]
   },
   "source": [
    "## Set working directory"
   ]
  },
  {
   "cell_type": "code",
   "execution_count": 7,
   "id": "1936c868",
   "metadata": {
    "ExecuteTime": {
     "end_time": "2023-08-14T15:23:46.508029Z",
     "start_time": "2023-08-14T15:23:46.492241Z"
    },
    "tags": [
     "remove_cell"
    ]
   },
   "outputs": [
    {
     "data": {
      "text/plain": [
       "'C:\\\\Users\\\\nasim\\\\earth-analytics\\\\landslide-detect'"
      ]
     },
     "execution_count": 7,
     "metadata": {},
     "output_type": "execute_result"
    }
   ],
   "source": [
    "# Change directory to landslide-detect data path\n",
    "data_path = os.path.join(et.io.HOME, \"earth-analytics\", \"landslide-detect\")\n",
    "if os.path.exists(data_path):\n",
    "    os.chdir(data_path)\n",
    "else:\n",
    "    os.makedirs(data_path)\n",
    "    print('The new directory is created!')\n",
    "    os.chdir(data_path)\n",
    "\n",
    "data_path"
   ]
  },
  {
   "cell_type": "code",
   "execution_count": 8,
   "id": "44c8afde",
   "metadata": {
    "ExecuteTime": {
     "end_time": "2023-08-14T15:23:46.610657Z",
     "start_time": "2023-08-14T15:23:46.508029Z"
    },
    "tags": [
     "remove_cell"
    ]
   },
   "outputs": [
    {
     "name": "stdout",
     "output_type": "stream",
     "text": [
      ".\n",
      "./landslides.verified.csv\n"
     ]
    }
   ],
   "source": [
    "%%bash\n",
    "find ."
   ]
  },
  {
   "cell_type": "markdown",
   "id": "b77ecf3a",
   "metadata": {},
   "source": [
    "## Create data frame\n",
    "Utilizing information curated by Earth Lab at the University of Colorado Boulder (csv file), we have generated an extensive data frame comprising 228 confirmed landslides that occurred in North America from September 2015 to July 2017."
   ]
  },
  {
   "cell_type": "code",
   "execution_count": 9,
   "id": "62940c2a",
   "metadata": {
    "ExecuteTime": {
     "end_time": "2023-08-14T15:23:46.975998Z",
     "start_time": "2023-08-14T15:23:46.615171Z"
    },
    "tags": [
     "remove_input"
    ]
   },
   "outputs": [
    {
     "data": {
      "text/html": [
       "<div>\n",
       "<style scoped>\n",
       "    .dataframe tbody tr th:only-of-type {\n",
       "        vertical-align: middle;\n",
       "    }\n",
       "\n",
       "    .dataframe tbody tr th {\n",
       "        vertical-align: top;\n",
       "    }\n",
       "\n",
       "    .dataframe thead th {\n",
       "        text-align: right;\n",
       "    }\n",
       "</style>\n",
       "<table border=\"1\" class=\"dataframe\">\n",
       "  <thead>\n",
       "    <tr style=\"text-align: right;\">\n",
       "      <th></th>\n",
       "      <th>slide.id</th>\n",
       "      <th>slide.date</th>\n",
       "      <th>location</th>\n",
       "      <th>type</th>\n",
       "      <th>trigger</th>\n",
       "      <th>size</th>\n",
       "      <th>lon</th>\n",
       "      <th>lat</th>\n",
       "      <th>location_accuracy</th>\n",
       "      <th>event_title</th>\n",
       "      <th>admin_division_name</th>\n",
       "      <th>ge.lat</th>\n",
       "      <th>ge.lon</th>\n",
       "      <th>is.exact</th>\n",
       "      <th>slide.index</th>\n",
       "      <th>geometry</th>\n",
       "    </tr>\n",
       "  </thead>\n",
       "  <tbody>\n",
       "    <tr>\n",
       "      <th>0</th>\n",
       "      <td>8321</td>\n",
       "      <td>2015-09-21T00:00:00Z</td>\n",
       "      <td>Birken, BC, Canada</td>\n",
       "      <td>landslide</td>\n",
       "      <td>downpour</td>\n",
       "      <td>medium</td>\n",
       "      <td>-122.6205</td>\n",
       "      <td>50.479</td>\n",
       "      <td>5km</td>\n",
       "      <td>Birken, BC, Canada</td>\n",
       "      <td>British Columbia</td>\n",
       "      <td>NA</td>\n",
       "      <td>NA</td>\n",
       "      <td>FALSE</td>\n",
       "      <td>1</td>\n",
       "      <td>None</td>\n",
       "    </tr>\n",
       "    <tr>\n",
       "      <th>1</th>\n",
       "      <td>7757</td>\n",
       "      <td>2015-12-07T18:00:00Z</td>\n",
       "      <td>Edmonds</td>\n",
       "      <td>mudslide</td>\n",
       "      <td>rain</td>\n",
       "      <td>medium</td>\n",
       "      <td>-122.3805278</td>\n",
       "      <td>47.70679444</td>\n",
       "      <td>5km</td>\n",
       "      <td>Edmonds</td>\n",
       "      <td>Washington</td>\n",
       "      <td>47.70679444</td>\n",
       "      <td>-122.3805278</td>\n",
       "      <td>TRUE</td>\n",
       "      <td>2</td>\n",
       "      <td>None</td>\n",
       "    </tr>\n",
       "    <tr>\n",
       "      <th>2</th>\n",
       "      <td>8596</td>\n",
       "      <td>2015-10-04T23:00:00Z</td>\n",
       "      <td>Between 3rd and 7th Ave, Coast Highway, Laguna...</td>\n",
       "      <td>mudslide</td>\n",
       "      <td>rain</td>\n",
       "      <td>medium</td>\n",
       "      <td>-117.7431</td>\n",
       "      <td>33.5006</td>\n",
       "      <td>exact</td>\n",
       "      <td>Between 3rd and 7th Ave, Coast Highway, Laguna...</td>\n",
       "      <td>California</td>\n",
       "      <td>NA</td>\n",
       "      <td>NA</td>\n",
       "      <td>FALSE</td>\n",
       "      <td>3</td>\n",
       "      <td>None</td>\n",
       "    </tr>\n",
       "    <tr>\n",
       "      <th>3</th>\n",
       "      <td>8678</td>\n",
       "      <td>2015-10-08T00:00:00Z</td>\n",
       "      <td>between Fort Davis and Fort Davis State Park</td>\n",
       "      <td>rock_fall</td>\n",
       "      <td>flooding</td>\n",
       "      <td>medium</td>\n",
       "      <td>-103.9220611</td>\n",
       "      <td>30.60231111</td>\n",
       "      <td>exact</td>\n",
       "      <td>between Fort Davis and Fort Davis State Park</td>\n",
       "      <td>Texas</td>\n",
       "      <td>30.60231111</td>\n",
       "      <td>-103.9220611</td>\n",
       "      <td>TRUE</td>\n",
       "      <td>5</td>\n",
       "      <td>None</td>\n",
       "    </tr>\n",
       "    <tr>\n",
       "      <th>4</th>\n",
       "      <td>9013</td>\n",
       "      <td>2015-12-09T00:00:00Z</td>\n",
       "      <td>I-5 near Portland border</td>\n",
       "      <td>rock_fall</td>\n",
       "      <td>flooding</td>\n",
       "      <td>medium</td>\n",
       "      <td>-122.6573</td>\n",
       "      <td>45.7326</td>\n",
       "      <td>1km</td>\n",
       "      <td>I-5 near Portland border</td>\n",
       "      <td>Washington</td>\n",
       "      <td>NA</td>\n",
       "      <td>NA</td>\n",
       "      <td>FALSE</td>\n",
       "      <td>6</td>\n",
       "      <td>None</td>\n",
       "    </tr>\n",
       "  </tbody>\n",
       "</table>\n",
       "</div>"
      ],
      "text/plain": [
       "  slide.id            slide.date  \\\n",
       "0     8321  2015-09-21T00:00:00Z   \n",
       "1     7757  2015-12-07T18:00:00Z   \n",
       "2     8596  2015-10-04T23:00:00Z   \n",
       "3     8678  2015-10-08T00:00:00Z   \n",
       "4     9013  2015-12-09T00:00:00Z   \n",
       "\n",
       "                                            location       type   trigger  \\\n",
       "0                                 Birken, BC, Canada  landslide  downpour   \n",
       "1                                            Edmonds   mudslide      rain   \n",
       "2  Between 3rd and 7th Ave, Coast Highway, Laguna...   mudslide      rain   \n",
       "3       between Fort Davis and Fort Davis State Park  rock_fall  flooding   \n",
       "4                           I-5 near Portland border  rock_fall  flooding   \n",
       "\n",
       "     size           lon          lat location_accuracy  \\\n",
       "0  medium     -122.6205       50.479               5km   \n",
       "1  medium  -122.3805278  47.70679444               5km   \n",
       "2  medium     -117.7431      33.5006             exact   \n",
       "3  medium  -103.9220611  30.60231111             exact   \n",
       "4  medium     -122.6573      45.7326               1km   \n",
       "\n",
       "                                         event_title admin_division_name  \\\n",
       "0                                 Birken, BC, Canada    British Columbia   \n",
       "1                                            Edmonds          Washington   \n",
       "2  Between 3rd and 7th Ave, Coast Highway, Laguna...          California   \n",
       "3       between Fort Davis and Fort Davis State Park               Texas   \n",
       "4                           I-5 near Portland border          Washington   \n",
       "\n",
       "        ge.lat        ge.lon is.exact slide.index geometry  \n",
       "0           NA            NA    FALSE           1     None  \n",
       "1  47.70679444  -122.3805278     TRUE           2     None  \n",
       "2           NA            NA    FALSE           3     None  \n",
       "3  30.60231111  -103.9220611     TRUE           5     None  \n",
       "4           NA            NA    FALSE           6     None  "
      ]
     },
     "execution_count": 9,
     "metadata": {},
     "output_type": "execute_result"
    }
   ],
   "source": [
    "# Create DataFrame and open landslide file of North America\n",
    "landslide_gdf = gpd.read_file('landslides.verified.csv')\n",
    "landslide_gdf.head()"
   ]
  },
  {
   "cell_type": "code",
   "execution_count": 10,
   "id": "9d94c08b",
   "metadata": {
    "ExecuteTime": {
     "end_time": "2023-08-14T15:23:47.008086Z",
     "start_time": "2023-08-14T15:23:46.975998Z"
    },
    "tags": [
     "remove_cell"
    ]
   },
   "outputs": [
    {
     "data": {
      "text/html": [
       "<div>\n",
       "<style scoped>\n",
       "    .dataframe tbody tr th:only-of-type {\n",
       "        vertical-align: middle;\n",
       "    }\n",
       "\n",
       "    .dataframe tbody tr th {\n",
       "        vertical-align: top;\n",
       "    }\n",
       "\n",
       "    .dataframe thead th {\n",
       "        text-align: right;\n",
       "    }\n",
       "</style>\n",
       "<table border=\"1\" class=\"dataframe\">\n",
       "  <thead>\n",
       "    <tr style=\"text-align: right;\">\n",
       "      <th></th>\n",
       "      <th>slide.id</th>\n",
       "      <th>slide.date</th>\n",
       "      <th>location</th>\n",
       "      <th>type</th>\n",
       "      <th>trigger</th>\n",
       "      <th>size</th>\n",
       "      <th>lon</th>\n",
       "      <th>lat</th>\n",
       "      <th>location_accuracy</th>\n",
       "      <th>event_title</th>\n",
       "      <th>admin_division_name</th>\n",
       "      <th>ge.lat</th>\n",
       "      <th>ge.lon</th>\n",
       "      <th>is.exact</th>\n",
       "      <th>slide.index</th>\n",
       "      <th>geometry</th>\n",
       "    </tr>\n",
       "  </thead>\n",
       "  <tbody>\n",
       "    <tr>\n",
       "      <th>11</th>\n",
       "      <td>8728</td>\n",
       "      <td>2015-10-11T00:00:00Z</td>\n",
       "      <td>Broadmoor Bluffs neighborhood</td>\n",
       "      <td>landslide</td>\n",
       "      <td>rain</td>\n",
       "      <td>large</td>\n",
       "      <td>-104.8318</td>\n",
       "      <td>38.7612</td>\n",
       "      <td>5km</td>\n",
       "      <td>Broadmoor Bluffs neighborhood</td>\n",
       "      <td>Colorado</td>\n",
       "      <td>NA</td>\n",
       "      <td>NA</td>\n",
       "      <td>FALSE</td>\n",
       "      <td>15</td>\n",
       "      <td>None</td>\n",
       "    </tr>\n",
       "    <tr>\n",
       "      <th>21</th>\n",
       "      <td>8741</td>\n",
       "      <td>2015-10-16T00:00:00Z</td>\n",
       "      <td>San Francisquito Canyon Road</td>\n",
       "      <td>mudslide</td>\n",
       "      <td>flooding</td>\n",
       "      <td>large</td>\n",
       "      <td>-118.4938</td>\n",
       "      <td>34.5587</td>\n",
       "      <td>1km</td>\n",
       "      <td>San Francisquito Canyon Road</td>\n",
       "      <td>California</td>\n",
       "      <td>NA</td>\n",
       "      <td>NA</td>\n",
       "      <td>FALSE</td>\n",
       "      <td>28</td>\n",
       "      <td>None</td>\n",
       "    </tr>\n",
       "    <tr>\n",
       "      <th>25</th>\n",
       "      <td>8743</td>\n",
       "      <td>2015-10-16T00:00:00Z</td>\n",
       "      <td>Lake Elizabeth</td>\n",
       "      <td>mudslide</td>\n",
       "      <td>flooding</td>\n",
       "      <td>large</td>\n",
       "      <td>-118.4041</td>\n",
       "      <td>34.6685</td>\n",
       "      <td>5km</td>\n",
       "      <td>Lake Elizabeth</td>\n",
       "      <td>California</td>\n",
       "      <td>NA</td>\n",
       "      <td>NA</td>\n",
       "      <td>FALSE</td>\n",
       "      <td>34</td>\n",
       "      <td>None</td>\n",
       "    </tr>\n",
       "    <tr>\n",
       "      <th>29</th>\n",
       "      <td>8945</td>\n",
       "      <td>2015-11-13T00:00:00Z</td>\n",
       "      <td>Cougar Mountain in Issaquah,  Talus Drive and ...</td>\n",
       "      <td>landslide</td>\n",
       "      <td>rain</td>\n",
       "      <td>large</td>\n",
       "      <td>-122.073</td>\n",
       "      <td>47.5328</td>\n",
       "      <td>exact</td>\n",
       "      <td>Cougar Mountain in Issaquah,  Talus Drive and ...</td>\n",
       "      <td>Washington</td>\n",
       "      <td>NA</td>\n",
       "      <td>NA</td>\n",
       "      <td>FALSE</td>\n",
       "      <td>40</td>\n",
       "      <td>None</td>\n",
       "    </tr>\n",
       "    <tr>\n",
       "      <th>38</th>\n",
       "      <td>8742</td>\n",
       "      <td>2015-10-16T00:00:00Z</td>\n",
       "      <td>Lake Hughes Road</td>\n",
       "      <td>mudslide</td>\n",
       "      <td>flooding</td>\n",
       "      <td>large</td>\n",
       "      <td>-118.5561</td>\n",
       "      <td>34.5784</td>\n",
       "      <td>1km</td>\n",
       "      <td>Lake Hughes Road</td>\n",
       "      <td>California</td>\n",
       "      <td>NA</td>\n",
       "      <td>NA</td>\n",
       "      <td>FALSE</td>\n",
       "      <td>51</td>\n",
       "      <td>None</td>\n",
       "    </tr>\n",
       "  </tbody>\n",
       "</table>\n",
       "</div>"
      ],
      "text/plain": [
       "   slide.id            slide.date  \\\n",
       "11     8728  2015-10-11T00:00:00Z   \n",
       "21     8741  2015-10-16T00:00:00Z   \n",
       "25     8743  2015-10-16T00:00:00Z   \n",
       "29     8945  2015-11-13T00:00:00Z   \n",
       "38     8742  2015-10-16T00:00:00Z   \n",
       "\n",
       "                                             location       type   trigger  \\\n",
       "11                      Broadmoor Bluffs neighborhood  landslide      rain   \n",
       "21                       San Francisquito Canyon Road   mudslide  flooding   \n",
       "25                                     Lake Elizabeth   mudslide  flooding   \n",
       "29  Cougar Mountain in Issaquah,  Talus Drive and ...  landslide      rain   \n",
       "38                                   Lake Hughes Road   mudslide  flooding   \n",
       "\n",
       "     size        lon      lat location_accuracy  \\\n",
       "11  large  -104.8318  38.7612               5km   \n",
       "21  large  -118.4938  34.5587               1km   \n",
       "25  large  -118.4041  34.6685               5km   \n",
       "29  large   -122.073  47.5328             exact   \n",
       "38  large  -118.5561  34.5784               1km   \n",
       "\n",
       "                                          event_title admin_division_name  \\\n",
       "11                      Broadmoor Bluffs neighborhood            Colorado   \n",
       "21                       San Francisquito Canyon Road          California   \n",
       "25                                     Lake Elizabeth          California   \n",
       "29  Cougar Mountain in Issaquah,  Talus Drive and ...          Washington   \n",
       "38                                   Lake Hughes Road          California   \n",
       "\n",
       "   ge.lat ge.lon is.exact slide.index geometry  \n",
       "11     NA     NA    FALSE          15     None  \n",
       "21     NA     NA    FALSE          28     None  \n",
       "25     NA     NA    FALSE          34     None  \n",
       "29     NA     NA    FALSE          40     None  \n",
       "38     NA     NA    FALSE          51     None  "
      ]
     },
     "execution_count": 10,
     "metadata": {},
     "output_type": "execute_result"
    }
   ],
   "source": [
    "# Extract verified large landslides of North America\n",
    "large_ls = landslide_gdf[landslide_gdf['size'].str.contains\n",
    "                              ('large')]\n",
    "large_ls.head()"
   ]
  },
  {
   "cell_type": "markdown",
   "id": "b6204ad1",
   "metadata": {},
   "source": [
    "## Folium map of all large verified landslide locations of North America (2015-2017)"
   ]
  },
  {
   "cell_type": "code",
   "execution_count": 51,
   "id": "aa4a1436",
   "metadata": {
    "ExecuteTime": {
     "end_time": "2023-08-14T20:28:06.887289Z",
     "start_time": "2023-08-14T20:28:06.818385Z"
    },
    "tags": [
     "remove_input"
    ]
   },
   "outputs": [
    {
     "data": {
      "text/html": [
       "<div style=\"width:100%;\"><div style=\"position:relative;width:100%;height:0;padding-bottom:60%;\"><span style=\"color:#565656\">Make this Notebook Trusted to load map: File -> Trust Notebook</span><iframe srcdoc=\"&lt;!DOCTYPE html&gt;\n",
       "&lt;html&gt;\n",
       "&lt;head&gt;\n",
       "    \n",
       "    &lt;meta http-equiv=&quot;content-type&quot; content=&quot;text/html; charset=UTF-8&quot; /&gt;\n",
       "    \n",
       "        &lt;script&gt;\n",
       "            L_NO_TOUCH = false;\n",
       "            L_DISABLE_3D = false;\n",
       "        &lt;/script&gt;\n",
       "    \n",
       "    &lt;style&gt;html, body {width: 100%;height: 100%;margin: 0;padding: 0;}&lt;/style&gt;\n",
       "    &lt;style&gt;#map {position:absolute;top:0;bottom:0;right:0;left:0;}&lt;/style&gt;\n",
       "    &lt;script src=&quot;https://cdn.jsdelivr.net/npm/leaflet@1.9.3/dist/leaflet.js&quot;&gt;&lt;/script&gt;\n",
       "    &lt;script src=&quot;https://code.jquery.com/jquery-1.12.4.min.js&quot;&gt;&lt;/script&gt;\n",
       "    &lt;script src=&quot;https://cdn.jsdelivr.net/npm/bootstrap@5.2.2/dist/js/bootstrap.bundle.min.js&quot;&gt;&lt;/script&gt;\n",
       "    &lt;script src=&quot;https://cdnjs.cloudflare.com/ajax/libs/Leaflet.awesome-markers/2.0.2/leaflet.awesome-markers.js&quot;&gt;&lt;/script&gt;\n",
       "    &lt;link rel=&quot;stylesheet&quot; href=&quot;https://cdn.jsdelivr.net/npm/leaflet@1.9.3/dist/leaflet.css&quot;/&gt;\n",
       "    &lt;link rel=&quot;stylesheet&quot; href=&quot;https://cdn.jsdelivr.net/npm/bootstrap@5.2.2/dist/css/bootstrap.min.css&quot;/&gt;\n",
       "    &lt;link rel=&quot;stylesheet&quot; href=&quot;https://netdna.bootstrapcdn.com/bootstrap/3.0.0/css/bootstrap.min.css&quot;/&gt;\n",
       "    &lt;link rel=&quot;stylesheet&quot; href=&quot;https://cdn.jsdelivr.net/npm/@fortawesome/fontawesome-free@6.2.0/css/all.min.css&quot;/&gt;\n",
       "    &lt;link rel=&quot;stylesheet&quot; href=&quot;https://cdnjs.cloudflare.com/ajax/libs/Leaflet.awesome-markers/2.0.2/leaflet.awesome-markers.css&quot;/&gt;\n",
       "    &lt;link rel=&quot;stylesheet&quot; href=&quot;https://cdn.jsdelivr.net/gh/python-visualization/folium/folium/templates/leaflet.awesome.rotate.min.css&quot;/&gt;\n",
       "    \n",
       "            &lt;meta name=&quot;viewport&quot; content=&quot;width=device-width,\n",
       "                initial-scale=1.0, maximum-scale=1.0, user-scalable=no&quot; /&gt;\n",
       "            &lt;style&gt;\n",
       "                #map_9dd902cca7ec14fd29e5547fae42500f {\n",
       "                    position: relative;\n",
       "                    width: 900.0px;\n",
       "                    height: 500.0px;\n",
       "                    left: 0.0%;\n",
       "                    top: 0.0%;\n",
       "                }\n",
       "                .leaflet-container { font-size: 1rem; }\n",
       "            &lt;/style&gt;\n",
       "        \n",
       "&lt;/head&gt;\n",
       "&lt;body&gt;\n",
       "    \n",
       "    \n",
       "            &lt;div class=&quot;folium-map&quot; id=&quot;map_9dd902cca7ec14fd29e5547fae42500f&quot; &gt;&lt;/div&gt;\n",
       "        \n",
       "&lt;/body&gt;\n",
       "&lt;script&gt;\n",
       "    \n",
       "    \n",
       "            var map_9dd902cca7ec14fd29e5547fae42500f = L.map(\n",
       "                &quot;map_9dd902cca7ec14fd29e5547fae42500f&quot;,\n",
       "                {\n",
       "                    center: [43.0, -105.0],\n",
       "                    crs: L.CRS.EPSG3857,\n",
       "                    zoom: 4,\n",
       "                    zoomControl: true,\n",
       "                    preferCanvas: false,\n",
       "                }\n",
       "            );\n",
       "\n",
       "            \n",
       "\n",
       "        \n",
       "    \n",
       "            var tile_layer_8ca71252aaf708be373190572cd8c0a6 = L.tileLayer(\n",
       "                &quot;https://stamen-tiles-{s}.a.ssl.fastly.net/terrain/{z}/{x}/{y}.jpg&quot;,\n",
       "                {&quot;attribution&quot;: &quot;Map tiles by \\u003ca target=\\&quot;_blank\\&quot; href=\\&quot;http://stamen.com\\&quot;\\u003eStamen Design\\u003c/a\\u003e, under \\u003ca target=\\&quot;_blank\\&quot; href=\\&quot;http://creativecommons.org/licenses/by/3.0\\&quot;\\u003eCC BY 3.0\\u003c/a\\u003e. Data by \\u0026copy; \\u003ca target=\\&quot;_blank\\&quot; href=\\&quot;http://openstreetmap.org\\&quot;\\u003eOpenStreetMap\\u003c/a\\u003e, under \\u003ca target=\\&quot;_blank\\&quot; href=\\&quot;http://creativecommons.org/licenses/by-sa/3.0\\&quot;\\u003eCC BY SA\\u003c/a\\u003e.&quot;, &quot;detectRetina&quot;: false, &quot;maxNativeZoom&quot;: 18, &quot;maxZoom&quot;: 18, &quot;minZoom&quot;: 0, &quot;noWrap&quot;: false, &quot;opacity&quot;: 1, &quot;subdomains&quot;: &quot;abc&quot;, &quot;tms&quot;: false}\n",
       "            ).addTo(map_9dd902cca7ec14fd29e5547fae42500f);\n",
       "        \n",
       "    \n",
       "            var marker_6a6d1bc01469415aa5f66c856f8fc146 = L.marker(\n",
       "                [38.7612, -104.8318],\n",
       "                {}\n",
       "            ).addTo(map_9dd902cca7ec14fd29e5547fae42500f);\n",
       "        \n",
       "    \n",
       "            var icon_4635724693998b1f2305cefd07fa4557 = L.AwesomeMarkers.icon(\n",
       "                {&quot;extraClasses&quot;: &quot;fa-rotate-0&quot;, &quot;icon&quot;: &quot;info-sign&quot;, &quot;iconColor&quot;: &quot;white&quot;, &quot;markerColor&quot;: &quot;red&quot;, &quot;prefix&quot;: &quot;glyphicon&quot;}\n",
       "            );\n",
       "            marker_6a6d1bc01469415aa5f66c856f8fc146.setIcon(icon_4635724693998b1f2305cefd07fa4557);\n",
       "        \n",
       "    \n",
       "        var popup_6ffb022c3043334fcd2bfba8b9f79fbc = L.popup({&quot;maxWidth&quot;: &quot;100%&quot;});\n",
       "\n",
       "        \n",
       "            \n",
       "                var html_38dc6d14b14af060b3894ae8566bcd37 = $(`&lt;div id=&quot;html_38dc6d14b14af060b3894ae8566bcd37&quot; style=&quot;width: 100.0%; height: 100.0%;&quot;&gt;8728&lt;/div&gt;`)[0];\n",
       "                popup_6ffb022c3043334fcd2bfba8b9f79fbc.setContent(html_38dc6d14b14af060b3894ae8566bcd37);\n",
       "            \n",
       "        \n",
       "\n",
       "        marker_6a6d1bc01469415aa5f66c856f8fc146.bindPopup(popup_6ffb022c3043334fcd2bfba8b9f79fbc)\n",
       "        ;\n",
       "\n",
       "        \n",
       "    \n",
       "    \n",
       "            var marker_f209e1813700cc65d96aa11e0d3161cb = L.marker(\n",
       "                [34.5587, -118.4938],\n",
       "                {}\n",
       "            ).addTo(map_9dd902cca7ec14fd29e5547fae42500f);\n",
       "        \n",
       "    \n",
       "            var icon_fc6454f186c71783056a6d41f9546601 = L.AwesomeMarkers.icon(\n",
       "                {&quot;extraClasses&quot;: &quot;fa-rotate-0&quot;, &quot;icon&quot;: &quot;info-sign&quot;, &quot;iconColor&quot;: &quot;white&quot;, &quot;markerColor&quot;: &quot;red&quot;, &quot;prefix&quot;: &quot;glyphicon&quot;}\n",
       "            );\n",
       "            marker_f209e1813700cc65d96aa11e0d3161cb.setIcon(icon_fc6454f186c71783056a6d41f9546601);\n",
       "        \n",
       "    \n",
       "        var popup_18f2e5d5f312e619060fb4063f70e1a7 = L.popup({&quot;maxWidth&quot;: &quot;100%&quot;});\n",
       "\n",
       "        \n",
       "            \n",
       "                var html_4256d3a238b1f1955b004e3524e5e0c2 = $(`&lt;div id=&quot;html_4256d3a238b1f1955b004e3524e5e0c2&quot; style=&quot;width: 100.0%; height: 100.0%;&quot;&gt;8741&lt;/div&gt;`)[0];\n",
       "                popup_18f2e5d5f312e619060fb4063f70e1a7.setContent(html_4256d3a238b1f1955b004e3524e5e0c2);\n",
       "            \n",
       "        \n",
       "\n",
       "        marker_f209e1813700cc65d96aa11e0d3161cb.bindPopup(popup_18f2e5d5f312e619060fb4063f70e1a7)\n",
       "        ;\n",
       "\n",
       "        \n",
       "    \n",
       "    \n",
       "            var marker_27b711b1cf5dc8389b06d2882492354d = L.marker(\n",
       "                [34.6685, -118.4041],\n",
       "                {}\n",
       "            ).addTo(map_9dd902cca7ec14fd29e5547fae42500f);\n",
       "        \n",
       "    \n",
       "            var icon_b638b8fd08a197f613a286ab50114d93 = L.AwesomeMarkers.icon(\n",
       "                {&quot;extraClasses&quot;: &quot;fa-rotate-0&quot;, &quot;icon&quot;: &quot;info-sign&quot;, &quot;iconColor&quot;: &quot;white&quot;, &quot;markerColor&quot;: &quot;red&quot;, &quot;prefix&quot;: &quot;glyphicon&quot;}\n",
       "            );\n",
       "            marker_27b711b1cf5dc8389b06d2882492354d.setIcon(icon_b638b8fd08a197f613a286ab50114d93);\n",
       "        \n",
       "    \n",
       "        var popup_ee74edc3361dd0b910e98ad65d8b0995 = L.popup({&quot;maxWidth&quot;: &quot;100%&quot;});\n",
       "\n",
       "        \n",
       "            \n",
       "                var html_eabb100949f274d7f76efc91483a1e35 = $(`&lt;div id=&quot;html_eabb100949f274d7f76efc91483a1e35&quot; style=&quot;width: 100.0%; height: 100.0%;&quot;&gt;8743&lt;/div&gt;`)[0];\n",
       "                popup_ee74edc3361dd0b910e98ad65d8b0995.setContent(html_eabb100949f274d7f76efc91483a1e35);\n",
       "            \n",
       "        \n",
       "\n",
       "        marker_27b711b1cf5dc8389b06d2882492354d.bindPopup(popup_ee74edc3361dd0b910e98ad65d8b0995)\n",
       "        ;\n",
       "\n",
       "        \n",
       "    \n",
       "    \n",
       "            var marker_1190292341795ed8f3ec004e5886dc2a = L.marker(\n",
       "                [47.5328, -122.073],\n",
       "                {}\n",
       "            ).addTo(map_9dd902cca7ec14fd29e5547fae42500f);\n",
       "        \n",
       "    \n",
       "            var icon_25cd545e1dc3842b9f600ef897f8cdfd = L.AwesomeMarkers.icon(\n",
       "                {&quot;extraClasses&quot;: &quot;fa-rotate-0&quot;, &quot;icon&quot;: &quot;info-sign&quot;, &quot;iconColor&quot;: &quot;white&quot;, &quot;markerColor&quot;: &quot;red&quot;, &quot;prefix&quot;: &quot;glyphicon&quot;}\n",
       "            );\n",
       "            marker_1190292341795ed8f3ec004e5886dc2a.setIcon(icon_25cd545e1dc3842b9f600ef897f8cdfd);\n",
       "        \n",
       "    \n",
       "        var popup_a99897e97061af24ae607614bec45888 = L.popup({&quot;maxWidth&quot;: &quot;100%&quot;});\n",
       "\n",
       "        \n",
       "            \n",
       "                var html_cd07cd8e638e9cd601174803ea43dccf = $(`&lt;div id=&quot;html_cd07cd8e638e9cd601174803ea43dccf&quot; style=&quot;width: 100.0%; height: 100.0%;&quot;&gt;8945&lt;/div&gt;`)[0];\n",
       "                popup_a99897e97061af24ae607614bec45888.setContent(html_cd07cd8e638e9cd601174803ea43dccf);\n",
       "            \n",
       "        \n",
       "\n",
       "        marker_1190292341795ed8f3ec004e5886dc2a.bindPopup(popup_a99897e97061af24ae607614bec45888)\n",
       "        ;\n",
       "\n",
       "        \n",
       "    \n",
       "    \n",
       "            var marker_a8abd15f2a957383d36b33cfa8bead45 = L.marker(\n",
       "                [34.5784, -118.5561],\n",
       "                {}\n",
       "            ).addTo(map_9dd902cca7ec14fd29e5547fae42500f);\n",
       "        \n",
       "    \n",
       "            var icon_f919e3709ba68d806c3465a303163dbe = L.AwesomeMarkers.icon(\n",
       "                {&quot;extraClasses&quot;: &quot;fa-rotate-0&quot;, &quot;icon&quot;: &quot;info-sign&quot;, &quot;iconColor&quot;: &quot;white&quot;, &quot;markerColor&quot;: &quot;red&quot;, &quot;prefix&quot;: &quot;glyphicon&quot;}\n",
       "            );\n",
       "            marker_a8abd15f2a957383d36b33cfa8bead45.setIcon(icon_f919e3709ba68d806c3465a303163dbe);\n",
       "        \n",
       "    \n",
       "        var popup_a814dcf8be11f1a0cee30f4e82aa6ddc = L.popup({&quot;maxWidth&quot;: &quot;100%&quot;});\n",
       "\n",
       "        \n",
       "            \n",
       "                var html_c9b8ae40ca126afc14716656c2f5c8a0 = $(`&lt;div id=&quot;html_c9b8ae40ca126afc14716656c2f5c8a0&quot; style=&quot;width: 100.0%; height: 100.0%;&quot;&gt;8742&lt;/div&gt;`)[0];\n",
       "                popup_a814dcf8be11f1a0cee30f4e82aa6ddc.setContent(html_c9b8ae40ca126afc14716656c2f5c8a0);\n",
       "            \n",
       "        \n",
       "\n",
       "        marker_a8abd15f2a957383d36b33cfa8bead45.bindPopup(popup_a814dcf8be11f1a0cee30f4e82aa6ddc)\n",
       "        ;\n",
       "\n",
       "        \n",
       "    \n",
       "    \n",
       "            var marker_f209e52b1ed7bdc8d2fe7b5e5e040f92 = L.marker(\n",
       "                [35.86562803, -121.4323838],\n",
       "                {}\n",
       "            ).addTo(map_9dd902cca7ec14fd29e5547fae42500f);\n",
       "        \n",
       "    \n",
       "            var icon_e193461ae5f461417a50d3a4d89b734a = L.AwesomeMarkers.icon(\n",
       "                {&quot;extraClasses&quot;: &quot;fa-rotate-0&quot;, &quot;icon&quot;: &quot;info-sign&quot;, &quot;iconColor&quot;: &quot;white&quot;, &quot;markerColor&quot;: &quot;red&quot;, &quot;prefix&quot;: &quot;glyphicon&quot;}\n",
       "            );\n",
       "            marker_f209e52b1ed7bdc8d2fe7b5e5e040f92.setIcon(icon_e193461ae5f461417a50d3a4d89b734a);\n",
       "        \n",
       "    \n",
       "        var popup_2e1bf6a0a3498ff2cfee695cdc51e444 = L.popup({&quot;maxWidth&quot;: &quot;100%&quot;});\n",
       "\n",
       "        \n",
       "            \n",
       "                var html_c8da91f09f62226113ba6910dd093ca5 = $(`&lt;div id=&quot;html_c8da91f09f62226113ba6910dd093ca5&quot; style=&quot;width: 100.0%; height: 100.0%;&quot;&gt;9734&lt;/div&gt;`)[0];\n",
       "                popup_2e1bf6a0a3498ff2cfee695cdc51e444.setContent(html_c8da91f09f62226113ba6910dd093ca5);\n",
       "            \n",
       "        \n",
       "\n",
       "        marker_f209e52b1ed7bdc8d2fe7b5e5e040f92.bindPopup(popup_2e1bf6a0a3498ff2cfee695cdc51e444)\n",
       "        ;\n",
       "\n",
       "        \n",
       "    \n",
       "    \n",
       "            var marker_f36f60d219534f026216f17096927692 = L.marker(\n",
       "                [51.97686189, -122.2792711],\n",
       "                {}\n",
       "            ).addTo(map_9dd902cca7ec14fd29e5547fae42500f);\n",
       "        \n",
       "    \n",
       "            var icon_cde6bd2a488604286708fff11ac791a7 = L.AwesomeMarkers.icon(\n",
       "                {&quot;extraClasses&quot;: &quot;fa-rotate-0&quot;, &quot;icon&quot;: &quot;info-sign&quot;, &quot;iconColor&quot;: &quot;white&quot;, &quot;markerColor&quot;: &quot;red&quot;, &quot;prefix&quot;: &quot;glyphicon&quot;}\n",
       "            );\n",
       "            marker_f36f60d219534f026216f17096927692.setIcon(icon_cde6bd2a488604286708fff11ac791a7);\n",
       "        \n",
       "    \n",
       "        var popup_649ae3650288a2c5e6fbff92d99c694a = L.popup({&quot;maxWidth&quot;: &quot;100%&quot;});\n",
       "\n",
       "        \n",
       "            \n",
       "                var html_8f65c78de3061bf8dece4182f0fb7844 = $(`&lt;div id=&quot;html_8f65c78de3061bf8dece4182f0fb7844&quot; style=&quot;width: 100.0%; height: 100.0%;&quot;&gt;9844&lt;/div&gt;`)[0];\n",
       "                popup_649ae3650288a2c5e6fbff92d99c694a.setContent(html_8f65c78de3061bf8dece4182f0fb7844);\n",
       "            \n",
       "        \n",
       "\n",
       "        marker_f36f60d219534f026216f17096927692.bindPopup(popup_649ae3650288a2c5e6fbff92d99c694a)\n",
       "        ;\n",
       "\n",
       "        \n",
       "    \n",
       "    \n",
       "            var marker_b5f18ad18f969816049c3a7cd6cf8298 = L.marker(\n",
       "                [49.8063, -95.2098],\n",
       "                {}\n",
       "            ).addTo(map_9dd902cca7ec14fd29e5547fae42500f);\n",
       "        \n",
       "    \n",
       "            var icon_422becd98eb8b421b184d2186f5b89f3 = L.AwesomeMarkers.icon(\n",
       "                {&quot;extraClasses&quot;: &quot;fa-rotate-0&quot;, &quot;icon&quot;: &quot;info-sign&quot;, &quot;iconColor&quot;: &quot;white&quot;, &quot;markerColor&quot;: &quot;red&quot;, &quot;prefix&quot;: &quot;glyphicon&quot;}\n",
       "            );\n",
       "            marker_b5f18ad18f969816049c3a7cd6cf8298.setIcon(icon_422becd98eb8b421b184d2186f5b89f3);\n",
       "        \n",
       "    \n",
       "        var popup_ee9a8d0930240ade0079b70fc68fa9f0 = L.popup({&quot;maxWidth&quot;: &quot;100%&quot;});\n",
       "\n",
       "        \n",
       "            \n",
       "                var html_40d7bf2dd63645fadab5bf1292411980 = $(`&lt;div id=&quot;html_40d7bf2dd63645fadab5bf1292411980&quot; style=&quot;width: 100.0%; height: 100.0%;&quot;&gt;7922&lt;/div&gt;`)[0];\n",
       "                popup_ee9a8d0930240ade0079b70fc68fa9f0.setContent(html_40d7bf2dd63645fadab5bf1292411980);\n",
       "            \n",
       "        \n",
       "\n",
       "        marker_b5f18ad18f969816049c3a7cd6cf8298.bindPopup(popup_ee9a8d0930240ade0079b70fc68fa9f0)\n",
       "        ;\n",
       "\n",
       "        \n",
       "    \n",
       "    \n",
       "            var marker_0b7f6648bcebbc724dbca049306c29ea = L.marker(\n",
       "                [43.8156, -91.2105],\n",
       "                {}\n",
       "            ).addTo(map_9dd902cca7ec14fd29e5547fae42500f);\n",
       "        \n",
       "    \n",
       "            var icon_8fdbbb9e592a0bcec39e5e11e5abc43d = L.AwesomeMarkers.icon(\n",
       "                {&quot;extraClasses&quot;: &quot;fa-rotate-0&quot;, &quot;icon&quot;: &quot;info-sign&quot;, &quot;iconColor&quot;: &quot;white&quot;, &quot;markerColor&quot;: &quot;red&quot;, &quot;prefix&quot;: &quot;glyphicon&quot;}\n",
       "            );\n",
       "            marker_0b7f6648bcebbc724dbca049306c29ea.setIcon(icon_8fdbbb9e592a0bcec39e5e11e5abc43d);\n",
       "        \n",
       "    \n",
       "        var popup_7bf9f664f2bc294949d886003034a6e4 = L.popup({&quot;maxWidth&quot;: &quot;100%&quot;});\n",
       "\n",
       "        \n",
       "            \n",
       "                var html_5e0c09313378492651fb2c946390bb44 = $(`&lt;div id=&quot;html_5e0c09313378492651fb2c946390bb44&quot; style=&quot;width: 100.0%; height: 100.0%;&quot;&gt;9394&lt;/div&gt;`)[0];\n",
       "                popup_7bf9f664f2bc294949d886003034a6e4.setContent(html_5e0c09313378492651fb2c946390bb44);\n",
       "            \n",
       "        \n",
       "\n",
       "        marker_0b7f6648bcebbc724dbca049306c29ea.bindPopup(popup_7bf9f664f2bc294949d886003034a6e4)\n",
       "        ;\n",
       "\n",
       "        \n",
       "    \n",
       "    \n",
       "            var marker_e4590b9139001937100485578deb679b = L.marker(\n",
       "                [37.8849, -80.3442],\n",
       "                {}\n",
       "            ).addTo(map_9dd902cca7ec14fd29e5547fae42500f);\n",
       "        \n",
       "    \n",
       "            var icon_2ecce543acfaf1d66da238265ce71d6b = L.AwesomeMarkers.icon(\n",
       "                {&quot;extraClasses&quot;: &quot;fa-rotate-0&quot;, &quot;icon&quot;: &quot;info-sign&quot;, &quot;iconColor&quot;: &quot;white&quot;, &quot;markerColor&quot;: &quot;red&quot;, &quot;prefix&quot;: &quot;glyphicon&quot;}\n",
       "            );\n",
       "            marker_e4590b9139001937100485578deb679b.setIcon(icon_2ecce543acfaf1d66da238265ce71d6b);\n",
       "        \n",
       "    \n",
       "        var popup_fcad15d3f953a3a9ab7e68c21feecf05 = L.popup({&quot;maxWidth&quot;: &quot;100%&quot;});\n",
       "\n",
       "        \n",
       "            \n",
       "                var html_828f0d311162d56f9c99b1fc37cb6c43 = $(`&lt;div id=&quot;html_828f0d311162d56f9c99b1fc37cb6c43&quot; style=&quot;width: 100.0%; height: 100.0%;&quot;&gt;9046&lt;/div&gt;`)[0];\n",
       "                popup_fcad15d3f953a3a9ab7e68c21feecf05.setContent(html_828f0d311162d56f9c99b1fc37cb6c43);\n",
       "            \n",
       "        \n",
       "\n",
       "        marker_e4590b9139001937100485578deb679b.bindPopup(popup_fcad15d3f953a3a9ab7e68c21feecf05)\n",
       "        ;\n",
       "\n",
       "        \n",
       "    \n",
       "    \n",
       "            var marker_565349a8e010adf7df18c42e30465b2a = L.marker(\n",
       "                [37.57370278, -82.44406389],\n",
       "                {}\n",
       "            ).addTo(map_9dd902cca7ec14fd29e5547fae42500f);\n",
       "        \n",
       "    \n",
       "            var icon_21acd37bae1cf750bc437aab2079f1ec = L.AwesomeMarkers.icon(\n",
       "                {&quot;extraClasses&quot;: &quot;fa-rotate-0&quot;, &quot;icon&quot;: &quot;info-sign&quot;, &quot;iconColor&quot;: &quot;white&quot;, &quot;markerColor&quot;: &quot;red&quot;, &quot;prefix&quot;: &quot;glyphicon&quot;}\n",
       "            );\n",
       "            marker_565349a8e010adf7df18c42e30465b2a.setIcon(icon_21acd37bae1cf750bc437aab2079f1ec);\n",
       "        \n",
       "    \n",
       "        var popup_60e6fea0a28bcebfe5818439d814990c = L.popup({&quot;maxWidth&quot;: &quot;100%&quot;});\n",
       "\n",
       "        \n",
       "            \n",
       "                var html_c7ffb88d1ce6d321f01e8f4c2820d383 = $(`&lt;div id=&quot;html_c7ffb88d1ce6d321f01e8f4c2820d383&quot; style=&quot;width: 100.0%; height: 100.0%;&quot;&gt;9177&lt;/div&gt;`)[0];\n",
       "                popup_60e6fea0a28bcebfe5818439d814990c.setContent(html_c7ffb88d1ce6d321f01e8f4c2820d383);\n",
       "            \n",
       "        \n",
       "\n",
       "        marker_565349a8e010adf7df18c42e30465b2a.bindPopup(popup_60e6fea0a28bcebfe5818439d814990c)\n",
       "        ;\n",
       "\n",
       "        \n",
       "    \n",
       "    \n",
       "            var marker_2c96e7e4b16cf85eb1a5057e7bb1de88 = L.marker(\n",
       "                [56.22486111, -117.2681389],\n",
       "                {}\n",
       "            ).addTo(map_9dd902cca7ec14fd29e5547fae42500f);\n",
       "        \n",
       "    \n",
       "            var icon_902f69126e6c046c5de02ffcfafe0233 = L.AwesomeMarkers.icon(\n",
       "                {&quot;extraClasses&quot;: &quot;fa-rotate-0&quot;, &quot;icon&quot;: &quot;info-sign&quot;, &quot;iconColor&quot;: &quot;white&quot;, &quot;markerColor&quot;: &quot;red&quot;, &quot;prefix&quot;: &quot;glyphicon&quot;}\n",
       "            );\n",
       "            marker_2c96e7e4b16cf85eb1a5057e7bb1de88.setIcon(icon_902f69126e6c046c5de02ffcfafe0233);\n",
       "        \n",
       "    \n",
       "        var popup_c33bb40901b75c3e1f8123b2d05a26f7 = L.popup({&quot;maxWidth&quot;: &quot;100%&quot;});\n",
       "\n",
       "        \n",
       "            \n",
       "                var html_2c8fd2308a50c740c50210a0af1a7636 = $(`&lt;div id=&quot;html_2c8fd2308a50c740c50210a0af1a7636&quot; style=&quot;width: 100.0%; height: 100.0%;&quot;&gt;9063&lt;/div&gt;`)[0];\n",
       "                popup_c33bb40901b75c3e1f8123b2d05a26f7.setContent(html_2c8fd2308a50c740c50210a0af1a7636);\n",
       "            \n",
       "        \n",
       "\n",
       "        marker_2c96e7e4b16cf85eb1a5057e7bb1de88.bindPopup(popup_c33bb40901b75c3e1f8123b2d05a26f7)\n",
       "        ;\n",
       "\n",
       "        \n",
       "    \n",
       "    \n",
       "            var marker_e91852f6b19ce42efb6c68b944cfd3f5 = L.marker(\n",
       "                [52.6843, -118.175],\n",
       "                {}\n",
       "            ).addTo(map_9dd902cca7ec14fd29e5547fae42500f);\n",
       "        \n",
       "    \n",
       "            var icon_2fa1e256898f58817644555adb868709 = L.AwesomeMarkers.icon(\n",
       "                {&quot;extraClasses&quot;: &quot;fa-rotate-0&quot;, &quot;icon&quot;: &quot;info-sign&quot;, &quot;iconColor&quot;: &quot;white&quot;, &quot;markerColor&quot;: &quot;red&quot;, &quot;prefix&quot;: &quot;glyphicon&quot;}\n",
       "            );\n",
       "            marker_e91852f6b19ce42efb6c68b944cfd3f5.setIcon(icon_2fa1e256898f58817644555adb868709);\n",
       "        \n",
       "    \n",
       "        var popup_57cc17a5561dee33f26780cdd801f9ea = L.popup({&quot;maxWidth&quot;: &quot;100%&quot;});\n",
       "\n",
       "        \n",
       "            \n",
       "                var html_ffc0ce578a9f119d927352f046d902b1 = $(`&lt;div id=&quot;html_ffc0ce578a9f119d927352f046d902b1&quot; style=&quot;width: 100.0%; height: 100.0%;&quot;&gt;9214&lt;/div&gt;`)[0];\n",
       "                popup_57cc17a5561dee33f26780cdd801f9ea.setContent(html_ffc0ce578a9f119d927352f046d902b1);\n",
       "            \n",
       "        \n",
       "\n",
       "        marker_e91852f6b19ce42efb6c68b944cfd3f5.bindPopup(popup_57cc17a5561dee33f26780cdd801f9ea)\n",
       "        ;\n",
       "\n",
       "        \n",
       "    \n",
       "    \n",
       "            var marker_f20455bc855844a262c30bef3ccd1867 = L.marker(\n",
       "                [32.834, -96.8975],\n",
       "                {}\n",
       "            ).addTo(map_9dd902cca7ec14fd29e5547fae42500f);\n",
       "        \n",
       "    \n",
       "            var icon_cb96e74542fc0e2b8aba78feb1ea1e33 = L.AwesomeMarkers.icon(\n",
       "                {&quot;extraClasses&quot;: &quot;fa-rotate-0&quot;, &quot;icon&quot;: &quot;info-sign&quot;, &quot;iconColor&quot;: &quot;white&quot;, &quot;markerColor&quot;: &quot;red&quot;, &quot;prefix&quot;: &quot;glyphicon&quot;}\n",
       "            );\n",
       "            marker_f20455bc855844a262c30bef3ccd1867.setIcon(icon_cb96e74542fc0e2b8aba78feb1ea1e33);\n",
       "        \n",
       "    \n",
       "        var popup_ac90967c880e82638541b93559af4a0d = L.popup({&quot;maxWidth&quot;: &quot;100%&quot;});\n",
       "\n",
       "        \n",
       "            \n",
       "                var html_a22df77be400b9e4b342b2f927830e30 = $(`&lt;div id=&quot;html_a22df77be400b9e4b342b2f927830e30&quot; style=&quot;width: 100.0%; height: 100.0%;&quot;&gt;8343&lt;/div&gt;`)[0];\n",
       "                popup_ac90967c880e82638541b93559af4a0d.setContent(html_a22df77be400b9e4b342b2f927830e30);\n",
       "            \n",
       "        \n",
       "\n",
       "        marker_f20455bc855844a262c30bef3ccd1867.bindPopup(popup_ac90967c880e82638541b93559af4a0d)\n",
       "        ;\n",
       "\n",
       "        \n",
       "    \n",
       "    \n",
       "            var marker_8b06ea4d5d09c2025d375ceffd679ac2 = L.marker(\n",
       "                [35.42818822, -120.7711518],\n",
       "                {}\n",
       "            ).addTo(map_9dd902cca7ec14fd29e5547fae42500f);\n",
       "        \n",
       "    \n",
       "            var icon_1a02f91a2a62affa7bbd8295794aa921 = L.AwesomeMarkers.icon(\n",
       "                {&quot;extraClasses&quot;: &quot;fa-rotate-0&quot;, &quot;icon&quot;: &quot;info-sign&quot;, &quot;iconColor&quot;: &quot;white&quot;, &quot;markerColor&quot;: &quot;red&quot;, &quot;prefix&quot;: &quot;glyphicon&quot;}\n",
       "            );\n",
       "            marker_8b06ea4d5d09c2025d375ceffd679ac2.setIcon(icon_1a02f91a2a62affa7bbd8295794aa921);\n",
       "        \n",
       "    \n",
       "        var popup_bc6b0c50a5bd1bd2cee63c6f5238ee22 = L.popup({&quot;maxWidth&quot;: &quot;100%&quot;});\n",
       "\n",
       "        \n",
       "            \n",
       "                var html_e90255226faf673466af75bc327fa600 = $(`&lt;div id=&quot;html_e90255226faf673466af75bc327fa600&quot; style=&quot;width: 100.0%; height: 100.0%;&quot;&gt;10135&lt;/div&gt;`)[0];\n",
       "                popup_bc6b0c50a5bd1bd2cee63c6f5238ee22.setContent(html_e90255226faf673466af75bc327fa600);\n",
       "            \n",
       "        \n",
       "\n",
       "        marker_8b06ea4d5d09c2025d375ceffd679ac2.bindPopup(popup_bc6b0c50a5bd1bd2cee63c6f5238ee22)\n",
       "        ;\n",
       "\n",
       "        \n",
       "    \n",
       "    \n",
       "            var marker_33c30da4d035ea8078f5f241ab42a0d7 = L.marker(\n",
       "                [37.018892, -121.93556],\n",
       "                {}\n",
       "            ).addTo(map_9dd902cca7ec14fd29e5547fae42500f);\n",
       "        \n",
       "    \n",
       "            var icon_a15f1d5f46331b3800feb0aded2d7531 = L.AwesomeMarkers.icon(\n",
       "                {&quot;extraClasses&quot;: &quot;fa-rotate-0&quot;, &quot;icon&quot;: &quot;info-sign&quot;, &quot;iconColor&quot;: &quot;white&quot;, &quot;markerColor&quot;: &quot;red&quot;, &quot;prefix&quot;: &quot;glyphicon&quot;}\n",
       "            );\n",
       "            marker_33c30da4d035ea8078f5f241ab42a0d7.setIcon(icon_a15f1d5f46331b3800feb0aded2d7531);\n",
       "        \n",
       "    \n",
       "        var popup_9d90964038927ece664704a4782d69c3 = L.popup({&quot;maxWidth&quot;: &quot;100%&quot;});\n",
       "\n",
       "        \n",
       "            \n",
       "                var html_255fae456e36f08aa67c223a74f80a63 = $(`&lt;div id=&quot;html_255fae456e36f08aa67c223a74f80a63&quot; style=&quot;width: 100.0%; height: 100.0%;&quot;&gt;10142&lt;/div&gt;`)[0];\n",
       "                popup_9d90964038927ece664704a4782d69c3.setContent(html_255fae456e36f08aa67c223a74f80a63);\n",
       "            \n",
       "        \n",
       "\n",
       "        marker_33c30da4d035ea8078f5f241ab42a0d7.bindPopup(popup_9d90964038927ece664704a4782d69c3)\n",
       "        ;\n",
       "\n",
       "        \n",
       "    \n",
       "    \n",
       "            var marker_3d83a8e2084ed27eda8845970e1eb144 = L.marker(\n",
       "                [43.20365429, -124.3049956],\n",
       "                {}\n",
       "            ).addTo(map_9dd902cca7ec14fd29e5547fae42500f);\n",
       "        \n",
       "    \n",
       "            var icon_f8d190230b61a2c0dbcd97d22f6fa13a = L.AwesomeMarkers.icon(\n",
       "                {&quot;extraClasses&quot;: &quot;fa-rotate-0&quot;, &quot;icon&quot;: &quot;info-sign&quot;, &quot;iconColor&quot;: &quot;white&quot;, &quot;markerColor&quot;: &quot;red&quot;, &quot;prefix&quot;: &quot;glyphicon&quot;}\n",
       "            );\n",
       "            marker_3d83a8e2084ed27eda8845970e1eb144.setIcon(icon_f8d190230b61a2c0dbcd97d22f6fa13a);\n",
       "        \n",
       "    \n",
       "        var popup_e2db0daf205a31c5f47f5da34464bbe6 = L.popup({&quot;maxWidth&quot;: &quot;100%&quot;});\n",
       "\n",
       "        \n",
       "            \n",
       "                var html_45729dceb56aab68771c069bfe23cb9a = $(`&lt;div id=&quot;html_45729dceb56aab68771c069bfe23cb9a&quot; style=&quot;width: 100.0%; height: 100.0%;&quot;&gt;10549&lt;/div&gt;`)[0];\n",
       "                popup_e2db0daf205a31c5f47f5da34464bbe6.setContent(html_45729dceb56aab68771c069bfe23cb9a);\n",
       "            \n",
       "        \n",
       "\n",
       "        marker_3d83a8e2084ed27eda8845970e1eb144.bindPopup(popup_e2db0daf205a31c5f47f5da34464bbe6)\n",
       "        ;\n",
       "\n",
       "        \n",
       "    \n",
       "    \n",
       "            var marker_2b7544ab2baec43173c44246936e88d2 = L.marker(\n",
       "                [46.04343186, -117.2441381],\n",
       "                {}\n",
       "            ).addTo(map_9dd902cca7ec14fd29e5547fae42500f);\n",
       "        \n",
       "    \n",
       "            var icon_b019ddee163658048d95589da48dfdd6 = L.AwesomeMarkers.icon(\n",
       "                {&quot;extraClasses&quot;: &quot;fa-rotate-0&quot;, &quot;icon&quot;: &quot;info-sign&quot;, &quot;iconColor&quot;: &quot;white&quot;, &quot;markerColor&quot;: &quot;red&quot;, &quot;prefix&quot;: &quot;glyphicon&quot;}\n",
       "            );\n",
       "            marker_2b7544ab2baec43173c44246936e88d2.setIcon(icon_b019ddee163658048d95589da48dfdd6);\n",
       "        \n",
       "    \n",
       "        var popup_6841f8cd80e4e0fd5b7f1b854d1da048 = L.popup({&quot;maxWidth&quot;: &quot;100%&quot;});\n",
       "\n",
       "        \n",
       "            \n",
       "                var html_18b80027df156309d804e861f398b302 = $(`&lt;div id=&quot;html_18b80027df156309d804e861f398b302&quot; style=&quot;width: 100.0%; height: 100.0%;&quot;&gt;10588&lt;/div&gt;`)[0];\n",
       "                popup_6841f8cd80e4e0fd5b7f1b854d1da048.setContent(html_18b80027df156309d804e861f398b302);\n",
       "            \n",
       "        \n",
       "\n",
       "        marker_2b7544ab2baec43173c44246936e88d2.bindPopup(popup_6841f8cd80e4e0fd5b7f1b854d1da048)\n",
       "        ;\n",
       "\n",
       "        \n",
       "    \n",
       "    \n",
       "            var marker_5fa6ba899b65f776564041fc6d7f1c36 = L.marker(\n",
       "                [34.15029849, -117.9438775],\n",
       "                {}\n",
       "            ).addTo(map_9dd902cca7ec14fd29e5547fae42500f);\n",
       "        \n",
       "    \n",
       "            var icon_96e17860d3c951ee290404f42fa19cd4 = L.AwesomeMarkers.icon(\n",
       "                {&quot;extraClasses&quot;: &quot;fa-rotate-0&quot;, &quot;icon&quot;: &quot;info-sign&quot;, &quot;iconColor&quot;: &quot;white&quot;, &quot;markerColor&quot;: &quot;red&quot;, &quot;prefix&quot;: &quot;glyphicon&quot;}\n",
       "            );\n",
       "            marker_5fa6ba899b65f776564041fc6d7f1c36.setIcon(icon_96e17860d3c951ee290404f42fa19cd4);\n",
       "        \n",
       "    \n",
       "        var popup_77436340ed78a7117294eeb160332f3f = L.popup({&quot;maxWidth&quot;: &quot;100%&quot;});\n",
       "\n",
       "        \n",
       "            \n",
       "                var html_71a11efc210248f39af89eb988386ee0 = $(`&lt;div id=&quot;html_71a11efc210248f39af89eb988386ee0&quot; style=&quot;width: 100.0%; height: 100.0%;&quot;&gt;10438&lt;/div&gt;`)[0];\n",
       "                popup_77436340ed78a7117294eeb160332f3f.setContent(html_71a11efc210248f39af89eb988386ee0);\n",
       "            \n",
       "        \n",
       "\n",
       "        marker_5fa6ba899b65f776564041fc6d7f1c36.bindPopup(popup_77436340ed78a7117294eeb160332f3f)\n",
       "        ;\n",
       "\n",
       "        \n",
       "    \n",
       "    \n",
       "            var marker_424d2bbe51eb895fc7c6b2406b785e86 = L.marker(\n",
       "                [47.88405278, -118.1638278],\n",
       "                {}\n",
       "            ).addTo(map_9dd902cca7ec14fd29e5547fae42500f);\n",
       "        \n",
       "    \n",
       "            var icon_9e1d7760895f52530174193068d9411b = L.AwesomeMarkers.icon(\n",
       "                {&quot;extraClasses&quot;: &quot;fa-rotate-0&quot;, &quot;icon&quot;: &quot;info-sign&quot;, &quot;iconColor&quot;: &quot;white&quot;, &quot;markerColor&quot;: &quot;red&quot;, &quot;prefix&quot;: &quot;glyphicon&quot;}\n",
       "            );\n",
       "            marker_424d2bbe51eb895fc7c6b2406b785e86.setIcon(icon_9e1d7760895f52530174193068d9411b);\n",
       "        \n",
       "    \n",
       "        var popup_0655c1f215c4fc47d0937b6fe3f45e2b = L.popup({&quot;maxWidth&quot;: &quot;100%&quot;});\n",
       "\n",
       "        \n",
       "            \n",
       "                var html_248f803b532e735db953f54dede23067 = $(`&lt;div id=&quot;html_248f803b532e735db953f54dede23067&quot; style=&quot;width: 100.0%; height: 100.0%;&quot;&gt;10521&lt;/div&gt;`)[0];\n",
       "                popup_0655c1f215c4fc47d0937b6fe3f45e2b.setContent(html_248f803b532e735db953f54dede23067);\n",
       "            \n",
       "        \n",
       "\n",
       "        marker_424d2bbe51eb895fc7c6b2406b785e86.bindPopup(popup_0655c1f215c4fc47d0937b6fe3f45e2b)\n",
       "        ;\n",
       "\n",
       "        \n",
       "    \n",
       "&lt;/script&gt;\n",
       "&lt;/html&gt;\" style=\"position:absolute;width:100%;height:100%;left:0;top:0;border:none !important;\" allowfullscreen webkitallowfullscreen mozallowfullscreen></iframe></div></div>"
      ],
      "text/plain": [
       "<folium.folium.Map at 0x22b3ed23a30>"
      ]
     },
     "execution_count": 51,
     "metadata": {},
     "output_type": "execute_result"
    }
   ],
   "source": [
    "# Display all verified large landslides of North America \n",
    "large_ls_map = folium.Map(\n",
    "    location=[43.0000, -105.0000],\n",
    "    zoom_start=4,\n",
    "    width=900,\n",
    "    height=500,\n",
    "    tiles='Stamen terrain')\n",
    "\n",
    "\n",
    "for index, row in large_ls.iterrows():\n",
    "    folium.Marker(\n",
    "        location=[row['lat'], row['lon']],\n",
    "        popup=row['slide.id'],\n",
    "        icon=folium.Icon(color=\"red\")\n",
    "    ).add_to(large_ls_map)\n",
    "\n",
    "large_ls_map"
   ]
  },
  {
   "cell_type": "markdown",
   "id": "59c3ec99",
   "metadata": {},
   "source": [
    "## Area of Interest (AOI)\n",
    "We studied two landslide events namely, Caddy Lake, Manitoba, Canada (June 25, 2016) and Bug Sur, California, USA (May 20, 2017). While the first is characterized by scattered land removal across an area of about 5 square kilometers, the last caused a substantial mass movement across the highway. \n",
    "\n",
    "## Extracting Caddy Lake and Big Sur landslides information"
   ]
  },
  {
   "cell_type": "code",
   "execution_count": 12,
   "id": "686ef9ef",
   "metadata": {
    "ExecuteTime": {
     "end_time": "2023-08-14T15:23:47.112478Z",
     "start_time": "2023-08-14T15:23:47.072446Z"
    },
    "tags": [
     "remove_input"
    ]
   },
   "outputs": [
    {
     "data": {
      "text/html": [
       "<div>\n",
       "<style scoped>\n",
       "    .dataframe tbody tr th:only-of-type {\n",
       "        vertical-align: middle;\n",
       "    }\n",
       "\n",
       "    .dataframe tbody tr th {\n",
       "        vertical-align: top;\n",
       "    }\n",
       "\n",
       "    .dataframe thead th {\n",
       "        text-align: right;\n",
       "    }\n",
       "</style>\n",
       "<table border=\"1\" class=\"dataframe\">\n",
       "  <thead>\n",
       "    <tr style=\"text-align: right;\">\n",
       "      <th></th>\n",
       "      <th>slide.id</th>\n",
       "      <th>slide.date</th>\n",
       "      <th>location</th>\n",
       "      <th>type</th>\n",
       "      <th>trigger</th>\n",
       "      <th>size</th>\n",
       "      <th>lon</th>\n",
       "      <th>lat</th>\n",
       "      <th>location_accuracy</th>\n",
       "      <th>event_title</th>\n",
       "      <th>admin_division_name</th>\n",
       "      <th>ge.lat</th>\n",
       "      <th>ge.lon</th>\n",
       "      <th>is.exact</th>\n",
       "      <th>slide.index</th>\n",
       "      <th>geometry</th>\n",
       "    </tr>\n",
       "  </thead>\n",
       "  <tbody>\n",
       "    <tr>\n",
       "      <th>55</th>\n",
       "      <td>7922</td>\n",
       "      <td>2016-06-25T09:00:00Z</td>\n",
       "      <td>Caddy Lake, 140 kmeast of Winnipeg, Canada</td>\n",
       "      <td>landslide</td>\n",
       "      <td>downpour</td>\n",
       "      <td>large</td>\n",
       "      <td>-95.2098</td>\n",
       "      <td>49.8063</td>\n",
       "      <td>5km</td>\n",
       "      <td>Caddy Lake, 140 kmeast of Winnipeg, Canada</td>\n",
       "      <td>Manitoba</td>\n",
       "      <td>NA</td>\n",
       "      <td>NA</td>\n",
       "      <td>FALSE</td>\n",
       "      <td>70</td>\n",
       "      <td>None</td>\n",
       "    </tr>\n",
       "  </tbody>\n",
       "</table>\n",
       "</div>"
      ],
      "text/plain": [
       "   slide.id            slide.date                                    location  \\\n",
       "55     7922  2016-06-25T09:00:00Z  Caddy Lake, 140 kmeast of Winnipeg, Canada   \n",
       "\n",
       "         type   trigger   size       lon      lat location_accuracy  \\\n",
       "55  landslide  downpour  large  -95.2098  49.8063               5km   \n",
       "\n",
       "                                   event_title admin_division_name ge.lat  \\\n",
       "55  Caddy Lake, 140 kmeast of Winnipeg, Canada            Manitoba     NA   \n",
       "\n",
       "   ge.lon is.exact slide.index geometry  \n",
       "55     NA    FALSE          70     None  "
      ]
     },
     "execution_count": 12,
     "metadata": {},
     "output_type": "execute_result"
    }
   ],
   "source": [
    "# Extract information of landslides of Caddy Lake, Manitoba, Canada\n",
    "Caddy_df = landslide_gdf[landslide_gdf['location'].str.contains\n",
    "                              ('Caddy Lake')]\n",
    "Caddy_df"
   ]
  },
  {
   "cell_type": "code",
   "execution_count": 13,
   "id": "f7a26814",
   "metadata": {
    "ExecuteTime": {
     "end_time": "2023-08-14T15:23:47.144475Z",
     "start_time": "2023-08-14T15:23:47.112478Z"
    },
    "tags": [
     "remove_input"
    ]
   },
   "outputs": [
    {
     "data": {
      "text/html": [
       "<div>\n",
       "<style scoped>\n",
       "    .dataframe tbody tr th:only-of-type {\n",
       "        vertical-align: middle;\n",
       "    }\n",
       "\n",
       "    .dataframe tbody tr th {\n",
       "        vertical-align: top;\n",
       "    }\n",
       "\n",
       "    .dataframe thead th {\n",
       "        text-align: right;\n",
       "    }\n",
       "</style>\n",
       "<table border=\"1\" class=\"dataframe\">\n",
       "  <thead>\n",
       "    <tr style=\"text-align: right;\">\n",
       "      <th></th>\n",
       "      <th>slide.id</th>\n",
       "      <th>slide.date</th>\n",
       "      <th>location</th>\n",
       "      <th>type</th>\n",
       "      <th>trigger</th>\n",
       "      <th>size</th>\n",
       "      <th>lon</th>\n",
       "      <th>lat</th>\n",
       "      <th>location_accuracy</th>\n",
       "      <th>event_title</th>\n",
       "      <th>admin_division_name</th>\n",
       "      <th>ge.lat</th>\n",
       "      <th>ge.lon</th>\n",
       "      <th>is.exact</th>\n",
       "      <th>slide.index</th>\n",
       "      <th>geometry</th>\n",
       "    </tr>\n",
       "  </thead>\n",
       "  <tbody>\n",
       "    <tr>\n",
       "      <th>41</th>\n",
       "      <td>9734</td>\n",
       "      <td>2017-05-20T13:34:00Z</td>\n",
       "      <td>Big Sur Landslide</td>\n",
       "      <td>landslide</td>\n",
       "      <td>rain</td>\n",
       "      <td>very_large</td>\n",
       "      <td>-121.4323838</td>\n",
       "      <td>35.86562803</td>\n",
       "      <td>exact</td>\n",
       "      <td>Big Sur Landslide</td>\n",
       "      <td>NA</td>\n",
       "      <td>35.86562803</td>\n",
       "      <td>-121.4323838</td>\n",
       "      <td>TRUE</td>\n",
       "      <td>54</td>\n",
       "      <td>None</td>\n",
       "    </tr>\n",
       "  </tbody>\n",
       "</table>\n",
       "</div>"
      ],
      "text/plain": [
       "   slide.id            slide.date           location       type trigger  \\\n",
       "41     9734  2017-05-20T13:34:00Z  Big Sur Landslide  landslide    rain   \n",
       "\n",
       "          size           lon          lat location_accuracy  \\\n",
       "41  very_large  -121.4323838  35.86562803             exact   \n",
       "\n",
       "          event_title admin_division_name       ge.lat        ge.lon is.exact  \\\n",
       "41  Big Sur Landslide                  NA  35.86562803  -121.4323838     TRUE   \n",
       "\n",
       "   slide.index geometry  \n",
       "41          54     None  "
      ]
     },
     "execution_count": 13,
     "metadata": {},
     "output_type": "execute_result"
    }
   ],
   "source": [
    "# Extract information of landslides of Big Sur, CA\n",
    "Big_Sur_df = landslide_gdf[landslide_gdf['location'].str.contains\n",
    "                              ('Big Sur')]\n",
    "Big_Sur_df"
   ]
  },
  {
   "cell_type": "markdown",
   "id": "91a92a95",
   "metadata": {
    "ExecuteTime": {
     "end_time": "2023-04-25T05:08:43.295847Z",
     "start_time": "2023-04-25T05:08:43.282720Z"
    }
   },
   "source": [
    "#### Interactive map of Caddy Lake landslide, MB, Canada, with accuracy of 5 km"
   ]
  },
  {
   "cell_type": "code",
   "execution_count": 49,
   "id": "d879e7cf",
   "metadata": {
    "ExecuteTime": {
     "end_time": "2023-08-14T20:24:59.187091Z",
     "start_time": "2023-08-14T20:24:59.164063Z"
    },
    "tags": [
     "remove_input"
    ]
   },
   "outputs": [
    {
     "data": {
      "text/html": [
       "<div style=\"width:100%;\"><div style=\"position:relative;width:100%;height:0;padding-bottom:60%;\"><span style=\"color:#565656\">Make this Notebook Trusted to load map: File -> Trust Notebook</span><iframe srcdoc=\"&lt;!DOCTYPE html&gt;\n",
       "&lt;html&gt;\n",
       "&lt;head&gt;\n",
       "    \n",
       "    &lt;meta http-equiv=&quot;content-type&quot; content=&quot;text/html; charset=UTF-8&quot; /&gt;\n",
       "    \n",
       "        &lt;script&gt;\n",
       "            L_NO_TOUCH = false;\n",
       "            L_DISABLE_3D = false;\n",
       "        &lt;/script&gt;\n",
       "    \n",
       "    &lt;style&gt;html, body {width: 100%;height: 100%;margin: 0;padding: 0;}&lt;/style&gt;\n",
       "    &lt;style&gt;#map {position:absolute;top:0;bottom:0;right:0;left:0;}&lt;/style&gt;\n",
       "    &lt;script src=&quot;https://cdn.jsdelivr.net/npm/leaflet@1.9.3/dist/leaflet.js&quot;&gt;&lt;/script&gt;\n",
       "    &lt;script src=&quot;https://code.jquery.com/jquery-1.12.4.min.js&quot;&gt;&lt;/script&gt;\n",
       "    &lt;script src=&quot;https://cdn.jsdelivr.net/npm/bootstrap@5.2.2/dist/js/bootstrap.bundle.min.js&quot;&gt;&lt;/script&gt;\n",
       "    &lt;script src=&quot;https://cdnjs.cloudflare.com/ajax/libs/Leaflet.awesome-markers/2.0.2/leaflet.awesome-markers.js&quot;&gt;&lt;/script&gt;\n",
       "    &lt;link rel=&quot;stylesheet&quot; href=&quot;https://cdn.jsdelivr.net/npm/leaflet@1.9.3/dist/leaflet.css&quot;/&gt;\n",
       "    &lt;link rel=&quot;stylesheet&quot; href=&quot;https://cdn.jsdelivr.net/npm/bootstrap@5.2.2/dist/css/bootstrap.min.css&quot;/&gt;\n",
       "    &lt;link rel=&quot;stylesheet&quot; href=&quot;https://netdna.bootstrapcdn.com/bootstrap/3.0.0/css/bootstrap.min.css&quot;/&gt;\n",
       "    &lt;link rel=&quot;stylesheet&quot; href=&quot;https://cdn.jsdelivr.net/npm/@fortawesome/fontawesome-free@6.2.0/css/all.min.css&quot;/&gt;\n",
       "    &lt;link rel=&quot;stylesheet&quot; href=&quot;https://cdnjs.cloudflare.com/ajax/libs/Leaflet.awesome-markers/2.0.2/leaflet.awesome-markers.css&quot;/&gt;\n",
       "    &lt;link rel=&quot;stylesheet&quot; href=&quot;https://cdn.jsdelivr.net/gh/python-visualization/folium/folium/templates/leaflet.awesome.rotate.min.css&quot;/&gt;\n",
       "    \n",
       "            &lt;meta name=&quot;viewport&quot; content=&quot;width=device-width,\n",
       "                initial-scale=1.0, maximum-scale=1.0, user-scalable=no&quot; /&gt;\n",
       "            &lt;style&gt;\n",
       "                #map_75ef2a6cd3cf9a227b749ced71b4686c {\n",
       "                    position: relative;\n",
       "                    width: 1000.0px;\n",
       "                    height: 600.0px;\n",
       "                    left: 0.0%;\n",
       "                    top: 0.0%;\n",
       "                }\n",
       "                .leaflet-container { font-size: 1rem; }\n",
       "            &lt;/style&gt;\n",
       "        \n",
       "&lt;/head&gt;\n",
       "&lt;body&gt;\n",
       "    \n",
       "    \n",
       "            &lt;div class=&quot;folium-map&quot; id=&quot;map_75ef2a6cd3cf9a227b749ced71b4686c&quot; &gt;&lt;/div&gt;\n",
       "        \n",
       "&lt;/body&gt;\n",
       "&lt;script&gt;\n",
       "    \n",
       "    \n",
       "            var map_75ef2a6cd3cf9a227b749ced71b4686c = L.map(\n",
       "                &quot;map_75ef2a6cd3cf9a227b749ced71b4686c&quot;,\n",
       "                {\n",
       "                    center: [49.8063, -95.2098],\n",
       "                    crs: L.CRS.EPSG3857,\n",
       "                    zoom: 13,\n",
       "                    zoomControl: true,\n",
       "                    preferCanvas: false,\n",
       "                }\n",
       "            );\n",
       "\n",
       "            \n",
       "\n",
       "        \n",
       "    \n",
       "            var tile_layer_c51ef37c05f52d369ea3c60b637f29f6 = L.tileLayer(\n",
       "                &quot;https://stamen-tiles-{s}.a.ssl.fastly.net/terrain/{z}/{x}/{y}.jpg&quot;,\n",
       "                {&quot;attribution&quot;: &quot;Map tiles by \\u003ca target=\\&quot;_blank\\&quot; href=\\&quot;http://stamen.com\\&quot;\\u003eStamen Design\\u003c/a\\u003e, under \\u003ca target=\\&quot;_blank\\&quot; href=\\&quot;http://creativecommons.org/licenses/by/3.0\\&quot;\\u003eCC BY 3.0\\u003c/a\\u003e. Data by \\u0026copy; \\u003ca target=\\&quot;_blank\\&quot; href=\\&quot;http://openstreetmap.org\\&quot;\\u003eOpenStreetMap\\u003c/a\\u003e, under \\u003ca target=\\&quot;_blank\\&quot; href=\\&quot;http://creativecommons.org/licenses/by-sa/3.0\\&quot;\\u003eCC BY SA\\u003c/a\\u003e.&quot;, &quot;detectRetina&quot;: false, &quot;maxNativeZoom&quot;: 18, &quot;maxZoom&quot;: 18, &quot;minZoom&quot;: 0, &quot;noWrap&quot;: false, &quot;opacity&quot;: 1, &quot;subdomains&quot;: &quot;abc&quot;, &quot;tms&quot;: false}\n",
       "            ).addTo(map_75ef2a6cd3cf9a227b749ced71b4686c);\n",
       "        \n",
       "    \n",
       "            var marker_fd34bc89b582f481a819dd1ff47be2be = L.marker(\n",
       "                [49.8063, -95.2098],\n",
       "                {}\n",
       "            ).addTo(map_75ef2a6cd3cf9a227b749ced71b4686c);\n",
       "        \n",
       "    \n",
       "            var icon_98be4cbe171c2cee3370fd7bd4f8d206 = L.AwesomeMarkers.icon(\n",
       "                {&quot;extraClasses&quot;: &quot;fa-rotate-0&quot;, &quot;icon&quot;: &quot;info-sign&quot;, &quot;iconColor&quot;: &quot;white&quot;, &quot;markerColor&quot;: &quot;red&quot;, &quot;prefix&quot;: &quot;glyphicon&quot;}\n",
       "            );\n",
       "            marker_fd34bc89b582f481a819dd1ff47be2be.setIcon(icon_98be4cbe171c2cee3370fd7bd4f8d206);\n",
       "        \n",
       "    \n",
       "        var popup_a11b416e7372911d16650c297ad06952 = L.popup({&quot;maxWidth&quot;: &quot;100%&quot;});\n",
       "\n",
       "        \n",
       "            \n",
       "                var html_f4b7c70dd992b4333b4b92fdbc5d5821 = $(`&lt;div id=&quot;html_f4b7c70dd992b4333b4b92fdbc5d5821&quot; style=&quot;width: 100.0%; height: 100.0%;&quot;&gt;7922&lt;/div&gt;`)[0];\n",
       "                popup_a11b416e7372911d16650c297ad06952.setContent(html_f4b7c70dd992b4333b4b92fdbc5d5821);\n",
       "            \n",
       "        \n",
       "\n",
       "        marker_fd34bc89b582f481a819dd1ff47be2be.bindPopup(popup_a11b416e7372911d16650c297ad06952)\n",
       "        ;\n",
       "\n",
       "        \n",
       "    \n",
       "&lt;/script&gt;\n",
       "&lt;/html&gt;\" style=\"position:absolute;width:100%;height:100%;left:0;top:0;border:none !important;\" allowfullscreen webkitallowfullscreen mozallowfullscreen></iframe></div></div>"
      ],
      "text/plain": [
       "<folium.folium.Map at 0x22b3eccefd0>"
      ]
     },
     "execution_count": 49,
     "metadata": {},
     "output_type": "execute_result"
    }
   ],
   "source": [
    "# Display landslide of Caddy Lake location\n",
    "Caddy_landslide_map = folium.Map(\n",
    "    location=[49.8063, -95.2098],\n",
    "    zoom_start=13,\n",
    "    width=1000,\n",
    "    height=600,\n",
    "    tiles='Stamen terrain')\n",
    "\n",
    "\n",
    "for index, row in Caddy_df.iterrows():\n",
    "    folium.Marker(\n",
    "        location=[row['lat'], row['lon']],\n",
    "        popup=row['slide.id'],\n",
    "        icon=folium.Icon(color=\"red\")\n",
    "    ).add_to(Caddy_landslide_map)\n",
    "\n",
    "Caddy_landslide_map"
   ]
  },
  {
   "cell_type": "markdown",
   "id": "32143d54",
   "metadata": {},
   "source": [
    "#### Interactive map of landslide of Big Sur, CA, USA"
   ]
  },
  {
   "cell_type": "code",
   "execution_count": 48,
   "id": "21bf611b",
   "metadata": {
    "ExecuteTime": {
     "end_time": "2023-08-14T20:24:49.931363Z",
     "start_time": "2023-08-14T20:24:49.894677Z"
    },
    "tags": [
     "remove_input"
    ]
   },
   "outputs": [
    {
     "data": {
      "text/html": [
       "<div style=\"width:100%;\"><div style=\"position:relative;width:100%;height:0;padding-bottom:60%;\"><span style=\"color:#565656\">Make this Notebook Trusted to load map: File -> Trust Notebook</span><iframe srcdoc=\"&lt;!DOCTYPE html&gt;\n",
       "&lt;html&gt;\n",
       "&lt;head&gt;\n",
       "    \n",
       "    &lt;meta http-equiv=&quot;content-type&quot; content=&quot;text/html; charset=UTF-8&quot; /&gt;\n",
       "    \n",
       "        &lt;script&gt;\n",
       "            L_NO_TOUCH = false;\n",
       "            L_DISABLE_3D = false;\n",
       "        &lt;/script&gt;\n",
       "    \n",
       "    &lt;style&gt;html, body {width: 100%;height: 100%;margin: 0;padding: 0;}&lt;/style&gt;\n",
       "    &lt;style&gt;#map {position:absolute;top:0;bottom:0;right:0;left:0;}&lt;/style&gt;\n",
       "    &lt;script src=&quot;https://cdn.jsdelivr.net/npm/leaflet@1.9.3/dist/leaflet.js&quot;&gt;&lt;/script&gt;\n",
       "    &lt;script src=&quot;https://code.jquery.com/jquery-1.12.4.min.js&quot;&gt;&lt;/script&gt;\n",
       "    &lt;script src=&quot;https://cdn.jsdelivr.net/npm/bootstrap@5.2.2/dist/js/bootstrap.bundle.min.js&quot;&gt;&lt;/script&gt;\n",
       "    &lt;script src=&quot;https://cdnjs.cloudflare.com/ajax/libs/Leaflet.awesome-markers/2.0.2/leaflet.awesome-markers.js&quot;&gt;&lt;/script&gt;\n",
       "    &lt;link rel=&quot;stylesheet&quot; href=&quot;https://cdn.jsdelivr.net/npm/leaflet@1.9.3/dist/leaflet.css&quot;/&gt;\n",
       "    &lt;link rel=&quot;stylesheet&quot; href=&quot;https://cdn.jsdelivr.net/npm/bootstrap@5.2.2/dist/css/bootstrap.min.css&quot;/&gt;\n",
       "    &lt;link rel=&quot;stylesheet&quot; href=&quot;https://netdna.bootstrapcdn.com/bootstrap/3.0.0/css/bootstrap.min.css&quot;/&gt;\n",
       "    &lt;link rel=&quot;stylesheet&quot; href=&quot;https://cdn.jsdelivr.net/npm/@fortawesome/fontawesome-free@6.2.0/css/all.min.css&quot;/&gt;\n",
       "    &lt;link rel=&quot;stylesheet&quot; href=&quot;https://cdnjs.cloudflare.com/ajax/libs/Leaflet.awesome-markers/2.0.2/leaflet.awesome-markers.css&quot;/&gt;\n",
       "    &lt;link rel=&quot;stylesheet&quot; href=&quot;https://cdn.jsdelivr.net/gh/python-visualization/folium/folium/templates/leaflet.awesome.rotate.min.css&quot;/&gt;\n",
       "    \n",
       "            &lt;meta name=&quot;viewport&quot; content=&quot;width=device-width,\n",
       "                initial-scale=1.0, maximum-scale=1.0, user-scalable=no&quot; /&gt;\n",
       "            &lt;style&gt;\n",
       "                #map_61c3b433045d813edd646ad1d90a828a {\n",
       "                    position: relative;\n",
       "                    width: 1000.0px;\n",
       "                    height: 600.0px;\n",
       "                    left: 0.0%;\n",
       "                    top: 0.0%;\n",
       "                }\n",
       "                .leaflet-container { font-size: 1rem; }\n",
       "            &lt;/style&gt;\n",
       "        \n",
       "&lt;/head&gt;\n",
       "&lt;body&gt;\n",
       "    \n",
       "    \n",
       "            &lt;div class=&quot;folium-map&quot; id=&quot;map_61c3b433045d813edd646ad1d90a828a&quot; &gt;&lt;/div&gt;\n",
       "        \n",
       "&lt;/body&gt;\n",
       "&lt;script&gt;\n",
       "    \n",
       "    \n",
       "            var map_61c3b433045d813edd646ad1d90a828a = L.map(\n",
       "                &quot;map_61c3b433045d813edd646ad1d90a828a&quot;,\n",
       "                {\n",
       "                    center: [35.8656, -121.4329],\n",
       "                    crs: L.CRS.EPSG3857,\n",
       "                    zoom: 13,\n",
       "                    zoomControl: true,\n",
       "                    preferCanvas: false,\n",
       "                }\n",
       "            );\n",
       "\n",
       "            \n",
       "\n",
       "        \n",
       "    \n",
       "            var tile_layer_a862af45df0f60e4a4c4082e3a38f1f9 = L.tileLayer(\n",
       "                &quot;https://stamen-tiles-{s}.a.ssl.fastly.net/terrain/{z}/{x}/{y}.jpg&quot;,\n",
       "                {&quot;attribution&quot;: &quot;Map tiles by \\u003ca target=\\&quot;_blank\\&quot; href=\\&quot;http://stamen.com\\&quot;\\u003eStamen Design\\u003c/a\\u003e, under \\u003ca target=\\&quot;_blank\\&quot; href=\\&quot;http://creativecommons.org/licenses/by/3.0\\&quot;\\u003eCC BY 3.0\\u003c/a\\u003e. Data by \\u0026copy; \\u003ca target=\\&quot;_blank\\&quot; href=\\&quot;http://openstreetmap.org\\&quot;\\u003eOpenStreetMap\\u003c/a\\u003e, under \\u003ca target=\\&quot;_blank\\&quot; href=\\&quot;http://creativecommons.org/licenses/by-sa/3.0\\&quot;\\u003eCC BY SA\\u003c/a\\u003e.&quot;, &quot;detectRetina&quot;: false, &quot;maxNativeZoom&quot;: 18, &quot;maxZoom&quot;: 18, &quot;minZoom&quot;: 0, &quot;noWrap&quot;: false, &quot;opacity&quot;: 1, &quot;subdomains&quot;: &quot;abc&quot;, &quot;tms&quot;: false}\n",
       "            ).addTo(map_61c3b433045d813edd646ad1d90a828a);\n",
       "        \n",
       "    \n",
       "            var marker_8424fc56dd3111f064dd37faf52543fd = L.marker(\n",
       "                [35.86562803, -121.4323838],\n",
       "                {}\n",
       "            ).addTo(map_61c3b433045d813edd646ad1d90a828a);\n",
       "        \n",
       "    \n",
       "            var icon_e967bdd9645bb496f82259301db3494a = L.AwesomeMarkers.icon(\n",
       "                {&quot;extraClasses&quot;: &quot;fa-rotate-0&quot;, &quot;icon&quot;: &quot;info-sign&quot;, &quot;iconColor&quot;: &quot;white&quot;, &quot;markerColor&quot;: &quot;red&quot;, &quot;prefix&quot;: &quot;glyphicon&quot;}\n",
       "            );\n",
       "            marker_8424fc56dd3111f064dd37faf52543fd.setIcon(icon_e967bdd9645bb496f82259301db3494a);\n",
       "        \n",
       "    \n",
       "        var popup_b666ccefea2f5ca739a9f4366ae51390 = L.popup({&quot;maxWidth&quot;: &quot;100%&quot;});\n",
       "\n",
       "        \n",
       "            \n",
       "                var html_3dcd701329744503093a7eb2602ac154 = $(`&lt;div id=&quot;html_3dcd701329744503093a7eb2602ac154&quot; style=&quot;width: 100.0%; height: 100.0%;&quot;&gt;9734&lt;/div&gt;`)[0];\n",
       "                popup_b666ccefea2f5ca739a9f4366ae51390.setContent(html_3dcd701329744503093a7eb2602ac154);\n",
       "            \n",
       "        \n",
       "\n",
       "        marker_8424fc56dd3111f064dd37faf52543fd.bindPopup(popup_b666ccefea2f5ca739a9f4366ae51390)\n",
       "        ;\n",
       "\n",
       "        \n",
       "    \n",
       "&lt;/script&gt;\n",
       "&lt;/html&gt;\" style=\"position:absolute;width:100%;height:100%;left:0;top:0;border:none !important;\" allowfullscreen webkitallowfullscreen mozallowfullscreen></iframe></div></div>"
      ],
      "text/plain": [
       "<folium.folium.Map at 0x22b3ecda910>"
      ]
     },
     "execution_count": 48,
     "metadata": {},
     "output_type": "execute_result"
    }
   ],
   "source": [
    "# Display landslide of Big Sur location\n",
    "Big_Sur_landslide_map = folium.Map(\n",
    "    location=[35.8656, -121.4329],\n",
    "    zoom_start=13,\n",
    "    width=1000,\n",
    "    height=600,\n",
    "    tiles='Stamen terrain')\n",
    "\n",
    "\n",
    "for index, row in Big_Sur_df.iterrows():\n",
    "    folium.Marker(\n",
    "        location=[row['lat'], row['lon']],\n",
    "        popup=row['slide.id'],\n",
    "        icon=folium.Icon(color=\"red\")\n",
    "    ).add_to(Big_Sur_landslide_map)\n",
    "\n",
    "Big_Sur_landslide_map"
   ]
  },
  {
   "cell_type": "markdown",
   "id": "472c57a8",
   "metadata": {},
   "source": [
    "#### Split map of Caddy Lake landslide location"
   ]
  },
  {
   "cell_type": "code",
   "execution_count": 16,
   "id": "26efbc10",
   "metadata": {
    "ExecuteTime": {
     "end_time": "2023-08-14T15:23:47.248471Z",
     "start_time": "2023-08-14T15:23:47.208472Z"
    },
    "tags": [
     "remove_input"
    ]
   },
   "outputs": [
    {
     "data": {
      "text/html": [
       "<iframe srcdoc=\"&lt;!DOCTYPE html&gt;\n",
       "&lt;html&gt;\n",
       "&lt;head&gt;\n",
       "    \n",
       "    &lt;meta http-equiv=&quot;content-type&quot; content=&quot;text/html; charset=UTF-8&quot; /&gt;\n",
       "    \n",
       "        &lt;script&gt;\n",
       "            L_NO_TOUCH = false;\n",
       "            L_DISABLE_3D = false;\n",
       "        &lt;/script&gt;\n",
       "    \n",
       "    &lt;style&gt;html, body {width: 100%;height: 100%;margin: 0;padding: 0;}&lt;/style&gt;\n",
       "    &lt;style&gt;#map {position:absolute;top:0;bottom:0;right:0;left:0;}&lt;/style&gt;\n",
       "    &lt;script src=&quot;https://cdn.jsdelivr.net/npm/leaflet@1.9.3/dist/leaflet.js&quot;&gt;&lt;/script&gt;\n",
       "    &lt;script src=&quot;https://code.jquery.com/jquery-1.12.4.min.js&quot;&gt;&lt;/script&gt;\n",
       "    &lt;script src=&quot;https://cdn.jsdelivr.net/npm/bootstrap@5.2.2/dist/js/bootstrap.bundle.min.js&quot;&gt;&lt;/script&gt;\n",
       "    &lt;script src=&quot;https://cdnjs.cloudflare.com/ajax/libs/Leaflet.awesome-markers/2.0.2/leaflet.awesome-markers.js&quot;&gt;&lt;/script&gt;\n",
       "    &lt;link rel=&quot;stylesheet&quot; href=&quot;https://cdn.jsdelivr.net/npm/leaflet@1.9.3/dist/leaflet.css&quot;/&gt;\n",
       "    &lt;link rel=&quot;stylesheet&quot; href=&quot;https://cdn.jsdelivr.net/npm/bootstrap@5.2.2/dist/css/bootstrap.min.css&quot;/&gt;\n",
       "    &lt;link rel=&quot;stylesheet&quot; href=&quot;https://netdna.bootstrapcdn.com/bootstrap/3.0.0/css/bootstrap.min.css&quot;/&gt;\n",
       "    &lt;link rel=&quot;stylesheet&quot; href=&quot;https://cdn.jsdelivr.net/npm/@fortawesome/fontawesome-free@6.2.0/css/all.min.css&quot;/&gt;\n",
       "    &lt;link rel=&quot;stylesheet&quot; href=&quot;https://cdnjs.cloudflare.com/ajax/libs/Leaflet.awesome-markers/2.0.2/leaflet.awesome-markers.css&quot;/&gt;\n",
       "    &lt;link rel=&quot;stylesheet&quot; href=&quot;https://cdn.jsdelivr.net/gh/python-visualization/folium/folium/templates/leaflet.awesome.rotate.min.css&quot;/&gt;\n",
       "    \n",
       "            &lt;meta name=&quot;viewport&quot; content=&quot;width=device-width,\n",
       "                initial-scale=1.0, maximum-scale=1.0, user-scalable=no&quot; /&gt;\n",
       "            &lt;style&gt;\n",
       "                #map_073c686dafe996cd9f27c280ac621fae {\n",
       "                    position: relative;\n",
       "                    width: 100.0%;\n",
       "                    height: 100.0%;\n",
       "                    left: 0.0%;\n",
       "                    top: 0.0%;\n",
       "                }\n",
       "                .leaflet-container { font-size: 1rem; }\n",
       "            &lt;/style&gt;\n",
       "        \n",
       "    &lt;script src=&quot;https://cdnjs.cloudflare.com/ajax/libs/leaflet.fullscreen/1.4.2/Control.FullScreen.min.js&quot;&gt;&lt;/script&gt;\n",
       "    &lt;link rel=&quot;stylesheet&quot; href=&quot;https://cdnjs.cloudflare.com/ajax/libs/leaflet.fullscreen/1.4.2/Control.FullScreen.min.css&quot;/&gt;\n",
       "    &lt;script src=&quot;https://cdnjs.cloudflare.com/ajax/libs/leaflet.draw/1.0.2/leaflet.draw.js&quot;&gt;&lt;/script&gt;\n",
       "    &lt;link rel=&quot;stylesheet&quot; href=&quot;https://cdnjs.cloudflare.com/ajax/libs/leaflet.draw/1.0.2/leaflet.draw.css&quot;/&gt;\n",
       "    &lt;script src=&quot;https://unpkg.com/leaflet-control-geocoder/dist/Control.Geocoder.js&quot;&gt;&lt;/script&gt;\n",
       "    &lt;link rel=&quot;stylesheet&quot; href=&quot;https://unpkg.com/leaflet-control-geocoder/dist/Control.Geocoder.css&quot;/&gt;\n",
       "    &lt;script src=&quot;https://cdn.jsdelivr.net/gh/digidem/leaflet-side-by-side@gh-pages/leaflet-side-by-side.min.js&quot;&gt;&lt;/script&gt;\n",
       "&lt;/head&gt;\n",
       "&lt;body&gt;\n",
       "    \n",
       "    \n",
       "            &lt;div class=&quot;folium-map&quot; id=&quot;map_073c686dafe996cd9f27c280ac621fae&quot; &gt;&lt;/div&gt;\n",
       "        \n",
       "&lt;/body&gt;\n",
       "&lt;script&gt;\n",
       "    \n",
       "    \n",
       "            var map_073c686dafe996cd9f27c280ac621fae = L.map(\n",
       "                &quot;map_073c686dafe996cd9f27c280ac621fae&quot;,\n",
       "                {\n",
       "                    center: [49.8063, -95.2098],\n",
       "                    crs: L.CRS.EPSG3857,\n",
       "                    zoom: 15,\n",
       "                    zoomControl: true,\n",
       "                    preferCanvas: false,\n",
       "                    eeInitialize: true,\n",
       "                    addGoogleMap: true,\n",
       "                    pluginLatlngpopup: false,\n",
       "                    pluginFullscreen: true,\n",
       "                    pluginDraw: true,\n",
       "                    DrawExport: false,\n",
       "                    pluginMinimap: false,\n",
       "                    locateControl: false,\n",
       "                    searchControl: true,\n",
       "                    layersControl: true,\n",
       "                }\n",
       "            );\n",
       "\n",
       "            \n",
       "\n",
       "        \n",
       "    \n",
       "            var tile_layer_6c285348bb2609a5e8e6fbe186edc9a9 = L.tileLayer(\n",
       "                &quot;https://{s}.tile.openstreetmap.org/{z}/{x}/{y}.png&quot;,\n",
       "                {&quot;attribution&quot;: &quot;Data by \\u0026copy; \\u003ca target=\\&quot;_blank\\&quot; href=\\&quot;http://openstreetmap.org\\&quot;\\u003eOpenStreetMap\\u003c/a\\u003e, under \\u003ca target=\\&quot;_blank\\&quot; href=\\&quot;http://www.openstreetmap.org/copyright\\&quot;\\u003eODbL\\u003c/a\\u003e.&quot;, &quot;detectRetina&quot;: false, &quot;maxNativeZoom&quot;: 30, &quot;maxZoom&quot;: 30, &quot;minZoom&quot;: 0, &quot;noWrap&quot;: false, &quot;opacity&quot;: 1, &quot;subdomains&quot;: &quot;abc&quot;, &quot;tms&quot;: false}\n",
       "            ).addTo(map_073c686dafe996cd9f27c280ac621fae);\n",
       "        \n",
       "    \n",
       "            var tile_layer_cb2c9d666d06634fb6d1a405a7af49d6 = L.tileLayer(\n",
       "                &quot;https://mt1.google.com/vt/lyrs=m\\u0026x={x}\\u0026y={y}\\u0026z={z}&quot;,\n",
       "                {&quot;attribution&quot;: &quot;Google&quot;, &quot;detectRetina&quot;: false, &quot;maxNativeZoom&quot;: 22, &quot;maxZoom&quot;: 22, &quot;minZoom&quot;: 0, &quot;noWrap&quot;: false, &quot;opacity&quot;: 1, &quot;subdomains&quot;: &quot;abc&quot;, &quot;tms&quot;: false}\n",
       "            ).addTo(map_073c686dafe996cd9f27c280ac621fae);\n",
       "        \n",
       "    \n",
       "            L.control.fullscreen(\n",
       "                {&quot;forceSeparateButton&quot;: false, &quot;position&quot;: &quot;topleft&quot;, &quot;title&quot;: &quot;Full Screen&quot;, &quot;titleCancel&quot;: &quot;Exit Full Screen&quot;}\n",
       "            ).addTo(map_073c686dafe996cd9f27c280ac621fae);\n",
       "        \n",
       "    \n",
       "            var options = {\n",
       "              position: &quot;topleft&quot;,\n",
       "              draw: {},\n",
       "              edit: {},\n",
       "            }\n",
       "            // FeatureGroup is to store editable layers.\n",
       "            var drawnItems = new L.featureGroup().addTo(\n",
       "                map_073c686dafe996cd9f27c280ac621fae\n",
       "            );\n",
       "            options.edit.featureGroup = drawnItems;\n",
       "            var draw_control_4bd6df8d6b3bf18e2e508422290cdfdb = new L.Control.Draw(\n",
       "                options\n",
       "            ).addTo( map_073c686dafe996cd9f27c280ac621fae );\n",
       "            map_073c686dafe996cd9f27c280ac621fae.on(L.Draw.Event.CREATED, function(e) {\n",
       "                var layer = e.layer,\n",
       "                    type = e.layerType;\n",
       "                var coords = JSON.stringify(layer.toGeoJSON());\n",
       "                layer.on(&#x27;click&#x27;, function() {\n",
       "                    alert(coords);\n",
       "                    console.log(coords);\n",
       "                });\n",
       "                drawnItems.addLayer(layer);\n",
       "             });\n",
       "            map_073c686dafe996cd9f27c280ac621fae.on(&#x27;draw:created&#x27;, function(e) {\n",
       "                drawnItems.addLayer(e.layer);\n",
       "            });\n",
       "            \n",
       "        \n",
       "    \n",
       "            L.Control.geocoder(\n",
       "                {&quot;collapsed&quot;: true, &quot;defaultMarkGeocode&quot;: true, &quot;position&quot;: &quot;topleft&quot;}\n",
       "            ).on(&#x27;markgeocode&#x27;, function(e) {\n",
       "                map_073c686dafe996cd9f27c280ac621fae.setView(e.geocode.center, 11);\n",
       "            }).addTo(map_073c686dafe996cd9f27c280ac621fae);\n",
       "\n",
       "        \n",
       "    \n",
       "            map_073c686dafe996cd9f27c280ac621fae.fitBounds(\n",
       "                [[49.8063, -95.2098], [49.8063, -95.2098]],\n",
       "                {&quot;maxZoom&quot;: 15}\n",
       "            );\n",
       "        \n",
       "    \n",
       "            var tile_layer_8232e1f89a236651dfb70f684a485d79 = L.tileLayer(\n",
       "                &quot;https://mt1.google.com/vt/lyrs=s\\u0026x={x}\\u0026y={y}\\u0026z={z}&quot;,\n",
       "                {&quot;attribution&quot;: &quot;Google&quot;, &quot;detectRetina&quot;: false, &quot;maxNativeZoom&quot;: 22, &quot;maxZoom&quot;: 22, &quot;minZoom&quot;: 0, &quot;noWrap&quot;: false, &quot;opacity&quot;: 1, &quot;subdomains&quot;: &quot;abc&quot;, &quot;tms&quot;: false}\n",
       "            ).addTo(map_073c686dafe996cd9f27c280ac621fae);\n",
       "        \n",
       "    \n",
       "            var tile_layer_25317d1e20ee56bd62917b9beabfcc4b = L.tileLayer(\n",
       "                &quot;Google Maps&quot;,\n",
       "                {&quot;attribution&quot;: &quot; &quot;, &quot;detectRetina&quot;: false, &quot;layerName&quot;: &quot;Right Layer&quot;, &quot;maxNativeZoom&quot;: 100, &quot;maxZoom&quot;: 100, &quot;minZoom&quot;: 0, &quot;noWrap&quot;: false, &quot;opacity&quot;: 1, &quot;subdomains&quot;: &quot;abc&quot;, &quot;tms&quot;: false}\n",
       "            ).addTo(map_073c686dafe996cd9f27c280ac621fae);\n",
       "        \n",
       "    \n",
       "            var side_by_side_layers_86e17d4b17f0469e5c7995c4c606526a = L.control.sideBySide(\n",
       "                tile_layer_8232e1f89a236651dfb70f684a485d79, tile_layer_25317d1e20ee56bd62917b9beabfcc4b\n",
       "            ).addTo(map_073c686dafe996cd9f27c280ac621fae);\n",
       "        \n",
       "    \n",
       "            var layer_control_070cbea2d6ec0b74de5627171546405c = {\n",
       "                base_layers : {\n",
       "                    &quot;openstreetmap&quot; : tile_layer_6c285348bb2609a5e8e6fbe186edc9a9,\n",
       "                },\n",
       "                overlays :  {\n",
       "                    &quot;Google Maps&quot; : tile_layer_cb2c9d666d06634fb6d1a405a7af49d6,\n",
       "                    &quot;Google Satellite&quot; : tile_layer_8232e1f89a236651dfb70f684a485d79,\n",
       "                    &quot;Right Layer&quot; : tile_layer_25317d1e20ee56bd62917b9beabfcc4b,\n",
       "                },\n",
       "            };\n",
       "            L.control.layers(\n",
       "                layer_control_070cbea2d6ec0b74de5627171546405c.base_layers,\n",
       "                layer_control_070cbea2d6ec0b74de5627171546405c.overlays,\n",
       "                {&quot;autoZIndex&quot;: true, &quot;collapsed&quot;: true, &quot;position&quot;: &quot;topright&quot;}\n",
       "            ).addTo(map_073c686dafe996cd9f27c280ac621fae);\n",
       "        \n",
       "&lt;/script&gt;\n",
       "&lt;/html&gt;\" width=\"100%\" height=\"600\"style=\"border:none !important;\" \"allowfullscreen\" \"webkitallowfullscreen\" \"mozallowfullscreen\"></iframe>"
      ],
      "text/plain": [
       "<geemap.foliumap.Map at 0x22b3ebc2cd0>"
      ]
     },
     "execution_count": 16,
     "metadata": {},
     "output_type": "execute_result"
    }
   ],
   "source": [
    "# Make split view map half Satellite and half goole maps (Caddy Lake)\n",
    "\n",
    "Caddy_split_roi = geemap.Map(location=[49.8063, -95.2098], zoom_start=15)\n",
    "Caddy_split_roi.add_basemap('SATELLITE')\n",
    "# split_roi.add_basemap('USGS NAIP Imagery False Color') # Missing for Canada\n",
    "# Map.add_basemap('USGS NAIP Imagery NDVI')\n",
    "\n",
    "Caddy_split_roi.split_map(left_layer='SATELLITE',\n",
    "                    right_layer='Google Maps')\n",
    "\n",
    "Caddy_split_roi"
   ]
  },
  {
   "cell_type": "markdown",
   "id": "d7a5f919",
   "metadata": {},
   "source": [
    "#### Split map of Big Sur landslide location"
   ]
  },
  {
   "cell_type": "code",
   "execution_count": 17,
   "id": "0153bc67",
   "metadata": {
    "ExecuteTime": {
     "end_time": "2023-08-14T15:23:47.288475Z",
     "start_time": "2023-08-14T15:23:47.248471Z"
    },
    "tags": [
     "remove_input"
    ]
   },
   "outputs": [
    {
     "data": {
      "text/html": [
       "<iframe srcdoc=\"&lt;!DOCTYPE html&gt;\n",
       "&lt;html&gt;\n",
       "&lt;head&gt;\n",
       "    \n",
       "    &lt;meta http-equiv=&quot;content-type&quot; content=&quot;text/html; charset=UTF-8&quot; /&gt;\n",
       "    \n",
       "        &lt;script&gt;\n",
       "            L_NO_TOUCH = false;\n",
       "            L_DISABLE_3D = false;\n",
       "        &lt;/script&gt;\n",
       "    \n",
       "    &lt;style&gt;html, body {width: 100%;height: 100%;margin: 0;padding: 0;}&lt;/style&gt;\n",
       "    &lt;style&gt;#map {position:absolute;top:0;bottom:0;right:0;left:0;}&lt;/style&gt;\n",
       "    &lt;script src=&quot;https://cdn.jsdelivr.net/npm/leaflet@1.9.3/dist/leaflet.js&quot;&gt;&lt;/script&gt;\n",
       "    &lt;script src=&quot;https://code.jquery.com/jquery-1.12.4.min.js&quot;&gt;&lt;/script&gt;\n",
       "    &lt;script src=&quot;https://cdn.jsdelivr.net/npm/bootstrap@5.2.2/dist/js/bootstrap.bundle.min.js&quot;&gt;&lt;/script&gt;\n",
       "    &lt;script src=&quot;https://cdnjs.cloudflare.com/ajax/libs/Leaflet.awesome-markers/2.0.2/leaflet.awesome-markers.js&quot;&gt;&lt;/script&gt;\n",
       "    &lt;link rel=&quot;stylesheet&quot; href=&quot;https://cdn.jsdelivr.net/npm/leaflet@1.9.3/dist/leaflet.css&quot;/&gt;\n",
       "    &lt;link rel=&quot;stylesheet&quot; href=&quot;https://cdn.jsdelivr.net/npm/bootstrap@5.2.2/dist/css/bootstrap.min.css&quot;/&gt;\n",
       "    &lt;link rel=&quot;stylesheet&quot; href=&quot;https://netdna.bootstrapcdn.com/bootstrap/3.0.0/css/bootstrap.min.css&quot;/&gt;\n",
       "    &lt;link rel=&quot;stylesheet&quot; href=&quot;https://cdn.jsdelivr.net/npm/@fortawesome/fontawesome-free@6.2.0/css/all.min.css&quot;/&gt;\n",
       "    &lt;link rel=&quot;stylesheet&quot; href=&quot;https://cdnjs.cloudflare.com/ajax/libs/Leaflet.awesome-markers/2.0.2/leaflet.awesome-markers.css&quot;/&gt;\n",
       "    &lt;link rel=&quot;stylesheet&quot; href=&quot;https://cdn.jsdelivr.net/gh/python-visualization/folium/folium/templates/leaflet.awesome.rotate.min.css&quot;/&gt;\n",
       "    \n",
       "            &lt;meta name=&quot;viewport&quot; content=&quot;width=device-width,\n",
       "                initial-scale=1.0, maximum-scale=1.0, user-scalable=no&quot; /&gt;\n",
       "            &lt;style&gt;\n",
       "                #map_332e64e0cfcd7902fb8dd9f539b1e6fa {\n",
       "                    position: relative;\n",
       "                    width: 100.0%;\n",
       "                    height: 100.0%;\n",
       "                    left: 0.0%;\n",
       "                    top: 0.0%;\n",
       "                }\n",
       "                .leaflet-container { font-size: 1rem; }\n",
       "            &lt;/style&gt;\n",
       "        \n",
       "    &lt;script src=&quot;https://cdnjs.cloudflare.com/ajax/libs/leaflet.fullscreen/1.4.2/Control.FullScreen.min.js&quot;&gt;&lt;/script&gt;\n",
       "    &lt;link rel=&quot;stylesheet&quot; href=&quot;https://cdnjs.cloudflare.com/ajax/libs/leaflet.fullscreen/1.4.2/Control.FullScreen.min.css&quot;/&gt;\n",
       "    &lt;script src=&quot;https://cdnjs.cloudflare.com/ajax/libs/leaflet.draw/1.0.2/leaflet.draw.js&quot;&gt;&lt;/script&gt;\n",
       "    &lt;link rel=&quot;stylesheet&quot; href=&quot;https://cdnjs.cloudflare.com/ajax/libs/leaflet.draw/1.0.2/leaflet.draw.css&quot;/&gt;\n",
       "    &lt;script src=&quot;https://unpkg.com/leaflet-control-geocoder/dist/Control.Geocoder.js&quot;&gt;&lt;/script&gt;\n",
       "    &lt;link rel=&quot;stylesheet&quot; href=&quot;https://unpkg.com/leaflet-control-geocoder/dist/Control.Geocoder.css&quot;/&gt;\n",
       "    &lt;script src=&quot;https://cdn.jsdelivr.net/gh/digidem/leaflet-side-by-side@gh-pages/leaflet-side-by-side.min.js&quot;&gt;&lt;/script&gt;\n",
       "&lt;/head&gt;\n",
       "&lt;body&gt;\n",
       "    \n",
       "    \n",
       "            &lt;div class=&quot;folium-map&quot; id=&quot;map_332e64e0cfcd7902fb8dd9f539b1e6fa&quot; &gt;&lt;/div&gt;\n",
       "        \n",
       "&lt;/body&gt;\n",
       "&lt;script&gt;\n",
       "    \n",
       "    \n",
       "            var map_332e64e0cfcd7902fb8dd9f539b1e6fa = L.map(\n",
       "                &quot;map_332e64e0cfcd7902fb8dd9f539b1e6fa&quot;,\n",
       "                {\n",
       "                    center: [35.8656, -121.4329],\n",
       "                    crs: L.CRS.EPSG3857,\n",
       "                    zoom: 15,\n",
       "                    zoomControl: true,\n",
       "                    preferCanvas: false,\n",
       "                    eeInitialize: true,\n",
       "                    addGoogleMap: true,\n",
       "                    pluginLatlngpopup: false,\n",
       "                    pluginFullscreen: true,\n",
       "                    pluginDraw: true,\n",
       "                    DrawExport: false,\n",
       "                    pluginMinimap: false,\n",
       "                    locateControl: false,\n",
       "                    searchControl: true,\n",
       "                    layersControl: true,\n",
       "                }\n",
       "            );\n",
       "\n",
       "            \n",
       "\n",
       "        \n",
       "    \n",
       "            var tile_layer_ccecf0fe4e670aa105ad6f7d03977678 = L.tileLayer(\n",
       "                &quot;https://{s}.tile.openstreetmap.org/{z}/{x}/{y}.png&quot;,\n",
       "                {&quot;attribution&quot;: &quot;Data by \\u0026copy; \\u003ca target=\\&quot;_blank\\&quot; href=\\&quot;http://openstreetmap.org\\&quot;\\u003eOpenStreetMap\\u003c/a\\u003e, under \\u003ca target=\\&quot;_blank\\&quot; href=\\&quot;http://www.openstreetmap.org/copyright\\&quot;\\u003eODbL\\u003c/a\\u003e.&quot;, &quot;detectRetina&quot;: false, &quot;maxNativeZoom&quot;: 30, &quot;maxZoom&quot;: 30, &quot;minZoom&quot;: 0, &quot;noWrap&quot;: false, &quot;opacity&quot;: 1, &quot;subdomains&quot;: &quot;abc&quot;, &quot;tms&quot;: false}\n",
       "            ).addTo(map_332e64e0cfcd7902fb8dd9f539b1e6fa);\n",
       "        \n",
       "    \n",
       "            var tile_layer_cb2c9d666d06634fb6d1a405a7af49d6 = L.tileLayer(\n",
       "                &quot;https://mt1.google.com/vt/lyrs=m\\u0026x={x}\\u0026y={y}\\u0026z={z}&quot;,\n",
       "                {&quot;attribution&quot;: &quot;Google&quot;, &quot;detectRetina&quot;: false, &quot;maxNativeZoom&quot;: 22, &quot;maxZoom&quot;: 22, &quot;minZoom&quot;: 0, &quot;noWrap&quot;: false, &quot;opacity&quot;: 1, &quot;subdomains&quot;: &quot;abc&quot;, &quot;tms&quot;: false}\n",
       "            ).addTo(map_332e64e0cfcd7902fb8dd9f539b1e6fa);\n",
       "        \n",
       "    \n",
       "            L.control.fullscreen(\n",
       "                {&quot;forceSeparateButton&quot;: false, &quot;position&quot;: &quot;topleft&quot;, &quot;title&quot;: &quot;Full Screen&quot;, &quot;titleCancel&quot;: &quot;Exit Full Screen&quot;}\n",
       "            ).addTo(map_332e64e0cfcd7902fb8dd9f539b1e6fa);\n",
       "        \n",
       "    \n",
       "            var options = {\n",
       "              position: &quot;topleft&quot;,\n",
       "              draw: {},\n",
       "              edit: {},\n",
       "            }\n",
       "            // FeatureGroup is to store editable layers.\n",
       "            var drawnItems = new L.featureGroup().addTo(\n",
       "                map_332e64e0cfcd7902fb8dd9f539b1e6fa\n",
       "            );\n",
       "            options.edit.featureGroup = drawnItems;\n",
       "            var draw_control_7c2b88b84fe011cedba5517dade5ea17 = new L.Control.Draw(\n",
       "                options\n",
       "            ).addTo( map_332e64e0cfcd7902fb8dd9f539b1e6fa );\n",
       "            map_332e64e0cfcd7902fb8dd9f539b1e6fa.on(L.Draw.Event.CREATED, function(e) {\n",
       "                var layer = e.layer,\n",
       "                    type = e.layerType;\n",
       "                var coords = JSON.stringify(layer.toGeoJSON());\n",
       "                layer.on(&#x27;click&#x27;, function() {\n",
       "                    alert(coords);\n",
       "                    console.log(coords);\n",
       "                });\n",
       "                drawnItems.addLayer(layer);\n",
       "             });\n",
       "            map_332e64e0cfcd7902fb8dd9f539b1e6fa.on(&#x27;draw:created&#x27;, function(e) {\n",
       "                drawnItems.addLayer(e.layer);\n",
       "            });\n",
       "            \n",
       "        \n",
       "    \n",
       "            L.Control.geocoder(\n",
       "                {&quot;collapsed&quot;: true, &quot;defaultMarkGeocode&quot;: true, &quot;position&quot;: &quot;topleft&quot;}\n",
       "            ).on(&#x27;markgeocode&#x27;, function(e) {\n",
       "                map_332e64e0cfcd7902fb8dd9f539b1e6fa.setView(e.geocode.center, 11);\n",
       "            }).addTo(map_332e64e0cfcd7902fb8dd9f539b1e6fa);\n",
       "\n",
       "        \n",
       "    \n",
       "            map_332e64e0cfcd7902fb8dd9f539b1e6fa.fitBounds(\n",
       "                [[35.8656, -121.4329], [35.8656, -121.4329]],\n",
       "                {&quot;maxZoom&quot;: 15}\n",
       "            );\n",
       "        \n",
       "    \n",
       "            var tile_layer_8232e1f89a236651dfb70f684a485d79 = L.tileLayer(\n",
       "                &quot;https://mt1.google.com/vt/lyrs=s\\u0026x={x}\\u0026y={y}\\u0026z={z}&quot;,\n",
       "                {&quot;attribution&quot;: &quot;Google&quot;, &quot;detectRetina&quot;: false, &quot;maxNativeZoom&quot;: 22, &quot;maxZoom&quot;: 22, &quot;minZoom&quot;: 0, &quot;noWrap&quot;: false, &quot;opacity&quot;: 1, &quot;subdomains&quot;: &quot;abc&quot;, &quot;tms&quot;: false}\n",
       "            ).addTo(map_332e64e0cfcd7902fb8dd9f539b1e6fa);\n",
       "        \n",
       "    \n",
       "            var macro_element_6f5e2fc4caadf45c6745758bcb59bf0c = L.tileLayer.wms(\n",
       "                &quot;https://imagery.nationalmap.gov/arcgis/services/USGSNAIPImagery/ImageServer/WMSServer?&quot;,\n",
       "                {&quot;attribution&quot;: &quot;USGS&quot;, &quot;format&quot;: &quot;image/png&quot;, &quot;layers&quot;: &quot;USGSNAIPImagery:FalseColorComposite&quot;, &quot;styles&quot;: &quot;&quot;, &quot;transparent&quot;: true, &quot;version&quot;: &quot;1.1.1&quot;}\n",
       "            ).addTo(map_332e64e0cfcd7902fb8dd9f539b1e6fa);\n",
       "        \n",
       "    \n",
       "            var side_by_side_layers_63a0819876c62c01b173dd0c51d7e55b = L.control.sideBySide(\n",
       "                tile_layer_8232e1f89a236651dfb70f684a485d79, macro_element_6f5e2fc4caadf45c6745758bcb59bf0c\n",
       "            ).addTo(map_332e64e0cfcd7902fb8dd9f539b1e6fa);\n",
       "        \n",
       "    \n",
       "            var layer_control_404677b163f409bf5278c34426d88921 = {\n",
       "                base_layers : {\n",
       "                    &quot;openstreetmap&quot; : tile_layer_ccecf0fe4e670aa105ad6f7d03977678,\n",
       "                },\n",
       "                overlays :  {\n",
       "                    &quot;Google Maps&quot; : tile_layer_cb2c9d666d06634fb6d1a405a7af49d6,\n",
       "                    &quot;Google Satellite&quot; : tile_layer_8232e1f89a236651dfb70f684a485d79,\n",
       "                    &quot;USGS NAIP Imagery False Color&quot; : macro_element_6f5e2fc4caadf45c6745758bcb59bf0c,\n",
       "                },\n",
       "            };\n",
       "            L.control.layers(\n",
       "                layer_control_404677b163f409bf5278c34426d88921.base_layers,\n",
       "                layer_control_404677b163f409bf5278c34426d88921.overlays,\n",
       "                {&quot;autoZIndex&quot;: true, &quot;collapsed&quot;: true, &quot;position&quot;: &quot;topright&quot;}\n",
       "            ).addTo(map_332e64e0cfcd7902fb8dd9f539b1e6fa);\n",
       "        \n",
       "&lt;/script&gt;\n",
       "&lt;/html&gt;\" width=\"100%\" height=\"600\"style=\"border:none !important;\" \"allowfullscreen\" \"webkitallowfullscreen\" \"mozallowfullscreen\"></iframe>"
      ],
      "text/plain": [
       "<geemap.foliumap.Map at 0x22b3ec0b070>"
      ]
     },
     "execution_count": 17,
     "metadata": {},
     "output_type": "execute_result"
    }
   ],
   "source": [
    "# Make split view map half Satellite and half NAIP Imagery False Color (Big Sur)\n",
    "\n",
    "Big_Sur_split_roi = geemap.Map(location=[35.8656, -121.4329], zoom_start=15)\n",
    "Big_Sur_split_roi.add_basemap('SATELLITE')\n",
    "Big_Sur_split_roi.add_basemap('USGS NAIP Imagery False Color')\n",
    "# Map.add_basemap('USGS NAIP Imagery NDVI')\n",
    "\n",
    "Big_Sur_split_roi.split_map(left_layer='SATELLITE',\n",
    "                    right_layer='USGS NAIP Imagery False Color')\n",
    "\n",
    "Big_Sur_split_roi"
   ]
  },
  {
   "cell_type": "markdown",
   "id": "6950ef1c",
   "metadata": {},
   "source": [
    "## An introduction to Sentinel 1 and Sentinel 2 imagery\n",
    "\n",
    "Sentinel-1 and Sentinel-2 play pivotal roles within the Copernicus program initiated by the European Space Agency, contributing essential data for diverse Earth observation applications. Sentinel-1, functioning as a Synthetic Aperature Radar, delivers all-weather surveillance and monitoring capabilities by transmitting radar signals and capturing their reflections. This unique capacity permits the observation of Earth's surface regardless of cloud cover or daylight conditions, proving especially valuable for precise monitoring of ground shifts and changes such as deforestation. \n",
    "In contrast, Sentinel-2 employs multispectral sensors to capture intricate imagery of terrestrial and coastal regions. With the capability to collect data across 13 distinct spectral bands, Sentinel-2 is instrumental in monitoring factors such as vegetation health, alterations in land cover, urban growth, and disaster assessment."
   ]
  },
  {
   "cell_type": "markdown",
   "id": "5f4d11aa",
   "metadata": {
    "ExecuteTime": {
     "end_time": "2023-05-01T01:36:00.322167Z",
     "start_time": "2023-05-01T01:36:00.304481Z"
    },
    "tags": [
     "remove_cell"
    ]
   },
   "source": [
    "## SAR Data avalability\n",
    "#### Caddy Lake Landslide"
   ]
  },
  {
   "cell_type": "code",
   "execution_count": 18,
   "id": "8ff4260d",
   "metadata": {
    "ExecuteTime": {
     "end_time": "2023-08-14T15:23:47.896477Z",
     "start_time": "2023-08-14T15:23:47.288475Z"
    },
    "tags": [
     "remove_cell"
    ]
   },
   "outputs": [
    {
     "name": "stdout",
     "output_type": "stream",
     "text": [
      "Sentinel-1 image data range is between 2015-12-28 and 2016-12-22.\n"
     ]
    }
   ],
   "source": [
    "def Caddy_sentinel_1_availability(Caddy_event_date):\n",
    "    start_date = ee.Date(Caddy_event_date).advance(-180, 'days')\n",
    "    end_date = ee.Date(Caddy_event_date).advance(180, 'days')\n",
    "\n",
    "    Caddy_availability = \"Sentinel-1 image data range is between {} and {}.\".format(\n",
    "        start_date.format('YYYY-MM-dd').getInfo(),\n",
    "        end_date.format('YYYY-MM-dd').getInfo()\n",
    "    )\n",
    "    \n",
    "    return Caddy_availability\n",
    "\n",
    "# Define the event date\n",
    "Caddy_event_date = '2016-06-25'\n",
    "\n",
    "Caddy_availability = Caddy_sentinel_1_availability(Caddy_event_date)\n",
    "print(Caddy_availability)"
   ]
  },
  {
   "cell_type": "code",
   "execution_count": 19,
   "id": "5bf349eb",
   "metadata": {
    "ExecuteTime": {
     "end_time": "2023-08-14T15:23:48.290581Z",
     "start_time": "2023-08-14T15:23:47.896477Z"
    },
    "tags": [
     "remove_cell"
    ]
   },
   "outputs": [
    {
     "name": "stdout",
     "output_type": "stream",
     "text": [
      "Bounding box coordinates:  [[-95.2167, 49.8018], [-95.2029, 49.8018], [-95.2029, 49.8108], [-95.2167, 49.8108], [-95.2167, 49.8018]]\n",
      "AOI successfully created.\n"
     ]
    }
   ],
   "source": [
    "def create_Caddy_aoi(Caddy_center_coordinates, width):\n",
    "    try:\n",
    "        # Define the center point of the region of interest\n",
    "        center_point = ee.Geometry.Point(Caddy_center_coordinates)\n",
    "\n",
    "        # Create an EE AOI using the center coordinates and dimensions\n",
    "        Caddy_aoi = center_point.buffer(width / 2).bounds()\n",
    "\n",
    "        # Print the bounding box coordinates with four decimal places\n",
    "        coords = [[round(x, 4) for x in coord] for coord in Caddy_aoi.\n",
    "                  coordinates().getInfo()[0]]\n",
    "        print(\"Bounding box coordinates: \", coords)\n",
    "\n",
    "        return Caddy_aoi\n",
    "    except Exception:\n",
    "        print(\"An error occurred while creating the AOI.\")\n",
    "        return None\n",
    "\n",
    "# Define the center coordinates of the region of interest\n",
    "Caddy_center_coordinates = [-95.2098, 49.8063]\n",
    "width = 1000\n",
    "\n",
    "# Create the AOI using the create_Caddy_aoi function\n",
    "Caddy_aoi = create_Caddy_aoi(Caddy_center_coordinates, width)\n",
    "\n",
    "if Caddy_aoi is not None:\n",
    "    print(\"AOI successfully created.\")\n",
    "else:\n",
    "    print(\"Failed to create AOI. Check the input values and try again.\")"
   ]
  },
  {
   "cell_type": "markdown",
   "id": "18a1c37d",
   "metadata": {
    "tags": [
     "remove_cell"
    ]
   },
   "source": [
    "#### Big Sur Landslide"
   ]
  },
  {
   "cell_type": "code",
   "execution_count": 20,
   "id": "50f87e2c",
   "metadata": {
    "ExecuteTime": {
     "end_time": "2023-08-14T15:23:48.908643Z",
     "start_time": "2023-08-14T15:23:48.290581Z"
    },
    "tags": [
     "remove_cell"
    ]
   },
   "outputs": [
    {
     "name": "stdout",
     "output_type": "stream",
     "text": [
      "Big_Sur_Sentinel-1 image data range is between 2016-11-21 and 2017-11-16.\n"
     ]
    }
   ],
   "source": [
    "def Big_Sur_sentinel_1_availability(Big_Sur_event_date):\n",
    "    start_date = ee.Date(Big_Sur_event_date).advance(-180, 'days')\n",
    "    end_date = ee.Date(Big_Sur_event_date).advance(180, 'days')\n",
    "\n",
    "    Big_Sur_availability = \"Big_Sur_Sentinel-1 image data range is between {} and {}.\".format(\n",
    "        start_date.format('YYYY-MM-dd').getInfo(),\n",
    "        end_date.format('YYYY-MM-dd').getInfo()\n",
    "    )\n",
    "    \n",
    "    return Big_Sur_availability\n",
    "\n",
    "# Define the event date\n",
    "Big_Sur_event_date = '2017-05-20'\n",
    "\n",
    "Big_Sur_availability = Big_Sur_sentinel_1_availability(Big_Sur_event_date)\n",
    "print(Big_Sur_availability)"
   ]
  },
  {
   "cell_type": "code",
   "execution_count": 21,
   "id": "9706d4b2",
   "metadata": {
    "ExecuteTime": {
     "end_time": "2023-08-14T15:23:49.221581Z",
     "start_time": "2023-08-14T15:23:48.908643Z"
    },
    "tags": [
     "remove_cell"
    ]
   },
   "outputs": [
    {
     "name": "stdout",
     "output_type": "stream",
     "text": [
      "Bounding box coordinates:  [[-121.4384, 35.8611], [-121.4274, 35.8611], [-121.4274, 35.8701], [-121.4384, 35.8701], [-121.4384, 35.8611]]\n",
      "AOI successfully created.\n"
     ]
    }
   ],
   "source": [
    "def create_Big_Sur_aoi(Big_Sur_center_coordinates, width):\n",
    "    try:\n",
    "        # Define the center point of the region of interest\n",
    "        center_point = ee.Geometry.Point(Big_Sur_center_coordinates)\n",
    "\n",
    "        # Create an EE AOI using the center coordinates and dimensions\n",
    "        Big_Sur_aoi = center_point.buffer(width / 2).bounds()\n",
    "\n",
    "        # Print the bounding box coordinates with four decimal places\n",
    "        coords = [[round(x, 4) for x in coord] for coord in Big_Sur_aoi.\n",
    "                  coordinates().getInfo()[0]]\n",
    "        print(\"Bounding box coordinates: \", coords)\n",
    "\n",
    "        return Big_Sur_aoi\n",
    "    except Exception:\n",
    "        print(\"An error occurred while creating the AOI.\")\n",
    "        return None\n",
    "\n",
    "# Define the center coordinates of the region of interest\n",
    "Big_Sur_center_coordinates = [-121.4329, 35.8656]\n",
    "width = 1000\n",
    "\n",
    "# Create the AOI using the create_Big_Sur_aoi function\n",
    "Big_Sur_aoi = create_Big_Sur_aoi(Big_Sur_center_coordinates, width)\n",
    "\n",
    "if Big_Sur_aoi is not None:\n",
    "    print(\"AOI successfully created.\")\n",
    "else:\n",
    "    print(\"Failed to create AOI. Check the input values and try again.\")"
   ]
  },
  {
   "cell_type": "markdown",
   "id": "c25b9d61",
   "metadata": {
    "ExecuteTime": {
     "end_time": "2023-04-16T03:22:26.288319Z",
     "start_time": "2023-04-16T03:22:26.281429Z"
    }
   },
   "source": [
    "## Collecting and analyzing SAR images (Sentinel 1)\n",
    "We retrieved times series of SAR (Sentinel-1) satellite imagery within a time span of 180 days before and after the event dates to monitor pre- and post- event changes containing 27 and 31 images, respectively, for Caddy Lake and Big Sur locations. By analyzing the time series data, we have the capability to generate change maps, in which the land changes are represented by the red areas in the maps presented below."
   ]
  },
  {
   "cell_type": "code",
   "execution_count": 22,
   "id": "015caa30",
   "metadata": {
    "ExecuteTime": {
     "end_time": "2023-08-14T15:23:50.178019Z",
     "start_time": "2023-08-14T15:23:49.221581Z"
    },
    "tags": [
     "remove_cell"
    ]
   },
   "outputs": [
    {
     "name": "stdout",
     "output_type": "stream",
     "text": [
      "The Relative Orbit Number for ROI is: 63\n",
      "The orbitology is: ASCENDING\n",
      "Number of images in the collection: 27\n"
     ]
    }
   ],
   "source": [
    "# Collect and filter Sentinel-1 images by time and region of interest\n",
    "Caddy_start_date = '2015-12-28'\n",
    "Caddy_end_date = '2016-12-22'\n",
    "Caddy_sentinel_1 = (ee.ImageCollection('COPERNICUS/S1_GRD_FLOAT')\n",
    "              .filterBounds(Caddy_aoi)\n",
    "              .filterDate(Caddy_start_date, Caddy_end_date)\n",
    "              .filter(ee.Filter.listContains('transmitterReceiverPolarisation'\n",
    "                                             ,'VV'))\n",
    "              .filter(ee.Filter.listContains('transmitterReceiverPolarisation'\n",
    "                                             ,'VH'))\n",
    "             )\n",
    "\n",
    "Caddy_image_collection = Caddy_sentinel_1.filter(ee.Filter.eq('orbitProperties_pass', \n",
    "                                                  'ASCENDING'))\n",
    "\n",
    "orbit_num = (Caddy_image_collection.aggregate_array('relativeOrbitNumber_start')\n",
    "             .getInfo())\n",
    "look_angle = Caddy_image_collection.aggregate_array('orbitProperties_pass').getInfo()\n",
    "\n",
    "if orbit_num and len(orbit_num) > 0:\n",
    "    orbit_num = orbit_num[0]\n",
    "else:\n",
    "    orbit_num = None\n",
    "\n",
    "if look_angle and len(look_angle) > 0:\n",
    "    look_angle = look_angle[0]\n",
    "else:\n",
    "    look_angle = None\n",
    "\n",
    "if orbit_num is not None and look_angle is not None:\n",
    "    print('The Relative Orbit Number for ROI is:', orbit_num)\n",
    "    print('The orbitology is:', look_angle)\n",
    "    print('Number of images in the collection:', Caddy_image_collection.size().\n",
    "          getInfo())\n",
    "else:\n",
    "    print('No images found in the collection.')"
   ]
  },
  {
   "cell_type": "code",
   "execution_count": 23,
   "id": "81b5910f",
   "metadata": {
    "ExecuteTime": {
     "end_time": "2023-08-14T15:23:50.556612Z",
     "start_time": "2023-08-14T15:23:50.179976Z"
    },
    "tags": [
     "remove_cell"
    ]
   },
   "outputs": [
    {
     "name": "stdout",
     "output_type": "stream",
     "text": [
      "Caddy Lake Landslide timestamp retrieved.\n"
     ]
    },
    {
     "data": {
      "text/plain": [
       "['T20160109',\n",
       " 'T20160527',\n",
       " 'T20160601',\n",
       " 'T20160613',\n",
       " 'T20160707',\n",
       " 'T20160719',\n",
       " 'T20160726',\n",
       " 'T20160731',\n",
       " 'T20160812',\n",
       " 'T20160819',\n",
       " 'T20160824',\n",
       " 'T20160905',\n",
       " 'T20160912',\n",
       " 'T20160924',\n",
       " 'T20160930',\n",
       " 'T20161005',\n",
       " 'T20161012',\n",
       " 'T20161017',\n",
       " 'T20161024',\n",
       " 'T20161029',\n",
       " 'T20161105',\n",
       " 'T20161110',\n",
       " 'T20161117',\n",
       " 'T20161122',\n",
       " 'T20161129',\n",
       " 'T20161204',\n",
       " 'T20161211']"
      ]
     },
     "execution_count": 23,
     "metadata": {},
     "output_type": "execute_result"
    }
   ],
   "source": [
    "# Retrieve acquisition date of each image in the collection as a list\n",
    "Caddy_timestamplist = (Caddy_image_collection.aggregate_array('system:time_start')\n",
    "                 .map(lambda t: ee.String('T').cat(ee.Date(t).format(\n",
    "                     'YYYYMMdd')))\n",
    "                 .getInfo())\n",
    "# Check if timestamplist is not empty before retrieving its values\n",
    "if Caddy_timestamplist:\n",
    "    print(\"Caddy Lake Landslide timestamp retrieved.\")\n",
    "else:\n",
    "    print(\"No timestamps available.\")\n",
    "Caddy_timestamplist"
   ]
  },
  {
   "cell_type": "markdown",
   "id": "4d2d0a50",
   "metadata": {
    "tags": [
     "remove_cell"
    ]
   },
   "source": [
    "#### 2. Big Sur landslide"
   ]
  },
  {
   "cell_type": "code",
   "execution_count": 24,
   "id": "65756b75",
   "metadata": {
    "ExecuteTime": {
     "end_time": "2023-08-14T15:23:51.498524Z",
     "start_time": "2023-08-14T15:23:50.559409Z"
    },
    "tags": [
     "remove_cell"
    ]
   },
   "outputs": [
    {
     "name": "stdout",
     "output_type": "stream",
     "text": [
      "The Relative Orbit Number for ROI is: 35\n",
      "The orbitology is: ASCENDING\n",
      "Number of images in the collection: 31\n"
     ]
    }
   ],
   "source": [
    "# Collect and filter Sentinel-1 images by time and region of interest\n",
    "Big_Sur_start_date = '2016-11-21'\n",
    "Big_Sur_end_date = '2017-11-16'   \n",
    "Big_Sur_sentinel_1 = (ee.ImageCollection('COPERNICUS/S1_GRD_FLOAT')\n",
    "              .filterBounds(Big_Sur_aoi)\n",
    "              .filterDate(Big_Sur_start_date, Big_Sur_end_date)\n",
    "              .filter(ee.Filter.listContains('transmitterReceiverPolarisation'\n",
    "                                             ,'VV'))\n",
    "              .filter(ee.Filter.listContains('transmitterReceiverPolarisation'\n",
    "                                             ,'VH'))\n",
    "             )\n",
    "\n",
    "Big_Sur_image_collection = Big_Sur_sentinel_1.filter(ee.Filter.eq('orbitProperties_pass', \n",
    "                                                  'ASCENDING'))\n",
    "\n",
    "orbit_num = (Big_Sur_image_collection.aggregate_array('relativeOrbitNumber_start')\n",
    "             .getInfo())\n",
    "look_angle = Big_Sur_image_collection.aggregate_array('orbitProperties_pass').getInfo()\n",
    "\n",
    "if orbit_num and len(orbit_num) > 0:\n",
    "    orbit_num = orbit_num[0]\n",
    "else:\n",
    "    orbit_num = None\n",
    "\n",
    "if look_angle and len(look_angle) > 0:\n",
    "    look_angle = look_angle[0]\n",
    "else:\n",
    "    look_angle = None\n",
    "\n",
    "if orbit_num is not None and look_angle is not None:\n",
    "    print('The Relative Orbit Number for ROI is:', orbit_num)\n",
    "    print('The orbitology is:', look_angle)\n",
    "    print('Number of images in the collection:', Big_Sur_image_collection.size().\n",
    "          getInfo())\n",
    "else:\n",
    "    print('No images found in the collection.')"
   ]
  },
  {
   "cell_type": "code",
   "execution_count": 25,
   "id": "131faeb8",
   "metadata": {
    "ExecuteTime": {
     "end_time": "2023-08-14T15:23:51.824644Z",
     "start_time": "2023-08-14T15:23:51.500713Z"
    },
    "tags": [
     "remove_cell"
    ]
   },
   "outputs": [
    {
     "name": "stdout",
     "output_type": "stream",
     "text": [
      "Big Sur Landslide timestamp retrieved.\n"
     ]
    },
    {
     "data": {
      "text/plain": [
       "['T20161208',\n",
       " 'T20170101',\n",
       " 'T20170125',\n",
       " 'T20170206',\n",
       " 'T20161214',\n",
       " 'T20170107',\n",
       " 'T20170119',\n",
       " 'T20170131',\n",
       " 'T20170224',\n",
       " 'T20170308',\n",
       " 'T20170320',\n",
       " 'T20170401',\n",
       " 'T20170413',\n",
       " 'T20170425',\n",
       " 'T20170507',\n",
       " 'T20170519',\n",
       " 'T20170531',\n",
       " 'T20170612',\n",
       " 'T20170624',\n",
       " 'T20170706',\n",
       " 'T20170718',\n",
       " 'T20170730',\n",
       " 'T20170811',\n",
       " 'T20170823',\n",
       " 'T20170904',\n",
       " 'T20170916',\n",
       " 'T20170928',\n",
       " 'T20171010',\n",
       " 'T20171022',\n",
       " 'T20171103',\n",
       " 'T20171115']"
      ]
     },
     "execution_count": 25,
     "metadata": {},
     "output_type": "execute_result"
    }
   ],
   "source": [
    "# Retrieve acquisition date of each image in the collection as a list\n",
    "Big_Sur_timestamplist = (Big_Sur_image_collection.aggregate_array('system:time_start')\n",
    "                 .map(lambda t: ee.String('T').cat(ee.Date(t).format(\n",
    "                     'YYYYMMdd')))\n",
    "                 .getInfo())\n",
    "# Check if timestamplist is not empty before retrieving its values\n",
    "if Big_Sur_timestamplist:\n",
    "    print(\"Big Sur Landslide timestamp retrieved.\")\n",
    "else:\n",
    "    print(\"No timestamps available.\")\n",
    "Big_Sur_timestamplist"
   ]
  },
  {
   "cell_type": "markdown",
   "id": "04f32071",
   "metadata": {
    "tags": [
     "remove_cell"
    ]
   },
   "source": [
    "## Convert and clip Image collection\n",
    "#### Caddy Lake Landslide"
   ]
  },
  {
   "cell_type": "code",
   "execution_count": 26,
   "id": "a9c0888b",
   "metadata": {
    "ExecuteTime": {
     "end_time": "2023-08-14T15:23:53.233805Z",
     "start_time": "2023-08-14T15:23:51.826716Z"
    },
    "tags": [
     "remove_cell"
    ]
   },
   "outputs": [
    {
     "name": "stdout",
     "output_type": "stream",
     "text": [
      "First image band names: ['VV', 'VH', 'angle']\n",
      "List length: 27\n"
     ]
    }
   ],
   "source": [
    "Caddy_im_list = Caddy_image_collection.toList(Caddy_image_collection.size())\n",
    "\n",
    "# clip our list of images to the aoi geometry\n",
    "def Caddy_clip_img(img):\n",
    "    \"\"\"\n",
    "    Clips a list of images to our aoi geometry.\n",
    "\n",
    "    Returns\n",
    "    -------\n",
    "    list\n",
    "        clipped images to aoi\n",
    "\n",
    "    \"\"\"\n",
    "    return ee.Image(img).clip(Caddy_aoi)\n",
    "\n",
    "Caddy_im_list = ee.List(Caddy_im_list.map(Caddy_clip_img))\n",
    "Caddy_im_list.get(0)\n",
    "ee.Image(Caddy_im_list.get(0)).bandNames().getInfo()\n",
    "# Caddy_im_list.length().getInfo()\n",
    "\n",
    "if Caddy_im_list.size().getInfo() > 0:\n",
    "    first_image = ee.Image(Caddy_im_list.get(0))\n",
    "    band_names = first_image.bandNames().getInfo()\n",
    "    list_length = Caddy_im_list.length().getInfo()\n",
    "\n",
    "    print(\"First image band names:\", band_names)\n",
    "    print(\"List length:\", list_length)\n",
    "else:\n",
    "    print(\"No images available in the list.\")"
   ]
  },
  {
   "cell_type": "markdown",
   "id": "fdc1eca7",
   "metadata": {
    "tags": [
     "remove_cell"
    ]
   },
   "source": [
    "#### Big Sur Landslide"
   ]
  },
  {
   "cell_type": "code",
   "execution_count": 27,
   "id": "69006f94",
   "metadata": {
    "ExecuteTime": {
     "end_time": "2023-08-14T15:23:55.763635Z",
     "start_time": "2023-08-14T15:23:53.244321Z"
    },
    "tags": [
     "remove_cell"
    ]
   },
   "outputs": [
    {
     "name": "stdout",
     "output_type": "stream",
     "text": [
      "First image band names: ['VV', 'VH', 'angle']\n",
      "List length: 31\n"
     ]
    }
   ],
   "source": [
    "Big_Sur_im_list = Big_Sur_image_collection.toList(Big_Sur_image_collection.size())\n",
    "\n",
    "# clip our list of images to the aoi geometry\n",
    "def Big_Sur_clip_img(img):\n",
    "    \"\"\"\n",
    "    Clips a list of images to our aoi geometry.\n",
    "\n",
    "    Returns\n",
    "    -------\n",
    "    list\n",
    "        clipped images to aoi\n",
    "\n",
    "    \"\"\"\n",
    "    return ee.Image(img).clip(Big_Sur_aoi)\n",
    "\n",
    "Big_Sur_im_list = ee.List(Big_Sur_im_list.map(Big_Sur_clip_img))\n",
    "Big_Sur_im_list.get(0)\n",
    "ee.Image(Big_Sur_im_list.get(0)).bandNames().getInfo()\n",
    "# Big_Sur_im_list.length().getInfo()\n",
    "\n",
    "if Big_Sur_im_list.size().getInfo() > 0:\n",
    "    first_image = ee.Image(Big_Sur_im_list.get(0))\n",
    "    band_names = first_image.bandNames().getInfo()\n",
    "    list_length = Big_Sur_im_list.length().getInfo()\n",
    "\n",
    "    print(\"First image band names:\", band_names)\n",
    "    print(\"List length:\", list_length)\n",
    "else:\n",
    "    print(\"No images available in the list.\")"
   ]
  },
  {
   "cell_type": "markdown",
   "id": "648c280d",
   "metadata": {
    "tags": [
     "remove_cell"
    ]
   },
   "source": [
    "## Change detection"
   ]
  },
  {
   "cell_type": "code",
   "execution_count": 28,
   "id": "9d7ef5c1",
   "metadata": {
    "ExecuteTime": {
     "end_time": "2023-08-14T15:23:55.771702Z",
     "start_time": "2023-08-14T15:23:55.766689Z"
    },
    "tags": [
     "remove_cell"
    ]
   },
   "outputs": [],
   "source": [
    "# Add EE drawing method to folium\n",
    "folium.Map.add_ee_layer = add_ee_layer"
   ]
  },
  {
   "cell_type": "markdown",
   "id": "1c199168",
   "metadata": {
    "tags": [
     "remove_cell"
    ]
   },
   "source": [
    "#### Caddy Lake Landslide Change Detection"
   ]
  },
  {
   "cell_type": "code",
   "execution_count": 29,
   "id": "28dde9d9",
   "metadata": {
    "ExecuteTime": {
     "end_time": "2023-08-14T15:23:55.816880Z",
     "start_time": "2023-08-14T15:23:55.771702Z"
    },
    "tags": [
     "remove_cell"
    ]
   },
   "outputs": [],
   "source": [
    "# Create a likelihood ratio test statistic and evaluate it for a list of single polarization images\n",
    "Caddy_vv_list = Caddy_im_list.map(selectvv)"
   ]
  },
  {
   "cell_type": "markdown",
   "id": "4f1c3b6b",
   "metadata": {},
   "source": [
    "#### Change map of Caddy Lake landslide based on Sentinel-1 Image time serie six months before and after the event date"
   ]
  },
  {
   "cell_type": "code",
   "execution_count": 30,
   "id": "e5ab7e2a",
   "metadata": {
    "ExecuteTime": {
     "end_time": "2023-08-14T15:23:56.538433Z",
     "start_time": "2023-08-14T15:23:55.819384Z"
    },
    "tags": [
     "remove_input"
    ]
   },
   "outputs": [
    {
     "data": {
      "text/html": [
       "<div style=\"width:100%;\"><div style=\"position:relative;width:100%;height:0;padding-bottom:60%;\"><span style=\"color:#565656\">Make this Notebook Trusted to load map: File -> Trust Notebook</span><iframe srcdoc=\"&lt;!DOCTYPE html&gt;\n",
       "&lt;html&gt;\n",
       "&lt;head&gt;\n",
       "    \n",
       "    &lt;meta http-equiv=&quot;content-type&quot; content=&quot;text/html; charset=UTF-8&quot; /&gt;\n",
       "    \n",
       "        &lt;script&gt;\n",
       "            L_NO_TOUCH = false;\n",
       "            L_DISABLE_3D = false;\n",
       "        &lt;/script&gt;\n",
       "    \n",
       "    &lt;style&gt;html, body {width: 100%;height: 100%;margin: 0;padding: 0;}&lt;/style&gt;\n",
       "    &lt;style&gt;#map {position:absolute;top:0;bottom:0;right:0;left:0;}&lt;/style&gt;\n",
       "    &lt;script src=&quot;https://cdn.jsdelivr.net/npm/leaflet@1.9.3/dist/leaflet.js&quot;&gt;&lt;/script&gt;\n",
       "    &lt;script src=&quot;https://code.jquery.com/jquery-1.12.4.min.js&quot;&gt;&lt;/script&gt;\n",
       "    &lt;script src=&quot;https://cdn.jsdelivr.net/npm/bootstrap@5.2.2/dist/js/bootstrap.bundle.min.js&quot;&gt;&lt;/script&gt;\n",
       "    &lt;script src=&quot;https://cdnjs.cloudflare.com/ajax/libs/Leaflet.awesome-markers/2.0.2/leaflet.awesome-markers.js&quot;&gt;&lt;/script&gt;\n",
       "    &lt;link rel=&quot;stylesheet&quot; href=&quot;https://cdn.jsdelivr.net/npm/leaflet@1.9.3/dist/leaflet.css&quot;/&gt;\n",
       "    &lt;link rel=&quot;stylesheet&quot; href=&quot;https://cdn.jsdelivr.net/npm/bootstrap@5.2.2/dist/css/bootstrap.min.css&quot;/&gt;\n",
       "    &lt;link rel=&quot;stylesheet&quot; href=&quot;https://netdna.bootstrapcdn.com/bootstrap/3.0.0/css/bootstrap.min.css&quot;/&gt;\n",
       "    &lt;link rel=&quot;stylesheet&quot; href=&quot;https://cdn.jsdelivr.net/npm/@fortawesome/fontawesome-free@6.2.0/css/all.min.css&quot;/&gt;\n",
       "    &lt;link rel=&quot;stylesheet&quot; href=&quot;https://cdnjs.cloudflare.com/ajax/libs/Leaflet.awesome-markers/2.0.2/leaflet.awesome-markers.css&quot;/&gt;\n",
       "    &lt;link rel=&quot;stylesheet&quot; href=&quot;https://cdn.jsdelivr.net/gh/python-visualization/folium/folium/templates/leaflet.awesome.rotate.min.css&quot;/&gt;\n",
       "    \n",
       "            &lt;meta name=&quot;viewport&quot; content=&quot;width=device-width,\n",
       "                initial-scale=1.0, maximum-scale=1.0, user-scalable=no&quot; /&gt;\n",
       "            &lt;style&gt;\n",
       "                #map_d5c9703aa07725a38654dc42bfa3597f {\n",
       "                    position: relative;\n",
       "                    width: 100.0%;\n",
       "                    height: 100.0%;\n",
       "                    left: 0.0%;\n",
       "                    top: 0.0%;\n",
       "                }\n",
       "                .leaflet-container { font-size: 1rem; }\n",
       "            &lt;/style&gt;\n",
       "        \n",
       "&lt;/head&gt;\n",
       "&lt;body&gt;\n",
       "    \n",
       "    \n",
       "            &lt;div class=&quot;folium-map&quot; id=&quot;map_d5c9703aa07725a38654dc42bfa3597f&quot; &gt;&lt;/div&gt;\n",
       "        \n",
       "&lt;/body&gt;\n",
       "&lt;script&gt;\n",
       "    \n",
       "    \n",
       "            var map_d5c9703aa07725a38654dc42bfa3597f = L.map(\n",
       "                &quot;map_d5c9703aa07725a38654dc42bfa3597f&quot;,\n",
       "                {\n",
       "                    center: [49.8063, -95.2098],\n",
       "                    crs: L.CRS.EPSG3857,\n",
       "                    zoom: 15,\n",
       "                    zoomControl: true,\n",
       "                    preferCanvas: false,\n",
       "                }\n",
       "            );\n",
       "\n",
       "            \n",
       "\n",
       "        \n",
       "    \n",
       "            var tile_layer_32c5ca1900346dda05af8093f70012e7 = L.tileLayer(\n",
       "                &quot;https://{s}.tile.openstreetmap.org/{z}/{x}/{y}.png&quot;,\n",
       "                {&quot;attribution&quot;: &quot;Data by \\u0026copy; \\u003ca target=\\&quot;_blank\\&quot; href=\\&quot;http://openstreetmap.org\\&quot;\\u003eOpenStreetMap\\u003c/a\\u003e, under \\u003ca target=\\&quot;_blank\\&quot; href=\\&quot;http://www.openstreetmap.org/copyright\\&quot;\\u003eODbL\\u003c/a\\u003e.&quot;, &quot;detectRetina&quot;: false, &quot;maxNativeZoom&quot;: 18, &quot;maxZoom&quot;: 18, &quot;minZoom&quot;: 0, &quot;noWrap&quot;: false, &quot;opacity&quot;: 1, &quot;subdomains&quot;: &quot;abc&quot;, &quot;tms&quot;: false}\n",
       "            ).addTo(map_d5c9703aa07725a38654dc42bfa3597f);\n",
       "        \n",
       "    \n",
       "            var tile_layer_76fb206289bfd5b678199972b5ac5e0c = L.tileLayer(\n",
       "                &quot;https://earthengine.googleapis.com/v1alpha/projects/earthengine-legacy/maps/cf3ba9f4d27e2a6ce89783df04f7de79-e45d67ef2a99ffa8fc154b2101e699ae/tiles/{z}/{x}/{y}&quot;,\n",
       "                {&quot;attribution&quot;: &quot;Map Data \\u0026copy; \\u003ca href=\\&quot;https://earthengine.google.com/\\&quot;\\u003eGoogle Earth Engine\\u003c/a\\u003e&quot;, &quot;detectRetina&quot;: false, &quot;maxNativeZoom&quot;: 18, &quot;maxZoom&quot;: 18, &quot;minZoom&quot;: 0, &quot;noWrap&quot;: false, &quot;opacity&quot;: 1, &quot;subdomains&quot;: &quot;abc&quot;, &quot;tms&quot;: false}\n",
       "            ).addTo(map_d5c9703aa07725a38654dc42bfa3597f);\n",
       "        \n",
       "    \n",
       "            var layer_control_c25dda909c817e3e0d29c68ba39dd107 = {\n",
       "                base_layers : {\n",
       "                    &quot;openstreetmap&quot; : tile_layer_32c5ca1900346dda05af8093f70012e7,\n",
       "                },\n",
       "                overlays :  {\n",
       "                    &quot;Change map&quot; : tile_layer_76fb206289bfd5b678199972b5ac5e0c,\n",
       "                },\n",
       "            };\n",
       "            L.control.layers(\n",
       "                layer_control_c25dda909c817e3e0d29c68ba39dd107.base_layers,\n",
       "                layer_control_c25dda909c817e3e0d29c68ba39dd107.overlays,\n",
       "                {&quot;autoZIndex&quot;: true, &quot;collapsed&quot;: true, &quot;position&quot;: &quot;topright&quot;}\n",
       "            ).addTo(map_d5c9703aa07725a38654dc42bfa3597f);\n",
       "        \n",
       "&lt;/script&gt;\n",
       "&lt;/html&gt;\" style=\"position:absolute;width:100%;height:100%;left:0;top:0;border:none !important;\" allowfullscreen webkitallowfullscreen mozallowfullscreen></iframe></div></div>"
      ],
      "text/plain": [
       "<folium.folium.Map at 0x22b3ec5ca30>"
      ]
     },
     "execution_count": 30,
     "metadata": {},
     "output_type": "execute_result"
    }
   ],
   "source": [
    "# Create change map \n",
    "alpha = 0.01\n",
    "location = [49.8063, -95.2098]\n",
    "\n",
    "Caddy_c_map = ee.Image.constant(1).subtract(chi2cdf(omnibus(Caddy_vv_list), \n",
    "                                              len(Caddy_timestamplist)-1))\n",
    "Caddy_c_map = Caddy_c_map.multiply(0).where(Caddy_c_map.lt(alpha), 1)\n",
    "\n",
    "# Display change map\n",
    "mp = folium.Map(location=location, zoom_start=15)\n",
    "mp.add_ee_layer(Caddy_c_map, {'min': 0, 'max': 1, 'palette': ['cyan', 'red']}, \n",
    "                'Change map')\n",
    "\n",
    "# Add layer control\n",
    "mp.add_child(folium.LayerControl())"
   ]
  },
  {
   "cell_type": "markdown",
   "id": "a1a4adbc",
   "metadata": {
    "tags": [
     "remove_cell"
    ]
   },
   "source": [
    "#### Big Sir Landslide Change Detection"
   ]
  },
  {
   "cell_type": "code",
   "execution_count": 31,
   "id": "2e741d06",
   "metadata": {
    "ExecuteTime": {
     "end_time": "2023-08-14T15:23:56.553914Z",
     "start_time": "2023-08-14T15:23:56.541063Z"
    },
    "tags": [
     "remove_cell"
    ]
   },
   "outputs": [],
   "source": [
    "# Create a likelihood ratio test statistic and evaluate it for a list of single polarization images\n",
    "Big_Sur_vv_list = Big_Sur_im_list.map(selectvv)"
   ]
  },
  {
   "cell_type": "markdown",
   "id": "48635318",
   "metadata": {},
   "source": [
    "#### Change map of Big Sur landslide based on Sentinel-1 Image time serie six months before and after the event date"
   ]
  },
  {
   "cell_type": "code",
   "execution_count": 44,
   "id": "7bda0705",
   "metadata": {
    "ExecuteTime": {
     "end_time": "2023-08-14T18:38:19.810559Z",
     "start_time": "2023-08-14T18:38:19.219532Z"
    },
    "tags": [
     "remove_input"
    ]
   },
   "outputs": [
    {
     "data": {
      "text/html": [
       "<div style=\"width:100%;\"><div style=\"position:relative;width:100%;height:0;padding-bottom:60%;\"><span style=\"color:#565656\">Make this Notebook Trusted to load map: File -> Trust Notebook</span><iframe srcdoc=\"&lt;!DOCTYPE html&gt;\n",
       "&lt;html&gt;\n",
       "&lt;head&gt;\n",
       "    \n",
       "    &lt;meta http-equiv=&quot;content-type&quot; content=&quot;text/html; charset=UTF-8&quot; /&gt;\n",
       "    \n",
       "        &lt;script&gt;\n",
       "            L_NO_TOUCH = false;\n",
       "            L_DISABLE_3D = false;\n",
       "        &lt;/script&gt;\n",
       "    \n",
       "    &lt;style&gt;html, body {width: 100%;height: 100%;margin: 0;padding: 0;}&lt;/style&gt;\n",
       "    &lt;style&gt;#map {position:absolute;top:0;bottom:0;right:0;left:0;}&lt;/style&gt;\n",
       "    &lt;script src=&quot;https://cdn.jsdelivr.net/npm/leaflet@1.9.3/dist/leaflet.js&quot;&gt;&lt;/script&gt;\n",
       "    &lt;script src=&quot;https://code.jquery.com/jquery-1.12.4.min.js&quot;&gt;&lt;/script&gt;\n",
       "    &lt;script src=&quot;https://cdn.jsdelivr.net/npm/bootstrap@5.2.2/dist/js/bootstrap.bundle.min.js&quot;&gt;&lt;/script&gt;\n",
       "    &lt;script src=&quot;https://cdnjs.cloudflare.com/ajax/libs/Leaflet.awesome-markers/2.0.2/leaflet.awesome-markers.js&quot;&gt;&lt;/script&gt;\n",
       "    &lt;link rel=&quot;stylesheet&quot; href=&quot;https://cdn.jsdelivr.net/npm/leaflet@1.9.3/dist/leaflet.css&quot;/&gt;\n",
       "    &lt;link rel=&quot;stylesheet&quot; href=&quot;https://cdn.jsdelivr.net/npm/bootstrap@5.2.2/dist/css/bootstrap.min.css&quot;/&gt;\n",
       "    &lt;link rel=&quot;stylesheet&quot; href=&quot;https://netdna.bootstrapcdn.com/bootstrap/3.0.0/css/bootstrap.min.css&quot;/&gt;\n",
       "    &lt;link rel=&quot;stylesheet&quot; href=&quot;https://cdn.jsdelivr.net/npm/@fortawesome/fontawesome-free@6.2.0/css/all.min.css&quot;/&gt;\n",
       "    &lt;link rel=&quot;stylesheet&quot; href=&quot;https://cdnjs.cloudflare.com/ajax/libs/Leaflet.awesome-markers/2.0.2/leaflet.awesome-markers.css&quot;/&gt;\n",
       "    &lt;link rel=&quot;stylesheet&quot; href=&quot;https://cdn.jsdelivr.net/gh/python-visualization/folium/folium/templates/leaflet.awesome.rotate.min.css&quot;/&gt;\n",
       "    \n",
       "            &lt;meta name=&quot;viewport&quot; content=&quot;width=device-width,\n",
       "                initial-scale=1.0, maximum-scale=1.0, user-scalable=no&quot; /&gt;\n",
       "            &lt;style&gt;\n",
       "                #map_57e077b1bce18607a723b4140a8c8d2e {\n",
       "                    position: relative;\n",
       "                    width: 100.0%;\n",
       "                    height: 100.0%;\n",
       "                    left: 0.0%;\n",
       "                    top: 0.0%;\n",
       "                }\n",
       "                .leaflet-container { font-size: 1rem; }\n",
       "            &lt;/style&gt;\n",
       "        \n",
       "&lt;/head&gt;\n",
       "&lt;body&gt;\n",
       "    \n",
       "    \n",
       "            &lt;div class=&quot;folium-map&quot; id=&quot;map_57e077b1bce18607a723b4140a8c8d2e&quot; &gt;&lt;/div&gt;\n",
       "        \n",
       "&lt;/body&gt;\n",
       "&lt;script&gt;\n",
       "    \n",
       "    \n",
       "            var map_57e077b1bce18607a723b4140a8c8d2e = L.map(\n",
       "                &quot;map_57e077b1bce18607a723b4140a8c8d2e&quot;,\n",
       "                {\n",
       "                    center: [35.8656, -121.4329],\n",
       "                    crs: L.CRS.EPSG3857,\n",
       "                    zoom: 15,\n",
       "                    zoomControl: true,\n",
       "                    preferCanvas: false,\n",
       "                }\n",
       "            );\n",
       "\n",
       "            \n",
       "\n",
       "        \n",
       "    \n",
       "            var tile_layer_5e6904aba9c9054c3f4540841ce167e1 = L.tileLayer(\n",
       "                &quot;https://{s}.tile.openstreetmap.org/{z}/{x}/{y}.png&quot;,\n",
       "                {&quot;attribution&quot;: &quot;Data by \\u0026copy; \\u003ca target=\\&quot;_blank\\&quot; href=\\&quot;http://openstreetmap.org\\&quot;\\u003eOpenStreetMap\\u003c/a\\u003e, under \\u003ca target=\\&quot;_blank\\&quot; href=\\&quot;http://www.openstreetmap.org/copyright\\&quot;\\u003eODbL\\u003c/a\\u003e.&quot;, &quot;detectRetina&quot;: false, &quot;maxNativeZoom&quot;: 18, &quot;maxZoom&quot;: 18, &quot;minZoom&quot;: 0, &quot;noWrap&quot;: false, &quot;opacity&quot;: 1, &quot;subdomains&quot;: &quot;abc&quot;, &quot;tms&quot;: false}\n",
       "            ).addTo(map_57e077b1bce18607a723b4140a8c8d2e);\n",
       "        \n",
       "    \n",
       "            var tile_layer_615e94204dcb58101031ffc6b0228a37 = L.tileLayer(\n",
       "                &quot;https://earthengine.googleapis.com/v1alpha/projects/earthengine-legacy/maps/99e2619bb5a36550df6de4f1db65cf49-bde49b3436f8790c182d8cf0317bf86e/tiles/{z}/{x}/{y}&quot;,\n",
       "                {&quot;attribution&quot;: &quot;Map Data \\u0026copy; \\u003ca href=\\&quot;https://earthengine.google.com/\\&quot;\\u003eGoogle Earth Engine\\u003c/a\\u003e&quot;, &quot;detectRetina&quot;: false, &quot;maxNativeZoom&quot;: 18, &quot;maxZoom&quot;: 18, &quot;minZoom&quot;: 0, &quot;noWrap&quot;: false, &quot;opacity&quot;: 1, &quot;subdomains&quot;: &quot;abc&quot;, &quot;tms&quot;: false}\n",
       "            ).addTo(map_57e077b1bce18607a723b4140a8c8d2e);\n",
       "        \n",
       "    \n",
       "            var layer_control_6859e531068f1bef45948963aa875150 = {\n",
       "                base_layers : {\n",
       "                    &quot;openstreetmap&quot; : tile_layer_5e6904aba9c9054c3f4540841ce167e1,\n",
       "                },\n",
       "                overlays :  {\n",
       "                    &quot;Change map&quot; : tile_layer_615e94204dcb58101031ffc6b0228a37,\n",
       "                },\n",
       "            };\n",
       "            L.control.layers(\n",
       "                layer_control_6859e531068f1bef45948963aa875150.base_layers,\n",
       "                layer_control_6859e531068f1bef45948963aa875150.overlays,\n",
       "                {&quot;autoZIndex&quot;: true, &quot;collapsed&quot;: true, &quot;position&quot;: &quot;topright&quot;}\n",
       "            ).addTo(map_57e077b1bce18607a723b4140a8c8d2e);\n",
       "        \n",
       "&lt;/script&gt;\n",
       "&lt;/html&gt;\" style=\"position:absolute;width:100%;height:100%;left:0;top:0;border:none !important;\" allowfullscreen webkitallowfullscreen mozallowfullscreen></iframe></div></div>"
      ],
      "text/plain": [
       "<folium.folium.Map at 0x22b3ec942e0>"
      ]
     },
     "execution_count": 44,
     "metadata": {},
     "output_type": "execute_result"
    }
   ],
   "source": [
    "# Create change map \n",
    "alpha = 0.01\n",
    "location = [35.8656, -121.4329]\n",
    "\n",
    "BS_c_map = ee.Image.constant(1).subtract(chi2cdf(omnibus(Big_Sur_vv_list), \n",
    "                                              len(Big_Sur_timestamplist)-1))\n",
    "BS_c_map = BS_c_map.multiply(0).where(BS_c_map.lt(alpha), 1)\n",
    "\n",
    "# Display change map\n",
    "mp = folium.Map(location=location, zoom_start=15)\n",
    "mp.add_ee_layer(BS_c_map, {'min': 0, 'max': 1, 'palette': ['cyan', 'red']}, \n",
    "                'Change map')\n",
    "\n",
    "# Add layer control\n",
    "mp.add_child(folium.LayerControl())"
   ]
  },
  {
   "cell_type": "markdown",
   "id": "022c14c7",
   "metadata": {
    "ExecuteTime": {
     "end_time": "2023-08-07T15:29:26.515450Z",
     "start_time": "2023-08-07T15:29:26.502077Z"
    }
   },
   "source": [
    "## Collecting and analyzing multispectral images (Sentinel 2)\n",
    "Upon the creation of change maps, the process of applying the Normalized Difference Water Index (NDWI) involved obtaining multispectral images numbered 30 and 31, corresponding to the Caddy Lake and Big Sur areas, respectively. However, for the application of the water mask, we exclusively utilized the last image in the time series. The resulting maps showcase water bodies highlighted in yellow."
   ]
  },
  {
   "cell_type": "code",
   "execution_count": 33,
   "id": "4d931369",
   "metadata": {
    "ExecuteTime": {
     "end_time": "2023-08-14T15:23:58.586905Z",
     "start_time": "2023-08-14T15:23:57.025953Z"
    },
    "tags": [
     "remove_cell"
    ]
   },
   "outputs": [
    {
     "name": "stdout",
     "output_type": "stream",
     "text": [
      "The Sensing Orbit Number for ROI is: 55\n",
      "The Sensing Orbit Direction is: DESCENDING\n",
      "Number of images in the collection: 30\n"
     ]
    }
   ],
   "source": [
    "# Collecting Caddy Sentinel-2 images\n",
    "Caddy_start_date = '2015-12-28'\n",
    "Caddy_end_date = '2016-12-22'\n",
    "Caddy_sentinel_2 = (ee.ImageCollection('COPERNICUS/S2')\n",
    "              .filterBounds(Caddy_aoi)\n",
    "              .filterDate(Caddy_start_date, Caddy_end_date)\n",
    "              .filter(ee.Filter.lt('CLOUDY_PIXEL_PERCENTAGE', 20))\n",
    ")\n",
    "\n",
    "Caddy_S2_image_collection = Caddy_sentinel_2.filter(\n",
    "    ee.Filter.eq('SENSING_ORBIT_DIRECTION', 'DESCENDING'))\n",
    "\n",
    "if Caddy_image_collection.size().getInfo() > 0:\n",
    "    orbit_num = Caddy_S2_image_collection.first().get('SENSING_ORBIT_NUMBER')\n",
    "    orbit_direction = Caddy_S2_image_collection.first(\n",
    "    ).get('SENSING_ORBIT_DIRECTION')\n",
    "    print('The Sensing Orbit Number for ROI is:', orbit_num.getInfo())\n",
    "    print('The Sensing Orbit Direction is:', orbit_direction.getInfo())\n",
    "    print('Number of images in the collection:', Caddy_S2_image_collection.size(\n",
    "    ).getInfo())\n",
    "else:\n",
    "    print('No images found in the collection.')"
   ]
  },
  {
   "cell_type": "code",
   "execution_count": 34,
   "id": "9bc45aa6",
   "metadata": {
    "ExecuteTime": {
     "end_time": "2023-08-14T15:23:58.893713Z",
     "start_time": "2023-08-14T15:23:58.586905Z"
    },
    "tags": [
     "remove_cell"
    ]
   },
   "outputs": [
    {
     "name": "stdout",
     "output_type": "stream",
     "text": [
      "Date of the first image: 2016-03-12\n"
     ]
    }
   ],
   "source": [
    "# Get the first image from the collection\n",
    "Caddy_S2_first_image = Caddy_S2_image_collection.first()\n",
    "\n",
    "# Get the date of the first image \n",
    "date_str = ee.Date(Caddy_S2_first_image.get('system:time_start')).format('YYYY-MM-dd').getInfo()\n",
    "print('Date of the first image:', date_str)"
   ]
  },
  {
   "cell_type": "markdown",
   "id": "eba44a97",
   "metadata": {
    "tags": [
     "remove_cell"
    ]
   },
   "source": [
    "### Big Sur Landslide"
   ]
  },
  {
   "cell_type": "code",
   "execution_count": 35,
   "id": "982b12ed",
   "metadata": {
    "ExecuteTime": {
     "end_time": "2023-08-14T15:24:00.287208Z",
     "start_time": "2023-08-14T15:23:58.893713Z"
    },
    "tags": [
     "remove_cell"
    ]
   },
   "outputs": [
    {
     "name": "stdout",
     "output_type": "stream",
     "text": [
      "The Sensing Orbit Number for ROI is: None\n",
      "The Sensing Orbit Direction is: None\n",
      "Number of images in the collection: 31\n"
     ]
    }
   ],
   "source": [
    "# Collecting Big Sur Sentinel-2 images\n",
    "Big_Sur_sentinel_2 = (ee.ImageCollection('COPERNICUS/S2')\n",
    "              .filterBounds(Big_Sur_aoi)\n",
    "              .filterDate(Big_Sur_start_date, Big_Sur_end_date)\n",
    "              .filter(ee.Filter.lt('CLOUDY_PIXEL_PERCENTAGE', 20))\n",
    ")\n",
    "\n",
    "Big_Sur_S2_image_collection = Big_Sur_sentinel_2.filter(ee.Filter.eq('SENSING_ORBIT_DIRECTION', 'DESCENDING'))\n",
    "\n",
    "if Big_Sur_image_collection.size().getInfo() > 0:\n",
    "    orbit_num = Big_Sur_image_collection.first().get('SENSING_ORBIT_NUMBER')\n",
    "    orbit_direction = Big_Sur_image_collection.first().get('SENSING_ORBIT_DIRECTION')\n",
    "    print('The Sensing Orbit Number for ROI is:', orbit_num.getInfo())\n",
    "    print('The Sensing Orbit Direction is:', orbit_direction.getInfo())\n",
    "    print('Number of images in the collection:', Big_Sur_image_collection.size().getInfo())\n",
    "else:\n",
    "    print('No images found in the collection.')"
   ]
  },
  {
   "cell_type": "code",
   "execution_count": 36,
   "id": "27ae34b7",
   "metadata": {
    "ExecuteTime": {
     "end_time": "2023-08-14T15:24:00.800390Z",
     "start_time": "2023-08-14T15:24:00.287208Z"
    },
    "tags": [
     "remove_cell"
    ]
   },
   "outputs": [
    {
     "name": "stdout",
     "output_type": "stream",
     "text": [
      "Date of the first image: 2016-11-21\n"
     ]
    }
   ],
   "source": [
    "# Get the first image from the collection\n",
    "Big_Sur_S2_first_image = Big_Sur_S2_image_collection.first()\n",
    "\n",
    "# Get the date of the first image \n",
    "date_str = ee.Date(Big_Sur_S2_first_image.get('system:time_start')).format('YYYY-MM-dd').getInfo()\n",
    "print('Date of the first image:', date_str)"
   ]
  },
  {
   "cell_type": "markdown",
   "id": "cdb42e4b",
   "metadata": {
    "tags": [
     "remove_cell"
    ]
   },
   "source": [
    "### NDWI Calculations using multispectral imagery"
   ]
  },
  {
   "cell_type": "markdown",
   "id": "0971ec80",
   "metadata": {
    "ExecuteTime": {
     "end_time": "2023-08-12T01:00:49.703167Z",
     "start_time": "2023-08-12T01:00:49.690003Z"
    }
   },
   "source": [
    "#### Water mask displayed in Yellow: NDWI Calculation on Sentinel-2 image, Caddy Lake landslide"
   ]
  },
  {
   "cell_type": "code",
   "execution_count": 37,
   "id": "61fe84a3",
   "metadata": {
    "ExecuteTime": {
     "end_time": "2023-08-14T15:24:02.065488Z",
     "start_time": "2023-08-14T15:24:00.802128Z"
    },
    "tags": [
     "remove_input"
    ]
   },
   "outputs": [
    {
     "data": {
      "text/html": [
       "<div style=\"width:100%;\"><div style=\"position:relative;width:100%;height:0;padding-bottom:60%;\"><span style=\"color:#565656\">Make this Notebook Trusted to load map: File -> Trust Notebook</span><iframe srcdoc=\"&lt;!DOCTYPE html&gt;\n",
       "&lt;html&gt;\n",
       "&lt;head&gt;\n",
       "    \n",
       "    &lt;meta http-equiv=&quot;content-type&quot; content=&quot;text/html; charset=UTF-8&quot; /&gt;\n",
       "    \n",
       "        &lt;script&gt;\n",
       "            L_NO_TOUCH = false;\n",
       "            L_DISABLE_3D = false;\n",
       "        &lt;/script&gt;\n",
       "    \n",
       "    &lt;style&gt;html, body {width: 100%;height: 100%;margin: 0;padding: 0;}&lt;/style&gt;\n",
       "    &lt;style&gt;#map {position:absolute;top:0;bottom:0;right:0;left:0;}&lt;/style&gt;\n",
       "    &lt;script src=&quot;https://cdn.jsdelivr.net/npm/leaflet@1.9.3/dist/leaflet.js&quot;&gt;&lt;/script&gt;\n",
       "    &lt;script src=&quot;https://code.jquery.com/jquery-1.12.4.min.js&quot;&gt;&lt;/script&gt;\n",
       "    &lt;script src=&quot;https://cdn.jsdelivr.net/npm/bootstrap@5.2.2/dist/js/bootstrap.bundle.min.js&quot;&gt;&lt;/script&gt;\n",
       "    &lt;script src=&quot;https://cdnjs.cloudflare.com/ajax/libs/Leaflet.awesome-markers/2.0.2/leaflet.awesome-markers.js&quot;&gt;&lt;/script&gt;\n",
       "    &lt;link rel=&quot;stylesheet&quot; href=&quot;https://cdn.jsdelivr.net/npm/leaflet@1.9.3/dist/leaflet.css&quot;/&gt;\n",
       "    &lt;link rel=&quot;stylesheet&quot; href=&quot;https://cdn.jsdelivr.net/npm/bootstrap@5.2.2/dist/css/bootstrap.min.css&quot;/&gt;\n",
       "    &lt;link rel=&quot;stylesheet&quot; href=&quot;https://netdna.bootstrapcdn.com/bootstrap/3.0.0/css/bootstrap.min.css&quot;/&gt;\n",
       "    &lt;link rel=&quot;stylesheet&quot; href=&quot;https://cdn.jsdelivr.net/npm/@fortawesome/fontawesome-free@6.2.0/css/all.min.css&quot;/&gt;\n",
       "    &lt;link rel=&quot;stylesheet&quot; href=&quot;https://cdnjs.cloudflare.com/ajax/libs/Leaflet.awesome-markers/2.0.2/leaflet.awesome-markers.css&quot;/&gt;\n",
       "    &lt;link rel=&quot;stylesheet&quot; href=&quot;https://cdn.jsdelivr.net/gh/python-visualization/folium/folium/templates/leaflet.awesome.rotate.min.css&quot;/&gt;\n",
       "    \n",
       "            &lt;meta name=&quot;viewport&quot; content=&quot;width=device-width,\n",
       "                initial-scale=1.0, maximum-scale=1.0, user-scalable=no&quot; /&gt;\n",
       "            &lt;style&gt;\n",
       "                #map_d8c2a263ef9330f7ade2fa49c36acc71 {\n",
       "                    position: relative;\n",
       "                    width: 100.0%;\n",
       "                    height: 100.0%;\n",
       "                    left: 0.0%;\n",
       "                    top: 0.0%;\n",
       "                }\n",
       "                .leaflet-container { font-size: 1rem; }\n",
       "            &lt;/style&gt;\n",
       "        \n",
       "&lt;/head&gt;\n",
       "&lt;body&gt;\n",
       "    \n",
       "    \n",
       "            &lt;div class=&quot;folium-map&quot; id=&quot;map_d8c2a263ef9330f7ade2fa49c36acc71&quot; &gt;&lt;/div&gt;\n",
       "        \n",
       "&lt;/body&gt;\n",
       "&lt;script&gt;\n",
       "    \n",
       "    \n",
       "            var map_d8c2a263ef9330f7ade2fa49c36acc71 = L.map(\n",
       "                &quot;map_d8c2a263ef9330f7ade2fa49c36acc71&quot;,\n",
       "                {\n",
       "                    center: [49.8063, -95.2098],\n",
       "                    crs: L.CRS.EPSG3857,\n",
       "                    zoom: 14,\n",
       "                    zoomControl: true,\n",
       "                    preferCanvas: false,\n",
       "                }\n",
       "            );\n",
       "\n",
       "            \n",
       "\n",
       "        \n",
       "    \n",
       "            var tile_layer_8c0b57933bcc0b0ec2c6ada511d6ca56 = L.tileLayer(\n",
       "                &quot;https://{s}.tile.openstreetmap.org/{z}/{x}/{y}.png&quot;,\n",
       "                {&quot;attribution&quot;: &quot;Data by \\u0026copy; \\u003ca target=\\&quot;_blank\\&quot; href=\\&quot;http://openstreetmap.org\\&quot;\\u003eOpenStreetMap\\u003c/a\\u003e, under \\u003ca target=\\&quot;_blank\\&quot; href=\\&quot;http://www.openstreetmap.org/copyright\\&quot;\\u003eODbL\\u003c/a\\u003e.&quot;, &quot;detectRetina&quot;: false, &quot;maxNativeZoom&quot;: 18, &quot;maxZoom&quot;: 18, &quot;minZoom&quot;: 0, &quot;noWrap&quot;: false, &quot;opacity&quot;: 1, &quot;subdomains&quot;: &quot;abc&quot;, &quot;tms&quot;: false}\n",
       "            ).addTo(map_d8c2a263ef9330f7ade2fa49c36acc71);\n",
       "        \n",
       "    \n",
       "            var tile_layer_08ece947f7934b965adccccf17a4b8c6 = L.tileLayer(\n",
       "                &quot;SATELLITE&quot;,\n",
       "                {&quot;attribution&quot;: &quot;Caddy_Sentinel-2 Imagery&quot;, &quot;detectRetina&quot;: false, &quot;maxNativeZoom&quot;: 18, &quot;maxZoom&quot;: 18, &quot;minZoom&quot;: 0, &quot;noWrap&quot;: false, &quot;opacity&quot;: 1, &quot;subdomains&quot;: &quot;abc&quot;, &quot;tms&quot;: false}\n",
       "            ).addTo(map_d8c2a263ef9330f7ade2fa49c36acc71);\n",
       "        \n",
       "    \n",
       "            var tile_layer_1e5eed88a9a7016e366fd0af0eaa4c94 = L.tileLayer(\n",
       "                &quot;https://earthengine.googleapis.com/v1alpha/projects/earthengine-legacy/maps/4c0b900d4e75a7133c2e773f47534c27-6ff9c07d0a0d502a848efaac9f78a0cf/tiles/{z}/{x}/{y}&quot;,\n",
       "                {&quot;attribution&quot;: &quot;Map Data \\u0026copy; \\u003ca href=\\&quot;https://earthengine.google.com/\\&quot;\\u003eGoogle Earth Engine\\u003c/a\\u003e&quot;, &quot;detectRetina&quot;: false, &quot;maxNativeZoom&quot;: 18, &quot;maxZoom&quot;: 18, &quot;minZoom&quot;: 0, &quot;noWrap&quot;: false, &quot;opacity&quot;: 1, &quot;subdomains&quot;: &quot;abc&quot;, &quot;tms&quot;: false}\n",
       "            ).addTo(map_d8c2a263ef9330f7ade2fa49c36acc71);\n",
       "        \n",
       "    \n",
       "            var layer_control_83ad220163d9ff32526f2aaf89e7f0c3 = {\n",
       "                base_layers : {\n",
       "                    &quot;openstreetmap&quot; : tile_layer_8c0b57933bcc0b0ec2c6ada511d6ca56,\n",
       "                },\n",
       "                overlays :  {\n",
       "                    &quot;NDWI Difference&quot; : tile_layer_08ece947f7934b965adccccf17a4b8c6,\n",
       "                    &quot;NDWI&quot; : tile_layer_1e5eed88a9a7016e366fd0af0eaa4c94,\n",
       "                },\n",
       "            };\n",
       "            L.control.layers(\n",
       "                layer_control_83ad220163d9ff32526f2aaf89e7f0c3.base_layers,\n",
       "                layer_control_83ad220163d9ff32526f2aaf89e7f0c3.overlays,\n",
       "                {&quot;autoZIndex&quot;: true, &quot;collapsed&quot;: true, &quot;position&quot;: &quot;topright&quot;}\n",
       "            ).addTo(map_d8c2a263ef9330f7ade2fa49c36acc71);\n",
       "        \n",
       "&lt;/script&gt;\n",
       "&lt;/html&gt;\" style=\"position:absolute;width:100%;height:100%;left:0;top:0;border:none !important;\" allowfullscreen webkitallowfullscreen mozallowfullscreen></iframe></div></div>"
      ],
      "text/plain": [
       "<folium.folium.Map at 0x22b3ec94f10>"
      ]
     },
     "execution_count": 37,
     "metadata": {},
     "output_type": "execute_result"
    }
   ],
   "source": [
    "# Select necessary bands for NDWI calculation\n",
    "red_band = 'B3'\n",
    "nir_band = 'B8'\n",
    "\n",
    "# Function to calculate NDWI\n",
    "def calculate_ndwi(image):\n",
    "    ndwi = image.normalizedDifference([nir_band, red_band])\n",
    "    return ndwi.gte(0)\n",
    "\n",
    "# Calculate NDWI for the last image in the collection\n",
    "Caddy_S2_last_image = Caddy_sentinel_2.sort('system:time_start', False).first()\n",
    "Caddy_S2_ndwi_last_image = calculate_ndwi(Caddy_S2_last_image)\n",
    "\n",
    "# Display the result on the map\n",
    "Caddy_S2_map = folium.Map(location=[49.8063, -95.2098], zoom_start=14)\n",
    "folium.TileLayer(\n",
    "    tiles='SATELLITE',\n",
    "    attr='Caddy_Sentinel-2 Imagery',\n",
    "    overlay=True,\n",
    "    name='NDWI Difference',\n",
    "    control=True\n",
    ").add_to(Caddy_S2_map)\n",
    "\n",
    "# Add the NDWI difference layer to the map\n",
    "Caddy_S2_map.add_ee_layer(Caddy_S2_ndwi_last_image, {'min': -1, 'max': 1, 'palette': \n",
    "                                    ['red', 'yellow', 'green']}, 'NDWI')\n",
    "\n",
    "# Add a layer control panel to the map\n",
    "folium.LayerControl().add_to(Caddy_S2_map)\n",
    "\n",
    "# Display the map\n",
    "Caddy_S2_map"
   ]
  },
  {
   "cell_type": "markdown",
   "id": "f766b082",
   "metadata": {},
   "source": [
    "#### Water mask displayed in Yellow: NDWI Calculation on Sentinel-2 image, Big Sur landslide"
   ]
  },
  {
   "cell_type": "code",
   "execution_count": 38,
   "id": "b8c31e18",
   "metadata": {
    "ExecuteTime": {
     "end_time": "2023-08-14T15:24:02.761991Z",
     "start_time": "2023-08-14T15:24:02.065488Z"
    },
    "tags": [
     "remove_input"
    ]
   },
   "outputs": [
    {
     "data": {
      "text/html": [
       "<div style=\"width:100%;\"><div style=\"position:relative;width:100%;height:0;padding-bottom:60%;\"><span style=\"color:#565656\">Make this Notebook Trusted to load map: File -> Trust Notebook</span><iframe srcdoc=\"&lt;!DOCTYPE html&gt;\n",
       "&lt;html&gt;\n",
       "&lt;head&gt;\n",
       "    \n",
       "    &lt;meta http-equiv=&quot;content-type&quot; content=&quot;text/html; charset=UTF-8&quot; /&gt;\n",
       "    \n",
       "        &lt;script&gt;\n",
       "            L_NO_TOUCH = false;\n",
       "            L_DISABLE_3D = false;\n",
       "        &lt;/script&gt;\n",
       "    \n",
       "    &lt;style&gt;html, body {width: 100%;height: 100%;margin: 0;padding: 0;}&lt;/style&gt;\n",
       "    &lt;style&gt;#map {position:absolute;top:0;bottom:0;right:0;left:0;}&lt;/style&gt;\n",
       "    &lt;script src=&quot;https://cdn.jsdelivr.net/npm/leaflet@1.9.3/dist/leaflet.js&quot;&gt;&lt;/script&gt;\n",
       "    &lt;script src=&quot;https://code.jquery.com/jquery-1.12.4.min.js&quot;&gt;&lt;/script&gt;\n",
       "    &lt;script src=&quot;https://cdn.jsdelivr.net/npm/bootstrap@5.2.2/dist/js/bootstrap.bundle.min.js&quot;&gt;&lt;/script&gt;\n",
       "    &lt;script src=&quot;https://cdnjs.cloudflare.com/ajax/libs/Leaflet.awesome-markers/2.0.2/leaflet.awesome-markers.js&quot;&gt;&lt;/script&gt;\n",
       "    &lt;link rel=&quot;stylesheet&quot; href=&quot;https://cdn.jsdelivr.net/npm/leaflet@1.9.3/dist/leaflet.css&quot;/&gt;\n",
       "    &lt;link rel=&quot;stylesheet&quot; href=&quot;https://cdn.jsdelivr.net/npm/bootstrap@5.2.2/dist/css/bootstrap.min.css&quot;/&gt;\n",
       "    &lt;link rel=&quot;stylesheet&quot; href=&quot;https://netdna.bootstrapcdn.com/bootstrap/3.0.0/css/bootstrap.min.css&quot;/&gt;\n",
       "    &lt;link rel=&quot;stylesheet&quot; href=&quot;https://cdn.jsdelivr.net/npm/@fortawesome/fontawesome-free@6.2.0/css/all.min.css&quot;/&gt;\n",
       "    &lt;link rel=&quot;stylesheet&quot; href=&quot;https://cdnjs.cloudflare.com/ajax/libs/Leaflet.awesome-markers/2.0.2/leaflet.awesome-markers.css&quot;/&gt;\n",
       "    &lt;link rel=&quot;stylesheet&quot; href=&quot;https://cdn.jsdelivr.net/gh/python-visualization/folium/folium/templates/leaflet.awesome.rotate.min.css&quot;/&gt;\n",
       "    \n",
       "            &lt;meta name=&quot;viewport&quot; content=&quot;width=device-width,\n",
       "                initial-scale=1.0, maximum-scale=1.0, user-scalable=no&quot; /&gt;\n",
       "            &lt;style&gt;\n",
       "                #map_a17a30c3eb726a29637fdb7ef3068618 {\n",
       "                    position: relative;\n",
       "                    width: 100.0%;\n",
       "                    height: 100.0%;\n",
       "                    left: 0.0%;\n",
       "                    top: 0.0%;\n",
       "                }\n",
       "                .leaflet-container { font-size: 1rem; }\n",
       "            &lt;/style&gt;\n",
       "        \n",
       "&lt;/head&gt;\n",
       "&lt;body&gt;\n",
       "    \n",
       "    \n",
       "            &lt;div class=&quot;folium-map&quot; id=&quot;map_a17a30c3eb726a29637fdb7ef3068618&quot; &gt;&lt;/div&gt;\n",
       "        \n",
       "&lt;/body&gt;\n",
       "&lt;script&gt;\n",
       "    \n",
       "    \n",
       "            var map_a17a30c3eb726a29637fdb7ef3068618 = L.map(\n",
       "                &quot;map_a17a30c3eb726a29637fdb7ef3068618&quot;,\n",
       "                {\n",
       "                    center: [35.8656, -121.4329],\n",
       "                    crs: L.CRS.EPSG3857,\n",
       "                    zoom: 14,\n",
       "                    zoomControl: true,\n",
       "                    preferCanvas: false,\n",
       "                }\n",
       "            );\n",
       "\n",
       "            \n",
       "\n",
       "        \n",
       "    \n",
       "            var tile_layer_199907251bfffa5fcff8a63d9030d30d = L.tileLayer(\n",
       "                &quot;https://{s}.tile.openstreetmap.org/{z}/{x}/{y}.png&quot;,\n",
       "                {&quot;attribution&quot;: &quot;Data by \\u0026copy; \\u003ca target=\\&quot;_blank\\&quot; href=\\&quot;http://openstreetmap.org\\&quot;\\u003eOpenStreetMap\\u003c/a\\u003e, under \\u003ca target=\\&quot;_blank\\&quot; href=\\&quot;http://www.openstreetmap.org/copyright\\&quot;\\u003eODbL\\u003c/a\\u003e.&quot;, &quot;detectRetina&quot;: false, &quot;maxNativeZoom&quot;: 18, &quot;maxZoom&quot;: 18, &quot;minZoom&quot;: 0, &quot;noWrap&quot;: false, &quot;opacity&quot;: 1, &quot;subdomains&quot;: &quot;abc&quot;, &quot;tms&quot;: false}\n",
       "            ).addTo(map_a17a30c3eb726a29637fdb7ef3068618);\n",
       "        \n",
       "    \n",
       "            var tile_layer_11a3c345beb2281260ebeb513303798a = L.tileLayer(\n",
       "                &quot;SATELLITE&quot;,\n",
       "                {&quot;attribution&quot;: &quot;Caddy_Sentinel-2 Imagery&quot;, &quot;detectRetina&quot;: false, &quot;maxNativeZoom&quot;: 18, &quot;maxZoom&quot;: 18, &quot;minZoom&quot;: 0, &quot;noWrap&quot;: false, &quot;opacity&quot;: 1, &quot;subdomains&quot;: &quot;abc&quot;, &quot;tms&quot;: false}\n",
       "            ).addTo(map_a17a30c3eb726a29637fdb7ef3068618);\n",
       "        \n",
       "    \n",
       "            var tile_layer_6904fa04b16a34bcaedf8e77e48fe50f = L.tileLayer(\n",
       "                &quot;https://earthengine.googleapis.com/v1alpha/projects/earthengine-legacy/maps/4b3ebdadf1ee05b0b5671edefacaf8bf-f8af674f6c7595dfaea17423042c05bf/tiles/{z}/{x}/{y}&quot;,\n",
       "                {&quot;attribution&quot;: &quot;Map Data \\u0026copy; \\u003ca href=\\&quot;https://earthengine.google.com/\\&quot;\\u003eGoogle Earth Engine\\u003c/a\\u003e&quot;, &quot;detectRetina&quot;: false, &quot;maxNativeZoom&quot;: 18, &quot;maxZoom&quot;: 18, &quot;minZoom&quot;: 0, &quot;noWrap&quot;: false, &quot;opacity&quot;: 1, &quot;subdomains&quot;: &quot;abc&quot;, &quot;tms&quot;: false}\n",
       "            ).addTo(map_a17a30c3eb726a29637fdb7ef3068618);\n",
       "        \n",
       "    \n",
       "            var layer_control_d6da7b12e829523ab59f148a1e886159 = {\n",
       "                base_layers : {\n",
       "                    &quot;openstreetmap&quot; : tile_layer_199907251bfffa5fcff8a63d9030d30d,\n",
       "                },\n",
       "                overlays :  {\n",
       "                    &quot;NDWI Difference&quot; : tile_layer_11a3c345beb2281260ebeb513303798a,\n",
       "                    &quot;NDWI&quot; : tile_layer_6904fa04b16a34bcaedf8e77e48fe50f,\n",
       "                },\n",
       "            };\n",
       "            L.control.layers(\n",
       "                layer_control_d6da7b12e829523ab59f148a1e886159.base_layers,\n",
       "                layer_control_d6da7b12e829523ab59f148a1e886159.overlays,\n",
       "                {&quot;autoZIndex&quot;: true, &quot;collapsed&quot;: true, &quot;position&quot;: &quot;topright&quot;}\n",
       "            ).addTo(map_a17a30c3eb726a29637fdb7ef3068618);\n",
       "        \n",
       "&lt;/script&gt;\n",
       "&lt;/html&gt;\" style=\"position:absolute;width:100%;height:100%;left:0;top:0;border:none !important;\" allowfullscreen webkitallowfullscreen mozallowfullscreen></iframe></div></div>"
      ],
      "text/plain": [
       "<folium.folium.Map at 0x22b3ec94c40>"
      ]
     },
     "execution_count": 38,
     "metadata": {},
     "output_type": "execute_result"
    }
   ],
   "source": [
    "# Select necessary bands for NDWI calculation\n",
    "red_band = 'B3'\n",
    "nir_band = 'B8'\n",
    "\n",
    "# Function to calculate NDWI\n",
    "def calculate_ndwi(image):\n",
    "    ndwi = image.normalizedDifference([nir_band, red_band])\n",
    "    return ndwi.gte(0)\n",
    "\n",
    "# Calculate NDWI for the last image in the collection\n",
    "Big_Sur_S2_last_image = Big_Sur_sentinel_2.sort('system:time_start', False).first()\n",
    "Big_Sur_S2_ndwi_last_image = calculate_ndwi(Big_Sur_S2_last_image)\n",
    "\n",
    "Big_Sur_S2_map = folium.Map(location=[35.8656, -121.4329], zoom_start=14) \n",
    "folium.TileLayer(\n",
    "    tiles='SATELLITE',\n",
    "    attr='Caddy_Sentinel-2 Imagery',\n",
    "    overlay=True,\n",
    "    name='NDWI Difference',\n",
    "    control=True\n",
    ").add_to(Big_Sur_S2_map)\n",
    "\n",
    "# Add the NDWI difference layer to the map\n",
    "Big_Sur_S2_map.add_ee_layer(Big_Sur_S2_ndwi_last_image, {'min': -1, 'max': 1, 'palette': \n",
    "                                    ['red', 'yellow', 'green']}, 'NDWI')\n",
    "\n",
    "# Add a layer control panel to the map\n",
    "folium.LayerControl().add_to(Big_Sur_S2_map)\n",
    "\n",
    "# Display the map\n",
    "Big_Sur_S2_map"
   ]
  },
  {
   "cell_type": "markdown",
   "id": "4482203b",
   "metadata": {},
   "source": [
    "## Land Surface Change with applying NDWI\n",
    "After completing our statistical analyses and excluding water bodies, the red color layers align with changes in reflectance intensity from satellite images. These areas in red indicate the removal of Earth's surface, highlighting the occurrence of a landslide in our context."
   ]
  },
  {
   "cell_type": "markdown",
   "id": "54736293",
   "metadata": {},
   "source": [
    "#### Detected land surface changes displayed in red, Caddy Lake landslide"
   ]
  },
  {
   "cell_type": "code",
   "execution_count": 45,
   "id": "52a3b940",
   "metadata": {
    "ExecuteTime": {
     "end_time": "2023-08-14T18:51:18.997153Z",
     "start_time": "2023-08-14T18:51:17.983461Z"
    },
    "tags": [
     "remove_input"
    ]
   },
   "outputs": [
    {
     "data": {
      "text/html": [
       "<div style=\"width:100%;\"><div style=\"position:relative;width:100%;height:0;padding-bottom:60%;\"><span style=\"color:#565656\">Make this Notebook Trusted to load map: File -> Trust Notebook</span><iframe srcdoc=\"&lt;!DOCTYPE html&gt;\n",
       "&lt;html&gt;\n",
       "&lt;head&gt;\n",
       "    \n",
       "    &lt;meta http-equiv=&quot;content-type&quot; content=&quot;text/html; charset=UTF-8&quot; /&gt;\n",
       "    \n",
       "        &lt;script&gt;\n",
       "            L_NO_TOUCH = false;\n",
       "            L_DISABLE_3D = false;\n",
       "        &lt;/script&gt;\n",
       "    \n",
       "    &lt;style&gt;html, body {width: 100%;height: 100%;margin: 0;padding: 0;}&lt;/style&gt;\n",
       "    &lt;style&gt;#map {position:absolute;top:0;bottom:0;right:0;left:0;}&lt;/style&gt;\n",
       "    &lt;script src=&quot;https://cdn.jsdelivr.net/npm/leaflet@1.9.3/dist/leaflet.js&quot;&gt;&lt;/script&gt;\n",
       "    &lt;script src=&quot;https://code.jquery.com/jquery-1.12.4.min.js&quot;&gt;&lt;/script&gt;\n",
       "    &lt;script src=&quot;https://cdn.jsdelivr.net/npm/bootstrap@5.2.2/dist/js/bootstrap.bundle.min.js&quot;&gt;&lt;/script&gt;\n",
       "    &lt;script src=&quot;https://cdnjs.cloudflare.com/ajax/libs/Leaflet.awesome-markers/2.0.2/leaflet.awesome-markers.js&quot;&gt;&lt;/script&gt;\n",
       "    &lt;link rel=&quot;stylesheet&quot; href=&quot;https://cdn.jsdelivr.net/npm/leaflet@1.9.3/dist/leaflet.css&quot;/&gt;\n",
       "    &lt;link rel=&quot;stylesheet&quot; href=&quot;https://cdn.jsdelivr.net/npm/bootstrap@5.2.2/dist/css/bootstrap.min.css&quot;/&gt;\n",
       "    &lt;link rel=&quot;stylesheet&quot; href=&quot;https://netdna.bootstrapcdn.com/bootstrap/3.0.0/css/bootstrap.min.css&quot;/&gt;\n",
       "    &lt;link rel=&quot;stylesheet&quot; href=&quot;https://cdn.jsdelivr.net/npm/@fortawesome/fontawesome-free@6.2.0/css/all.min.css&quot;/&gt;\n",
       "    &lt;link rel=&quot;stylesheet&quot; href=&quot;https://cdnjs.cloudflare.com/ajax/libs/Leaflet.awesome-markers/2.0.2/leaflet.awesome-markers.css&quot;/&gt;\n",
       "    &lt;link rel=&quot;stylesheet&quot; href=&quot;https://cdn.jsdelivr.net/gh/python-visualization/folium/folium/templates/leaflet.awesome.rotate.min.css&quot;/&gt;\n",
       "    \n",
       "            &lt;meta name=&quot;viewport&quot; content=&quot;width=device-width,\n",
       "                initial-scale=1.0, maximum-scale=1.0, user-scalable=no&quot; /&gt;\n",
       "            &lt;style&gt;\n",
       "                #map_435231dd4974785b651f860840ff53a8 {\n",
       "                    position: relative;\n",
       "                    width: 100.0%;\n",
       "                    height: 100.0%;\n",
       "                    left: 0.0%;\n",
       "                    top: 0.0%;\n",
       "                }\n",
       "                .leaflet-container { font-size: 1rem; }\n",
       "            &lt;/style&gt;\n",
       "        \n",
       "&lt;/head&gt;\n",
       "&lt;body&gt;\n",
       "    \n",
       "    \n",
       "            &lt;div class=&quot;folium-map&quot; id=&quot;map_435231dd4974785b651f860840ff53a8&quot; &gt;&lt;/div&gt;\n",
       "        \n",
       "&lt;/body&gt;\n",
       "&lt;script&gt;\n",
       "    \n",
       "    \n",
       "            var map_435231dd4974785b651f860840ff53a8 = L.map(\n",
       "                &quot;map_435231dd4974785b651f860840ff53a8&quot;,\n",
       "                {\n",
       "                    center: [49.8063, -95.2098],\n",
       "                    crs: L.CRS.EPSG3857,\n",
       "                    zoom: 15,\n",
       "                    zoomControl: true,\n",
       "                    preferCanvas: false,\n",
       "                }\n",
       "            );\n",
       "\n",
       "            \n",
       "\n",
       "        \n",
       "    \n",
       "            var tile_layer_a395cc7703ef2eefe273b0871167731e = L.tileLayer(\n",
       "                &quot;https://{s}.tile.openstreetmap.org/{z}/{x}/{y}.png&quot;,\n",
       "                {&quot;attribution&quot;: &quot;Data by \\u0026copy; \\u003ca target=\\&quot;_blank\\&quot; href=\\&quot;http://openstreetmap.org\\&quot;\\u003eOpenStreetMap\\u003c/a\\u003e, under \\u003ca target=\\&quot;_blank\\&quot; href=\\&quot;http://www.openstreetmap.org/copyright\\&quot;\\u003eODbL\\u003c/a\\u003e.&quot;, &quot;detectRetina&quot;: false, &quot;maxNativeZoom&quot;: 18, &quot;maxZoom&quot;: 18, &quot;minZoom&quot;: 0, &quot;noWrap&quot;: false, &quot;opacity&quot;: 1, &quot;subdomains&quot;: &quot;abc&quot;, &quot;tms&quot;: false}\n",
       "            ).addTo(map_435231dd4974785b651f860840ff53a8);\n",
       "        \n",
       "    \n",
       "            var tile_layer_ccf4aad33936116b0d5c741c6824e146 = L.tileLayer(\n",
       "                &quot;https://earthengine.googleapis.com/v1alpha/projects/earthengine-legacy/maps/4d48a77788e5b03d0886c63554a59d81-04725d8c36c8a84968afcb0dad76af8c/tiles/{z}/{x}/{y}&quot;,\n",
       "                {&quot;attribution&quot;: &quot;Map Data \\u0026copy; \\u003ca href=\\&quot;https://earthengine.google.com/\\&quot;\\u003eGoogle Earth Engine\\u003c/a\\u003e&quot;, &quot;detectRetina&quot;: false, &quot;maxNativeZoom&quot;: 18, &quot;maxZoom&quot;: 18, &quot;minZoom&quot;: 0, &quot;noWrap&quot;: false, &quot;opacity&quot;: 1, &quot;subdomains&quot;: &quot;abc&quot;, &quot;tms&quot;: false}\n",
       "            ).addTo(map_435231dd4974785b651f860840ff53a8);\n",
       "        \n",
       "    \n",
       "            var layer_control_2e99fdafb00fd989f60d25dc0d4f7251 = {\n",
       "                base_layers : {\n",
       "                    &quot;openstreetmap&quot; : tile_layer_a395cc7703ef2eefe273b0871167731e,\n",
       "                },\n",
       "                overlays :  {\n",
       "                    &quot;land surface change&quot; : tile_layer_ccf4aad33936116b0d5c741c6824e146,\n",
       "                },\n",
       "            };\n",
       "            L.control.layers(\n",
       "                layer_control_2e99fdafb00fd989f60d25dc0d4f7251.base_layers,\n",
       "                layer_control_2e99fdafb00fd989f60d25dc0d4f7251.overlays,\n",
       "                {&quot;autoZIndex&quot;: true, &quot;collapsed&quot;: true, &quot;position&quot;: &quot;topright&quot;}\n",
       "            ).addTo(map_435231dd4974785b651f860840ff53a8);\n",
       "        \n",
       "&lt;/script&gt;\n",
       "&lt;/html&gt;\" style=\"position:absolute;width:100%;height:100%;left:0;top:0;border:none !important;\" allowfullscreen webkitallowfullscreen mozallowfullscreen></iframe></div></div>"
      ],
      "text/plain": [
       "<folium.folium.Map at 0x22b3ec8beb0>"
      ]
     },
     "execution_count": 45,
     "metadata": {},
     "output_type": "execute_result"
    }
   ],
   "source": [
    "# Subtract NDWI from the change map\n",
    "Caddy_LS = Caddy_S2_ndwi_last_image.And(Caddy_c_map)\n",
    "\n",
    "# Updating water mask\n",
    "Caddy_LS = Caddy_LS.updateMask(Caddy_LS.gt(0))\n",
    "\n",
    "# Display the result on the map\n",
    "Caddy_LS_map = folium.Map(location=[49.8063, -95.2098], zoom_start=15)\n",
    "Caddy_LS_map.add_ee_layer(Caddy_LS, {'min': -1, 'max': 1, 'palette': ['black', 'red']}, 'land surface change')\n",
    "\n",
    "# Add layer control\n",
    "Caddy_LS_map.add_child(folium.LayerControl())\n",
    "Caddy_LS_map"
   ]
  },
  {
   "cell_type": "markdown",
   "id": "da1a4260",
   "metadata": {},
   "source": [
    "#### Detected land surface changes displayed in red, Big Sur landslide"
   ]
  },
  {
   "cell_type": "code",
   "execution_count": 40,
   "id": "8cf4be4c",
   "metadata": {
    "ExecuteTime": {
     "end_time": "2023-08-14T15:24:04.311090Z",
     "start_time": "2023-08-14T15:24:03.571550Z"
    },
    "tags": [
     "remove_input"
    ]
   },
   "outputs": [
    {
     "data": {
      "text/html": [
       "<div style=\"width:100%;\"><div style=\"position:relative;width:100%;height:0;padding-bottom:60%;\"><span style=\"color:#565656\">Make this Notebook Trusted to load map: File -> Trust Notebook</span><iframe srcdoc=\"&lt;!DOCTYPE html&gt;\n",
       "&lt;html&gt;\n",
       "&lt;head&gt;\n",
       "    \n",
       "    &lt;meta http-equiv=&quot;content-type&quot; content=&quot;text/html; charset=UTF-8&quot; /&gt;\n",
       "    \n",
       "        &lt;script&gt;\n",
       "            L_NO_TOUCH = false;\n",
       "            L_DISABLE_3D = false;\n",
       "        &lt;/script&gt;\n",
       "    \n",
       "    &lt;style&gt;html, body {width: 100%;height: 100%;margin: 0;padding: 0;}&lt;/style&gt;\n",
       "    &lt;style&gt;#map {position:absolute;top:0;bottom:0;right:0;left:0;}&lt;/style&gt;\n",
       "    &lt;script src=&quot;https://cdn.jsdelivr.net/npm/leaflet@1.9.3/dist/leaflet.js&quot;&gt;&lt;/script&gt;\n",
       "    &lt;script src=&quot;https://code.jquery.com/jquery-1.12.4.min.js&quot;&gt;&lt;/script&gt;\n",
       "    &lt;script src=&quot;https://cdn.jsdelivr.net/npm/bootstrap@5.2.2/dist/js/bootstrap.bundle.min.js&quot;&gt;&lt;/script&gt;\n",
       "    &lt;script src=&quot;https://cdnjs.cloudflare.com/ajax/libs/Leaflet.awesome-markers/2.0.2/leaflet.awesome-markers.js&quot;&gt;&lt;/script&gt;\n",
       "    &lt;link rel=&quot;stylesheet&quot; href=&quot;https://cdn.jsdelivr.net/npm/leaflet@1.9.3/dist/leaflet.css&quot;/&gt;\n",
       "    &lt;link rel=&quot;stylesheet&quot; href=&quot;https://cdn.jsdelivr.net/npm/bootstrap@5.2.2/dist/css/bootstrap.min.css&quot;/&gt;\n",
       "    &lt;link rel=&quot;stylesheet&quot; href=&quot;https://netdna.bootstrapcdn.com/bootstrap/3.0.0/css/bootstrap.min.css&quot;/&gt;\n",
       "    &lt;link rel=&quot;stylesheet&quot; href=&quot;https://cdn.jsdelivr.net/npm/@fortawesome/fontawesome-free@6.2.0/css/all.min.css&quot;/&gt;\n",
       "    &lt;link rel=&quot;stylesheet&quot; href=&quot;https://cdnjs.cloudflare.com/ajax/libs/Leaflet.awesome-markers/2.0.2/leaflet.awesome-markers.css&quot;/&gt;\n",
       "    &lt;link rel=&quot;stylesheet&quot; href=&quot;https://cdn.jsdelivr.net/gh/python-visualization/folium/folium/templates/leaflet.awesome.rotate.min.css&quot;/&gt;\n",
       "    \n",
       "            &lt;meta name=&quot;viewport&quot; content=&quot;width=device-width,\n",
       "                initial-scale=1.0, maximum-scale=1.0, user-scalable=no&quot; /&gt;\n",
       "            &lt;style&gt;\n",
       "                #map_5c14393269a1bbb298274de524a9f894 {\n",
       "                    position: relative;\n",
       "                    width: 100.0%;\n",
       "                    height: 100.0%;\n",
       "                    left: 0.0%;\n",
       "                    top: 0.0%;\n",
       "                }\n",
       "                .leaflet-container { font-size: 1rem; }\n",
       "            &lt;/style&gt;\n",
       "        \n",
       "&lt;/head&gt;\n",
       "&lt;body&gt;\n",
       "    \n",
       "    \n",
       "            &lt;div class=&quot;folium-map&quot; id=&quot;map_5c14393269a1bbb298274de524a9f894&quot; &gt;&lt;/div&gt;\n",
       "        \n",
       "&lt;/body&gt;\n",
       "&lt;script&gt;\n",
       "    \n",
       "    \n",
       "            var map_5c14393269a1bbb298274de524a9f894 = L.map(\n",
       "                &quot;map_5c14393269a1bbb298274de524a9f894&quot;,\n",
       "                {\n",
       "                    center: [35.8656, -121.4329],\n",
       "                    crs: L.CRS.EPSG3857,\n",
       "                    zoom: 15,\n",
       "                    zoomControl: true,\n",
       "                    preferCanvas: false,\n",
       "                }\n",
       "            );\n",
       "\n",
       "            \n",
       "\n",
       "        \n",
       "    \n",
       "            var tile_layer_89dd1691913ed01438d95c767a497ac4 = L.tileLayer(\n",
       "                &quot;https://{s}.tile.openstreetmap.org/{z}/{x}/{y}.png&quot;,\n",
       "                {&quot;attribution&quot;: &quot;Data by \\u0026copy; \\u003ca target=\\&quot;_blank\\&quot; href=\\&quot;http://openstreetmap.org\\&quot;\\u003eOpenStreetMap\\u003c/a\\u003e, under \\u003ca target=\\&quot;_blank\\&quot; href=\\&quot;http://www.openstreetmap.org/copyright\\&quot;\\u003eODbL\\u003c/a\\u003e.&quot;, &quot;detectRetina&quot;: false, &quot;maxNativeZoom&quot;: 18, &quot;maxZoom&quot;: 18, &quot;minZoom&quot;: 0, &quot;noWrap&quot;: false, &quot;opacity&quot;: 1, &quot;subdomains&quot;: &quot;abc&quot;, &quot;tms&quot;: false}\n",
       "            ).addTo(map_5c14393269a1bbb298274de524a9f894);\n",
       "        \n",
       "    \n",
       "            var tile_layer_c925b6b4126fd6f874f60782a2317051 = L.tileLayer(\n",
       "                &quot;https://earthengine.googleapis.com/v1alpha/projects/earthengine-legacy/maps/2c69b35c998d48506c178d8570ba562b-ec8d5d4988a5a56c49c2b4ed1928ab16/tiles/{z}/{x}/{y}&quot;,\n",
       "                {&quot;attribution&quot;: &quot;Map Data \\u0026copy; \\u003ca href=\\&quot;https://earthengine.google.com/\\&quot;\\u003eGoogle Earth Engine\\u003c/a\\u003e&quot;, &quot;detectRetina&quot;: false, &quot;maxNativeZoom&quot;: 18, &quot;maxZoom&quot;: 18, &quot;minZoom&quot;: 0, &quot;noWrap&quot;: false, &quot;opacity&quot;: 1, &quot;subdomains&quot;: &quot;abc&quot;, &quot;tms&quot;: false}\n",
       "            ).addTo(map_5c14393269a1bbb298274de524a9f894);\n",
       "        \n",
       "    \n",
       "            var layer_control_bc207791bdff7d676d50ae4fc23340a2 = {\n",
       "                base_layers : {\n",
       "                    &quot;openstreetmap&quot; : tile_layer_89dd1691913ed01438d95c767a497ac4,\n",
       "                },\n",
       "                overlays :  {\n",
       "                    &quot;land surface change&quot; : tile_layer_c925b6b4126fd6f874f60782a2317051,\n",
       "                },\n",
       "            };\n",
       "            L.control.layers(\n",
       "                layer_control_bc207791bdff7d676d50ae4fc23340a2.base_layers,\n",
       "                layer_control_bc207791bdff7d676d50ae4fc23340a2.overlays,\n",
       "                {&quot;autoZIndex&quot;: true, &quot;collapsed&quot;: true, &quot;position&quot;: &quot;topright&quot;}\n",
       "            ).addTo(map_5c14393269a1bbb298274de524a9f894);\n",
       "        \n",
       "&lt;/script&gt;\n",
       "&lt;/html&gt;\" style=\"position:absolute;width:100%;height:100%;left:0;top:0;border:none !important;\" allowfullscreen webkitallowfullscreen mozallowfullscreen></iframe></div></div>"
      ],
      "text/plain": [
       "<folium.folium.Map at 0x22b3ec50c70>"
      ]
     },
     "execution_count": 40,
     "metadata": {},
     "output_type": "execute_result"
    }
   ],
   "source": [
    "# Subtract NDWI from the change map\n",
    "Big_Sur_LS = Big_Sur_S2_ndwi_last_image.And(BS_c_map)\n",
    "\n",
    "# Updating water mask\n",
    "Big_Sur_LS = Big_Sur_LS.updateMask(Big_Sur_LS.gt(0))\n",
    "\n",
    "# Display the result on the map\n",
    "Big_Sur_LS_map = folium.Map(location=[35.8656, -121.4329], zoom_start=15)\n",
    "Big_Sur_LS_map.add_ee_layer(Big_Sur_LS, {'min': 0, 'max': 1, 'palette': ['black', 'red']}, 'land surface change')\n",
    "\n",
    "# Add layer control\n",
    "Big_Sur_LS_map.add_child(folium.LayerControl())\n",
    "\n",
    "# Display the map\n",
    "Big_Sur_LS_map"
   ]
  },
  {
   "cell_type": "markdown",
   "id": "6b4e9a3a",
   "metadata": {},
   "source": [
    "## Summary and results\n",
    "<p>In the preliminary phase of the project, land changes due to landslide of Caddy Lake, Manitoba, Canada, on June 25, 2016 using SAR (Sentinel-1) satellite images has been detected. Accordingly, appropriate times series of SAR images within a time window of six months before and after the event date are processed to pinpoint land surface changes before and after the landslide event. Unlike a large landslide with a significant mass movement, the reported land surface changes were not the result of a major shift. Instead, they involved smaller slope movements scattered across an area of about 5 square kilometers.</p>\n",
    "<p>To further test our methods, we also looked into the Big Sur landslide that took place on May 20, 2017. This event involved a substantial mass movement and we used a similar approach to our previous analysis. We were able to accurately detect downward slope movement in this case. However, there is a twist, since both of these locations are close to large bodies of water. This led to water areas being included within our analysis and defined as land changes. To address this, we tried a different tactic. Instead of directly applying a water mask to SAR images (which we found it quite difficult following multiple tries), we applied the water mask to multispectral images (Sentinel-2). Then, by combining the various steps we have developed a method to distinguish between water areas and changes in the land surface effectively.</p>\n",
    "<p>Our study underscores the remarkable and substantial capability that arises from the synergistic integration of Synthetic Aperture Radar (SAR) and multispectral imagery. This powerful combination not only empowers us to investigate land changes but also extends its potential to unlock new dimensions in the realm of Earth observation and environmental analysis. This capability not only enhances our understanding of land alterations but also opens doors to broader applications in fields such as disaster management, urban planning, agricultural monitoring, and ecological assessments.</p>"
   ]
  }
 ],
 "metadata": {
  "celltoolbar": "Tags",
  "kernelspec": {
   "display_name": "Python 3 (ipykernel)",
   "language": "python",
   "name": "python3"
  },
  "language_info": {
   "codemirror_mode": {
    "name": "ipython",
    "version": 3
   },
   "file_extension": ".py",
   "mimetype": "text/x-python",
   "name": "python",
   "nbconvert_exporter": "python",
   "pygments_lexer": "ipython3",
   "version": "3.8.13"
  }
 },
 "nbformat": 4,
 "nbformat_minor": 5
}
